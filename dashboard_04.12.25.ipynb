{
 "cells": [
  {
   "cell_type": "code",
   "execution_count": null,
   "metadata": {},
   "outputs": [],
   "source": [
    "############ LOAD in custom packages ################\n",
    "import sys\n",
    "import os\n",
    "import pandas as pd\n",
    "import numpy as np\n",
    "import importlib\n",
    "import multiprocessing as mp\n",
    "import matplotlib.pyplot as plt\n",
    "import plotly.express as px\n",
    "import plotly.graph_objects as go\n",
    "import plotly.io as pio\n",
    "import xarray as xr\n",
    "\n",
    "\n",
    "project_dir = '/Users/demo/Library/CloudStorage/Box-Box/Holmes_Lab_Wiki/PCX_Round2'\n",
    "sub_logs = os.path.join(project_dir, 'subject_logs')\n",
    "\n",
    "subs = {}\n",
    "for sub in os.listdir(sub_logs):\n",
    "    if 'sub-' in sub:\n",
    "        parts = sub.split('.')\n",
    "        sub_id = parts[0]\n",
    "        subs[sub_id] = pd.read_excel(os.path.join(sub_logs, sub),sheet_name='JSON_formatted')\n",
    "\n"
   ]
  },
  {
   "cell_type": "code",
   "execution_count": 198,
   "metadata": {},
   "outputs": [
    {
     "data": {
      "application/vnd.plotly.v1+json": {
       "config": {
        "plotlyServerURL": "https://plot.ly"
       },
       "data": [
        {
         "coloraxis": "coloraxis",
         "hovertemplate": "columns: %{x}<br>rows: %{y}<br>color: %{z}<extra></extra>",
         "name": "0",
         "type": "heatmap",
         "x": [
          "id",
          "mri_scan_date",
          "mri_consent",
          "mri_consent_NDA",
          "mri_consent_mindLAMP",
          "mri_sub-PCR2Pilot_ses-001_T1w",
          "mri_sub-PCR2Pilot_ses-001_T2w",
          "mri_sub-PCR2Pilot_ses-001_task-rest_run-01_func",
          "mri_sub-PCR2Pilot_ses-001_dir-AP_epi",
          "mri_sub-PCR2Pilot_ses-001_dir-PA_epi",
          "mri_sub-PCR2Pilot_ses-001_task-rest_run-02_func",
          "mri_sub-PCR2Pilot_ses-001_acq-B0_fieldmap",
          "mri_sub-PCR2Pilot_ses-001_task-flanker_run-02_func",
          "mri_sub-PCR2Pilot_ses-001_task-language_run-02_func",
          "mri_sub-PCR2Pilot_ses-001_task-theElevator_run-02_func",
          "mri_sub-PCR2Pilot_ses-001_dwi",
          "mri_sub-PCR2Pilot_ses-001_dir-AP_phasediff",
          "mri_sub-PCR2Pilot_ses-001_dir-PA_phasediff",
          "mri_sub-PCR2Pilot_ses-001_task-momentous_run-02_func",
          "mri_sub-PCR2Pilot_ses-001_task-rest_run-03_func",
          "mri_sub-PCR2Pilot_ses-001_task-rest_run-04_func",
          "mri_scan_done",
          "movie_rater_task",
          "mri_self-report_battery",
          "email_post_mri",
          "pay_MRI_session",
          "pay_supplemental",
          "data_in_flywheel",
          "data_BIDS_curated",
          "data_fMRIPrep",
          "data_downloaded_to_amarel"
         ],
         "xaxis": "x",
         "y": [
          "sub-PCR2Pilot",
          "sub-PCR2Pilot2"
         ],
         "yaxis": "y",
         "z": [
          [
           1,
           1,
           1,
           0,
           0,
           1,
           1,
           1,
           1,
           1,
           1,
           1,
           1,
           0,
           1,
           1,
           1,
           1,
           0,
           1,
           1,
           1,
           0,
           0,
           0,
           1,
           0,
           0,
           0,
           0,
           0
          ],
          [
           1,
           1,
           1,
           0,
           0,
           1,
           1,
           1,
           1,
           1,
           1,
           1,
           1,
           1,
           1,
           1,
           1,
           1,
           1,
           1,
           1,
           1,
           1,
           0,
           0,
           0,
           0,
           0,
           0,
           0,
           0
          ]
         ]
        }
       ],
       "layout": {
        "coloraxis": {
         "cmax": 1,
         "cmin": 0,
         "colorscale": [
          [
           0,
           "white"
          ],
          [
           1,
           "black"
          ]
         ]
        },
        "height": 600,
        "template": {
         "data": {
          "bar": [
           {
            "error_x": {
             "color": "#2a3f5f"
            },
            "error_y": {
             "color": "#2a3f5f"
            },
            "marker": {
             "line": {
              "color": "#E5ECF6",
              "width": 0.5
             },
             "pattern": {
              "fillmode": "overlay",
              "size": 10,
              "solidity": 0.2
             }
            },
            "type": "bar"
           }
          ],
          "barpolar": [
           {
            "marker": {
             "line": {
              "color": "#E5ECF6",
              "width": 0.5
             },
             "pattern": {
              "fillmode": "overlay",
              "size": 10,
              "solidity": 0.2
             }
            },
            "type": "barpolar"
           }
          ],
          "carpet": [
           {
            "aaxis": {
             "endlinecolor": "#2a3f5f",
             "gridcolor": "white",
             "linecolor": "white",
             "minorgridcolor": "white",
             "startlinecolor": "#2a3f5f"
            },
            "baxis": {
             "endlinecolor": "#2a3f5f",
             "gridcolor": "white",
             "linecolor": "white",
             "minorgridcolor": "white",
             "startlinecolor": "#2a3f5f"
            },
            "type": "carpet"
           }
          ],
          "choropleth": [
           {
            "colorbar": {
             "outlinewidth": 0,
             "ticks": ""
            },
            "type": "choropleth"
           }
          ],
          "contour": [
           {
            "colorbar": {
             "outlinewidth": 0,
             "ticks": ""
            },
            "colorscale": [
             [
              0,
              "#0d0887"
             ],
             [
              0.1111111111111111,
              "#46039f"
             ],
             [
              0.2222222222222222,
              "#7201a8"
             ],
             [
              0.3333333333333333,
              "#9c179e"
             ],
             [
              0.4444444444444444,
              "#bd3786"
             ],
             [
              0.5555555555555556,
              "#d8576b"
             ],
             [
              0.6666666666666666,
              "#ed7953"
             ],
             [
              0.7777777777777778,
              "#fb9f3a"
             ],
             [
              0.8888888888888888,
              "#fdca26"
             ],
             [
              1,
              "#f0f921"
             ]
            ],
            "type": "contour"
           }
          ],
          "contourcarpet": [
           {
            "colorbar": {
             "outlinewidth": 0,
             "ticks": ""
            },
            "type": "contourcarpet"
           }
          ],
          "heatmap": [
           {
            "colorbar": {
             "outlinewidth": 0,
             "ticks": ""
            },
            "colorscale": [
             [
              0,
              "#0d0887"
             ],
             [
              0.1111111111111111,
              "#46039f"
             ],
             [
              0.2222222222222222,
              "#7201a8"
             ],
             [
              0.3333333333333333,
              "#9c179e"
             ],
             [
              0.4444444444444444,
              "#bd3786"
             ],
             [
              0.5555555555555556,
              "#d8576b"
             ],
             [
              0.6666666666666666,
              "#ed7953"
             ],
             [
              0.7777777777777778,
              "#fb9f3a"
             ],
             [
              0.8888888888888888,
              "#fdca26"
             ],
             [
              1,
              "#f0f921"
             ]
            ],
            "type": "heatmap"
           }
          ],
          "heatmapgl": [
           {
            "colorbar": {
             "outlinewidth": 0,
             "ticks": ""
            },
            "colorscale": [
             [
              0,
              "#0d0887"
             ],
             [
              0.1111111111111111,
              "#46039f"
             ],
             [
              0.2222222222222222,
              "#7201a8"
             ],
             [
              0.3333333333333333,
              "#9c179e"
             ],
             [
              0.4444444444444444,
              "#bd3786"
             ],
             [
              0.5555555555555556,
              "#d8576b"
             ],
             [
              0.6666666666666666,
              "#ed7953"
             ],
             [
              0.7777777777777778,
              "#fb9f3a"
             ],
             [
              0.8888888888888888,
              "#fdca26"
             ],
             [
              1,
              "#f0f921"
             ]
            ],
            "type": "heatmapgl"
           }
          ],
          "histogram": [
           {
            "marker": {
             "pattern": {
              "fillmode": "overlay",
              "size": 10,
              "solidity": 0.2
             }
            },
            "type": "histogram"
           }
          ],
          "histogram2d": [
           {
            "colorbar": {
             "outlinewidth": 0,
             "ticks": ""
            },
            "colorscale": [
             [
              0,
              "#0d0887"
             ],
             [
              0.1111111111111111,
              "#46039f"
             ],
             [
              0.2222222222222222,
              "#7201a8"
             ],
             [
              0.3333333333333333,
              "#9c179e"
             ],
             [
              0.4444444444444444,
              "#bd3786"
             ],
             [
              0.5555555555555556,
              "#d8576b"
             ],
             [
              0.6666666666666666,
              "#ed7953"
             ],
             [
              0.7777777777777778,
              "#fb9f3a"
             ],
             [
              0.8888888888888888,
              "#fdca26"
             ],
             [
              1,
              "#f0f921"
             ]
            ],
            "type": "histogram2d"
           }
          ],
          "histogram2dcontour": [
           {
            "colorbar": {
             "outlinewidth": 0,
             "ticks": ""
            },
            "colorscale": [
             [
              0,
              "#0d0887"
             ],
             [
              0.1111111111111111,
              "#46039f"
             ],
             [
              0.2222222222222222,
              "#7201a8"
             ],
             [
              0.3333333333333333,
              "#9c179e"
             ],
             [
              0.4444444444444444,
              "#bd3786"
             ],
             [
              0.5555555555555556,
              "#d8576b"
             ],
             [
              0.6666666666666666,
              "#ed7953"
             ],
             [
              0.7777777777777778,
              "#fb9f3a"
             ],
             [
              0.8888888888888888,
              "#fdca26"
             ],
             [
              1,
              "#f0f921"
             ]
            ],
            "type": "histogram2dcontour"
           }
          ],
          "mesh3d": [
           {
            "colorbar": {
             "outlinewidth": 0,
             "ticks": ""
            },
            "type": "mesh3d"
           }
          ],
          "parcoords": [
           {
            "line": {
             "colorbar": {
              "outlinewidth": 0,
              "ticks": ""
             }
            },
            "type": "parcoords"
           }
          ],
          "pie": [
           {
            "automargin": true,
            "type": "pie"
           }
          ],
          "scatter": [
           {
            "fillpattern": {
             "fillmode": "overlay",
             "size": 10,
             "solidity": 0.2
            },
            "type": "scatter"
           }
          ],
          "scatter3d": [
           {
            "line": {
             "colorbar": {
              "outlinewidth": 0,
              "ticks": ""
             }
            },
            "marker": {
             "colorbar": {
              "outlinewidth": 0,
              "ticks": ""
             }
            },
            "type": "scatter3d"
           }
          ],
          "scattercarpet": [
           {
            "marker": {
             "colorbar": {
              "outlinewidth": 0,
              "ticks": ""
             }
            },
            "type": "scattercarpet"
           }
          ],
          "scattergeo": [
           {
            "marker": {
             "colorbar": {
              "outlinewidth": 0,
              "ticks": ""
             }
            },
            "type": "scattergeo"
           }
          ],
          "scattergl": [
           {
            "marker": {
             "colorbar": {
              "outlinewidth": 0,
              "ticks": ""
             }
            },
            "type": "scattergl"
           }
          ],
          "scattermapbox": [
           {
            "marker": {
             "colorbar": {
              "outlinewidth": 0,
              "ticks": ""
             }
            },
            "type": "scattermapbox"
           }
          ],
          "scatterpolar": [
           {
            "marker": {
             "colorbar": {
              "outlinewidth": 0,
              "ticks": ""
             }
            },
            "type": "scatterpolar"
           }
          ],
          "scatterpolargl": [
           {
            "marker": {
             "colorbar": {
              "outlinewidth": 0,
              "ticks": ""
             }
            },
            "type": "scatterpolargl"
           }
          ],
          "scatterternary": [
           {
            "marker": {
             "colorbar": {
              "outlinewidth": 0,
              "ticks": ""
             }
            },
            "type": "scatterternary"
           }
          ],
          "surface": [
           {
            "colorbar": {
             "outlinewidth": 0,
             "ticks": ""
            },
            "colorscale": [
             [
              0,
              "#0d0887"
             ],
             [
              0.1111111111111111,
              "#46039f"
             ],
             [
              0.2222222222222222,
              "#7201a8"
             ],
             [
              0.3333333333333333,
              "#9c179e"
             ],
             [
              0.4444444444444444,
              "#bd3786"
             ],
             [
              0.5555555555555556,
              "#d8576b"
             ],
             [
              0.6666666666666666,
              "#ed7953"
             ],
             [
              0.7777777777777778,
              "#fb9f3a"
             ],
             [
              0.8888888888888888,
              "#fdca26"
             ],
             [
              1,
              "#f0f921"
             ]
            ],
            "type": "surface"
           }
          ],
          "table": [
           {
            "cells": {
             "fill": {
              "color": "#EBF0F8"
             },
             "line": {
              "color": "white"
             }
            },
            "header": {
             "fill": {
              "color": "#C8D4E3"
             },
             "line": {
              "color": "white"
             }
            },
            "type": "table"
           }
          ]
         },
         "layout": {
          "annotationdefaults": {
           "arrowcolor": "#2a3f5f",
           "arrowhead": 0,
           "arrowwidth": 1
          },
          "autotypenumbers": "strict",
          "coloraxis": {
           "colorbar": {
            "outlinewidth": 0,
            "ticks": ""
           }
          },
          "colorscale": {
           "diverging": [
            [
             0,
             "#8e0152"
            ],
            [
             0.1,
             "#c51b7d"
            ],
            [
             0.2,
             "#de77ae"
            ],
            [
             0.3,
             "#f1b6da"
            ],
            [
             0.4,
             "#fde0ef"
            ],
            [
             0.5,
             "#f7f7f7"
            ],
            [
             0.6,
             "#e6f5d0"
            ],
            [
             0.7,
             "#b8e186"
            ],
            [
             0.8,
             "#7fbc41"
            ],
            [
             0.9,
             "#4d9221"
            ],
            [
             1,
             "#276419"
            ]
           ],
           "sequential": [
            [
             0,
             "#0d0887"
            ],
            [
             0.1111111111111111,
             "#46039f"
            ],
            [
             0.2222222222222222,
             "#7201a8"
            ],
            [
             0.3333333333333333,
             "#9c179e"
            ],
            [
             0.4444444444444444,
             "#bd3786"
            ],
            [
             0.5555555555555556,
             "#d8576b"
            ],
            [
             0.6666666666666666,
             "#ed7953"
            ],
            [
             0.7777777777777778,
             "#fb9f3a"
            ],
            [
             0.8888888888888888,
             "#fdca26"
            ],
            [
             1,
             "#f0f921"
            ]
           ],
           "sequentialminus": [
            [
             0,
             "#0d0887"
            ],
            [
             0.1111111111111111,
             "#46039f"
            ],
            [
             0.2222222222222222,
             "#7201a8"
            ],
            [
             0.3333333333333333,
             "#9c179e"
            ],
            [
             0.4444444444444444,
             "#bd3786"
            ],
            [
             0.5555555555555556,
             "#d8576b"
            ],
            [
             0.6666666666666666,
             "#ed7953"
            ],
            [
             0.7777777777777778,
             "#fb9f3a"
            ],
            [
             0.8888888888888888,
             "#fdca26"
            ],
            [
             1,
             "#f0f921"
            ]
           ]
          },
          "colorway": [
           "#636efa",
           "#EF553B",
           "#00cc96",
           "#ab63fa",
           "#FFA15A",
           "#19d3f3",
           "#FF6692",
           "#B6E880",
           "#FF97FF",
           "#FECB52"
          ],
          "font": {
           "color": "#2a3f5f"
          },
          "geo": {
           "bgcolor": "white",
           "lakecolor": "white",
           "landcolor": "#E5ECF6",
           "showlakes": true,
           "showland": true,
           "subunitcolor": "white"
          },
          "hoverlabel": {
           "align": "left"
          },
          "hovermode": "closest",
          "mapbox": {
           "style": "light"
          },
          "paper_bgcolor": "white",
          "plot_bgcolor": "#E5ECF6",
          "polar": {
           "angularaxis": {
            "gridcolor": "white",
            "linecolor": "white",
            "ticks": ""
           },
           "bgcolor": "#E5ECF6",
           "radialaxis": {
            "gridcolor": "white",
            "linecolor": "white",
            "ticks": ""
           }
          },
          "scene": {
           "xaxis": {
            "backgroundcolor": "#E5ECF6",
            "gridcolor": "white",
            "gridwidth": 2,
            "linecolor": "white",
            "showbackground": true,
            "ticks": "",
            "zerolinecolor": "white"
           },
           "yaxis": {
            "backgroundcolor": "#E5ECF6",
            "gridcolor": "white",
            "gridwidth": 2,
            "linecolor": "white",
            "showbackground": true,
            "ticks": "",
            "zerolinecolor": "white"
           },
           "zaxis": {
            "backgroundcolor": "#E5ECF6",
            "gridcolor": "white",
            "gridwidth": 2,
            "linecolor": "white",
            "showbackground": true,
            "ticks": "",
            "zerolinecolor": "white"
           }
          },
          "shapedefaults": {
           "line": {
            "color": "#2a3f5f"
           }
          },
          "ternary": {
           "aaxis": {
            "gridcolor": "white",
            "linecolor": "white",
            "ticks": ""
           },
           "baxis": {
            "gridcolor": "white",
            "linecolor": "white",
            "ticks": ""
           },
           "bgcolor": "#E5ECF6",
           "caxis": {
            "gridcolor": "white",
            "linecolor": "white",
            "ticks": ""
           }
          },
          "title": {
           "x": 0.05
          },
          "xaxis": {
           "automargin": true,
           "gridcolor": "white",
           "linecolor": "white",
           "ticks": "",
           "title": {
            "standoff": 15
           },
           "zerolinecolor": "white",
           "zerolinewidth": 2
          },
          "yaxis": {
           "automargin": true,
           "gridcolor": "white",
           "linecolor": "white",
           "ticks": "",
           "title": {
            "standoff": 15
           },
           "zerolinecolor": "white",
           "zerolinewidth": 2
          }
         }
        },
        "title": {
         "text": "Tasks Completed by Participants"
        },
        "xaxis": {
         "anchor": "y",
         "domain": [
          0,
          1
         ],
         "title": {
          "text": "columns"
         }
        },
        "yaxis": {
         "anchor": "x",
         "autorange": true,
         "domain": [
          0,
          1
         ],
         "title": {
          "text": "rows"
         }
        }
       }
      }
     },
     "metadata": {},
     "output_type": "display_data"
    }
   ],
   "source": [
    "px.defaults.height=600\n",
    "df = pd.concat([sub[['key','value']].T for sub in subs.values()], axis=0, ignore_index=True)\n",
    "df.columns = df.iloc[0]\n",
    "df = df[df['id'] != 'id']\n",
    "heatmap_columns = [col for col in df.columns if not 'notes' in col and not 'diagnosis' in col]\n",
    "#heatmap_columns.remove('subject_id')\n",
    "#display(df[heatmap_columns])\n",
    "xr_data = xr.DataArray(df[heatmap_columns].values, \n",
    "                       dims=[\"rows\", \"columns\"],\n",
    "                       coords={\"rows\": df['id'], \"columns\": heatmap_columns})\n",
    "xr_data_bin = xr_data.where(xr_data == 0, 1)\n",
    "#print(xr_data_bin)\n",
    "fig = px.imshow(xr_data_bin, origin='lower',\n",
    "                    title=\"Tasks Completed by Participants\",\n",
    "                    zmin=0, zmax=1, color_continuous_scale=[[0, \"white\"], [1, \"black\"]],\n",
    "                    labels={ # replaces default labels by column name\n",
    "                    \"rows\": \"Subject\",  \"columns\": \"Tasks Completed\"}\n",
    "                    )\n",
    "fig.show()\n",
    "fig.write_html(\"dashboard.html\") # interactive export \n"
   ]
  },
  {
   "cell_type": "code",
   "execution_count": null,
   "metadata": {},
   "outputs": [],
   "source": [
    "mindlamp_data = os.path.join(project_dir, 'mindlamp_data','processed_data')\n",
    "\n",
    "accel = {}\n",
    "for sub in os.listdir(mindlamp_data):\n",
    "    if os.path.exists(os.path.join(mindlamp_data,sub,'processed','accel')):\n",
    "        for file in os.listdir(os.path.join(mindlamp_data,sub,'processed','accel')):\n",
    "            if 'phone_accel_activity' in file:\n",
    "                accel[sub] = pd.read_csv(os.path.join(mindlamp_data,sub,'processed','accel',file))\n",
    "                accel[sub]['subject_id'] = sub\n",
    "\n",
    "activityScores = [col for col in df.columns if 'activityScore' in col]\n",
    "accel_df = pd.concat([sub for sub in accel.values()], axis=0, ignore_index=True)\n"
   ]
  },
  {
   "cell_type": "code",
   "execution_count": null,
   "metadata": {},
   "outputs": [],
   "source": []
  },
  {
   "cell_type": "code",
   "execution_count": 168,
   "metadata": {},
   "outputs": [
    {
     "data": {
      "application/vnd.plotly.v1+json": {
       "config": {
        "plotlyServerURL": "https://plot.ly"
       },
       "data": [
        {
         "coloraxis": "coloraxis",
         "hovertemplate": "columns: %{x}<br>rows: %{y}<br>color: %{z}<extra></extra>",
         "name": "0",
         "type": "heatmap",
         "x": [
          "activityScore_hour01",
          "activityScore_hour02",
          "activityScore_hour03",
          "activityScore_hour04",
          "activityScore_hour05",
          "activityScore_hour06",
          "activityScore_hour07",
          "activityScore_hour08",
          "activityScore_hour09",
          "activityScore_hour10",
          "activityScore_hour11",
          "activityScore_hour12",
          "activityScore_hour13",
          "activityScore_hour14",
          "activityScore_hour15",
          "activityScore_hour16",
          "activityScore_hour17",
          "activityScore_hour18",
          "activityScore_hour19",
          "activityScore_hour20",
          "activityScore_hour21",
          "activityScore_hour22",
          "activityScore_hour23",
          "activityScore_hour24"
         ],
         "xaxis": "x",
         "y": [
          1,
          2,
          3,
          4,
          5,
          6,
          7,
          8,
          9,
          10,
          11,
          12,
          13,
          14,
          15,
          16,
          17,
          18,
          19,
          20,
          21,
          22,
          23,
          24,
          25,
          26,
          27,
          28,
          29,
          30,
          31,
          32,
          33,
          34,
          35,
          36,
          37,
          38,
          39,
          40,
          41,
          42,
          43,
          44,
          45,
          46,
          47,
          48,
          49,
          50,
          51,
          52,
          53,
          54,
          55,
          56,
          57,
          58,
          59,
          60,
          61,
          62,
          63,
          64
         ],
         "yaxis": "y",
         "z": [
          [
           null,
           null,
           null,
           null,
           null,
           null,
           null,
           null,
           null,
           null,
           null,
           null,
           null,
           null,
           null,
           null,
           null,
           null,
           null,
           null,
           null,
           null,
           null,
           null
          ],
          [
           null,
           null,
           null,
           null,
           null,
           null,
           null,
           null,
           null,
           null,
           null,
           null,
           null,
           3.11,
           null,
           null,
           4.87,
           4.22,
           3.94,
           4.85,
           4.58,
           4.86,
           5.46,
           4.5
          ],
          [
           null,
           3.25,
           null,
           null,
           null,
           null,
           5,
           3.85,
           3.21,
           4.22,
           3.88,
           3.43,
           3.11,
           null,
           3.59,
           3.96,
           2.62,
           2.64,
           4.31,
           4.5,
           4.83,
           5.29,
           3.88,
           1
          ],
          [
           null,
           null,
           2.25,
           2.44,
           2.19,
           2.49,
           4.05,
           4.53,
           3.3,
           3.49,
           3.28,
           3.58,
           3.81,
           3.12,
           4.13,
           4,
           3.41,
           5.32,
           5.06,
           4.5,
           3.71,
           4.14,
           3.78,
           4.02
          ],
          [
           4.6,
           4.37,
           2.16,
           2.39,
           2.29,
           2.62,
           2.74,
           4.11,
           4.5,
           5.27,
           4,
           null,
           5.8,
           3.89,
           2.9,
           3.24,
           3.46,
           4.81,
           4.24,
           1,
           2.68,
           3.69,
           3.35,
           4.63
          ],
          [
           4.25,
           null,
           3,
           null,
           null,
           null,
           4.93,
           5.05,
           4.32,
           4.81,
           3.83,
           3.94,
           3.77,
           3.54,
           4.88,
           3.12,
           5.1,
           5.16,
           4.83,
           4.4,
           4.48,
           3.68,
           3.87,
           3.9
          ],
          [
           5,
           3.19,
           2.51,
           3.19,
           3,
           3.09,
           3.06,
           2.81,
           3.02,
           2.7,
           2.71,
           4.75,
           4.42,
           3.93,
           2.45,
           2.67,
           3.26,
           5.17,
           4.98,
           4.84,
           2.65,
           3.04,
           1,
           3.43
          ],
          [
           3.69,
           2.16,
           2.32,
           2.25,
           2.24,
           2.46,
           4.52,
           4.67,
           4.32,
           4.23,
           3.23,
           3.05,
           2.59,
           4.22,
           4.22,
           4.63,
           4.71,
           3.06,
           3.5,
           4.4,
           3.95,
           3.15,
           1.04,
           1
          ],
          [
           3.69,
           2.46,
           1,
           1,
           1,
           2.15,
           4.07,
           4.16,
           3.84,
           1.94,
           1.94,
           2.2,
           3.15,
           2.5,
           3.57,
           4.31,
           4.63,
           4.12,
           4.38,
           2.71,
           4.86,
           4.69,
           2.26,
           null
          ],
          [
           1,
           null,
           null,
           null,
           null,
           null,
           4.69,
           4.34,
           3.34,
           4.41,
           4.04,
           3.46,
           4.79,
           null,
           null,
           null,
           null,
           5,
           5.17,
           5.1,
           3.59,
           3.55,
           2.25,
           2.85
          ],
          [
           3.05,
           3.14,
           1.33,
           1,
           1.11,
           4.42,
           4.3,
           3.33,
           3.34,
           4.02,
           3.35,
           3.5,
           3.28,
           4.74,
           3.8,
           5,
           4.25,
           4.21,
           4.52,
           3.26,
           3.24,
           3.71,
           3.19,
           3.27
          ],
          [
           3.3,
           1.77,
           1.97,
           1.82,
           2.45,
           1.1,
           1.98,
           3.64,
           4.53,
           3.49,
           4.76,
           2.25,
           4,
           null,
           null,
           4.34,
           2.93,
           3,
           2.67,
           4.75,
           5.03,
           4.78,
           4.43,
           2.96
          ],
          [
           1.74,
           2.32,
           1.1,
           1.19,
           1,
           2.38,
           3,
           1.76,
           null,
           4.14,
           4.59,
           3.87,
           4.18,
           3.39,
           3.86,
           2.56,
           3.19,
           null,
           null,
           4.36,
           4.56,
           1.21,
           3.26,
           4.59
          ],
          [
           3.79,
           1,
           2.76,
           2.63,
           3.23,
           3.12,
           3.12,
           3.33,
           4.27,
           3.5,
           3.11,
           3.38,
           3.81,
           3.81,
           4.55,
           3.92,
           3.32,
           5.33,
           null,
           null,
           3.51,
           3.35,
           3.7,
           3.73
          ],
          [
           2.65,
           2.27,
           3.37,
           3.03,
           2.97,
           3.23,
           5.48,
           5.08,
           3.93,
           3.58,
           4.06,
           4,
           3.65,
           3.12,
           3.17,
           3.67,
           null,
           4.25,
           3.87,
           4.13,
           4.75,
           3.92,
           1,
           2.98
          ],
          [
           2.96,
           3.04,
           2.22,
           1.07,
           1,
           2.84,
           3.27,
           2.78,
           4.95,
           4.44,
           4.11,
           3.63,
           4.13,
           5.21,
           null,
           5.21,
           5.09,
           null,
           2.58,
           4.16,
           3.89,
           4.54,
           3.92,
           2.7
          ],
          [
           4.15,
           4.1,
           3.36,
           null,
           null,
           null,
           null,
           null,
           3.14,
           2.3,
           3.92,
           4.08,
           4.73,
           3.27,
           3.96,
           4.33,
           5.04,
           4.64,
           4.25,
           3.98,
           3.88,
           4.23,
           3,
           2.9
          ],
          [
           2.53,
           2.21,
           4.06,
           3.18,
           2.98,
           2.93,
           5.44,
           3.71,
           3.67,
           1.63,
           3.05,
           3.98,
           4.51,
           3.64,
           3.02,
           3.2,
           4.49,
           4.68,
           2.85,
           3.11,
           1,
           null,
           2.04,
           2.23
          ],
          [
           2.17,
           2.18,
           2.06,
           2.12,
           2.09,
           2.11,
           2.52,
           3.39,
           4.21,
           4.25,
           3.28,
           null,
           null,
           null,
           3.64,
           4.04,
           4.5,
           4.88,
           4.78,
           4.8,
           2.73,
           3.58,
           3.67,
           3.12
          ],
          [
           2.25,
           null,
           null,
           null,
           null,
           null,
           null,
           4.24,
           4.16,
           4.83,
           4.92,
           4.69,
           5,
           4.45,
           4.67,
           2.74,
           4.89,
           3.3,
           4.68,
           4.71,
           4.33,
           4.51,
           4.26,
           4.93
          ],
          [
           3.2,
           2.9,
           null,
           null,
           null,
           null,
           null,
           4.13,
           4.35,
           3.58,
           3.76,
           3.36,
           4.19,
           4.75,
           3.92,
           3.55,
           3.97,
           2.76,
           3.48,
           4.88,
           4.06,
           2.75,
           2.58,
           2.38
          ],
          [
           2.21,
           2.13,
           2.54,
           2.38,
           2.36,
           3.13,
           5.42,
           3.96,
           3.57,
           2.62,
           3.24,
           3.18,
           3.96,
           4.25,
           3.54,
           2.31,
           2.63,
           4.51,
           4.55,
           4.81,
           3.43,
           3.5,
           null,
           3.2
          ],
          [
           null,
           null,
           null,
           null,
           null,
           null,
           null,
           3.27,
           4.5,
           4.45,
           3.04,
           3.7,
           2.83,
           4.71,
           4.39,
           5.48,
           4.4,
           4.72,
           null,
           null,
           3.35,
           4.76,
           5.08,
           2.89
          ],
          [
           2.78,
           2,
           null,
           1,
           null,
           null,
           null,
           null,
           4.34,
           3.73,
           2.73,
           2.78,
           2.83,
           null,
           null,
           4.4,
           null,
           4.3,
           3.41,
           3.2,
           2.32,
           2.21,
           4.25,
           3.87
          ],
          [
           2.33,
           2.17,
           2.23,
           2.09,
           2.09,
           2.5,
           4.15,
           4.95,
           3.27,
           3.28,
           3.64,
           3.62,
           4.06,
           4.79,
           3.71,
           4.48,
           2.72,
           3,
           1.93,
           2.78,
           4.11,
           4.8,
           4.76,
           3.56
          ],
          [
           2.1,
           2.07,
           2.06,
           1.95,
           1.98,
           3.27,
           5.33,
           4.79,
           4.98,
           4.49,
           3.31,
           4.18,
           3.75,
           3.43,
           2.95,
           3.52,
           4.23,
           5.09,
           4.56,
           5.16,
           5,
           4.93,
           null,
           3.38
          ],
          [
           4.34,
           3.08,
           2.81,
           3.08,
           3,
           2.98,
           3.28,
           3.18,
           2.75,
           2.02,
           4.35,
           4.19,
           3.76,
           4.72,
           5.55,
           5,
           null,
           null,
           4.63,
           4.94,
           4.24,
           4.58,
           4.02,
           4.92
          ],
          [
           4.6,
           4.5,
           4.54,
           3.92,
           3,
           null,
           1.4,
           null,
           null,
           null,
           5.2,
           4.64,
           4.5,
           3.81,
           4.91,
           4.77,
           4.64,
           4.86,
           4.09,
           4,
           4.5,
           4.24,
           4.49,
           null
          ],
          [
           4.5,
           3.67,
           2.51,
           2.5,
           2.22,
           2.46,
           4.36,
           5.4,
           3.95,
           4.24,
           1.48,
           3.1,
           4.36,
           3.94,
           3.44,
           3.35,
           4.93,
           4.88,
           3.24,
           4.24,
           4.06,
           3.63,
           4.71,
           4.33
          ],
          [
           4,
           1.06,
           1.11,
           1.14,
           1.3,
           1.92,
           2.73,
           1.63,
           3.82,
           3.58,
           4.67,
           4.39,
           4.73,
           4.65,
           2.73,
           3.2,
           2.39,
           2.86,
           4.71,
           4.3,
           4.48,
           4.64,
           4.57,
           2.44
          ],
          [
           3,
           2.1,
           3.58,
           3.09,
           3.07,
           3.16,
           4.96,
           5.38,
           4.88,
           null,
           3.61,
           4.29,
           3.75,
           4.69,
           4.07,
           2.7,
           5.3,
           4.33,
           4.5,
           4.55,
           5,
           3.81,
           4.76,
           5.11
          ],
          [
           5.05,
           null,
           null,
           null,
           null,
           null,
           null,
           null,
           4.5,
           4.52,
           4.47,
           4.85,
           2.93,
           4.45,
           4.31,
           3,
           2.03,
           3.22,
           4.49,
           4.7,
           4.11,
           4.44,
           2.56,
           4.33
          ],
          [
           4.77,
           null,
           null,
           null,
           null,
           null,
           2.83,
           3.17,
           4.15,
           4.25,
           4.42,
           4.96,
           3.73,
           4.16,
           4.4,
           5.5,
           1.5,
           2.55,
           3.1,
           3.14,
           3.73,
           4.34,
           4.17,
           4
          ],
          [
           3.96,
           3.76,
           3.06,
           null,
           3.27,
           3.8,
           3.24,
           2.88,
           4.44,
           4.06,
           5.14,
           4.4,
           4.25,
           4.51,
           4.89,
           4.81,
           5.17,
           null,
           1.85,
           3.98,
           4.43,
           4.64,
           4.62,
           3.92
          ],
          [
           4.4,
           null,
           null,
           null,
           null,
           null,
           null,
           null,
           4.13,
           3.98,
           4.46,
           2,
           3.43,
           3.19,
           3.31,
           4.19,
           3.13,
           4.85,
           4.96,
           4.83,
           4.47,
           4.5,
           4.25,
           3.21
          ],
          [
           5.32,
           4.31,
           4.52,
           2.75,
           null,
           null,
           null,
           null,
           3.87,
           4.58,
           4.67,
           3.89,
           4.1,
           3.73,
           3.93,
           3.54,
           3.55,
           2.9,
           4.79,
           2.5,
           1.05,
           1.06,
           1,
           1
          ],
          [
           3.23,
           1,
           1,
           1,
           1,
           2,
           4.55,
           3.38,
           4.28,
           4.37,
           3.82,
           3.78,
           3.48,
           3.18,
           null,
           4.33,
           3.16,
           3.65,
           4.89,
           5.11,
           4.9,
           3.64,
           2.79,
           2.98
          ],
          [
           3.17,
           3.04,
           3.12,
           2.84,
           2.46,
           2.7,
           3.69,
           5.25,
           4.88,
           4.42,
           2.65,
           1.48,
           null,
           null,
           null,
           null,
           null,
           null,
           4.7,
           4,
           4.36,
           4.45,
           5.06,
           3.92
          ],
          [
           1.38,
           1,
           1,
           1,
           1.38,
           2.73,
           4.23,
           4.58,
           4.51,
           3.8,
           1.33,
           3.41,
           3.86,
           4.63,
           4.2,
           3.67,
           4.86,
           4.06,
           3.36,
           5.06,
           null,
           3.17,
           3.77,
           4.23
          ],
          [
           2.94,
           2.61,
           3.13,
           2.92,
           2.98,
           3.11,
           4.81,
           5.28,
           3.32,
           4.98,
           3.22,
           2.7,
           2.19,
           3,
           4.1,
           4.1,
           2.96,
           4.76,
           4.81,
           4.64,
           3.38,
           3.09,
           4.71,
           1
          ],
          [
           1,
           1.59,
           2.31,
           2.15,
           2.25,
           2.3,
           2.9,
           4.35,
           3.47,
           1.75,
           3.97,
           4.73,
           4.54,
           4.41,
           4.06,
           4.15,
           4.13,
           3.48,
           4.23,
           4.5,
           4.66,
           3.32,
           2.88,
           3.5
          ],
          [
           4.68,
           4.2,
           1.16,
           null,
           1,
           1,
           1.15,
           1.43,
           2.31,
           3.03,
           3.91,
           3.88,
           5.12,
           5.42,
           4.63,
           3.22,
           3.98,
           4.44,
           1.22,
           3,
           2.03,
           1,
           null,
           2.54
          ],
          [
           4.38,
           2.52,
           2.48,
           2.56,
           2.28,
           2.56,
           4.4,
           5.3,
           4.02,
           2.68,
           1.46,
           1,
           3.05,
           4.18,
           4.36,
           3.24,
           3.08,
           4.15,
           4.06,
           3,
           3.9,
           4.13,
           4.34,
           3.76
          ],
          [
           2.5,
           2.23,
           2.2,
           2.32,
           2.27,
           2.55,
           3.3,
           4.39,
           3.7,
           2.39,
           2.29,
           3.71,
           3.78,
           4.76,
           null,
           4.17,
           3,
           4.13,
           4,
           null,
           null,
           null,
           null,
           4
          ],
          [
           3.79,
           2.13,
           2.09,
           2.28,
           2.11,
           2.54,
           4.43,
           4.82,
           4.21,
           3.98,
           3.51,
           2.89,
           3.71,
           5.1,
           3.22,
           3,
           4.13,
           4.47,
           4.77,
           4.12,
           4.12,
           4.21,
           null,
           null
          ],
          [
           null,
           null,
           null,
           null,
           null,
           null,
           5,
           4.09,
           3.07,
           3.62,
           3.84,
           3.76,
           4.37,
           3.98,
           1.09,
           2.46,
           2.71,
           null,
           null,
           null,
           4.17,
           4.6,
           4.52,
           4.38
          ],
          [
           3.91,
           1.84,
           2.42,
           2.28,
           2.19,
           2.27,
           4.31,
           5.12,
           3.73,
           4.41,
           4.75,
           5.04,
           3.86,
           2.93,
           2.9,
           3.65,
           3.36,
           4.11,
           4.9,
           4.42,
           4.54,
           3.67,
           null,
           3.15
          ],
          [
           4.46,
           3,
           3,
           3.16,
           3,
           3.06,
           3.19,
           3.56,
           3.91,
           3.53,
           3.12,
           3.05,
           3.9,
           3.51,
           3.88,
           4.46,
           3.81,
           3.89,
           3.64,
           4.95,
           4.24,
           4.89,
           null,
           null
          ],
          [
           null,
           null,
           2.72,
           2.83,
           2.9,
           3,
           2.86,
           1.88,
           3.77,
           3.96,
           4.41,
           3.57,
           3.12,
           3.54,
           5.46,
           4.94,
           1.63,
           1.29,
           1,
           1.2,
           4.63,
           null,
           3.74,
           3.55
          ],
          [
           1.16,
           1.58,
           3.14,
           2.11,
           2.21,
           3.17,
           1.65,
           3.65,
           2.73,
           2.65,
           2.68,
           2.63,
           3.57,
           2.04,
           1.68,
           2.49,
           2.71,
           3.25,
           2.75,
           2.59,
           2.71,
           3.24,
           3.58,
           4.54
          ],
          [
           2.59,
           1.07,
           1.98,
           2.19,
           2.26,
           1.7,
           1.57,
           1.06,
           1,
           1.1,
           2.44,
           3.55,
           4.56,
           4.4,
           5.29,
           5,
           4.21,
           4.47,
           3.26,
           3.58,
           4.41,
           2.77,
           4.48,
           3.11
          ],
          [
           4.25,
           null,
           null,
           null,
           null,
           null,
           null,
           null,
           4.26,
           3.7,
           2.8,
           4.26,
           2.23,
           2.54,
           4.19,
           3.02,
           1.86,
           3.24,
           4.88,
           5.06,
           4.67,
           null,
           2.9,
           2.89
          ],
          [
           2.61,
           2.75,
           2.65,
           3.4,
           2.63,
           2.53,
           4.29,
           5.14,
           4.34,
           4.25,
           3.92,
           3.64,
           3.52,
           4.41,
           4.95,
           6,
           3.74,
           2.8,
           4.7,
           4.21,
           4.77,
           4.58,
           4.56,
           4.12
          ],
          [
           3.27,
           3.23,
           3.07,
           null,
           null,
           null,
           null,
           null,
           4.18,
           4.1,
           2.14,
           2.19,
           2.71,
           3.12,
           3.28,
           3.63,
           5,
           5.33,
           null,
           null,
           5.45,
           4.18,
           4.07,
           2.62
          ],
          [
           2.88,
           2.16,
           2.85,
           3.09,
           3.25,
           1,
           1,
           2.6,
           3.64,
           5.04,
           4.32,
           5.51,
           4.85,
           5.32,
           4.63,
           3.73,
           4.35,
           3.94,
           4.57,
           4.82,
           4.68,
           null,
           3.93,
           null
          ],
          [
           null,
           4.52,
           2.86,
           null,
           1,
           null,
           null,
           null,
           null,
           4.42,
           4.29,
           4.61,
           4.79,
           4.13,
           4.37,
           4.47,
           3.69,
           null,
           null,
           null,
           null,
           null,
           null,
           null
          ],
          [
           4.47,
           3.88,
           1.31,
           1,
           1.64,
           1,
           1,
           1.55,
           4.62,
           3.25,
           4.3,
           3.53,
           3.66,
           3.23,
           4.52,
           4.76,
           5.23,
           4.36,
           null,
           null,
           3.6,
           4.15,
           3.48,
           3.57
          ],
          [
           4.22,
           4.49,
           4,
           2.75,
           2.12,
           2.06,
           2.17,
           null,
           4,
           4,
           3.69,
           3.23,
           3.84,
           4.44,
           4.73,
           5.04,
           4.33,
           3.31,
           3.02,
           3.52,
           4.35,
           5.27,
           4.61,
           4.73
          ],
          [
           1,
           null,
           null,
           null,
           null,
           null,
           null,
           4.14,
           4.1,
           4.55,
           4.56,
           4.25,
           4.93,
           3.73,
           3.91,
           4.48,
           null,
           null,
           null,
           3.32,
           2.76,
           4.82,
           4.52,
           4.22
          ],
          [
           null,
           4,
           null,
           null,
           null,
           null,
           null,
           null,
           4.39,
           4.5,
           4.56,
           4.85,
           3.98,
           4.51,
           4.48,
           4.09,
           3.63,
           null,
           null,
           4.18,
           4.3,
           3.27,
           4.07,
           1.53
          ],
          [
           3.45,
           1.69,
           1.08,
           1,
           1.39,
           2.16,
           null,
           4.57,
           4.92,
           5.37,
           3.94,
           4.36,
           4.86,
           4.32,
           3.62,
           3.36,
           1.16,
           2.94,
           4.7,
           4.1,
           4,
           4.33,
           4.71,
           4.19
          ],
          [
           3.94,
           3.06,
           3.64,
           3.19,
           1.31,
           1.34,
           1.83,
           3.48,
           5.45,
           4.62,
           4.96,
           2.11,
           4.07,
           4.31,
           4.94,
           4.21,
           4.46,
           3,
           3.5,
           3.54,
           3.68,
           3.94,
           4,
           null
          ],
          [
           null,
           2,
           null,
           null,
           null,
           null,
           null,
           3.78,
           2.94,
           2.77,
           2.93,
           3.48,
           4.24,
           3.83,
           3.04,
           3.49,
           4.79,
           4.9,
           4.86,
           null,
           null,
           2.64,
           3.09,
           2.3
          ],
          [
           2.33,
           2.29,
           2.15,
           2.23,
           2.15,
           2.31,
           3,
           5.13,
           4.94,
           4.26,
           4.4,
           3.94,
           3.96,
           null,
           null,
           null,
           null,
           null,
           null,
           null,
           null,
           null,
           null,
           null
          ]
         ]
        }
       ],
       "layout": {
        "coloraxis": {
         "cmax": 5,
         "cmin": 0,
         "colorscale": [
          [
           0,
           "#0d0887"
          ],
          [
           0.1111111111111111,
           "#46039f"
          ],
          [
           0.2222222222222222,
           "#7201a8"
          ],
          [
           0.3333333333333333,
           "#9c179e"
          ],
          [
           0.4444444444444444,
           "#bd3786"
          ],
          [
           0.5555555555555556,
           "#d8576b"
          ],
          [
           0.6666666666666666,
           "#ed7953"
          ],
          [
           0.7777777777777778,
           "#fb9f3a"
          ],
          [
           0.8888888888888888,
           "#fdca26"
          ],
          [
           1,
           "#f0f921"
          ]
         ]
        },
        "height": 400,
        "template": {
         "data": {
          "bar": [
           {
            "error_x": {
             "color": "#2a3f5f"
            },
            "error_y": {
             "color": "#2a3f5f"
            },
            "marker": {
             "line": {
              "color": "#E5ECF6",
              "width": 0.5
             },
             "pattern": {
              "fillmode": "overlay",
              "size": 10,
              "solidity": 0.2
             }
            },
            "type": "bar"
           }
          ],
          "barpolar": [
           {
            "marker": {
             "line": {
              "color": "#E5ECF6",
              "width": 0.5
             },
             "pattern": {
              "fillmode": "overlay",
              "size": 10,
              "solidity": 0.2
             }
            },
            "type": "barpolar"
           }
          ],
          "carpet": [
           {
            "aaxis": {
             "endlinecolor": "#2a3f5f",
             "gridcolor": "white",
             "linecolor": "white",
             "minorgridcolor": "white",
             "startlinecolor": "#2a3f5f"
            },
            "baxis": {
             "endlinecolor": "#2a3f5f",
             "gridcolor": "white",
             "linecolor": "white",
             "minorgridcolor": "white",
             "startlinecolor": "#2a3f5f"
            },
            "type": "carpet"
           }
          ],
          "choropleth": [
           {
            "colorbar": {
             "outlinewidth": 0,
             "ticks": ""
            },
            "type": "choropleth"
           }
          ],
          "contour": [
           {
            "colorbar": {
             "outlinewidth": 0,
             "ticks": ""
            },
            "colorscale": [
             [
              0,
              "#0d0887"
             ],
             [
              0.1111111111111111,
              "#46039f"
             ],
             [
              0.2222222222222222,
              "#7201a8"
             ],
             [
              0.3333333333333333,
              "#9c179e"
             ],
             [
              0.4444444444444444,
              "#bd3786"
             ],
             [
              0.5555555555555556,
              "#d8576b"
             ],
             [
              0.6666666666666666,
              "#ed7953"
             ],
             [
              0.7777777777777778,
              "#fb9f3a"
             ],
             [
              0.8888888888888888,
              "#fdca26"
             ],
             [
              1,
              "#f0f921"
             ]
            ],
            "type": "contour"
           }
          ],
          "contourcarpet": [
           {
            "colorbar": {
             "outlinewidth": 0,
             "ticks": ""
            },
            "type": "contourcarpet"
           }
          ],
          "heatmap": [
           {
            "colorbar": {
             "outlinewidth": 0,
             "ticks": ""
            },
            "colorscale": [
             [
              0,
              "#0d0887"
             ],
             [
              0.1111111111111111,
              "#46039f"
             ],
             [
              0.2222222222222222,
              "#7201a8"
             ],
             [
              0.3333333333333333,
              "#9c179e"
             ],
             [
              0.4444444444444444,
              "#bd3786"
             ],
             [
              0.5555555555555556,
              "#d8576b"
             ],
             [
              0.6666666666666666,
              "#ed7953"
             ],
             [
              0.7777777777777778,
              "#fb9f3a"
             ],
             [
              0.8888888888888888,
              "#fdca26"
             ],
             [
              1,
              "#f0f921"
             ]
            ],
            "type": "heatmap"
           }
          ],
          "heatmapgl": [
           {
            "colorbar": {
             "outlinewidth": 0,
             "ticks": ""
            },
            "colorscale": [
             [
              0,
              "#0d0887"
             ],
             [
              0.1111111111111111,
              "#46039f"
             ],
             [
              0.2222222222222222,
              "#7201a8"
             ],
             [
              0.3333333333333333,
              "#9c179e"
             ],
             [
              0.4444444444444444,
              "#bd3786"
             ],
             [
              0.5555555555555556,
              "#d8576b"
             ],
             [
              0.6666666666666666,
              "#ed7953"
             ],
             [
              0.7777777777777778,
              "#fb9f3a"
             ],
             [
              0.8888888888888888,
              "#fdca26"
             ],
             [
              1,
              "#f0f921"
             ]
            ],
            "type": "heatmapgl"
           }
          ],
          "histogram": [
           {
            "marker": {
             "pattern": {
              "fillmode": "overlay",
              "size": 10,
              "solidity": 0.2
             }
            },
            "type": "histogram"
           }
          ],
          "histogram2d": [
           {
            "colorbar": {
             "outlinewidth": 0,
             "ticks": ""
            },
            "colorscale": [
             [
              0,
              "#0d0887"
             ],
             [
              0.1111111111111111,
              "#46039f"
             ],
             [
              0.2222222222222222,
              "#7201a8"
             ],
             [
              0.3333333333333333,
              "#9c179e"
             ],
             [
              0.4444444444444444,
              "#bd3786"
             ],
             [
              0.5555555555555556,
              "#d8576b"
             ],
             [
              0.6666666666666666,
              "#ed7953"
             ],
             [
              0.7777777777777778,
              "#fb9f3a"
             ],
             [
              0.8888888888888888,
              "#fdca26"
             ],
             [
              1,
              "#f0f921"
             ]
            ],
            "type": "histogram2d"
           }
          ],
          "histogram2dcontour": [
           {
            "colorbar": {
             "outlinewidth": 0,
             "ticks": ""
            },
            "colorscale": [
             [
              0,
              "#0d0887"
             ],
             [
              0.1111111111111111,
              "#46039f"
             ],
             [
              0.2222222222222222,
              "#7201a8"
             ],
             [
              0.3333333333333333,
              "#9c179e"
             ],
             [
              0.4444444444444444,
              "#bd3786"
             ],
             [
              0.5555555555555556,
              "#d8576b"
             ],
             [
              0.6666666666666666,
              "#ed7953"
             ],
             [
              0.7777777777777778,
              "#fb9f3a"
             ],
             [
              0.8888888888888888,
              "#fdca26"
             ],
             [
              1,
              "#f0f921"
             ]
            ],
            "type": "histogram2dcontour"
           }
          ],
          "mesh3d": [
           {
            "colorbar": {
             "outlinewidth": 0,
             "ticks": ""
            },
            "type": "mesh3d"
           }
          ],
          "parcoords": [
           {
            "line": {
             "colorbar": {
              "outlinewidth": 0,
              "ticks": ""
             }
            },
            "type": "parcoords"
           }
          ],
          "pie": [
           {
            "automargin": true,
            "type": "pie"
           }
          ],
          "scatter": [
           {
            "fillpattern": {
             "fillmode": "overlay",
             "size": 10,
             "solidity": 0.2
            },
            "type": "scatter"
           }
          ],
          "scatter3d": [
           {
            "line": {
             "colorbar": {
              "outlinewidth": 0,
              "ticks": ""
             }
            },
            "marker": {
             "colorbar": {
              "outlinewidth": 0,
              "ticks": ""
             }
            },
            "type": "scatter3d"
           }
          ],
          "scattercarpet": [
           {
            "marker": {
             "colorbar": {
              "outlinewidth": 0,
              "ticks": ""
             }
            },
            "type": "scattercarpet"
           }
          ],
          "scattergeo": [
           {
            "marker": {
             "colorbar": {
              "outlinewidth": 0,
              "ticks": ""
             }
            },
            "type": "scattergeo"
           }
          ],
          "scattergl": [
           {
            "marker": {
             "colorbar": {
              "outlinewidth": 0,
              "ticks": ""
             }
            },
            "type": "scattergl"
           }
          ],
          "scattermapbox": [
           {
            "marker": {
             "colorbar": {
              "outlinewidth": 0,
              "ticks": ""
             }
            },
            "type": "scattermapbox"
           }
          ],
          "scatterpolar": [
           {
            "marker": {
             "colorbar": {
              "outlinewidth": 0,
              "ticks": ""
             }
            },
            "type": "scatterpolar"
           }
          ],
          "scatterpolargl": [
           {
            "marker": {
             "colorbar": {
              "outlinewidth": 0,
              "ticks": ""
             }
            },
            "type": "scatterpolargl"
           }
          ],
          "scatterternary": [
           {
            "marker": {
             "colorbar": {
              "outlinewidth": 0,
              "ticks": ""
             }
            },
            "type": "scatterternary"
           }
          ],
          "surface": [
           {
            "colorbar": {
             "outlinewidth": 0,
             "ticks": ""
            },
            "colorscale": [
             [
              0,
              "#0d0887"
             ],
             [
              0.1111111111111111,
              "#46039f"
             ],
             [
              0.2222222222222222,
              "#7201a8"
             ],
             [
              0.3333333333333333,
              "#9c179e"
             ],
             [
              0.4444444444444444,
              "#bd3786"
             ],
             [
              0.5555555555555556,
              "#d8576b"
             ],
             [
              0.6666666666666666,
              "#ed7953"
             ],
             [
              0.7777777777777778,
              "#fb9f3a"
             ],
             [
              0.8888888888888888,
              "#fdca26"
             ],
             [
              1,
              "#f0f921"
             ]
            ],
            "type": "surface"
           }
          ],
          "table": [
           {
            "cells": {
             "fill": {
              "color": "#EBF0F8"
             },
             "line": {
              "color": "white"
             }
            },
            "header": {
             "fill": {
              "color": "#C8D4E3"
             },
             "line": {
              "color": "white"
             }
            },
            "type": "table"
           }
          ]
         },
         "layout": {
          "annotationdefaults": {
           "arrowcolor": "#2a3f5f",
           "arrowhead": 0,
           "arrowwidth": 1
          },
          "autotypenumbers": "strict",
          "coloraxis": {
           "colorbar": {
            "outlinewidth": 0,
            "ticks": ""
           }
          },
          "colorscale": {
           "diverging": [
            [
             0,
             "#8e0152"
            ],
            [
             0.1,
             "#c51b7d"
            ],
            [
             0.2,
             "#de77ae"
            ],
            [
             0.3,
             "#f1b6da"
            ],
            [
             0.4,
             "#fde0ef"
            ],
            [
             0.5,
             "#f7f7f7"
            ],
            [
             0.6,
             "#e6f5d0"
            ],
            [
             0.7,
             "#b8e186"
            ],
            [
             0.8,
             "#7fbc41"
            ],
            [
             0.9,
             "#4d9221"
            ],
            [
             1,
             "#276419"
            ]
           ],
           "sequential": [
            [
             0,
             "#0d0887"
            ],
            [
             0.1111111111111111,
             "#46039f"
            ],
            [
             0.2222222222222222,
             "#7201a8"
            ],
            [
             0.3333333333333333,
             "#9c179e"
            ],
            [
             0.4444444444444444,
             "#bd3786"
            ],
            [
             0.5555555555555556,
             "#d8576b"
            ],
            [
             0.6666666666666666,
             "#ed7953"
            ],
            [
             0.7777777777777778,
             "#fb9f3a"
            ],
            [
             0.8888888888888888,
             "#fdca26"
            ],
            [
             1,
             "#f0f921"
            ]
           ],
           "sequentialminus": [
            [
             0,
             "#0d0887"
            ],
            [
             0.1111111111111111,
             "#46039f"
            ],
            [
             0.2222222222222222,
             "#7201a8"
            ],
            [
             0.3333333333333333,
             "#9c179e"
            ],
            [
             0.4444444444444444,
             "#bd3786"
            ],
            [
             0.5555555555555556,
             "#d8576b"
            ],
            [
             0.6666666666666666,
             "#ed7953"
            ],
            [
             0.7777777777777778,
             "#fb9f3a"
            ],
            [
             0.8888888888888888,
             "#fdca26"
            ],
            [
             1,
             "#f0f921"
            ]
           ]
          },
          "colorway": [
           "#636efa",
           "#EF553B",
           "#00cc96",
           "#ab63fa",
           "#FFA15A",
           "#19d3f3",
           "#FF6692",
           "#B6E880",
           "#FF97FF",
           "#FECB52"
          ],
          "font": {
           "color": "#2a3f5f"
          },
          "geo": {
           "bgcolor": "white",
           "lakecolor": "white",
           "landcolor": "#E5ECF6",
           "showlakes": true,
           "showland": true,
           "subunitcolor": "white"
          },
          "hoverlabel": {
           "align": "left"
          },
          "hovermode": "closest",
          "mapbox": {
           "style": "light"
          },
          "paper_bgcolor": "white",
          "plot_bgcolor": "#E5ECF6",
          "polar": {
           "angularaxis": {
            "gridcolor": "white",
            "linecolor": "white",
            "ticks": ""
           },
           "bgcolor": "#E5ECF6",
           "radialaxis": {
            "gridcolor": "white",
            "linecolor": "white",
            "ticks": ""
           }
          },
          "scene": {
           "xaxis": {
            "backgroundcolor": "#E5ECF6",
            "gridcolor": "white",
            "gridwidth": 2,
            "linecolor": "white",
            "showbackground": true,
            "ticks": "",
            "zerolinecolor": "white"
           },
           "yaxis": {
            "backgroundcolor": "#E5ECF6",
            "gridcolor": "white",
            "gridwidth": 2,
            "linecolor": "white",
            "showbackground": true,
            "ticks": "",
            "zerolinecolor": "white"
           },
           "zaxis": {
            "backgroundcolor": "#E5ECF6",
            "gridcolor": "white",
            "gridwidth": 2,
            "linecolor": "white",
            "showbackground": true,
            "ticks": "",
            "zerolinecolor": "white"
           }
          },
          "shapedefaults": {
           "line": {
            "color": "#2a3f5f"
           }
          },
          "ternary": {
           "aaxis": {
            "gridcolor": "white",
            "linecolor": "white",
            "ticks": ""
           },
           "baxis": {
            "gridcolor": "white",
            "linecolor": "white",
            "ticks": ""
           },
           "bgcolor": "#E5ECF6",
           "caxis": {
            "gridcolor": "white",
            "linecolor": "white",
            "ticks": ""
           }
          },
          "title": {
           "x": 0.05
          },
          "xaxis": {
           "automargin": true,
           "gridcolor": "white",
           "linecolor": "white",
           "ticks": "",
           "title": {
            "standoff": 15
           },
           "zerolinecolor": "white",
           "zerolinewidth": 2
          },
          "yaxis": {
           "automargin": true,
           "gridcolor": "white",
           "linecolor": "white",
           "ticks": "",
           "title": {
            "standoff": 15
           },
           "zerolinecolor": "white",
           "zerolinewidth": 2
          }
         }
        },
        "title": {
         "text": "Activity Scores for PCT927"
        },
        "width": 600,
        "xaxis": {
         "anchor": "y",
         "domain": [
          0,
          1
         ],
         "title": {
          "text": "columns"
         }
        },
        "yaxis": {
         "anchor": "x",
         "autorange": true,
         "domain": [
          0,
          1
         ],
         "title": {
          "text": "rows"
         }
        }
       }
      }
     },
     "metadata": {},
     "output_type": "display_data"
    }
   ],
   "source": [
    "sub = 'PCT929'\n",
    "df = accel_df.query(\"subject_id == @sub\")\n",
    "xr_accel = xr.DataArray(df[activityScores].values, \n",
    "                       dims=[\"rows\", \"columns\"],\n",
    "                       coords={\"rows\": df['day'], \"columns\": activityScores})\n",
    "fig = px.imshow(xr_accel, origin='lower', title='Activity Scores for PCT927',\n",
    "                zmin=0,zmax=5,height=400, width=600)\n",
    "fig.show()"
   ]
  },
  {
   "cell_type": "code",
   "execution_count": 200,
   "metadata": {},
   "outputs": [
    {
     "data": {
      "text/html": [
       "\n",
       "        <iframe\n",
       "            width=\"100%\"\n",
       "            height=\"650\"\n",
       "            src=\"http://127.0.0.1:8052/\"\n",
       "            frameborder=\"0\"\n",
       "            allowfullscreen\n",
       "            \n",
       "        ></iframe>\n",
       "        "
      ],
      "text/plain": [
       "<IPython.lib.display.IFrame at 0x32b76c7d0>"
      ]
     },
     "metadata": {},
     "output_type": "display_data"
    }
   ],
   "source": [
    "import dash\n",
    "from dash import Dash, html, dash_table, dcc, callback, Input, Output\n",
    "\n",
    "app = Dash()\n",
    "df = accel_df\n",
    "\n",
    "# App layout\n",
    "app.layout = [\n",
    "    html.Div(children='Accelerometer Data'),\n",
    "    dcc.Dropdown(id=\"subject_id\", value='PCT927', clearable=False,\n",
    "        options=[{\"label\": f'sub-{y}', \"value\": y} for y in df['subject_id'].unique()]),\n",
    "    dcc.Graph(figure={}, id='controls-and-graph')\n",
    "]\n",
    "\n",
    "# Add controls to build the interaction\n",
    "@callback(\n",
    "    Output(component_id='controls-and-graph', component_property='figure'),\n",
    "    Input(component_id='subject_id', component_property='value')\n",
    ")\n",
    "\n",
    "\n",
    "def cb(subject_id):\n",
    "    \"\"\"Callback to update the figure based on the selected id\"\"\"\n",
    "    sub = subject_id\n",
    "    df = accel_df.query(\"subject_id == @sub\")\n",
    "    xr_accel = xr.DataArray(df[activityScores].values, \n",
    "                        dims=[\"rows\", \"columns\"],\n",
    "                        coords={\"rows\": df['day'], \"columns\": activityScores})\n",
    "    fig = px.imshow(xr_accel, origin='lower', title=f'Activity Scores for sub-{sub}',\n",
    "                    zmin=0,zmax=5,height=400, width=600)\n",
    "    return fig\n",
    "\n",
    "if __name__ == '__main__':\n",
    "    app.run(mode='inline',port=8052)  # or 'external' if you want it in a new tab"
   ]
  },
  {
   "cell_type": "code",
   "execution_count": 245,
   "metadata": {},
   "outputs": [
    {
     "data": {
      "text/html": [
       "\n",
       "        <iframe\n",
       "            width=\"100%\"\n",
       "            height=\"650\"\n",
       "            src=\"http://127.0.0.1:8053/\"\n",
       "            frameborder=\"0\"\n",
       "            allowfullscreen\n",
       "            \n",
       "        ></iframe>\n",
       "        "
      ],
      "text/plain": [
       "<IPython.lib.display.IFrame at 0x32683bec0>"
      ]
     },
     "metadata": {},
     "output_type": "display_data"
    }
   ],
   "source": [
    "import dash\n",
    "from dash import Dash, html, dash_table, dcc, callback, Input, Output\n",
    "\n",
    "app = Dash()\n",
    "\n",
    "mindlamp_data = os.path.join(project_dir, 'mindlamp_data','processed_data')\n",
    "\n",
    "power = {}\n",
    "for sub in os.listdir(mindlamp_data):\n",
    "    if os.path.exists(os.path.join(mindlamp_data,sub,'processed','power')):\n",
    "        for file in os.listdir(os.path.join(mindlamp_data,sub,'processed','power')):\n",
    "            if 'phone_power_activityScores_hourly' in file:\n",
    "                power[sub] = pd.read_csv(os.path.join(mindlamp_data,sub,'processed','power',file))\n",
    "                power[sub]['subject_id'] = sub\n",
    "\n",
    "activityScores = [col for col in df.columns if 'activityScore' in col]\n",
    "power_df = pd.concat([sub for sub in power.values()], axis=0, ignore_index=True)\n",
    "\n",
    "df = power_df\n",
    "\n",
    "# App layout\n",
    "app.layout = [\n",
    "    html.Div(children='Phone Use Data'),\n",
    "    dcc.Dropdown(id=\"subject_id\", value='PCT927', clearable=False,\n",
    "        options=[{\"label\": f'sub-{y}', \"value\": y} for y in df['subject_id'].unique()]),\n",
    "    dcc.RadioItems(id='days', value='percentHome', \n",
    "        options=['All days','Weekdays','Weekends']),\n",
    "\n",
    "    dcc.Graph(figure={}, id='controls-and-graph')\n",
    "]\n",
    "\n",
    "# Add controls to build the interaction\n",
    "@callback(\n",
    "    Output(component_id='controls-and-graph', component_property='figure'),\n",
    "    Input(component_id='subject_id', component_property='value'),\n",
    "    Input(component_id='days', component_property='value')\n",
    ")\n",
    "\n",
    "\n",
    "def cb(subject_id, days):\n",
    "    \"\"\"Callback to update the figure based on the selected id\"\"\"\n",
    "    sub = subject_id\n",
    "    df = power_df.query(\"subject_id == @sub\")\n",
    "    if days == 'Weekdays':\n",
    "        df = df[df['weekday'].astype(str).str.contains('1|2|3|4|5')]\n",
    "    elif days == 'Weekends':\n",
    "        df = df[df['weekday'].astype(str).str.contains('6|7')]\n",
    "    xr_power = xr.DataArray(df[activityScores].values, \n",
    "                        dims=[\"rows\", \"columns\"],\n",
    "                        coords={\"rows\": df['day'], \"columns\": activityScores})\n",
    "    fig = px.imshow(xr_power, origin='lower', title=f'Phone Activity (minutes each hour) for sub-{sub}',\n",
    "                    zmin=0,zmax=60,height=400, width=600)\n",
    "    return fig\n",
    "\n",
    "if __name__ == '__main__':\n",
    "    app.run(mode='inline',port=8053)  # or 'external' if you want it in a new tab"
   ]
  },
  {
   "cell_type": "code",
   "execution_count": 219,
   "metadata": {},
   "outputs": [
    {
     "data": {
      "text/html": [
       "\n",
       "        <iframe\n",
       "            width=\"100%\"\n",
       "            height=\"650\"\n",
       "            src=\"http://127.0.0.1:8053/\"\n",
       "            frameborder=\"0\"\n",
       "            allowfullscreen\n",
       "            \n",
       "        ></iframe>\n",
       "        "
      ],
      "text/plain": [
       "<IPython.lib.display.IFrame at 0x33a969d90>"
      ]
     },
     "metadata": {},
     "output_type": "display_data"
    }
   ],
   "source": [
    "import dash\n",
    "from dash import Dash, html, dash_table, dcc, callback, Input, Output\n",
    "\n",
    "app = Dash()\n",
    "\n",
    "mindlamp_data = os.path.join(project_dir, 'mindlamp_data','processed_data')\n",
    "\n",
    "gps = {}\n",
    "for sub in os.listdir(mindlamp_data):\n",
    "    if os.path.exists(os.path.join(mindlamp_data,sub,'processed','gps')):\n",
    "        for file in os.listdir(os.path.join(mindlamp_data,sub,'processed','gps')):\n",
    "            if 'phone_gps_freq_hourly' in file:\n",
    "                gps[sub] = pd.read_csv(os.path.join(mindlamp_data,sub,'processed','gps',file))\n",
    "                gps[sub]['subject_id'] = sub\n",
    "\n",
    "activityScores = [col for col in df.columns if 'activityScore' in col]\n",
    "gps_df = pd.concat([sub for sub in gps.values()], axis=0, ignore_index=True)\n",
    "\n",
    "df = gps_df\n",
    "\n",
    "# App layout\n",
    "app.layout = [\n",
    "    html.Div(children='GPS Data'),\n",
    "    dcc.Dropdown(id=\"subject_id\", value='PCT927', clearable=False,\n",
    "        options=[{\"label\": f'sub-{y}', \"value\": y} for y in df['subject_id'].unique()]),\n",
    "    dcc.Graph(figure={}, id='controls-and-graph')\n",
    "]\n",
    "\n",
    "# Add controls to build the interaction\n",
    "@callback(\n",
    "    Output(component_id='controls-and-graph', component_property='figure'),\n",
    "    Input(component_id='subject_id', component_property='value')\n",
    ")\n",
    "\n",
    "\n",
    "def cb(subject_id):\n",
    "    \"\"\"Callback to update the figure based on the selected id\"\"\"\n",
    "    sub = subject_id\n",
    "    df = gps_df.query(\"subject_id == @sub\")\n",
    "    xr_gps = xr.DataArray(df[activityScores].values, \n",
    "                        dims=[\"rows\", \"columns\"],\n",
    "                        coords={\"rows\": df['day'], \"columns\": activityScores})\n",
    "    fig = px.imshow(xr_gps, origin='lower', title=f'GPS Activity per Hour for sub-{sub}',\n",
    "                    zmin=0,zmax=5,height=400, width=600)\n",
    "    return fig\n",
    "\n",
    "if __name__ == '__main__':\n",
    "    app.run(mode='inline',port=8053)  # or 'external' if you want it in a new tab"
   ]
  },
  {
   "cell_type": "code",
   "execution_count": 267,
   "metadata": {},
   "outputs": [
    {
     "data": {
      "text/html": [
       "\n",
       "        <iframe\n",
       "            width=\"100%\"\n",
       "            height=\"650\"\n",
       "            src=\"http://127.0.0.1:8055/\"\n",
       "            frameborder=\"0\"\n",
       "            allowfullscreen\n",
       "            \n",
       "        ></iframe>\n",
       "        "
      ],
      "text/plain": [
       "<IPython.lib.display.IFrame at 0x331fa3860>"
      ]
     },
     "metadata": {},
     "output_type": "display_data"
    }
   ],
   "source": [
    "import dash\n",
    "from dash import Dash, html, dash_table, dcc, callback, Input, Output\n",
    "\n",
    "app = Dash()\n",
    "\n",
    "mindlamp_data = os.path.join(project_dir, 'mindlamp_data','processed_data')\n",
    "\n",
    "gps = {}\n",
    "for sub in os.listdir(mindlamp_data):\n",
    "    if os.path.exists(os.path.join(mindlamp_data,sub,'processed','gps')):\n",
    "        for file in os.listdir(os.path.join(mindlamp_data,sub,'processed','gps')):\n",
    "            if 'phone_gps_homeStay_daily' in file:\n",
    "                gps[sub] = pd.read_csv(os.path.join(mindlamp_data,sub,'processed','gps',file))\n",
    "                gps[sub]['subject_id'] = sub\n",
    "\n",
    "gps_df = pd.concat([sub for sub in gps.values()], axis=0, ignore_index=True)\n",
    "\n",
    "# App layout\n",
    "app.layout = [\n",
    "    html.Div(children='Mobility Information for Participants'),\n",
    "    dcc.Dropdown(id=\"subject_id\", value='PCT927', clearable=False,\n",
    "        options=[{\"label\": f'sub-{y}', \"value\": y} for y in df['subject_id'].unique()]),\n",
    "    dcc.RadioItems(id='gps_item', value='percentHome', \n",
    "        options=['radiusMobility','percentHome','numPlaces']),\n",
    "    dcc.Graph(figure={}, id='controls-and-graph')\n",
    "]\n",
    "\n",
    "# Add controls to build the interaction\n",
    "@callback(\n",
    "    Output(component_id='controls-and-graph', component_property='figure'),\n",
    "    Input(component_id='subject_id', component_property='value'),\n",
    "    Input(component_id='gps_item', component_property='value')\n",
    ")\n",
    "\n",
    "\n",
    "def cb(subject_id, gps_item):\n",
    "    \"\"\"Callback to update the figure based on the selected id\"\"\"\n",
    "    sub = subject_id\n",
    "    sub_df = gps_df.query(\"subject_id == @sub\")\n",
    "    fig = px.line(sub_df, x=\"day\", y=gps_item, title=f'{gps_item} for sub-{sub}')\n",
    "    return fig\n",
    "\n",
    "if __name__ == '__main__':\n",
    "    app.run(mode='inline',port=8055)  # or 'external' if you want it in a new tab"
   ]
  },
  {
   "cell_type": "code",
   "execution_count": 269,
   "metadata": {},
   "outputs": [
    {
     "ename": "TypeError",
     "evalue": "type 'Container' is not subscriptable",
     "output_type": "error",
     "traceback": [
      "\u001b[0;31m---------------------------------------------------------------------------\u001b[0m",
      "\u001b[0;31mTypeError\u001b[0m                                 Traceback (most recent call last)",
      "Cell \u001b[0;32mIn[269], line 29\u001b[0m\n\u001b[1;32m     26\u001b[0m gps_df \u001b[38;5;241m=\u001b[39m pd\u001b[38;5;241m.\u001b[39mconcat([sub \u001b[38;5;28;01mfor\u001b[39;00m sub \u001b[38;5;129;01min\u001b[39;00m gps\u001b[38;5;241m.\u001b[39mvalues()], axis\u001b[38;5;241m=\u001b[39m\u001b[38;5;241m0\u001b[39m, ignore_index\u001b[38;5;241m=\u001b[39m\u001b[38;5;28;01mTrue\u001b[39;00m)\n\u001b[1;32m     28\u001b[0m \u001b[38;5;66;03m# App layout\u001b[39;00m\n\u001b[0;32m---> 29\u001b[0m activity_app\u001b[38;5;241m.\u001b[39mlayout \u001b[38;5;241m=\u001b[39m dbc\u001b[38;5;241m.\u001b[39mContainer[\n\u001b[1;32m     30\u001b[0m     html\u001b[38;5;241m.\u001b[39mH1(children\u001b[38;5;241m=\u001b[39m\u001b[38;5;124m'\u001b[39m\u001b[38;5;124mAccelerometer Data\u001b[39m\u001b[38;5;124m'\u001b[39m),\n\u001b[1;32m     31\u001b[0m     dcc\u001b[38;5;241m.\u001b[39mDropdown(\u001b[38;5;28mid\u001b[39m\u001b[38;5;241m=\u001b[39m\u001b[38;5;124m'\u001b[39m\u001b[38;5;124msubject_id_input\u001b[39m\u001b[38;5;124m'\u001b[39m, value\u001b[38;5;241m=\u001b[39m\u001b[38;5;124m'\u001b[39m\u001b[38;5;124mPCT927\u001b[39m\u001b[38;5;124m'\u001b[39m, clearable\u001b[38;5;241m=\u001b[39m\u001b[38;5;28;01mFalse\u001b[39;00m,\n\u001b[1;32m     32\u001b[0m         options\u001b[38;5;241m=\u001b[39m[{\u001b[38;5;124m\"\u001b[39m\u001b[38;5;124mlabel\u001b[39m\u001b[38;5;124m\"\u001b[39m: \u001b[38;5;124mf\u001b[39m\u001b[38;5;124m'\u001b[39m\u001b[38;5;124msub-\u001b[39m\u001b[38;5;132;01m{\u001b[39;00my\u001b[38;5;132;01m}\u001b[39;00m\u001b[38;5;124m'\u001b[39m, \u001b[38;5;124m\"\u001b[39m\u001b[38;5;124mvalue\u001b[39m\u001b[38;5;124m\"\u001b[39m: y} \u001b[38;5;28;01mfor\u001b[39;00m y \u001b[38;5;129;01min\u001b[39;00m accel_df[\u001b[38;5;124m'\u001b[39m\u001b[38;5;124msubject_id\u001b[39m\u001b[38;5;124m'\u001b[39m]\u001b[38;5;241m.\u001b[39munique()]),\n\u001b[1;32m     33\u001b[0m     dcc\u001b[38;5;241m.\u001b[39mGraph(figure\u001b[38;5;241m=\u001b[39m{}, \u001b[38;5;28mid\u001b[39m\u001b[38;5;241m=\u001b[39m\u001b[38;5;124m'\u001b[39m\u001b[38;5;124maccel_graph\u001b[39m\u001b[38;5;124m'\u001b[39m)\n\u001b[1;32m     34\u001b[0m     \n\u001b[1;32m     35\u001b[0m     \u001b[38;5;66;03m# html.Div(children='Mobility Information for Participants'),\u001b[39;00m\n\u001b[1;32m     36\u001b[0m     \u001b[38;5;66;03m# dcc.Dropdown(id=\"subject_id_input\", value='PCT927', clearable=False,\u001b[39;00m\n\u001b[1;32m     37\u001b[0m     \u001b[38;5;66;03m#     options=[{\"label\": f'sub-{y}', \"value\": y} for y in gps_df['subject_id'].unique()]),\u001b[39;00m\n\u001b[1;32m     38\u001b[0m     \u001b[38;5;66;03m# dcc.RadioItems(id='gps_item', value='percentHome', \u001b[39;00m\n\u001b[1;32m     39\u001b[0m     \u001b[38;5;66;03m#     options=['radiusMobility','percentHome','numPlaces']),\u001b[39;00m\n\u001b[1;32m     40\u001b[0m     \u001b[38;5;66;03m# dcc.Graph(figure={}, id='gps-graph')\u001b[39;00m\n\u001b[1;32m     41\u001b[0m ]\n\u001b[1;32m     43\u001b[0m \u001b[38;5;66;03m# Add controls to build the interaction\u001b[39;00m\n\u001b[1;32m     44\u001b[0m \u001b[38;5;129m@callback\u001b[39m(\n\u001b[1;32m     45\u001b[0m     Output(component_id\u001b[38;5;241m=\u001b[39m\u001b[38;5;124m'\u001b[39m\u001b[38;5;124maccel_graph\u001b[39m\u001b[38;5;124m'\u001b[39m, component_property\u001b[38;5;241m=\u001b[39m\u001b[38;5;124m'\u001b[39m\u001b[38;5;124mfigure\u001b[39m\u001b[38;5;124m'\u001b[39m),\n\u001b[1;32m     46\u001b[0m     \u001b[38;5;66;03m#Output(component_id='gps-graph', component_property='figure'),\u001b[39;00m\n\u001b[0;32m   (...)\u001b[0m\n\u001b[1;32m     51\u001b[0m \n\u001b[1;32m     52\u001b[0m \u001b[38;5;28;01mdef\u001b[39;00m \u001b[38;5;21mcb\u001b[39m(subject_id_input, gps_item):\n",
      "\u001b[0;31mTypeError\u001b[0m: type 'Container' is not subscriptable"
     ]
    }
   ],
   "source": [
    "import dash\n",
    "from dash import Dash, html, dash_table, dcc, callback, Input, Output\n",
    "import dash_bootstrap_components as dbc\n",
    "activity_app = Dash()\n",
    "mindlamp_data = os.path.join(project_dir, 'mindlamp_data','processed_data')\n",
    "\n",
    "accel = {}\n",
    "for sub in os.listdir(mindlamp_data):\n",
    "    if os.path.exists(os.path.join(mindlamp_data,sub,'processed','accel')):\n",
    "        for file in os.listdir(os.path.join(mindlamp_data,sub,'processed','accel')):\n",
    "            if 'phone_accel_activity' in file:\n",
    "                accel[sub] = pd.read_csv(os.path.join(mindlamp_data,sub,'processed','accel',file))\n",
    "                accel[sub]['subject_id'] = sub\n",
    "accel_df = pd.concat([sub for sub in accel.values()], axis=0, ignore_index=True)\n",
    "\n",
    "activityScores = [col for col in accel_df.columns if 'activityScore' in col]\n",
    "\n",
    "gps = {}\n",
    "for sub in os.listdir(mindlamp_data):\n",
    "    if os.path.exists(os.path.join(mindlamp_data,sub,'processed','gps')):\n",
    "        for file in os.listdir(os.path.join(mindlamp_data,sub,'processed','gps')):\n",
    "            if 'phone_gps_homeStay_daily' in file:\n",
    "                gps[sub] = pd.read_csv(os.path.join(mindlamp_data,sub,'processed','gps',file))\n",
    "                gps[sub]['subject_id'] = sub\n",
    "\n",
    "gps_df = pd.concat([sub for sub in gps.values()], axis=0, ignore_index=True)\n",
    "\n",
    "# App layout\n",
    "activity_app.layout = dbc.Container[\n",
    "    html.H1(children='Accelerometer Data'),\n",
    "    dcc.Dropdown(id='subject_id_input', value='PCT927', clearable=False,\n",
    "        options=[{\"label\": f'sub-{y}', \"value\": y} for y in accel_df['subject_id'].unique()]),\n",
    "    dcc.Graph(figure={}, id='accel_graph')\n",
    "    \n",
    "    # html.Div(children='Mobility Information for Participants'),\n",
    "    # dcc.Dropdown(id=\"subject_id_input\", value='PCT927', clearable=False,\n",
    "    #     options=[{\"label\": f'sub-{y}', \"value\": y} for y in gps_df['subject_id'].unique()]),\n",
    "    # dcc.RadioItems(id='gps_item', value='percentHome', \n",
    "    #     options=['radiusMobility','percentHome','numPlaces']),\n",
    "    # dcc.Graph(figure={}, id='gps-graph')\n",
    "]\n",
    "\n",
    "# Add controls to build the interaction\n",
    "@callback(\n",
    "    Output(component_id='accel_graph', component_property='figure'),\n",
    "    #Output(component_id='gps-graph', component_property='figure'),\n",
    "    Input(component_id='subject_id_input', component_property='value'),\n",
    "    Input(component_id='gps_item', component_property='value')\n",
    ")\n",
    "\n",
    "\n",
    "def cb(subject_id_input, gps_item):\n",
    "    \"\"\"Callback to update the figure based on the selected id\"\"\"\n",
    "    sub = subject_id_input\n",
    "    accel_sub = accel_df.query(\"subject_id == @sub\")\n",
    "    accel_xr = xr.DataArray(accel_sub[activityScores].values, \n",
    "                        dims=[\"rows\", \"columns\"],\n",
    "                        coords={\"rows\": accel_sub['day'], \"columns\": activityScores})\n",
    "    accel_fig = px.imshow(accel_xr, origin='lower', title=f'Activity Scores for sub-{sub}',\n",
    "                    zmin=0,zmax=5,height=400, width=600)\n",
    "    \n",
    "    # gps_sub = gps_df.query(\"subject_id == @sub\")\n",
    "    # gps_fig = px.line(gps_sub, x=\"day\", y=gps_item, title=f'{gps_item} for sub-{sub}')\n",
    "\n",
    "    return accel_fig\n",
    "\n",
    "\n",
    "if __name__ == '__main__':\n",
    "    activity_app.run(mode='inline',port=8052)  # or 'external' if you want it in a new tab"
   ]
  },
  {
   "cell_type": "code",
   "execution_count": null,
   "metadata": {},
   "outputs": [
    {
     "data": {
      "text/html": [
       "\n",
       "        <iframe\n",
       "            width=\"100%\"\n",
       "            height=\"650\"\n",
       "            src=\"http://127.0.0.1:8054/\"\n",
       "            frameborder=\"0\"\n",
       "            allowfullscreen\n",
       "            \n",
       "        ></iframe>\n",
       "        "
      ],
      "text/plain": [
       "<IPython.lib.display.IFrame at 0x326b9c290>"
      ]
     },
     "metadata": {},
     "output_type": "display_data"
    }
   ],
   "source": [
    "# Initialize the app - incorporate css\n",
    "import dash_bootstrap_components as dbc\n",
    "\n",
    "external_stylesheets = [dbc.themes.CERULEAN]\n",
    "gps_app = Dash(__name__, external_stylesheets=external_stylesheets)\n",
    "\n",
    "gps = {}\n",
    "for sub in os.listdir(mindlamp_data):\n",
    "    if os.path.exists(os.path.join(mindlamp_data,sub,'processed','gps')):\n",
    "        for file in os.listdir(os.path.join(mindlamp_data,sub,'processed','gps')):\n",
    "            if 'phone_gps_homeStay_daily' in file:\n",
    "                gps[sub] = pd.read_csv(os.path.join(mindlamp_data,sub,'processed','gps',file))\n",
    "                gps[sub]['subject_id'] = sub\n",
    "\n",
    "gps_df = pd.concat([sub for sub in gps.values()], axis=0, ignore_index=True)\n",
    "\n",
    "# App layout\n",
    "gps_app.layout = [\n",
    "    html.Div(children='Mobility Information for Participants'),\n",
    "    dcc.Dropdown(id=\"subject_id\", value='PCT927', clearable=False,\n",
    "        options=[{\"label\": f'sub-{y}', \"value\": y} for y in df['subject_id'].unique()]),\n",
    "    dcc.RadioItems(id='gps_item', value='radiusMobility', \n",
    "        options=['radiusMobility','percentHome','numPlaces']),\n",
    "    dcc.Graph(figure={}, id='controls-and-graph')\n",
    "]\n",
    "\n",
    "# Add controls to build the interaction\n",
    "@callback(\n",
    "    Output(component_id='controls-and-graph', component_property='figure'),\n",
    "    Input(component_id='subject_id', component_property='value'),\n",
    "    Input(component_id='gps_item', component_property='value')\n",
    ")\n",
    "\n",
    "\n",
    "def cb(subject_id, gps_item):\n",
    "    \"\"\"Callback to update the figure based on the selected id\"\"\"\n",
    "    sub = subject_id\n",
    "    gps_sub = gps_df.query(\"subject_id == @sub\")\n",
    "    gps_fig = px.line(gps_sub, x=\"day\", y=gps_item, title=f'{gps_item} for sub-{sub}')\n",
    "    return gps_fig\n",
    "\n",
    "if __name__ == '__main__':\n",
    "    gps_app.run(mode='inline',port=8054)  # or 'external' if you want it in a new tab"
   ]
  }
 ],
 "metadata": {
  "kernelspec": {
   "display_name": "base",
   "language": "python",
   "name": "python3"
  },
  "language_info": {
   "codemirror_mode": {
    "name": "ipython",
    "version": 3
   },
   "file_extension": ".py",
   "mimetype": "text/x-python",
   "name": "python",
   "nbconvert_exporter": "python",
   "pygments_lexer": "ipython3",
   "version": "3.12.7"
  }
 },
 "nbformat": 4,
 "nbformat_minor": 2
}

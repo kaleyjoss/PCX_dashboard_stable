{
 "cells": [
  {
   "cell_type": "code",
   "execution_count": 24,
   "metadata": {},
   "outputs": [
    {
     "data": {
      "text/html": [
       "\n",
       "        <iframe\n",
       "            width=\"100%\"\n",
       "            height=\"650\"\n",
       "            src=\"http://127.0.0.1:8056/\"\n",
       "            frameborder=\"0\"\n",
       "            allowfullscreen\n",
       "            \n",
       "        ></iframe>\n",
       "        "
      ],
      "text/plain": [
       "<IPython.lib.display.IFrame at 0x3280f70e0>"
      ]
     },
     "metadata": {},
     "output_type": "display_data"
    },
    {
     "name": "stderr",
     "output_type": "stream",
     "text": [
      "[2025-04-16 07:59:34,872] ERROR in app: Exception on /_dash-update-component [POST]\n",
      "Traceback (most recent call last):\n",
      "  File \"/opt/anaconda3/lib/python3.12/site-packages/flask/app.py\", line 1473, in wsgi_app\n",
      "    response = self.full_dispatch_request()\n",
      "               ^^^^^^^^^^^^^^^^^^^^^^^^^^^^\n",
      "  File \"/opt/anaconda3/lib/python3.12/site-packages/flask/app.py\", line 882, in full_dispatch_request\n",
      "    rv = self.handle_user_exception(e)\n",
      "         ^^^^^^^^^^^^^^^^^^^^^^^^^^^^^\n",
      "  File \"/opt/anaconda3/lib/python3.12/site-packages/flask/app.py\", line 880, in full_dispatch_request\n",
      "    rv = self.dispatch_request()\n",
      "         ^^^^^^^^^^^^^^^^^^^^^^^\n",
      "  File \"/opt/anaconda3/lib/python3.12/site-packages/flask/app.py\", line 865, in dispatch_request\n",
      "    return self.ensure_sync(self.view_functions[rule.endpoint])(**view_args)  # type: ignore[no-any-return]\n",
      "           ^^^^^^^^^^^^^^^^^^^^^^^^^^^^^^^^^^^^^^^^^^^^^^^^^^^^^^^^^^^^^^^^^\n",
      "  File \"/opt/anaconda3/lib/python3.12/site-packages/dash/dash.py\", line 1405, in dispatch\n",
      "    ctx.run(\n",
      "  File \"/opt/anaconda3/lib/python3.12/site-packages/dash/_callback.py\", line 529, in add_context\n",
      "    raise err\n",
      "  File \"/opt/anaconda3/lib/python3.12/site-packages/dash/_callback.py\", line 518, in add_context\n",
      "    output_value = _invoke_callback(func, *func_args, **func_kwargs)\n",
      "                   ^^^^^^^^^^^^^^^^^^^^^^^^^^^^^^^^^^^^^^^^^^^^^^^^^\n",
      "  File \"/opt/anaconda3/lib/python3.12/site-packages/dash/_callback.py\", line 47, in _invoke_callback\n",
      "    return func(*args, **kwargs)  # %% callback invoked %%\n",
      "           ^^^^^^^^^^^^^^^^^^^^^\n",
      "  File \"/var/folders/fl/b24z_8kn4490x_bl0njv6fg00000gn/T/ipykernel_25745/2507159291.py\", line 30, in cb\n",
      "    year_data = data.query(\"year==@year_input\")\n",
      "                ^^^^^^^^^^^^^^^^^^^^^^^^^^^^^^^\n",
      "  File \"/opt/anaconda3/lib/python3.12/site-packages/pandas/core/frame.py\", line 4823, in query\n",
      "    res = self.eval(expr, **kwargs)\n",
      "          ^^^^^^^^^^^^^^^^^^^^^^^^^\n",
      "  File \"/opt/anaconda3/lib/python3.12/site-packages/pandas/core/frame.py\", line 4949, in eval\n",
      "    return _eval(expr, inplace=inplace, **kwargs)\n",
      "           ^^^^^^^^^^^^^^^^^^^^^^^^^^^^^^^^^^^^^^\n",
      "  File \"/opt/anaconda3/lib/python3.12/site-packages/pandas/core/computation/eval.py\", line 357, in eval\n",
      "    ret = eng_inst.evaluate()\n",
      "          ^^^^^^^^^^^^^^^^^^^\n",
      "  File \"/opt/anaconda3/lib/python3.12/site-packages/pandas/core/computation/engines.py\", line 81, in evaluate\n",
      "    res = self._evaluate()\n",
      "          ^^^^^^^^^^^^^^^^\n",
      "  File \"/opt/anaconda3/lib/python3.12/site-packages/pandas/core/computation/engines.py\", line 121, in _evaluate\n",
      "    return ne.evaluate(s, local_dict=scope)\n",
      "           ^^^^^^^^^^^^^^^^^^^^^^^^^^^^^^^^\n",
      "  File \"/opt/anaconda3/lib/python3.12/site-packages/numexpr/necompiler.py\", line 975, in evaluate\n",
      "    raise e\n",
      "  File \"/opt/anaconda3/lib/python3.12/site-packages/numexpr/necompiler.py\", line 877, in validate\n",
      "    signature = [(name, getType(arg)) for (name, arg) in\n",
      "                        ^^^^^^^^^^^^\n",
      "  File \"/opt/anaconda3/lib/python3.12/site-packages/numexpr/necompiler.py\", line 717, in getType\n",
      "    raise ValueError(\"unknown type %s\" % a.dtype.name)\n",
      "ValueError: unknown type object\n"
     ]
    }
   ],
   "source": [
    "import dash\n",
    "from dash import Dash, dcc, html, callback, Input, Output\n",
    "import plotly.express as px\n",
    "import dash_bootstrap_components as dbc\n",
    "\n",
    "#external_stylesheet = dbc.themes.CERULEAN\n",
    "app = Dash(external_stylesheets=[dbc.themes.CERULEAN])\n",
    "\n",
    "data=px.data.gapminder()\n",
    "#print(data.head())\n",
    "\n",
    "app.layout = dbc.Container([\n",
    "    dbc.Col([\n",
    "        html.H1(children='Country Data'),\n",
    "        html.Div(\"Use this dropdown to select the year\"),\n",
    "        dcc.Dropdown(options=data['year'].unique(), id='year_input', value='1952', clearable=True),\n",
    "        dcc.Graph(figure={}, id='graph')]),\n",
    "    dbc.Row([\n",
    "        html.H3(\"testing h3\")\n",
    "    ])\n",
    "    \n",
    "])\n",
    "\n",
    "@callback(\n",
    "    Output(component_id='graph', component_property='figure'), \n",
    "    Input(component_id='year_input', component_property='value')\n",
    ")\n",
    "\n",
    "def cb(year_input):\n",
    "    year_data = data.query(\"year==@year_input\")\n",
    "    return px.scatter(year_data, x='country',y='lifeExp',color='continent', title=f'Life Expectancy by Country for {year_input}')\n",
    "\n",
    "if __name__ == \"__main__\":\n",
    "    app.run(mode='Inline',port=8056)\n"
   ]
  }
 ],
 "metadata": {
  "kernelspec": {
   "display_name": "base",
   "language": "python",
   "name": "python3"
  },
  "language_info": {
   "codemirror_mode": {
    "name": "ipython",
    "version": 3
   },
   "file_extension": ".py",
   "mimetype": "text/x-python",
   "name": "python",
   "nbconvert_exporter": "python",
   "pygments_lexer": "ipython3",
   "version": "3.12.7"
  }
 },
 "nbformat": 4,
 "nbformat_minor": 2
}

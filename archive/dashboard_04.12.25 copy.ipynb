{
 "cells": [
  {
   "cell_type": "code",
   "execution_count": null,
   "metadata": {},
   "outputs": [
    {
     "name": "stdout",
     "output_type": "stream",
     "text": [
      "clinical_administered_data Skipped rows: ['subject id (ie qualr200 or qualm200)', '{\"importid\":\"qid128_text\"}', 'qualryk', 'qualralex_test', nan, nan, nan, nan, 'qualr_kaley testing', 'qualrkaleytest', 'qualrtestlex']\n",
      "clinical_self_report_data Skipped rows: ['subject id (ie qualr200 or qualm200, ask the clinician for this id number)', '{\"importid\":\"qid96_text\"}', 'qualr217 ', 'test', 'test', 'qualm211\\n1']\n",
      "mri_self_report_data Skipped rows: ['subject id (ie qualr200 or qualm200, should be told to you by study staff)', '{\"importid\":\"qid165_text\"}']\n",
      "supplemental_self_report_data Skipped rows: ['subject id (starts with \"qual\", for example, \"qualr200\". you can find this it the email where this survey link was sent to you)', '{\"importid\":\"qid100_text\"}', 'qual207', 'qual']\n"
     ]
    }
   ],
   "source": [
    "############ LOAD in custom packages ################\n",
    "import sys\n",
    "import os\n",
    "import pandas as pd\n",
    "import numpy as np\n",
    "import importlib\n",
    "import multiprocessing as mp\n",
    "import matplotlib.pyplot as plt\n",
    "import plotly.express as px\n",
    "import plotly.graph_objects as go\n",
    "import plotly.io as pio\n",
    "import xarray as xr\n",
    "import numpy as np\n",
    "\n",
    "# project_dir = '/Users/demo/Library/CloudStorage/Box-Box/Holmes_Lab_Wiki/PCX_Round2'\n",
    "# sub_logs = os.path.join(project_dir, 'subject_logs')\n",
    "\n",
    "# subs = {}\n",
    "# for sub in os.listdir(sub_logs):\n",
    "#     if 'sub-' in sub:\n",
    "#         parts = sub.split('.')\n",
    "#         sub_id = parts[0]\n",
    "#         subs[sub_id] = pd.read_excel(os.path.join(sub_logs, sub),sheet_name='JSON_formatted')\n",
    "\n",
    "import sys\n",
    "import os\n",
    "import pandas as pd\n",
    "import datetime\n",
    "from datetime import datetime as dt\n",
    "import plotly.express as px\n",
    "\n",
    "def extract_survey_date(filename: str):\n",
    "\t\"\"\"\n",
    "\tExtracts a survey date from a filename of the form '..._<Month Day, Year>.csv'\n",
    "\tExample: 'survey_results_Sep 06, 2025.csv' → datetime(2025, 9, 6)\n",
    "\t\"\"\"\n",
    "\ttry:\n",
    "\t\t# Grab the last part after the last underscore, before the extension\n",
    "\t\tdatestr = filename.split('_')[-1].split('.')[0]\n",
    "\t\treturn dt.strptime(datestr, '%b %d, %Y')\n",
    "\texcept Exception:\n",
    "\t\treturn None\n",
    "\t\n",
    "def get_most_recent_survey(directory, recoded=False):\n",
    "\t# Allowed Excel extensions\n",
    "\textensions = (\".csv\", \".xls\", \".xlsx\")\n",
    "\tfilenames = [f for f in os.listdir(directory) if f.endswith(extensions)]\n",
    "\tif recoded==True:\n",
    "\t\tfilenames = [f for f in filenames if 'recoded' in f]\n",
    "\telse:\n",
    "\t\tfilenames = [f for f in filenames if not 'recoded' in f]\n",
    "\t\n",
    "\t# List Excel files with their sizes\n",
    "\tdates = []\n",
    "\tfor filename in filenames:\n",
    "\n",
    "\t\tsurvey_date = extract_survey_date(filename)\n",
    "\t\tif survey_date is not None:\n",
    "\t\t\tdates.append({'filename': filename, 'date': survey_date})\n",
    "\t\t\t\n",
    "\n",
    "\tif len(dates) > 0:\n",
    "\t\tdates.sort(key=lambda file: file['date'], reverse=True)\n",
    "\n",
    "\t\treturn os.path.join(directory, dates[0]['filename'])\n",
    "\t\n",
    "\treturn None\n",
    "\n",
    "\n",
    "\n",
    "data_dir = os.path.expanduser('~/Library/CloudStorage/Box-Box/(Restricted)_PCR/PCX')\n",
    "\n",
    "# project where survey exports live\n",
    "surveys_dir = os.path.join(data_dir, 'behavioral')\n",
    "\n",
    "# folder where your fmriprep reports live\n",
    "REPORTS_DIR = os.path.expanduser('~/Library/CloudStorage/Box-Box/(Restricted)_PCR/PCX/fmriprep_reports')\n",
    "tracker_df=pd.read_excel(os.path.expanduser('~/Library/CloudStorage/Box-Box/Holmes_Lab_Wiki/PCX_Round2/Subject_tracker_PCR.xlsx'), sheet_name='tracker')\n",
    "\n",
    "\n",
    "survey_names = ['clinical_administered_data','clinical_self_report_data',\n",
    "\t\t\t\t\t 'mri_self_report_data','supplemental_self_report_data']\n",
    "subsurvey_key = {\n",
    "\t'panss': 'clinical_administered_data',\n",
    "\t'madrs': 'clinical_administered_data',\n",
    "\t'ymrs': 'clinical_administered_data',\n",
    "\t'bprs': 'clinical_administered_data',\n",
    "\t'cssrs': 'clinical_administered_data',\n",
    "\n",
    "}\n",
    "\n",
    "subject_id_pattern = r\"^qual[rm]2\\d{2}$\"\n",
    "\n",
    "surveys={}\n",
    "recoded_surveys={}\n",
    "filepath=None\n",
    "for root, dirs, files in os.walk(surveys_dir):\n",
    "\tfor survey in survey_names: \n",
    "\t\tif survey in dirs: \n",
    "\t\t\tsurveys[survey] = []\n",
    "\t\t\tsurvey_dir = os.path.join(root, survey)\n",
    "\t\t\ttry:\n",
    "\t\t\t\tfilepath = get_most_recent_survey(survey_dir)\n",
    "\t\t\t\tfilepath_recoded = get_most_recent_survey(survey_dir, recoded=True)\n",
    "\t\t\texcept Exception as e:\n",
    "\t\t\t\tprint(e)\n",
    "\t\t\tif filepath is not None:\n",
    "\t\t\t\tsurveys[survey] = pd.read_csv(filepath)\n",
    "\t\t\t\tsurveys[survey]['SUBJECT_ID'] = surveys[survey]['SUBJECT_ID'].str.lower()\n",
    "\t\t\t\tsurveys[survey]['SUBJECT_ID'] = surveys[survey]['SUBJECT_ID'].str.replace('pc','qual')\n",
    "\n",
    "\t\t\t\tmask = surveys[survey]['SUBJECT_ID'].astype(str).str.strip().str.match(subject_id_pattern, na=False) # boolean mask for valid subject IDs \n",
    "\t\t\t\tvalid_df = surveys[survey][mask] # keep only matching\n",
    "\t\t\t\t# print skipped subject IDs\n",
    "\t\t\t\tskipped = surveys[survey][~mask]\n",
    "\t\t\t\tprint(f\"{survey} Skipped rows:\",skipped['SUBJECT_ID'].tolist())\n",
    "\t\t\t\tsurveys[survey] = valid_df\n",
    "\n",
    "\t\t\t\tsurveys[survey][survey] = surveys[survey]['StartDate']\n",
    "\t\t\t\tsurveys[survey]['SUBJECT_ID'] = surveys[survey]['SUBJECT_ID'].str.lower()\n",
    "\n",
    "\t\t\t\tsurveys[survey] = surveys[survey]\n",
    "\t\n",
    "\t\t\t\trecoded_surveys[survey]=pd.read_csv(filepath_recoded)\n",
    "\t\t\t\trecoded_surveys[survey]['SUBJECT_ID'] = recoded_surveys[survey]['SUBJECT_ID'].str.lower()\n",
    "\t\t\t\trecoded_surveys[survey]['SUBJECT_ID'] = recoded_surveys[survey]['SUBJECT_ID'].str.replace('pc','qual')\n",
    "\t\t\t\tmask = recoded_surveys[survey]['SUBJECT_ID'].astype(str).str.match(subject_id_pattern, na=False) # boolean mask for valid subject IDs \n",
    "\t\t\t\tvalid_df = recoded_surveys[survey][mask] # keep only matching\n",
    "\t\t\t\trecoded_surveys[survey] = valid_df\n",
    "\t\t\t\trecoded_surveys[survey][str(survey)] = recoded_surveys[survey]['StartDate']\n",
    "\t\t\t\trecoded_surveys[survey] = recoded_surveys[survey]\n",
    "\n",
    "\n",
    "\n",
    "rmr_df = pd.read_excel(os.path.expanduser('~/Library/CloudStorage/Box-Box/Holmes_Lab_Wiki/PCX_Round2/Admin/RMR/RMR_running.xlsx'))\n",
    "tracker_df=pd.read_excel(os.path.expanduser('~/Library/CloudStorage/Box-Box/Holmes_Lab_Wiki/PCX_Round2/Subject_tracker_PCR.xlsx'), sheet_name='tracker')\n",
    "subs_df=pd.read_excel(os.path.expanduser('~/Library/CloudStorage/Box-Box/Holmes_Lab_Wiki/PCX_Round2/Subject_tracker_PCR.xlsx'), sheet_name='tracker')\n",
    "\n"
   ]
  },
  {
   "cell_type": "code",
   "execution_count": null,
   "metadata": {},
   "outputs": [],
   "source": [
    "\n",
    "\n"
   ]
  },
  {
   "cell_type": "code",
   "execution_count": 79,
   "metadata": {},
   "outputs": [
    {
     "name": "stderr",
     "output_type": "stream",
     "text": [
      "/var/folders/fl/b24z_8kn4490x_bl0njv6fg00000gn/T/ipykernel_87030/1883369596.py:11: FutureWarning:\n",
      "\n",
      "Downcasting object dtype arrays on .fillna, .ffill, .bfill is deprecated and will change in a future version. Call result.infer_objects(copy=False) instead. To opt-in to the future behavior, set `pd.set_option('future.no_silent_downcasting', True)`\n",
      "\n",
      "/var/folders/fl/b24z_8kn4490x_bl0njv6fg00000gn/T/ipykernel_87030/1883369596.py:13: FutureWarning:\n",
      "\n",
      "Downcasting object dtype arrays on .fillna, .ffill, .bfill is deprecated and will change in a future version. Call result.infer_objects(copy=False) instead. To opt-in to the future behavior, set `pd.set_option('future.no_silent_downcasting', True)`\n",
      "\n",
      "/var/folders/fl/b24z_8kn4490x_bl0njv6fg00000gn/T/ipykernel_87030/1883369596.py:57: SettingWithCopyWarning:\n",
      "\n",
      "\n",
      "A value is trying to be set on a copy of a slice from a DataFrame.\n",
      "Try using .loc[row_indexer,col_indexer] = value instead\n",
      "\n",
      "See the caveats in the documentation: https://pandas.pydata.org/pandas-docs/stable/user_guide/indexing.html#returning-a-view-versus-a-copy\n",
      "\n"
     ]
    },
    {
     "data": {
      "text/html": [
       "<div>\n",
       "<style scoped>\n",
       "    .dataframe tbody tr th:only-of-type {\n",
       "        vertical-align: middle;\n",
       "    }\n",
       "\n",
       "    .dataframe tbody tr th {\n",
       "        vertical-align: top;\n",
       "    }\n",
       "\n",
       "    .dataframe thead th {\n",
       "        text-align: right;\n",
       "    }\n",
       "</style>\n",
       "<table border=\"1\" class=\"dataframe\">\n",
       "  <thead>\n",
       "    <tr style=\"text-align: right;\">\n",
       "      <th></th>\n",
       "      <th>SUBJECT_ID</th>\n",
       "      <th>SITE_ID</th>\n",
       "      <th>primary_diagnoses_all</th>\n",
       "      <th>other_diagnoses_all</th>\n",
       "      <th>clinical_administered_data</th>\n",
       "      <th>clinical_self_report_data</th>\n",
       "      <th>mri_self_report_data</th>\n",
       "      <th>supplemental_self_report_data</th>\n",
       "      <th>sex</th>\n",
       "      <th>age</th>\n",
       "      <th>ethnic</th>\n",
       "      <th>racial</th>\n",
       "      <th>place_birth</th>\n",
       "      <th>name_meds</th>\n",
       "      <th>purpose_meds</th>\n",
       "    </tr>\n",
       "  </thead>\n",
       "  <tbody>\n",
       "    <tr>\n",
       "      <th>0</th>\n",
       "      <td>qual</td>\n",
       "      <td>Rutgers</td>\n",
       "      <td></td>\n",
       "      <td></td>\n",
       "      <td></td>\n",
       "      <td></td>\n",
       "      <td></td>\n",
       "      <td>2025-08-06 14:14:28</td>\n",
       "      <td></td>\n",
       "      <td></td>\n",
       "      <td></td>\n",
       "      <td></td>\n",
       "      <td></td>\n",
       "      <td></td>\n",
       "      <td></td>\n",
       "    </tr>\n",
       "    <tr>\n",
       "      <th>1</th>\n",
       "      <td>qual207</td>\n",
       "      <td>Rutgers</td>\n",
       "      <td></td>\n",
       "      <td></td>\n",
       "      <td></td>\n",
       "      <td></td>\n",
       "      <td></td>\n",
       "      <td>2025-07-14 17:46:18</td>\n",
       "      <td></td>\n",
       "      <td></td>\n",
       "      <td></td>\n",
       "      <td></td>\n",
       "      <td></td>\n",
       "      <td></td>\n",
       "      <td></td>\n",
       "    </tr>\n",
       "    <tr>\n",
       "      <th>2</th>\n",
       "      <td>qualm200</td>\n",
       "      <td>McLean</td>\n",
       "      <td>Bipolar disorder</td>\n",
       "      <td>PTSD/Adjustment Disorder/Other specified traum...</td>\n",
       "      <td>2025-06-25 21:56:34</td>\n",
       "      <td>2025-06-25 21:56:28</td>\n",
       "      <td>2025-07-09 19:47:35</td>\n",
       "      <td></td>\n",
       "      <td>Female</td>\n",
       "      <td>25</td>\n",
       "      <td>Not Hispanic or Latino</td>\n",
       "      <td>White</td>\n",
       "      <td>Spartanburg, South Carolina, USA</td>\n",
       "      <td>lamictal</td>\n",
       "      <td>mood stabilizing</td>\n",
       "    </tr>\n",
       "    <tr>\n",
       "      <th>3</th>\n",
       "      <td>qualm204</td>\n",
       "      <td>McLean</td>\n",
       "      <td>Unipolar depression</td>\n",
       "      <td>Generalized anxiety disorder (GAD)</td>\n",
       "      <td>2025-06-25 17:49:18</td>\n",
       "      <td>2025-06-25 17:49:13</td>\n",
       "      <td>2025-07-08 19:09:58</td>\n",
       "      <td></td>\n",
       "      <td>Female</td>\n",
       "      <td>27</td>\n",
       "      <td>Not Hispanic or Latino</td>\n",
       "      <td>Black or African American</td>\n",
       "      <td>Lawton, Oklahoma, USA</td>\n",
       "      <td>Sertraline</td>\n",
       "      <td>Depression</td>\n",
       "    </tr>\n",
       "    <tr>\n",
       "      <th>4</th>\n",
       "      <td>qualm208</td>\n",
       "      <td>McLean</td>\n",
       "      <td>Depression w/ psychotic features</td>\n",
       "      <td>PTSD/Adjustment Disorder/Other specified traum...</td>\n",
       "      <td>2025-07-22 17:10:03</td>\n",
       "      <td>2025-07-22 17:09:31</td>\n",
       "      <td>2025-07-30 19:09:15</td>\n",
       "      <td></td>\n",
       "      <td>Female</td>\n",
       "      <td>61</td>\n",
       "      <td>Not Hispanic or Latino</td>\n",
       "      <td>White</td>\n",
       "      <td>meriden ct usa</td>\n",
       "      <td>lamotrigine</td>\n",
       "      <td>mood stabiliozer</td>\n",
       "    </tr>\n",
       "    <tr>\n",
       "      <th>...</th>\n",
       "      <td>...</td>\n",
       "      <td>...</td>\n",
       "      <td>...</td>\n",
       "      <td>...</td>\n",
       "      <td>...</td>\n",
       "      <td>...</td>\n",
       "      <td>...</td>\n",
       "      <td>...</td>\n",
       "      <td>...</td>\n",
       "      <td>...</td>\n",
       "      <td>...</td>\n",
       "      <td>...</td>\n",
       "      <td>...</td>\n",
       "      <td>...</td>\n",
       "      <td>...</td>\n",
       "    </tr>\n",
       "    <tr>\n",
       "      <th>70</th>\n",
       "      <td>qualr_kaley testing</td>\n",
       "      <td></td>\n",
       "      <td></td>\n",
       "      <td></td>\n",
       "      <td>2025-09-19 15:36:30</td>\n",
       "      <td></td>\n",
       "      <td></td>\n",
       "      <td></td>\n",
       "      <td></td>\n",
       "      <td></td>\n",
       "      <td></td>\n",
       "      <td></td>\n",
       "      <td></td>\n",
       "      <td></td>\n",
       "      <td></td>\n",
       "    </tr>\n",
       "    <tr>\n",
       "      <th>71</th>\n",
       "      <td>qualralex_test</td>\n",
       "      <td></td>\n",
       "      <td></td>\n",
       "      <td></td>\n",
       "      <td>2025-09-19 16:23:03</td>\n",
       "      <td></td>\n",
       "      <td></td>\n",
       "      <td></td>\n",
       "      <td></td>\n",
       "      <td></td>\n",
       "      <td></td>\n",
       "      <td></td>\n",
       "      <td></td>\n",
       "      <td></td>\n",
       "      <td></td>\n",
       "    </tr>\n",
       "    <tr>\n",
       "      <th>72</th>\n",
       "      <td>qualrkaleytest</td>\n",
       "      <td></td>\n",
       "      <td>Unipolar depression</td>\n",
       "      <td>Binge Eating</td>\n",
       "      <td>2025-09-23 18:36:26</td>\n",
       "      <td></td>\n",
       "      <td></td>\n",
       "      <td></td>\n",
       "      <td></td>\n",
       "      <td></td>\n",
       "      <td></td>\n",
       "      <td></td>\n",
       "      <td></td>\n",
       "      <td></td>\n",
       "      <td></td>\n",
       "    </tr>\n",
       "    <tr>\n",
       "      <th>73</th>\n",
       "      <td>qualrtestlex</td>\n",
       "      <td>Rutgers</td>\n",
       "      <td>Unipolar depression</td>\n",
       "      <td>Panic Disorder</td>\n",
       "      <td>2025-09-23 18:41:21</td>\n",
       "      <td></td>\n",
       "      <td></td>\n",
       "      <td></td>\n",
       "      <td></td>\n",
       "      <td></td>\n",
       "      <td></td>\n",
       "      <td></td>\n",
       "      <td></td>\n",
       "      <td></td>\n",
       "      <td></td>\n",
       "    </tr>\n",
       "    <tr>\n",
       "      <th>74</th>\n",
       "      <td>qualryk</td>\n",
       "      <td>Rutgers</td>\n",
       "      <td>Depression w/ psychotic features</td>\n",
       "      <td>PTSD/Adjustment Disorder/Other specified traum...</td>\n",
       "      <td>2025-06-13 14:46:14</td>\n",
       "      <td></td>\n",
       "      <td></td>\n",
       "      <td></td>\n",
       "      <td></td>\n",
       "      <td></td>\n",
       "      <td></td>\n",
       "      <td></td>\n",
       "      <td></td>\n",
       "      <td></td>\n",
       "      <td></td>\n",
       "    </tr>\n",
       "  </tbody>\n",
       "</table>\n",
       "<p>75 rows × 15 columns</p>\n",
       "</div>"
      ],
      "text/plain": [
       "             SUBJECT_ID  SITE_ID             primary_diagnoses_all  \\\n",
       "0                  qual  Rutgers                                     \n",
       "1               qual207  Rutgers                                     \n",
       "2              qualm200   McLean                  Bipolar disorder   \n",
       "3              qualm204   McLean               Unipolar depression   \n",
       "4              qualm208   McLean  Depression w/ psychotic features   \n",
       "..                  ...      ...                               ...   \n",
       "70  qualr_kaley testing                                              \n",
       "71       qualralex_test                                              \n",
       "72       qualrkaleytest                        Unipolar depression   \n",
       "73         qualrtestlex  Rutgers               Unipolar depression   \n",
       "74              qualryk  Rutgers  Depression w/ psychotic features   \n",
       "\n",
       "                                  other_diagnoses_all  \\\n",
       "0                                                       \n",
       "1                                                       \n",
       "2   PTSD/Adjustment Disorder/Other specified traum...   \n",
       "3                  Generalized anxiety disorder (GAD)   \n",
       "4   PTSD/Adjustment Disorder/Other specified traum...   \n",
       "..                                                ...   \n",
       "70                                                      \n",
       "71                                                      \n",
       "72                                       Binge Eating   \n",
       "73                                     Panic Disorder   \n",
       "74  PTSD/Adjustment Disorder/Other specified traum...   \n",
       "\n",
       "   clinical_administered_data clinical_self_report_data mri_self_report_data  \\\n",
       "0                                                                              \n",
       "1                                                                              \n",
       "2         2025-06-25 21:56:34       2025-06-25 21:56:28  2025-07-09 19:47:35   \n",
       "3         2025-06-25 17:49:18       2025-06-25 17:49:13  2025-07-08 19:09:58   \n",
       "4         2025-07-22 17:10:03       2025-07-22 17:09:31  2025-07-30 19:09:15   \n",
       "..                        ...                       ...                  ...   \n",
       "70        2025-09-19 15:36:30                                                  \n",
       "71        2025-09-19 16:23:03                                                  \n",
       "72        2025-09-23 18:36:26                                                  \n",
       "73        2025-09-23 18:41:21                                                  \n",
       "74        2025-06-13 14:46:14                                                  \n",
       "\n",
       "   supplemental_self_report_data     sex age                  ethnic  \\\n",
       "0            2025-08-06 14:14:28                                       \n",
       "1            2025-07-14 17:46:18                                       \n",
       "2                                 Female  25  Not Hispanic or Latino   \n",
       "3                                 Female  27  Not Hispanic or Latino   \n",
       "4                                 Female  61  Not Hispanic or Latino   \n",
       "..                           ...     ...  ..                     ...   \n",
       "70                                                                     \n",
       "71                                                                     \n",
       "72                                                                     \n",
       "73                                                                     \n",
       "74                                                                     \n",
       "\n",
       "                       racial                       place_birth    name_meds  \\\n",
       "0                                                                              \n",
       "1                                                                              \n",
       "2                       White  Spartanburg, South Carolina, USA     lamictal   \n",
       "3   Black or African American             Lawton, Oklahoma, USA   Sertraline   \n",
       "4                       White                    meriden ct usa  lamotrigine   \n",
       "..                        ...                               ...          ...   \n",
       "70                                                                             \n",
       "71                                                                             \n",
       "72                                                                             \n",
       "73                                                                             \n",
       "74                                                                             \n",
       "\n",
       "        purpose_meds  \n",
       "0                     \n",
       "1                     \n",
       "2   mood stabilizing  \n",
       "3         Depression  \n",
       "4   mood stabiliozer  \n",
       "..               ...  \n",
       "70                    \n",
       "71                    \n",
       "72                    \n",
       "73                    \n",
       "74                    \n",
       "\n",
       "[75 rows x 15 columns]"
      ]
     },
     "metadata": {},
     "output_type": "display_data"
    }
   ],
   "source": [
    "\n",
    "\n",
    "# num phone data: in accel_df, gps_df, power_df\n",
    "# num mri data: in surveys['mri_self_report_data']\n",
    "# num clin interview session: in surveys['clinical_administered_data']\n",
    "# goal: in rmr\n",
    "\n",
    " #RMR visual\n",
    "\n",
    "# Find primary and other diagnoses, reshape them into list\n",
    "session1 = surveys['clinical_administered_data']\n",
    "prim_diagnoses_cols = ['SUBJECT_ID']+[col for col in session1.columns if 'primary_diagnoses' in col]\n",
    "session1['primary_diagnoses_all'] = session1[prim_diagnoses_cols].bfill(axis=1).iloc[:, 1:2]\n",
    "other_diagnoses_cols = ['SUBJECT_ID']+[col for col in session1.columns if 'other' in col]\n",
    "session1['other_diagnoses_all'] = session1[other_diagnoses_cols].bfill(axis=1).iloc[:, 1:2]\n",
    "session1['duration_mins'] = pd.to_numeric(session1['Duration (in seconds)'])/60\n",
    "session1_r = session1[session1['SITE_ID']=='Rutgers University / UBHC']\n",
    "session1_m = session1[session1['SITE_ID'] == 'McLean Hospital']\n",
    "session1_clean = session1.dropna(subset='SUBJECT_ID')\n",
    "session1sr = surveys['clinical_self_report_data']\n",
    "session1sr['SUBJECT_ID'] = session1sr['SUBJECT_ID'].str.lower()\n",
    "session1sr['SUBJECT_ID'] = session1sr['SUBJECT_ID'].str.replace('pcr', 'qualr')\n",
    "session1sr = session1sr[~session1sr['SUBJECT_ID'].str.contains('test', na=False)]\n",
    "session1sr_clean = session1sr.dropna(subset='SUBJECT_ID')\n",
    "\n",
    "session1sr_clean['duration_mins'] = pd.to_numeric(session1sr_clean['Duration (in seconds)'])/60\n",
    "session1sr_r = session1sr_clean[session1sr_clean['SITE_ID']=='Rutgers University / UBHC']\n",
    "session1sr_m = session1sr_clean[session1sr_clean['SITE_ID'] == 'McLean Hospital']\n",
    "session2 = surveys['mri_self_report_data']\n",
    "session2['SUBJECT_ID'] = session2['SUBJECT_ID'].str.lower()\n",
    "session2['SUBJECT_ID'] = session2['SUBJECT_ID'].str.replace('pcr', 'qualr')\n",
    "session2 = session2[~session2['SUBJECT_ID'].str.contains('test', na=False)]\n",
    "\n",
    "session2_clean = session2.dropna(subset='SUBJECT_ID')\n",
    "\n",
    "session2['duration_mins'] = pd.to_numeric(session2_clean['Duration (in seconds)'])/60\n",
    "session2_r = session2_clean[session2_clean['SITE_ID']=='Rutgers University / UBHC']\n",
    "session2_m = session2_clean[session2_clean['SITE_ID'] == 'McLean Hospital']\n",
    "total_real = len(session1_r) + len(session1_m)\n",
    "\n",
    "# Pie charts\n",
    "primary_pie = px.pie(session1, names='primary_diagnoses_all', title='Subject Primary Diagnoses')\n",
    "other_pie = px.pie(session1, names='other_diagnoses_all', title='Subject Other Diagnoses')\n",
    "\n",
    "\n",
    "survey_cols = [\n",
    "    \"SUBJECT_ID\",'SITE_ID','primary_diagnoses_all','other_diagnoses_all',\n",
    "    'clinical_administered_data','clinical_self_report_data', \n",
    "    'mri_self_report_data','supplemental_self_report_data',\n",
    "\t\"sex\",\"age\", \"ethnic\",\"racial\",\"place_birth\", 'name_meds','purpose_meds']\n",
    "\n",
    "session0_merge = session1[[col for col in survey_cols if col in session1.columns]]\n",
    "session1_merge = session1sr[[col for col in survey_cols if col in session1sr.columns]]\n",
    "session2_merge = session2_clean[[col for col in survey_cols if col in session2_clean.columns]]\n",
    "\n",
    "session3 = surveys['supplemental_self_report_data']\n",
    "session3_clean = session3.dropna(subset='SUBJECT_ID')\n",
    "session3_merge = session3_clean[[col for col in survey_cols if col in session3_clean.columns]]\n",
    "session3_merge['SUBJECT_ID'] = session3_merge['SUBJECT_ID'].str.lower()\n",
    "\n",
    "\n",
    "\n",
    "# align on SUBJECT_ID first\n",
    "s1 = session1_merge.set_index(\"SUBJECT_ID\")\n",
    "s2 = session2_merge.set_index(\"SUBJECT_ID\")\n",
    "s3 = session3_merge.set_index(\"SUBJECT_ID\")\n",
    "s0 = session0_merge.set_index(\"SUBJECT_ID\")\n",
    "demographic_df = s1.combine_first(s2).combine_first(s3).combine_first(s0).reset_index()\n",
    "\n",
    "\n",
    "demographic_df = (\n",
    "    demographic_df.groupby(\"SUBJECT_ID\")\n",
    "    .agg(lambda x: \", \".join(x.dropna().astype(str).unique()))\n",
    "    .reset_index()\n",
    ")\n",
    "display(demographic_df[survey_cols])\n"
   ]
  },
  {
   "cell_type": "code",
   "execution_count": 40,
   "metadata": {},
   "outputs": [
    {
     "ename": "KeyError",
     "evalue": "\"None of [Index(['panss_p01', 'panss_p02', 'panss_p03', 'panss_p04', 'panss_p05',\\n       'panss_p06', 'panss_p07', 'panss_n01', 'panss_n02', 'panss_n03',\\n       'panss_n04', 'panss_n05', 'panss_n06', 'panss_n07', 'panss_g01',\\n       'panss_g02', 'panss_g03', 'panss_g04', 'panss_g05', 'panss_g06',\\n       'panss_g07', 'bprs_01', 'bprs_02', 'bprs_03', 'bprs_04', 'bprs_05',\\n       'bprs_06', 'bprs_07', 'bprs_08', 'bprs_09', 'bprs_10', 'bprs_11',\\n       'bprs_12', 'bprs_13', 'bprs_14', 'bprs_15', 'bprs_16', 'bprs_17',\\n       'bprs_18', 'ymrs_01', 'ymrs_02', 'ymrs_03', 'ymrs_04', 'ymrs_05',\\n       'ymrs_06', 'ymrs_07', 'ymrs_08', 'ymrs_09', 'ymrs_10', 'ymrs_11',\\n       'madrs_01', 'madrs_02', 'madrs_03', 'madrs_04', 'madrs_05', 'madrs_06',\\n       'madrs_07', 'madrs_08', 'madrs_09', 'madrs_10'],\\n      dtype='object', name=0)] are in the [columns]\"",
     "output_type": "error",
     "traceback": [
      "\u001b[0;31m---------------------------------------------------------------------------\u001b[0m",
      "\u001b[0;31mKeyError\u001b[0m                                  Traceback (most recent call last)",
      "Cell \u001b[0;32mIn[40], line 11\u001b[0m\n\u001b[1;32m      8\u001b[0m madrs_total_cols \u001b[38;5;241m=\u001b[39m [\u001b[38;5;124mf\u001b[39m\u001b[38;5;124m'\u001b[39m\u001b[38;5;124mmadrs_0\u001b[39m\u001b[38;5;132;01m{\u001b[39;00m\u001b[38;5;28mstr\u001b[39m(i)\u001b[38;5;132;01m}\u001b[39;00m\u001b[38;5;124m'\u001b[39m \u001b[38;5;28;01mfor\u001b[39;00m i \u001b[38;5;129;01min\u001b[39;00m \u001b[38;5;28mrange\u001b[39m(\u001b[38;5;241m1\u001b[39m,\u001b[38;5;241m10\u001b[39m)]\u001b[38;5;241m+\u001b[39m[\u001b[38;5;124m'\u001b[39m\u001b[38;5;124mmadrs_10\u001b[39m\u001b[38;5;124m'\u001b[39m]\n\u001b[1;32m     10\u001b[0m all_cols \u001b[38;5;241m=\u001b[39m panss_p_total_cols\u001b[38;5;241m+\u001b[39mpanss_n_total_cols\u001b[38;5;241m+\u001b[39mpanss_g_total_cols\u001b[38;5;241m+\u001b[39mbprs_total_cols\u001b[38;5;241m+\u001b[39mymrs_total_cols\u001b[38;5;241m+\u001b[39mmadrs_total_cols\n\u001b[0;32m---> 11\u001b[0m cad_recoded[all_cols] \u001b[38;5;241m=\u001b[39m cad_recoded[all_cols]\u001b[38;5;241m.\u001b[39mastype(\u001b[38;5;28mfloat\u001b[39m)\n\u001b[1;32m     14\u001b[0m cad_recoded[\u001b[38;5;124m'\u001b[39m\u001b[38;5;124mpanss_p_total\u001b[39m\u001b[38;5;124m'\u001b[39m] \u001b[38;5;241m=\u001b[39m cad_recoded[panss_p_total_cols]\u001b[38;5;241m.\u001b[39msum(axis\u001b[38;5;241m=\u001b[39m\u001b[38;5;241m1\u001b[39m)\n\u001b[1;32m     15\u001b[0m cad_recoded[\u001b[38;5;124m'\u001b[39m\u001b[38;5;124mpanss_n_total\u001b[39m\u001b[38;5;124m'\u001b[39m] \u001b[38;5;241m=\u001b[39m cad_recoded[panss_n_total_cols]\u001b[38;5;241m.\u001b[39msum(axis\u001b[38;5;241m=\u001b[39m\u001b[38;5;241m1\u001b[39m)\n",
      "File \u001b[0;32m/opt/anaconda3/lib/python3.12/site-packages/pandas/core/frame.py:4108\u001b[0m, in \u001b[0;36mDataFrame.__getitem__\u001b[0;34m(self, key)\u001b[0m\n\u001b[1;32m   4106\u001b[0m     \u001b[38;5;28;01mif\u001b[39;00m is_iterator(key):\n\u001b[1;32m   4107\u001b[0m         key \u001b[38;5;241m=\u001b[39m \u001b[38;5;28mlist\u001b[39m(key)\n\u001b[0;32m-> 4108\u001b[0m     indexer \u001b[38;5;241m=\u001b[39m \u001b[38;5;28mself\u001b[39m\u001b[38;5;241m.\u001b[39mcolumns\u001b[38;5;241m.\u001b[39m_get_indexer_strict(key, \u001b[38;5;124m\"\u001b[39m\u001b[38;5;124mcolumns\u001b[39m\u001b[38;5;124m\"\u001b[39m)[\u001b[38;5;241m1\u001b[39m]\n\u001b[1;32m   4110\u001b[0m \u001b[38;5;66;03m# take() does not accept boolean indexers\u001b[39;00m\n\u001b[1;32m   4111\u001b[0m \u001b[38;5;28;01mif\u001b[39;00m \u001b[38;5;28mgetattr\u001b[39m(indexer, \u001b[38;5;124m\"\u001b[39m\u001b[38;5;124mdtype\u001b[39m\u001b[38;5;124m\"\u001b[39m, \u001b[38;5;28;01mNone\u001b[39;00m) \u001b[38;5;241m==\u001b[39m \u001b[38;5;28mbool\u001b[39m:\n",
      "File \u001b[0;32m/opt/anaconda3/lib/python3.12/site-packages/pandas/core/indexes/base.py:6200\u001b[0m, in \u001b[0;36mIndex._get_indexer_strict\u001b[0;34m(self, key, axis_name)\u001b[0m\n\u001b[1;32m   6197\u001b[0m \u001b[38;5;28;01melse\u001b[39;00m:\n\u001b[1;32m   6198\u001b[0m     keyarr, indexer, new_indexer \u001b[38;5;241m=\u001b[39m \u001b[38;5;28mself\u001b[39m\u001b[38;5;241m.\u001b[39m_reindex_non_unique(keyarr)\n\u001b[0;32m-> 6200\u001b[0m \u001b[38;5;28mself\u001b[39m\u001b[38;5;241m.\u001b[39m_raise_if_missing(keyarr, indexer, axis_name)\n\u001b[1;32m   6202\u001b[0m keyarr \u001b[38;5;241m=\u001b[39m \u001b[38;5;28mself\u001b[39m\u001b[38;5;241m.\u001b[39mtake(indexer)\n\u001b[1;32m   6203\u001b[0m \u001b[38;5;28;01mif\u001b[39;00m \u001b[38;5;28misinstance\u001b[39m(key, Index):\n\u001b[1;32m   6204\u001b[0m     \u001b[38;5;66;03m# GH 42790 - Preserve name from an Index\u001b[39;00m\n",
      "File \u001b[0;32m/opt/anaconda3/lib/python3.12/site-packages/pandas/core/indexes/base.py:6249\u001b[0m, in \u001b[0;36mIndex._raise_if_missing\u001b[0;34m(self, key, indexer, axis_name)\u001b[0m\n\u001b[1;32m   6247\u001b[0m \u001b[38;5;28;01mif\u001b[39;00m nmissing:\n\u001b[1;32m   6248\u001b[0m     \u001b[38;5;28;01mif\u001b[39;00m nmissing \u001b[38;5;241m==\u001b[39m \u001b[38;5;28mlen\u001b[39m(indexer):\n\u001b[0;32m-> 6249\u001b[0m         \u001b[38;5;28;01mraise\u001b[39;00m \u001b[38;5;167;01mKeyError\u001b[39;00m(\u001b[38;5;124mf\u001b[39m\u001b[38;5;124m\"\u001b[39m\u001b[38;5;124mNone of [\u001b[39m\u001b[38;5;132;01m{\u001b[39;00mkey\u001b[38;5;132;01m}\u001b[39;00m\u001b[38;5;124m] are in the [\u001b[39m\u001b[38;5;132;01m{\u001b[39;00maxis_name\u001b[38;5;132;01m}\u001b[39;00m\u001b[38;5;124m]\u001b[39m\u001b[38;5;124m\"\u001b[39m)\n\u001b[1;32m   6251\u001b[0m     not_found \u001b[38;5;241m=\u001b[39m \u001b[38;5;28mlist\u001b[39m(ensure_index(key)[missing_mask\u001b[38;5;241m.\u001b[39mnonzero()[\u001b[38;5;241m0\u001b[39m]]\u001b[38;5;241m.\u001b[39munique())\n\u001b[1;32m   6252\u001b[0m     \u001b[38;5;28;01mraise\u001b[39;00m \u001b[38;5;167;01mKeyError\u001b[39;00m(\u001b[38;5;124mf\u001b[39m\u001b[38;5;124m\"\u001b[39m\u001b[38;5;132;01m{\u001b[39;00mnot_found\u001b[38;5;132;01m}\u001b[39;00m\u001b[38;5;124m not in index\u001b[39m\u001b[38;5;124m\"\u001b[39m)\n",
      "\u001b[0;31mKeyError\u001b[0m: \"None of [Index(['panss_p01', 'panss_p02', 'panss_p03', 'panss_p04', 'panss_p05',\\n       'panss_p06', 'panss_p07', 'panss_n01', 'panss_n02', 'panss_n03',\\n       'panss_n04', 'panss_n05', 'panss_n06', 'panss_n07', 'panss_g01',\\n       'panss_g02', 'panss_g03', 'panss_g04', 'panss_g05', 'panss_g06',\\n       'panss_g07', 'bprs_01', 'bprs_02', 'bprs_03', 'bprs_04', 'bprs_05',\\n       'bprs_06', 'bprs_07', 'bprs_08', 'bprs_09', 'bprs_10', 'bprs_11',\\n       'bprs_12', 'bprs_13', 'bprs_14', 'bprs_15', 'bprs_16', 'bprs_17',\\n       'bprs_18', 'ymrs_01', 'ymrs_02', 'ymrs_03', 'ymrs_04', 'ymrs_05',\\n       'ymrs_06', 'ymrs_07', 'ymrs_08', 'ymrs_09', 'ymrs_10', 'ymrs_11',\\n       'madrs_01', 'madrs_02', 'madrs_03', 'madrs_04', 'madrs_05', 'madrs_06',\\n       'madrs_07', 'madrs_08', 'madrs_09', 'madrs_10'],\\n      dtype='object', name=0)] are in the [columns]\""
     ]
    }
   ],
   "source": [
    "\n",
    "\n",
    "\n",
    "# Surveys\n",
    "cad_recoded = recoded_surveys['clinical_administered_data']\n",
    "panss_p_total_cols = [f'panss_p0{str(i)}' for i in range(1,8)]\n",
    "panss_n_total_cols = [f'panss_n0{str(i)}' for i in range(1,8)]\n",
    "panss_g_total_cols = [f'panss_g0{str(i)}' for i in range(1,8)]\n",
    "bprs_total_cols = [f'bprs_0{str(i)}' for i in range(1,10)]+[f'bprs_1{i}' for i in range(0,9)]\n",
    "ymrs_total_cols = [f'ymrs_0{str(i)}' for i in range(1,10)]+[f'ymrs_1{i}' for i in range(0,2)]\n",
    "madrs_total_cols = [f'madrs_0{str(i)}' for i in range(1,10)]+['madrs_10']\n",
    "\n",
    "all_cols = panss_p_total_cols+panss_n_total_cols+panss_g_total_cols+bprs_total_cols+ymrs_total_cols+madrs_total_cols\n",
    "cad_recoded[all_cols] = cad_recoded[all_cols].astype(float)\n",
    "\n",
    "\n",
    "cad_recoded['panss_p_total'] = cad_recoded[panss_p_total_cols].sum(axis=1)\n",
    "cad_recoded['panss_n_total'] = cad_recoded[panss_n_total_cols].sum(axis=1)\n",
    "cad_recoded['panss_g_total'] = cad_recoded[panss_g_total_cols].sum(axis=1)\n",
    "cad_recoded['bprs_total'] = cad_recoded[bprs_total_cols].sum(axis=1)\n",
    "cad_recoded['ymrs_total'] = cad_recoded[ymrs_total_cols].sum(axis=1)\n",
    "cad_recoded['madrs_total'] = cad_recoded[madrs_total_cols].sum(axis=1)\n",
    "\n",
    "display(cad_recoded)\n",
    "\n"
   ]
  },
  {
   "cell_type": "code",
   "execution_count": 54,
   "metadata": {},
   "outputs": [
    {
     "name": "stderr",
     "output_type": "stream",
     "text": [
      "/var/folders/fl/b24z_8kn4490x_bl0njv6fg00000gn/T/ipykernel_65320/88481360.py:4: FutureWarning:\n",
      "\n",
      "Downcasting object dtype arrays on .fillna, .ffill, .bfill is deprecated and will change in a future version. Call result.infer_objects(copy=False) instead. To opt-in to the future behavior, set `pd.set_option('future.no_silent_downcasting', True)`\n",
      "\n",
      "/var/folders/fl/b24z_8kn4490x_bl0njv6fg00000gn/T/ipykernel_65320/88481360.py:4: SettingWithCopyWarning:\n",
      "\n",
      "\n",
      "A value is trying to be set on a copy of a slice from a DataFrame.\n",
      "Try using .loc[row_indexer,col_indexer] = value instead\n",
      "\n",
      "See the caveats in the documentation: https://pandas.pydata.org/pandas-docs/stable/user_guide/indexing.html#returning-a-view-versus-a-copy\n",
      "\n",
      "/var/folders/fl/b24z_8kn4490x_bl0njv6fg00000gn/T/ipykernel_65320/88481360.py:6: FutureWarning:\n",
      "\n",
      "Downcasting object dtype arrays on .fillna, .ffill, .bfill is deprecated and will change in a future version. Call result.infer_objects(copy=False) instead. To opt-in to the future behavior, set `pd.set_option('future.no_silent_downcasting', True)`\n",
      "\n",
      "/var/folders/fl/b24z_8kn4490x_bl0njv6fg00000gn/T/ipykernel_65320/88481360.py:6: SettingWithCopyWarning:\n",
      "\n",
      "\n",
      "A value is trying to be set on a copy of a slice from a DataFrame.\n",
      "Try using .loc[row_indexer,col_indexer] = value instead\n",
      "\n",
      "See the caveats in the documentation: https://pandas.pydata.org/pandas-docs/stable/user_guide/indexing.html#returning-a-view-versus-a-copy\n",
      "\n"
     ]
    },
    {
     "data": {
      "text/html": [
       "<div>\n",
       "<style scoped>\n",
       "    .dataframe tbody tr th:only-of-type {\n",
       "        vertical-align: middle;\n",
       "    }\n",
       "\n",
       "    .dataframe tbody tr th {\n",
       "        vertical-align: top;\n",
       "    }\n",
       "\n",
       "    .dataframe thead th {\n",
       "        text-align: right;\n",
       "    }\n",
       "</style>\n",
       "<table border=\"1\" class=\"dataframe\">\n",
       "  <thead>\n",
       "    <tr style=\"text-align: right;\">\n",
       "      <th></th>\n",
       "      <th>Unnamed: 0</th>\n",
       "      <th>StartDate</th>\n",
       "      <th>EndDate</th>\n",
       "      <th>Status</th>\n",
       "      <th>IPAddress</th>\n",
       "      <th>Progress</th>\n",
       "      <th>Duration (in seconds)</th>\n",
       "      <th>Finished</th>\n",
       "      <th>RecordedDate</th>\n",
       "      <th>ResponseId</th>\n",
       "      <th>...</th>\n",
       "      <th>panss_n_total</th>\n",
       "      <th>panss_g_total</th>\n",
       "      <th>madrs_total</th>\n",
       "      <th>Create New Field or Choose From Dropdown...</th>\n",
       "      <th>ymrs_total</th>\n",
       "      <th>clinical_administered_data</th>\n",
       "      <th>primary_diagnoses</th>\n",
       "      <th>other_diagnoses</th>\n",
       "      <th>primary_diagnoses_all</th>\n",
       "      <th>other_diagnoses_all</th>\n",
       "    </tr>\n",
       "  </thead>\n",
       "  <tbody>\n",
       "    <tr>\n",
       "      <th>2</th>\n",
       "      <td>4</td>\n",
       "      <td>2025-06-10 19:17:09</td>\n",
       "      <td>2025-06-10 20:12:09</td>\n",
       "      <td>IP Address</td>\n",
       "      <td>130.219.10.91</td>\n",
       "      <td>100</td>\n",
       "      <td>3299</td>\n",
       "      <td>True</td>\n",
       "      <td>2025-06-10 20:12:09</td>\n",
       "      <td>R_7QYoz5e9Fcg32we</td>\n",
       "      <td>...</td>\n",
       "      <td>33+3+33+2+2+33+33</td>\n",
       "      <td>2+2+2+33+33+2+33+33+33</td>\n",
       "      <td>1+1+0+2+1+1+1+1+10</td>\n",
       "      <td>NaN</td>\n",
       "      <td>1+2+0+1+0+0+0+0+0+0+0</td>\n",
       "      <td>1</td>\n",
       "      <td>Bipolar w/ psychotic features</td>\n",
       "      <td>Substance use disorder: Alcohol</td>\n",
       "      <td>Bipolar w/ psychotic features</td>\n",
       "      <td>Substance use disorder: Alcohol</td>\n",
       "    </tr>\n",
       "    <tr>\n",
       "      <th>3</th>\n",
       "      <td>5</td>\n",
       "      <td>2025-06-13 20:47:43</td>\n",
       "      <td>2025-06-13 21:20:12</td>\n",
       "      <td>IP Address</td>\n",
       "      <td>130.219.10.91</td>\n",
       "      <td>100</td>\n",
       "      <td>1948</td>\n",
       "      <td>True</td>\n",
       "      <td>2025-06-13 21:20:12</td>\n",
       "      <td>R_1CkgUUiDZ5ytQ4V</td>\n",
       "      <td>...</td>\n",
       "      <td>33+1+33+33+33+33+33</td>\n",
       "      <td>33+2+33+33+33+33+33+33+33</td>\n",
       "      <td>0+0+2+0+0+0+0+0+00</td>\n",
       "      <td>NaN</td>\n",
       "      <td>1+0+0+0+0+0+0+0+0+0+0</td>\n",
       "      <td>1</td>\n",
       "      <td>Healthy control</td>\n",
       "      <td>NaN</td>\n",
       "      <td>Healthy control</td>\n",
       "      <td>NaN</td>\n",
       "    </tr>\n",
       "    <tr>\n",
       "      <th>4</th>\n",
       "      <td>6</td>\n",
       "      <td>2025-06-13 21:36:47</td>\n",
       "      <td>2025-06-13 22:42:28</td>\n",
       "      <td>IP Address</td>\n",
       "      <td>67.81.84.35</td>\n",
       "      <td>100</td>\n",
       "      <td>3941</td>\n",
       "      <td>True</td>\n",
       "      <td>2025-06-13 22:42:28</td>\n",
       "      <td>R_5PaQpCvbznucVQK</td>\n",
       "      <td>...</td>\n",
       "      <td>33+1+33+33+2+33+33</td>\n",
       "      <td>2+3+33+33+33+33+33+33+33</td>\n",
       "      <td>0+0+0+0+0+0+0+0+00</td>\n",
       "      <td>NaN</td>\n",
       "      <td>0+0+0+0+0+0+0+0+0+0+0</td>\n",
       "      <td>1</td>\n",
       "      <td>Bipolar disorder</td>\n",
       "      <td>PTSD/Adjustment Disorder/Other specified traum...</td>\n",
       "      <td>Bipolar disorder</td>\n",
       "      <td>PTSD/Adjustment Disorder/Other specified traum...</td>\n",
       "    </tr>\n",
       "    <tr>\n",
       "      <th>5</th>\n",
       "      <td>7</td>\n",
       "      <td>2025-06-16 13:14:17</td>\n",
       "      <td>2025-06-16 14:04:54</td>\n",
       "      <td>IP Address</td>\n",
       "      <td>130.219.10.90</td>\n",
       "      <td>100</td>\n",
       "      <td>3036</td>\n",
       "      <td>True</td>\n",
       "      <td>2025-06-16 14:04:54</td>\n",
       "      <td>R_5bVR3zNWWwXNe3G</td>\n",
       "      <td>...</td>\n",
       "      <td>33+1+33+33+1+33+33</td>\n",
       "      <td>33+33+33+1+33+33+33+33+33</td>\n",
       "      <td>0+0+2+4+0+0+0+0+00</td>\n",
       "      <td>NaN</td>\n",
       "      <td>0+0+2+2+0+0+0+0+0+1+0</td>\n",
       "      <td>1</td>\n",
       "      <td>Schizoaffective Disorder</td>\n",
       "      <td>NaN</td>\n",
       "      <td>Schizoaffective Disorder</td>\n",
       "      <td>NaN</td>\n",
       "    </tr>\n",
       "    <tr>\n",
       "      <th>6</th>\n",
       "      <td>8</td>\n",
       "      <td>2025-06-16 16:38:03</td>\n",
       "      <td>2025-06-16 17:04:07</td>\n",
       "      <td>IP Address</td>\n",
       "      <td>130.219.10.91</td>\n",
       "      <td>100</td>\n",
       "      <td>1563</td>\n",
       "      <td>True</td>\n",
       "      <td>2025-06-16 17:04:08</td>\n",
       "      <td>R_6PAfu6k5XPnd6eJ</td>\n",
       "      <td>...</td>\n",
       "      <td>3+3+33+5+1+33+33</td>\n",
       "      <td>2+3+3+3+33+5+3+33+1</td>\n",
       "      <td>4+6+3+0+5+3+4+4+42</td>\n",
       "      <td>NaN</td>\n",
       "      <td>0+0+0+0+2+0+0+0+0+0+0</td>\n",
       "      <td>1</td>\n",
       "      <td>Unipolar depression</td>\n",
       "      <td>PTSD/Adjustment Disorder/Other specified traum...</td>\n",
       "      <td>Unipolar depression</td>\n",
       "      <td>PTSD/Adjustment Disorder/Other specified traum...</td>\n",
       "    </tr>\n",
       "    <tr>\n",
       "      <th>...</th>\n",
       "      <td>...</td>\n",
       "      <td>...</td>\n",
       "      <td>...</td>\n",
       "      <td>...</td>\n",
       "      <td>...</td>\n",
       "      <td>...</td>\n",
       "      <td>...</td>\n",
       "      <td>...</td>\n",
       "      <td>...</td>\n",
       "      <td>...</td>\n",
       "      <td>...</td>\n",
       "      <td>...</td>\n",
       "      <td>...</td>\n",
       "      <td>...</td>\n",
       "      <td>...</td>\n",
       "      <td>...</td>\n",
       "      <td>...</td>\n",
       "      <td>...</td>\n",
       "      <td>...</td>\n",
       "      <td>...</td>\n",
       "      <td>...</td>\n",
       "    </tr>\n",
       "    <tr>\n",
       "      <th>79</th>\n",
       "      <td>70</td>\n",
       "      <td>2025-09-23 18:33:31</td>\n",
       "      <td>2025-09-23 18:33:41</td>\n",
       "      <td>IP Address</td>\n",
       "      <td>69.119.141.180</td>\n",
       "      <td>29</td>\n",
       "      <td>10</td>\n",
       "      <td>False</td>\n",
       "      <td>2025-09-30 18:33:44</td>\n",
       "      <td>R_7EntfZaxND6yVcz</td>\n",
       "      <td>...</td>\n",
       "      <td>NaN</td>\n",
       "      <td>NaN</td>\n",
       "      <td>NaN</td>\n",
       "      <td>NaN</td>\n",
       "      <td>NaN</td>\n",
       "      <td>1</td>\n",
       "      <td>NaN</td>\n",
       "      <td>NaN</td>\n",
       "      <td>NaN</td>\n",
       "      <td>NaN</td>\n",
       "    </tr>\n",
       "    <tr>\n",
       "      <th>80</th>\n",
       "      <td>70</td>\n",
       "      <td>2025-09-23 18:33:31</td>\n",
       "      <td>2025-09-23 18:33:41</td>\n",
       "      <td>IP Address</td>\n",
       "      <td>69.119.141.180</td>\n",
       "      <td>29</td>\n",
       "      <td>10</td>\n",
       "      <td>False</td>\n",
       "      <td>2025-09-30 18:33:44</td>\n",
       "      <td>R_7EntfZaxND6yVcz</td>\n",
       "      <td>...</td>\n",
       "      <td>NaN</td>\n",
       "      <td>NaN</td>\n",
       "      <td>NaN</td>\n",
       "      <td>NaN</td>\n",
       "      <td>NaN</td>\n",
       "      <td>1</td>\n",
       "      <td>NaN</td>\n",
       "      <td>NaN</td>\n",
       "      <td>NaN</td>\n",
       "      <td>NaN</td>\n",
       "    </tr>\n",
       "    <tr>\n",
       "      <th>81</th>\n",
       "      <td>71</td>\n",
       "      <td>2025-09-19 15:36:30</td>\n",
       "      <td>2025-09-23 18:33:58</td>\n",
       "      <td>IP Address</td>\n",
       "      <td>69.119.141.180</td>\n",
       "      <td>74</td>\n",
       "      <td>356247</td>\n",
       "      <td>False</td>\n",
       "      <td>2025-09-30 18:34:00</td>\n",
       "      <td>R_7zz1wIn5cpPtnr3</td>\n",
       "      <td>...</td>\n",
       "      <td>++++++</td>\n",
       "      <td>++++++++</td>\n",
       "      <td>++++2++++4</td>\n",
       "      <td>NaN</td>\n",
       "      <td>NaN</td>\n",
       "      <td>1</td>\n",
       "      <td>NaN</td>\n",
       "      <td>NaN</td>\n",
       "      <td>NaN</td>\n",
       "      <td>NaN</td>\n",
       "    </tr>\n",
       "    <tr>\n",
       "      <th>82</th>\n",
       "      <td>72</td>\n",
       "      <td>2025-09-23 18:36:26</td>\n",
       "      <td>2025-09-23 18:36:50</td>\n",
       "      <td>IP Address</td>\n",
       "      <td>69.119.141.180</td>\n",
       "      <td>50</td>\n",
       "      <td>24</td>\n",
       "      <td>False</td>\n",
       "      <td>2025-09-30 18:36:51</td>\n",
       "      <td>R_6JLcL5iHJpOSIqz</td>\n",
       "      <td>...</td>\n",
       "      <td>NaN</td>\n",
       "      <td>NaN</td>\n",
       "      <td>NaN</td>\n",
       "      <td>NaN</td>\n",
       "      <td>NaN</td>\n",
       "      <td>1</td>\n",
       "      <td>Unipolar depression</td>\n",
       "      <td>Binge Eating</td>\n",
       "      <td>Unipolar depression</td>\n",
       "      <td>Binge Eating</td>\n",
       "    </tr>\n",
       "    <tr>\n",
       "      <th>83</th>\n",
       "      <td>73</td>\n",
       "      <td>2025-09-23 18:41:21</td>\n",
       "      <td>2025-09-23 18:41:45</td>\n",
       "      <td>IP Address</td>\n",
       "      <td>128.6.36.20</td>\n",
       "      <td>3</td>\n",
       "      <td>24</td>\n",
       "      <td>False</td>\n",
       "      <td>2025-09-30 18:41:47</td>\n",
       "      <td>R_3IQlzVLxbV678ex</td>\n",
       "      <td>...</td>\n",
       "      <td>NaN</td>\n",
       "      <td>NaN</td>\n",
       "      <td>NaN</td>\n",
       "      <td>NaN</td>\n",
       "      <td>NaN</td>\n",
       "      <td>1</td>\n",
       "      <td>Unipolar depression</td>\n",
       "      <td>Panic Disorder</td>\n",
       "      <td>Unipolar depression</td>\n",
       "      <td>Panic Disorder</td>\n",
       "    </tr>\n",
       "  </tbody>\n",
       "</table>\n",
       "<p>82 rows × 217 columns</p>\n",
       "</div>"
      ],
      "text/plain": [
       "    Unnamed: 0            StartDate              EndDate      Status  \\\n",
       "2            4  2025-06-10 19:17:09  2025-06-10 20:12:09  IP Address   \n",
       "3            5  2025-06-13 20:47:43  2025-06-13 21:20:12  IP Address   \n",
       "4            6  2025-06-13 21:36:47  2025-06-13 22:42:28  IP Address   \n",
       "5            7  2025-06-16 13:14:17  2025-06-16 14:04:54  IP Address   \n",
       "6            8  2025-06-16 16:38:03  2025-06-16 17:04:07  IP Address   \n",
       "..         ...                  ...                  ...         ...   \n",
       "79          70  2025-09-23 18:33:31  2025-09-23 18:33:41  IP Address   \n",
       "80          70  2025-09-23 18:33:31  2025-09-23 18:33:41  IP Address   \n",
       "81          71  2025-09-19 15:36:30  2025-09-23 18:33:58  IP Address   \n",
       "82          72  2025-09-23 18:36:26  2025-09-23 18:36:50  IP Address   \n",
       "83          73  2025-09-23 18:41:21  2025-09-23 18:41:45  IP Address   \n",
       "\n",
       "         IPAddress Progress Duration (in seconds) Finished  \\\n",
       "2    130.219.10.91      100                  3299     True   \n",
       "3    130.219.10.91      100                  1948     True   \n",
       "4      67.81.84.35      100                  3941     True   \n",
       "5    130.219.10.90      100                  3036     True   \n",
       "6    130.219.10.91      100                  1563     True   \n",
       "..             ...      ...                   ...      ...   \n",
       "79  69.119.141.180       29                    10    False   \n",
       "80  69.119.141.180       29                    10    False   \n",
       "81  69.119.141.180       74                356247    False   \n",
       "82  69.119.141.180       50                    24    False   \n",
       "83     128.6.36.20        3                    24    False   \n",
       "\n",
       "           RecordedDate         ResponseId  ...        panss_n_total  \\\n",
       "2   2025-06-10 20:12:09  R_7QYoz5e9Fcg32we  ...    33+3+33+2+2+33+33   \n",
       "3   2025-06-13 21:20:12  R_1CkgUUiDZ5ytQ4V  ...  33+1+33+33+33+33+33   \n",
       "4   2025-06-13 22:42:28  R_5PaQpCvbznucVQK  ...   33+1+33+33+2+33+33   \n",
       "5   2025-06-16 14:04:54  R_5bVR3zNWWwXNe3G  ...   33+1+33+33+1+33+33   \n",
       "6   2025-06-16 17:04:08  R_6PAfu6k5XPnd6eJ  ...     3+3+33+5+1+33+33   \n",
       "..                  ...                ...  ...                  ...   \n",
       "79  2025-09-30 18:33:44  R_7EntfZaxND6yVcz  ...                  NaN   \n",
       "80  2025-09-30 18:33:44  R_7EntfZaxND6yVcz  ...                  NaN   \n",
       "81  2025-09-30 18:34:00  R_7zz1wIn5cpPtnr3  ...               ++++++   \n",
       "82  2025-09-30 18:36:51  R_6JLcL5iHJpOSIqz  ...                  NaN   \n",
       "83  2025-09-30 18:41:47  R_3IQlzVLxbV678ex  ...                  NaN   \n",
       "\n",
       "                panss_g_total         madrs_total  \\\n",
       "2      2+2+2+33+33+2+33+33+33  1+1+0+2+1+1+1+1+10   \n",
       "3   33+2+33+33+33+33+33+33+33  0+0+2+0+0+0+0+0+00   \n",
       "4    2+3+33+33+33+33+33+33+33  0+0+0+0+0+0+0+0+00   \n",
       "5   33+33+33+1+33+33+33+33+33  0+0+2+4+0+0+0+0+00   \n",
       "6         2+3+3+3+33+5+3+33+1  4+6+3+0+5+3+4+4+42   \n",
       "..                        ...                 ...   \n",
       "79                        NaN                 NaN   \n",
       "80                        NaN                 NaN   \n",
       "81                   ++++++++          ++++2++++4   \n",
       "82                        NaN                 NaN   \n",
       "83                        NaN                 NaN   \n",
       "\n",
       "   Create New Field or Choose From Dropdown...             ymrs_total  \\\n",
       "2                                          NaN  1+2+0+1+0+0+0+0+0+0+0   \n",
       "3                                          NaN  1+0+0+0+0+0+0+0+0+0+0   \n",
       "4                                          NaN  0+0+0+0+0+0+0+0+0+0+0   \n",
       "5                                          NaN  0+0+2+2+0+0+0+0+0+1+0   \n",
       "6                                          NaN  0+0+0+0+2+0+0+0+0+0+0   \n",
       "..                                         ...                    ...   \n",
       "79                                         NaN                    NaN   \n",
       "80                                         NaN                    NaN   \n",
       "81                                         NaN                    NaN   \n",
       "82                                         NaN                    NaN   \n",
       "83                                         NaN                    NaN   \n",
       "\n",
       "   clinical_administered_data              primary_diagnoses  \\\n",
       "2                           1  Bipolar w/ psychotic features   \n",
       "3                           1                Healthy control   \n",
       "4                           1               Bipolar disorder   \n",
       "5                           1       Schizoaffective Disorder   \n",
       "6                           1            Unipolar depression   \n",
       "..                        ...                            ...   \n",
       "79                          1                            NaN   \n",
       "80                          1                            NaN   \n",
       "81                          1                            NaN   \n",
       "82                          1            Unipolar depression   \n",
       "83                          1            Unipolar depression   \n",
       "\n",
       "                                      other_diagnoses  \\\n",
       "2                     Substance use disorder: Alcohol   \n",
       "3                                                 NaN   \n",
       "4   PTSD/Adjustment Disorder/Other specified traum...   \n",
       "5                                                 NaN   \n",
       "6   PTSD/Adjustment Disorder/Other specified traum...   \n",
       "..                                                ...   \n",
       "79                                                NaN   \n",
       "80                                                NaN   \n",
       "81                                                NaN   \n",
       "82                                       Binge Eating   \n",
       "83                                     Panic Disorder   \n",
       "\n",
       "            primary_diagnoses_all  \\\n",
       "2   Bipolar w/ psychotic features   \n",
       "3                 Healthy control   \n",
       "4                Bipolar disorder   \n",
       "5        Schizoaffective Disorder   \n",
       "6             Unipolar depression   \n",
       "..                            ...   \n",
       "79                            NaN   \n",
       "80                            NaN   \n",
       "81                            NaN   \n",
       "82            Unipolar depression   \n",
       "83            Unipolar depression   \n",
       "\n",
       "                                  other_diagnoses_all  \n",
       "2                     Substance use disorder: Alcohol  \n",
       "3                                                 NaN  \n",
       "4   PTSD/Adjustment Disorder/Other specified traum...  \n",
       "5                                                 NaN  \n",
       "6   PTSD/Adjustment Disorder/Other specified traum...  \n",
       "..                                                ...  \n",
       "79                                                NaN  \n",
       "80                                                NaN  \n",
       "81                                                NaN  \n",
       "82                                       Binge Eating  \n",
       "83                                     Panic Disorder  \n",
       "\n",
       "[82 rows x 217 columns]"
      ]
     },
     "metadata": {},
     "output_type": "display_data"
    }
   ],
   "source": [
    "\n",
    "\n",
    "# RMR visual\n",
    "session1 = surveys['clinical_administered_data'][2:]\n",
    "prim_diagnoses_cols = ['SUBJECT_ID']+[col for col in session1 if 'primary_diagnoses' in col]\n",
    "session1['primary_diagnoses_all'] = session1[prim_diagnoses_cols].bfill(axis=1).iloc[:, 1:2]\n",
    "other_diagnoses_cols = ['SUBJECT_ID']+[col for col in session1 if 'other_diagnoses' in col]\n",
    "session1['other_diagnoses_all'] = session1[other_diagnoses_cols].bfill(axis=1).iloc[:, 1:2]\n",
    "display(session1)"
   ]
  },
  {
   "cell_type": "code",
   "execution_count": 53,
   "metadata": {},
   "outputs": [
    {
     "name": "stdout",
     "output_type": "stream",
     "text": [
      "Index(['SUBJECT_ID', 'SITE_ID', 'age', 'clinical_self_report_data', 'ethnic',\n",
      "       'house', 'live_with_whom', 'marital', 'mri_self_report_data',\n",
      "       'native_lang', 'other_diagnoses', 'place_birth', 'primary_diagnoses',\n",
      "       'racial', 'sex', 'supplemental_self_report_data', 'weight'],\n",
      "      dtype='object')\n"
     ]
    }
   ],
   "source": [
    "print(demographic_df.columns)"
   ]
  },
  {
   "cell_type": "code",
   "execution_count": null,
   "metadata": {},
   "outputs": [
    {
     "data": {
      "application/vnd.plotly.v1+json": {
       "config": {
        "plotlyServerURL": "https://plot.ly"
       },
       "data": [
        {
         "domain": {
          "x": [
           0,
           1
          ],
          "y": [
           0,
           1
          ]
         },
         "hovertemplate": "primary_diagnoses_1=%{label}<extra></extra>",
         "labels": [
          "Healthy control",
          "Healthy control",
          "Bipolar w/ psychotic features",
          "Healthy control",
          "Bipolar disorder",
          "Schizoaffective Disorder",
          "Unipolar depression",
          "Healthy control",
          "Depression w/ psychotic features",
          "Bipolar disorder",
          "Unipolar depression",
          "Bipolar disorder",
          "Unipolar depression",
          "Healthy control",
          "Bipolar disorder",
          "Unipolar depression",
          "Bipolar disorder",
          "Unipolar depression",
          "Healthy control",
          "Healthy control",
          "Unipolar depression",
          "Unipolar depression",
          "Schizophrenia",
          "Healthy control",
          "Healthy control",
          "Unipolar depression",
          "Depression w/ psychotic features",
          "Bipolar disorder",
          "Unipolar depression",
          "Bipolar disorder",
          "Bipolar w/ psychotic features",
          "Healthy control",
          "Schizoaffective Disorder",
          "Unipolar depression",
          "Schizoaffective Disorder",
          "Unipolar depression",
          "Schizophrenia",
          "Unipolar depression",
          "Healthy control",
          "Depression w/ psychotic features",
          "Bipolar w/ psychotic features",
          "Unipolar depression",
          "Schizoaffective Disorder",
          "Healthy control",
          "Healthy control",
          "Unipolar depression",
          "Bipolar disorder",
          "Unipolar depression",
          "Unipolar depression",
          "Healthy control",
          "Healthy control",
          "Bipolar disorder",
          "Healthy control",
          "Unipolar depression",
          "Healthy control"
         ],
         "legendgroup": "",
         "name": "",
         "showlegend": true,
         "type": "pie"
        }
       ],
       "layout": {
        "legend": {
         "tracegroupgap": 0
        },
        "margin": {
         "t": 60
        },
        "template": {
         "data": {
          "bar": [
           {
            "error_x": {
             "color": "#2a3f5f"
            },
            "error_y": {
             "color": "#2a3f5f"
            },
            "marker": {
             "line": {
              "color": "#E5ECF6",
              "width": 0.5
             },
             "pattern": {
              "fillmode": "overlay",
              "size": 10,
              "solidity": 0.2
             }
            },
            "type": "bar"
           }
          ],
          "barpolar": [
           {
            "marker": {
             "line": {
              "color": "#E5ECF6",
              "width": 0.5
             },
             "pattern": {
              "fillmode": "overlay",
              "size": 10,
              "solidity": 0.2
             }
            },
            "type": "barpolar"
           }
          ],
          "carpet": [
           {
            "aaxis": {
             "endlinecolor": "#2a3f5f",
             "gridcolor": "white",
             "linecolor": "white",
             "minorgridcolor": "white",
             "startlinecolor": "#2a3f5f"
            },
            "baxis": {
             "endlinecolor": "#2a3f5f",
             "gridcolor": "white",
             "linecolor": "white",
             "minorgridcolor": "white",
             "startlinecolor": "#2a3f5f"
            },
            "type": "carpet"
           }
          ],
          "choropleth": [
           {
            "colorbar": {
             "outlinewidth": 0,
             "ticks": ""
            },
            "type": "choropleth"
           }
          ],
          "contour": [
           {
            "colorbar": {
             "outlinewidth": 0,
             "ticks": ""
            },
            "colorscale": [
             [
              0,
              "#0d0887"
             ],
             [
              0.1111111111111111,
              "#46039f"
             ],
             [
              0.2222222222222222,
              "#7201a8"
             ],
             [
              0.3333333333333333,
              "#9c179e"
             ],
             [
              0.4444444444444444,
              "#bd3786"
             ],
             [
              0.5555555555555556,
              "#d8576b"
             ],
             [
              0.6666666666666666,
              "#ed7953"
             ],
             [
              0.7777777777777778,
              "#fb9f3a"
             ],
             [
              0.8888888888888888,
              "#fdca26"
             ],
             [
              1,
              "#f0f921"
             ]
            ],
            "type": "contour"
           }
          ],
          "contourcarpet": [
           {
            "colorbar": {
             "outlinewidth": 0,
             "ticks": ""
            },
            "type": "contourcarpet"
           }
          ],
          "heatmap": [
           {
            "colorbar": {
             "outlinewidth": 0,
             "ticks": ""
            },
            "colorscale": [
             [
              0,
              "#0d0887"
             ],
             [
              0.1111111111111111,
              "#46039f"
             ],
             [
              0.2222222222222222,
              "#7201a8"
             ],
             [
              0.3333333333333333,
              "#9c179e"
             ],
             [
              0.4444444444444444,
              "#bd3786"
             ],
             [
              0.5555555555555556,
              "#d8576b"
             ],
             [
              0.6666666666666666,
              "#ed7953"
             ],
             [
              0.7777777777777778,
              "#fb9f3a"
             ],
             [
              0.8888888888888888,
              "#fdca26"
             ],
             [
              1,
              "#f0f921"
             ]
            ],
            "type": "heatmap"
           }
          ],
          "histogram": [
           {
            "marker": {
             "pattern": {
              "fillmode": "overlay",
              "size": 10,
              "solidity": 0.2
             }
            },
            "type": "histogram"
           }
          ],
          "histogram2d": [
           {
            "colorbar": {
             "outlinewidth": 0,
             "ticks": ""
            },
            "colorscale": [
             [
              0,
              "#0d0887"
             ],
             [
              0.1111111111111111,
              "#46039f"
             ],
             [
              0.2222222222222222,
              "#7201a8"
             ],
             [
              0.3333333333333333,
              "#9c179e"
             ],
             [
              0.4444444444444444,
              "#bd3786"
             ],
             [
              0.5555555555555556,
              "#d8576b"
             ],
             [
              0.6666666666666666,
              "#ed7953"
             ],
             [
              0.7777777777777778,
              "#fb9f3a"
             ],
             [
              0.8888888888888888,
              "#fdca26"
             ],
             [
              1,
              "#f0f921"
             ]
            ],
            "type": "histogram2d"
           }
          ],
          "histogram2dcontour": [
           {
            "colorbar": {
             "outlinewidth": 0,
             "ticks": ""
            },
            "colorscale": [
             [
              0,
              "#0d0887"
             ],
             [
              0.1111111111111111,
              "#46039f"
             ],
             [
              0.2222222222222222,
              "#7201a8"
             ],
             [
              0.3333333333333333,
              "#9c179e"
             ],
             [
              0.4444444444444444,
              "#bd3786"
             ],
             [
              0.5555555555555556,
              "#d8576b"
             ],
             [
              0.6666666666666666,
              "#ed7953"
             ],
             [
              0.7777777777777778,
              "#fb9f3a"
             ],
             [
              0.8888888888888888,
              "#fdca26"
             ],
             [
              1,
              "#f0f921"
             ]
            ],
            "type": "histogram2dcontour"
           }
          ],
          "mesh3d": [
           {
            "colorbar": {
             "outlinewidth": 0,
             "ticks": ""
            },
            "type": "mesh3d"
           }
          ],
          "parcoords": [
           {
            "line": {
             "colorbar": {
              "outlinewidth": 0,
              "ticks": ""
             }
            },
            "type": "parcoords"
           }
          ],
          "pie": [
           {
            "automargin": true,
            "type": "pie"
           }
          ],
          "scatter": [
           {
            "fillpattern": {
             "fillmode": "overlay",
             "size": 10,
             "solidity": 0.2
            },
            "type": "scatter"
           }
          ],
          "scatter3d": [
           {
            "line": {
             "colorbar": {
              "outlinewidth": 0,
              "ticks": ""
             }
            },
            "marker": {
             "colorbar": {
              "outlinewidth": 0,
              "ticks": ""
             }
            },
            "type": "scatter3d"
           }
          ],
          "scattercarpet": [
           {
            "marker": {
             "colorbar": {
              "outlinewidth": 0,
              "ticks": ""
             }
            },
            "type": "scattercarpet"
           }
          ],
          "scattergeo": [
           {
            "marker": {
             "colorbar": {
              "outlinewidth": 0,
              "ticks": ""
             }
            },
            "type": "scattergeo"
           }
          ],
          "scattergl": [
           {
            "marker": {
             "colorbar": {
              "outlinewidth": 0,
              "ticks": ""
             }
            },
            "type": "scattergl"
           }
          ],
          "scattermap": [
           {
            "marker": {
             "colorbar": {
              "outlinewidth": 0,
              "ticks": ""
             }
            },
            "type": "scattermap"
           }
          ],
          "scattermapbox": [
           {
            "marker": {
             "colorbar": {
              "outlinewidth": 0,
              "ticks": ""
             }
            },
            "type": "scattermapbox"
           }
          ],
          "scatterpolar": [
           {
            "marker": {
             "colorbar": {
              "outlinewidth": 0,
              "ticks": ""
             }
            },
            "type": "scatterpolar"
           }
          ],
          "scatterpolargl": [
           {
            "marker": {
             "colorbar": {
              "outlinewidth": 0,
              "ticks": ""
             }
            },
            "type": "scatterpolargl"
           }
          ],
          "scatterternary": [
           {
            "marker": {
             "colorbar": {
              "outlinewidth": 0,
              "ticks": ""
             }
            },
            "type": "scatterternary"
           }
          ],
          "surface": [
           {
            "colorbar": {
             "outlinewidth": 0,
             "ticks": ""
            },
            "colorscale": [
             [
              0,
              "#0d0887"
             ],
             [
              0.1111111111111111,
              "#46039f"
             ],
             [
              0.2222222222222222,
              "#7201a8"
             ],
             [
              0.3333333333333333,
              "#9c179e"
             ],
             [
              0.4444444444444444,
              "#bd3786"
             ],
             [
              0.5555555555555556,
              "#d8576b"
             ],
             [
              0.6666666666666666,
              "#ed7953"
             ],
             [
              0.7777777777777778,
              "#fb9f3a"
             ],
             [
              0.8888888888888888,
              "#fdca26"
             ],
             [
              1,
              "#f0f921"
             ]
            ],
            "type": "surface"
           }
          ],
          "table": [
           {
            "cells": {
             "fill": {
              "color": "#EBF0F8"
             },
             "line": {
              "color": "white"
             }
            },
            "header": {
             "fill": {
              "color": "#C8D4E3"
             },
             "line": {
              "color": "white"
             }
            },
            "type": "table"
           }
          ]
         },
         "layout": {
          "annotationdefaults": {
           "arrowcolor": "#2a3f5f",
           "arrowhead": 0,
           "arrowwidth": 1
          },
          "autotypenumbers": "strict",
          "coloraxis": {
           "colorbar": {
            "outlinewidth": 0,
            "ticks": ""
           }
          },
          "colorscale": {
           "diverging": [
            [
             0,
             "#8e0152"
            ],
            [
             0.1,
             "#c51b7d"
            ],
            [
             0.2,
             "#de77ae"
            ],
            [
             0.3,
             "#f1b6da"
            ],
            [
             0.4,
             "#fde0ef"
            ],
            [
             0.5,
             "#f7f7f7"
            ],
            [
             0.6,
             "#e6f5d0"
            ],
            [
             0.7,
             "#b8e186"
            ],
            [
             0.8,
             "#7fbc41"
            ],
            [
             0.9,
             "#4d9221"
            ],
            [
             1,
             "#276419"
            ]
           ],
           "sequential": [
            [
             0,
             "#0d0887"
            ],
            [
             0.1111111111111111,
             "#46039f"
            ],
            [
             0.2222222222222222,
             "#7201a8"
            ],
            [
             0.3333333333333333,
             "#9c179e"
            ],
            [
             0.4444444444444444,
             "#bd3786"
            ],
            [
             0.5555555555555556,
             "#d8576b"
            ],
            [
             0.6666666666666666,
             "#ed7953"
            ],
            [
             0.7777777777777778,
             "#fb9f3a"
            ],
            [
             0.8888888888888888,
             "#fdca26"
            ],
            [
             1,
             "#f0f921"
            ]
           ],
           "sequentialminus": [
            [
             0,
             "#0d0887"
            ],
            [
             0.1111111111111111,
             "#46039f"
            ],
            [
             0.2222222222222222,
             "#7201a8"
            ],
            [
             0.3333333333333333,
             "#9c179e"
            ],
            [
             0.4444444444444444,
             "#bd3786"
            ],
            [
             0.5555555555555556,
             "#d8576b"
            ],
            [
             0.6666666666666666,
             "#ed7953"
            ],
            [
             0.7777777777777778,
             "#fb9f3a"
            ],
            [
             0.8888888888888888,
             "#fdca26"
            ],
            [
             1,
             "#f0f921"
            ]
           ]
          },
          "colorway": [
           "#636efa",
           "#EF553B",
           "#00cc96",
           "#ab63fa",
           "#FFA15A",
           "#19d3f3",
           "#FF6692",
           "#B6E880",
           "#FF97FF",
           "#FECB52"
          ],
          "font": {
           "color": "#2a3f5f"
          },
          "geo": {
           "bgcolor": "white",
           "lakecolor": "white",
           "landcolor": "#E5ECF6",
           "showlakes": true,
           "showland": true,
           "subunitcolor": "white"
          },
          "hoverlabel": {
           "align": "left"
          },
          "hovermode": "closest",
          "mapbox": {
           "style": "light"
          },
          "paper_bgcolor": "white",
          "plot_bgcolor": "#E5ECF6",
          "polar": {
           "angularaxis": {
            "gridcolor": "white",
            "linecolor": "white",
            "ticks": ""
           },
           "bgcolor": "#E5ECF6",
           "radialaxis": {
            "gridcolor": "white",
            "linecolor": "white",
            "ticks": ""
           }
          },
          "scene": {
           "xaxis": {
            "backgroundcolor": "#E5ECF6",
            "gridcolor": "white",
            "gridwidth": 2,
            "linecolor": "white",
            "showbackground": true,
            "ticks": "",
            "zerolinecolor": "white"
           },
           "yaxis": {
            "backgroundcolor": "#E5ECF6",
            "gridcolor": "white",
            "gridwidth": 2,
            "linecolor": "white",
            "showbackground": true,
            "ticks": "",
            "zerolinecolor": "white"
           },
           "zaxis": {
            "backgroundcolor": "#E5ECF6",
            "gridcolor": "white",
            "gridwidth": 2,
            "linecolor": "white",
            "showbackground": true,
            "ticks": "",
            "zerolinecolor": "white"
           }
          },
          "shapedefaults": {
           "line": {
            "color": "#2a3f5f"
           }
          },
          "ternary": {
           "aaxis": {
            "gridcolor": "white",
            "linecolor": "white",
            "ticks": ""
           },
           "baxis": {
            "gridcolor": "white",
            "linecolor": "white",
            "ticks": ""
           },
           "bgcolor": "#E5ECF6",
           "caxis": {
            "gridcolor": "white",
            "linecolor": "white",
            "ticks": ""
           }
          },
          "title": {
           "x": 0.05
          },
          "xaxis": {
           "automargin": true,
           "gridcolor": "white",
           "linecolor": "white",
           "ticks": "",
           "title": {
            "standoff": 15
           },
           "zerolinecolor": "white",
           "zerolinewidth": 2
          },
          "yaxis": {
           "automargin": true,
           "gridcolor": "white",
           "linecolor": "white",
           "ticks": "",
           "title": {
            "standoff": 15
           },
           "zerolinecolor": "white",
           "zerolinewidth": 2
          }
         }
        }
       }
      }
     },
     "metadata": {},
     "output_type": "display_data"
    }
   ],
   "source": [
    "cad = surveys['clinical_administered_data']\n",
    "prim_diagnoses_cols = ['SUBJECT_ID']+[col for col in cad if 'primary_diagnoses' in col]\n",
    "primary = cad[prim_diagnoses_cols].bfill(axis=1).iloc[:, 0:2]\n",
    "primary = primary.loc[~primary['SUBJECT_ID'].str.contains(\"{\")]\n",
    "primary = primary.loc[~primary['SUBJECT_ID'].str.contains(\"ie\")]\n",
    "primary = primary.dropna()\n",
    "fig = px.pie(primary, names='primary_diagnoses_1')\n",
    "fig.show()\n",
    "\n",
    "\n"
   ]
  },
  {
   "cell_type": "code",
   "execution_count": 26,
   "metadata": {},
   "outputs": [
    {
     "data": {
      "application/vnd.plotly.v1+json": {
       "config": {
        "plotlyServerURL": "https://plot.ly"
       },
       "data": [
        {
         "domain": {
          "x": [
           0,
           1
          ],
          "y": [
           0,
           1
          ]
         },
         "hovertemplate": "other_diagnoses_1=%{label}<extra></extra>",
         "labels": [
          "Substance use disorder: Alcohol",
          "PTSD/Adjustment Disorder/Other specified traumatic disorder",
          "PTSD/Adjustment Disorder/Other specified traumatic disorder",
          "PTSD/Adjustment Disorder/Other specified traumatic disorder",
          "Substance use disorder: Marijuana",
          "Generalized anxiety disorder (GAD)",
          "PTSD/Adjustment Disorder/Other specified traumatic disorder",
          "Substance use disorder: Heroin",
          "Generalized anxiety disorder (GAD)",
          "Generalized anxiety disorder (GAD)",
          "Generalized anxiety disorder (GAD)",
          "PTSD/Adjustment Disorder/Other specified traumatic disorder",
          "Social anxiety disorder (SAD)",
          "PTSD/Adjustment Disorder/Other specified traumatic disorder",
          "Generalized anxiety disorder (GAD)",
          "PTSD/Adjustment Disorder/Other specified traumatic disorder",
          "PTSD/Adjustment Disorder/Other specified traumatic disorder",
          "Substance use disorder: Marijuana",
          "PTSD/Adjustment Disorder/Other specified traumatic disorder",
          "Generalized anxiety disorder (GAD)",
          "Social anxiety disorder (SAD)",
          "Generalized anxiety disorder (GAD)",
          "Bulimia",
          "Generalized anxiety disorder (GAD)",
          "Generalized anxiety disorder (GAD)",
          "Generalized anxiety disorder (GAD)",
          "PTSD/Adjustment Disorder/Other specified traumatic disorder",
          "Generalized anxiety disorder (GAD)",
          "Substance use disorder: Marijuana",
          "Substance use disorder: Marijuana",
          "Generalized anxiety disorder (GAD)",
          "Generalized anxiety disorder (GAD)"
         ],
         "legendgroup": "",
         "name": "",
         "showlegend": true,
         "type": "pie"
        }
       ],
       "layout": {
        "legend": {
         "tracegroupgap": 0
        },
        "margin": {
         "t": 60
        },
        "template": {
         "data": {
          "bar": [
           {
            "error_x": {
             "color": "#2a3f5f"
            },
            "error_y": {
             "color": "#2a3f5f"
            },
            "marker": {
             "line": {
              "color": "#E5ECF6",
              "width": 0.5
             },
             "pattern": {
              "fillmode": "overlay",
              "size": 10,
              "solidity": 0.2
             }
            },
            "type": "bar"
           }
          ],
          "barpolar": [
           {
            "marker": {
             "line": {
              "color": "#E5ECF6",
              "width": 0.5
             },
             "pattern": {
              "fillmode": "overlay",
              "size": 10,
              "solidity": 0.2
             }
            },
            "type": "barpolar"
           }
          ],
          "carpet": [
           {
            "aaxis": {
             "endlinecolor": "#2a3f5f",
             "gridcolor": "white",
             "linecolor": "white",
             "minorgridcolor": "white",
             "startlinecolor": "#2a3f5f"
            },
            "baxis": {
             "endlinecolor": "#2a3f5f",
             "gridcolor": "white",
             "linecolor": "white",
             "minorgridcolor": "white",
             "startlinecolor": "#2a3f5f"
            },
            "type": "carpet"
           }
          ],
          "choropleth": [
           {
            "colorbar": {
             "outlinewidth": 0,
             "ticks": ""
            },
            "type": "choropleth"
           }
          ],
          "contour": [
           {
            "colorbar": {
             "outlinewidth": 0,
             "ticks": ""
            },
            "colorscale": [
             [
              0,
              "#0d0887"
             ],
             [
              0.1111111111111111,
              "#46039f"
             ],
             [
              0.2222222222222222,
              "#7201a8"
             ],
             [
              0.3333333333333333,
              "#9c179e"
             ],
             [
              0.4444444444444444,
              "#bd3786"
             ],
             [
              0.5555555555555556,
              "#d8576b"
             ],
             [
              0.6666666666666666,
              "#ed7953"
             ],
             [
              0.7777777777777778,
              "#fb9f3a"
             ],
             [
              0.8888888888888888,
              "#fdca26"
             ],
             [
              1,
              "#f0f921"
             ]
            ],
            "type": "contour"
           }
          ],
          "contourcarpet": [
           {
            "colorbar": {
             "outlinewidth": 0,
             "ticks": ""
            },
            "type": "contourcarpet"
           }
          ],
          "heatmap": [
           {
            "colorbar": {
             "outlinewidth": 0,
             "ticks": ""
            },
            "colorscale": [
             [
              0,
              "#0d0887"
             ],
             [
              0.1111111111111111,
              "#46039f"
             ],
             [
              0.2222222222222222,
              "#7201a8"
             ],
             [
              0.3333333333333333,
              "#9c179e"
             ],
             [
              0.4444444444444444,
              "#bd3786"
             ],
             [
              0.5555555555555556,
              "#d8576b"
             ],
             [
              0.6666666666666666,
              "#ed7953"
             ],
             [
              0.7777777777777778,
              "#fb9f3a"
             ],
             [
              0.8888888888888888,
              "#fdca26"
             ],
             [
              1,
              "#f0f921"
             ]
            ],
            "type": "heatmap"
           }
          ],
          "histogram": [
           {
            "marker": {
             "pattern": {
              "fillmode": "overlay",
              "size": 10,
              "solidity": 0.2
             }
            },
            "type": "histogram"
           }
          ],
          "histogram2d": [
           {
            "colorbar": {
             "outlinewidth": 0,
             "ticks": ""
            },
            "colorscale": [
             [
              0,
              "#0d0887"
             ],
             [
              0.1111111111111111,
              "#46039f"
             ],
             [
              0.2222222222222222,
              "#7201a8"
             ],
             [
              0.3333333333333333,
              "#9c179e"
             ],
             [
              0.4444444444444444,
              "#bd3786"
             ],
             [
              0.5555555555555556,
              "#d8576b"
             ],
             [
              0.6666666666666666,
              "#ed7953"
             ],
             [
              0.7777777777777778,
              "#fb9f3a"
             ],
             [
              0.8888888888888888,
              "#fdca26"
             ],
             [
              1,
              "#f0f921"
             ]
            ],
            "type": "histogram2d"
           }
          ],
          "histogram2dcontour": [
           {
            "colorbar": {
             "outlinewidth": 0,
             "ticks": ""
            },
            "colorscale": [
             [
              0,
              "#0d0887"
             ],
             [
              0.1111111111111111,
              "#46039f"
             ],
             [
              0.2222222222222222,
              "#7201a8"
             ],
             [
              0.3333333333333333,
              "#9c179e"
             ],
             [
              0.4444444444444444,
              "#bd3786"
             ],
             [
              0.5555555555555556,
              "#d8576b"
             ],
             [
              0.6666666666666666,
              "#ed7953"
             ],
             [
              0.7777777777777778,
              "#fb9f3a"
             ],
             [
              0.8888888888888888,
              "#fdca26"
             ],
             [
              1,
              "#f0f921"
             ]
            ],
            "type": "histogram2dcontour"
           }
          ],
          "mesh3d": [
           {
            "colorbar": {
             "outlinewidth": 0,
             "ticks": ""
            },
            "type": "mesh3d"
           }
          ],
          "parcoords": [
           {
            "line": {
             "colorbar": {
              "outlinewidth": 0,
              "ticks": ""
             }
            },
            "type": "parcoords"
           }
          ],
          "pie": [
           {
            "automargin": true,
            "type": "pie"
           }
          ],
          "scatter": [
           {
            "fillpattern": {
             "fillmode": "overlay",
             "size": 10,
             "solidity": 0.2
            },
            "type": "scatter"
           }
          ],
          "scatter3d": [
           {
            "line": {
             "colorbar": {
              "outlinewidth": 0,
              "ticks": ""
             }
            },
            "marker": {
             "colorbar": {
              "outlinewidth": 0,
              "ticks": ""
             }
            },
            "type": "scatter3d"
           }
          ],
          "scattercarpet": [
           {
            "marker": {
             "colorbar": {
              "outlinewidth": 0,
              "ticks": ""
             }
            },
            "type": "scattercarpet"
           }
          ],
          "scattergeo": [
           {
            "marker": {
             "colorbar": {
              "outlinewidth": 0,
              "ticks": ""
             }
            },
            "type": "scattergeo"
           }
          ],
          "scattergl": [
           {
            "marker": {
             "colorbar": {
              "outlinewidth": 0,
              "ticks": ""
             }
            },
            "type": "scattergl"
           }
          ],
          "scattermap": [
           {
            "marker": {
             "colorbar": {
              "outlinewidth": 0,
              "ticks": ""
             }
            },
            "type": "scattermap"
           }
          ],
          "scattermapbox": [
           {
            "marker": {
             "colorbar": {
              "outlinewidth": 0,
              "ticks": ""
             }
            },
            "type": "scattermapbox"
           }
          ],
          "scatterpolar": [
           {
            "marker": {
             "colorbar": {
              "outlinewidth": 0,
              "ticks": ""
             }
            },
            "type": "scatterpolar"
           }
          ],
          "scatterpolargl": [
           {
            "marker": {
             "colorbar": {
              "outlinewidth": 0,
              "ticks": ""
             }
            },
            "type": "scatterpolargl"
           }
          ],
          "scatterternary": [
           {
            "marker": {
             "colorbar": {
              "outlinewidth": 0,
              "ticks": ""
             }
            },
            "type": "scatterternary"
           }
          ],
          "surface": [
           {
            "colorbar": {
             "outlinewidth": 0,
             "ticks": ""
            },
            "colorscale": [
             [
              0,
              "#0d0887"
             ],
             [
              0.1111111111111111,
              "#46039f"
             ],
             [
              0.2222222222222222,
              "#7201a8"
             ],
             [
              0.3333333333333333,
              "#9c179e"
             ],
             [
              0.4444444444444444,
              "#bd3786"
             ],
             [
              0.5555555555555556,
              "#d8576b"
             ],
             [
              0.6666666666666666,
              "#ed7953"
             ],
             [
              0.7777777777777778,
              "#fb9f3a"
             ],
             [
              0.8888888888888888,
              "#fdca26"
             ],
             [
              1,
              "#f0f921"
             ]
            ],
            "type": "surface"
           }
          ],
          "table": [
           {
            "cells": {
             "fill": {
              "color": "#EBF0F8"
             },
             "line": {
              "color": "white"
             }
            },
            "header": {
             "fill": {
              "color": "#C8D4E3"
             },
             "line": {
              "color": "white"
             }
            },
            "type": "table"
           }
          ]
         },
         "layout": {
          "annotationdefaults": {
           "arrowcolor": "#2a3f5f",
           "arrowhead": 0,
           "arrowwidth": 1
          },
          "autotypenumbers": "strict",
          "coloraxis": {
           "colorbar": {
            "outlinewidth": 0,
            "ticks": ""
           }
          },
          "colorscale": {
           "diverging": [
            [
             0,
             "#8e0152"
            ],
            [
             0.1,
             "#c51b7d"
            ],
            [
             0.2,
             "#de77ae"
            ],
            [
             0.3,
             "#f1b6da"
            ],
            [
             0.4,
             "#fde0ef"
            ],
            [
             0.5,
             "#f7f7f7"
            ],
            [
             0.6,
             "#e6f5d0"
            ],
            [
             0.7,
             "#b8e186"
            ],
            [
             0.8,
             "#7fbc41"
            ],
            [
             0.9,
             "#4d9221"
            ],
            [
             1,
             "#276419"
            ]
           ],
           "sequential": [
            [
             0,
             "#0d0887"
            ],
            [
             0.1111111111111111,
             "#46039f"
            ],
            [
             0.2222222222222222,
             "#7201a8"
            ],
            [
             0.3333333333333333,
             "#9c179e"
            ],
            [
             0.4444444444444444,
             "#bd3786"
            ],
            [
             0.5555555555555556,
             "#d8576b"
            ],
            [
             0.6666666666666666,
             "#ed7953"
            ],
            [
             0.7777777777777778,
             "#fb9f3a"
            ],
            [
             0.8888888888888888,
             "#fdca26"
            ],
            [
             1,
             "#f0f921"
            ]
           ],
           "sequentialminus": [
            [
             0,
             "#0d0887"
            ],
            [
             0.1111111111111111,
             "#46039f"
            ],
            [
             0.2222222222222222,
             "#7201a8"
            ],
            [
             0.3333333333333333,
             "#9c179e"
            ],
            [
             0.4444444444444444,
             "#bd3786"
            ],
            [
             0.5555555555555556,
             "#d8576b"
            ],
            [
             0.6666666666666666,
             "#ed7953"
            ],
            [
             0.7777777777777778,
             "#fb9f3a"
            ],
            [
             0.8888888888888888,
             "#fdca26"
            ],
            [
             1,
             "#f0f921"
            ]
           ]
          },
          "colorway": [
           "#636efa",
           "#EF553B",
           "#00cc96",
           "#ab63fa",
           "#FFA15A",
           "#19d3f3",
           "#FF6692",
           "#B6E880",
           "#FF97FF",
           "#FECB52"
          ],
          "font": {
           "color": "#2a3f5f"
          },
          "geo": {
           "bgcolor": "white",
           "lakecolor": "white",
           "landcolor": "#E5ECF6",
           "showlakes": true,
           "showland": true,
           "subunitcolor": "white"
          },
          "hoverlabel": {
           "align": "left"
          },
          "hovermode": "closest",
          "mapbox": {
           "style": "light"
          },
          "paper_bgcolor": "white",
          "plot_bgcolor": "#E5ECF6",
          "polar": {
           "angularaxis": {
            "gridcolor": "white",
            "linecolor": "white",
            "ticks": ""
           },
           "bgcolor": "#E5ECF6",
           "radialaxis": {
            "gridcolor": "white",
            "linecolor": "white",
            "ticks": ""
           }
          },
          "scene": {
           "xaxis": {
            "backgroundcolor": "#E5ECF6",
            "gridcolor": "white",
            "gridwidth": 2,
            "linecolor": "white",
            "showbackground": true,
            "ticks": "",
            "zerolinecolor": "white"
           },
           "yaxis": {
            "backgroundcolor": "#E5ECF6",
            "gridcolor": "white",
            "gridwidth": 2,
            "linecolor": "white",
            "showbackground": true,
            "ticks": "",
            "zerolinecolor": "white"
           },
           "zaxis": {
            "backgroundcolor": "#E5ECF6",
            "gridcolor": "white",
            "gridwidth": 2,
            "linecolor": "white",
            "showbackground": true,
            "ticks": "",
            "zerolinecolor": "white"
           }
          },
          "shapedefaults": {
           "line": {
            "color": "#2a3f5f"
           }
          },
          "ternary": {
           "aaxis": {
            "gridcolor": "white",
            "linecolor": "white",
            "ticks": ""
           },
           "baxis": {
            "gridcolor": "white",
            "linecolor": "white",
            "ticks": ""
           },
           "bgcolor": "#E5ECF6",
           "caxis": {
            "gridcolor": "white",
            "linecolor": "white",
            "ticks": ""
           }
          },
          "title": {
           "x": 0.05
          },
          "xaxis": {
           "automargin": true,
           "gridcolor": "white",
           "linecolor": "white",
           "ticks": "",
           "title": {
            "standoff": 15
           },
           "zerolinecolor": "white",
           "zerolinewidth": 2
          },
          "yaxis": {
           "automargin": true,
           "gridcolor": "white",
           "linecolor": "white",
           "ticks": "",
           "title": {
            "standoff": 15
           },
           "zerolinecolor": "white",
           "zerolinewidth": 2
          }
         }
        }
       }
      }
     },
     "metadata": {},
     "output_type": "display_data"
    }
   ],
   "source": [
    "other_diagnoses_cols = ['SUBJECT_ID']+[col for col in cad if 'other_diagnoses' in col]\n",
    "other = cad[other_diagnoses_cols].bfill(axis=1).iloc[:, 0:2]\n",
    "other = other.loc[~other['SUBJECT_ID'].str.contains(\"{\")]\n",
    "other = other.loc[~other['SUBJECT_ID'].str.contains(\"ie\")]\n",
    "other = other.dropna()\n",
    "fig = px.pie(other, names='other_diagnoses_1')\n",
    "fig.show()\n"
   ]
  },
  {
   "cell_type": "code",
   "execution_count": 78,
   "metadata": {},
   "outputs": [
    {
     "name": "stdout",
     "output_type": "stream",
     "text": [
      "159 days, 17:08:46.912505\n",
      "23 11.5\n"
     ]
    },
    {
     "data": {
      "text/html": [
       "<div>\n",
       "<style scoped>\n",
       "    .dataframe tbody tr th:only-of-type {\n",
       "        vertical-align: middle;\n",
       "    }\n",
       "\n",
       "    .dataframe tbody tr th {\n",
       "        vertical-align: top;\n",
       "    }\n",
       "\n",
       "    .dataframe thead th {\n",
       "        text-align: right;\n",
       "    }\n",
       "</style>\n",
       "<table border=\"1\" class=\"dataframe\">\n",
       "  <thead>\n",
       "    <tr style=\"text-align: right;\">\n",
       "      <th></th>\n",
       "      <th>index</th>\n",
       "      <th>Quarter</th>\n",
       "      <th>Participants per site</th>\n",
       "      <th>Rate</th>\n",
       "      <th>Rutgers Goal</th>\n",
       "      <th>McLean Goal</th>\n",
       "      <th>Total Goal</th>\n",
       "      <th>Rutgers Consented</th>\n",
       "      <th>Rutgers Clinical Interview</th>\n",
       "      <th>Rutgers Scan</th>\n",
       "      <th>McLean Consented</th>\n",
       "      <th>McLean Clinical Interview</th>\n",
       "      <th>McLean Scan</th>\n",
       "      <th>Total Real</th>\n",
       "    </tr>\n",
       "  </thead>\n",
       "  <tbody>\n",
       "    <tr>\n",
       "      <th>0</th>\n",
       "      <td>0</td>\n",
       "      <td>2025-04-01</td>\n",
       "      <td>13</td>\n",
       "      <td>13/month</td>\n",
       "      <td>13</td>\n",
       "      <td>13</td>\n",
       "      <td>26</td>\n",
       "      <td>9.0</td>\n",
       "      <td>0.0</td>\n",
       "      <td>0.0</td>\n",
       "      <td>0.0</td>\n",
       "      <td>0.0</td>\n",
       "      <td>0.0</td>\n",
       "      <td>0.0</td>\n",
       "    </tr>\n",
       "    <tr>\n",
       "      <th>1</th>\n",
       "      <td>1</td>\n",
       "      <td>2025-08-01</td>\n",
       "      <td>14</td>\n",
       "      <td>3.5/month</td>\n",
       "      <td>27</td>\n",
       "      <td>27</td>\n",
       "      <td>54</td>\n",
       "      <td>27.0</td>\n",
       "      <td>27.0</td>\n",
       "      <td>11.0</td>\n",
       "      <td>25.0</td>\n",
       "      <td>4.0</td>\n",
       "      <td>0.0</td>\n",
       "      <td>52.0</td>\n",
       "    </tr>\n",
       "    <tr>\n",
       "      <th>2</th>\n",
       "      <td>2</td>\n",
       "      <td>2025-09-07</td>\n",
       "      <td>NaN</td>\n",
       "      <td>NaN</td>\n",
       "      <td>11.5</td>\n",
       "      <td>11.5</td>\n",
       "      <td>23</td>\n",
       "      <td>49</td>\n",
       "      <td>49</td>\n",
       "      <td>22</td>\n",
       "      <td>9</td>\n",
       "      <td>9</td>\n",
       "      <td>7</td>\n",
       "      <td>58</td>\n",
       "    </tr>\n",
       "    <tr>\n",
       "      <th>3</th>\n",
       "      <td>3</td>\n",
       "      <td>2025-12-01</td>\n",
       "      <td>13</td>\n",
       "      <td>3.25/month</td>\n",
       "      <td>40</td>\n",
       "      <td>40</td>\n",
       "      <td>80</td>\n",
       "      <td>NaN</td>\n",
       "      <td>NaN</td>\n",
       "      <td>NaN</td>\n",
       "      <td>NaN</td>\n",
       "      <td>NaN</td>\n",
       "      <td>NaN</td>\n",
       "      <td>NaN</td>\n",
       "    </tr>\n",
       "    <tr>\n",
       "      <th>4</th>\n",
       "      <td>4</td>\n",
       "      <td>2026-04-01</td>\n",
       "      <td>14</td>\n",
       "      <td>3.5/month</td>\n",
       "      <td>54</td>\n",
       "      <td>54</td>\n",
       "      <td>108</td>\n",
       "      <td>NaN</td>\n",
       "      <td>NaN</td>\n",
       "      <td>NaN</td>\n",
       "      <td>NaN</td>\n",
       "      <td>NaN</td>\n",
       "      <td>NaN</td>\n",
       "      <td>NaN</td>\n",
       "    </tr>\n",
       "    <tr>\n",
       "      <th>5</th>\n",
       "      <td>5</td>\n",
       "      <td>2026-08-01</td>\n",
       "      <td>13</td>\n",
       "      <td>3.25/month</td>\n",
       "      <td>67</td>\n",
       "      <td>67</td>\n",
       "      <td>134</td>\n",
       "      <td>NaN</td>\n",
       "      <td>NaN</td>\n",
       "      <td>NaN</td>\n",
       "      <td>NaN</td>\n",
       "      <td>NaN</td>\n",
       "      <td>NaN</td>\n",
       "      <td>NaN</td>\n",
       "    </tr>\n",
       "    <tr>\n",
       "      <th>6</th>\n",
       "      <td>6</td>\n",
       "      <td>2026-12-01</td>\n",
       "      <td>14</td>\n",
       "      <td>3.5/month</td>\n",
       "      <td>81</td>\n",
       "      <td>81</td>\n",
       "      <td>162</td>\n",
       "      <td>NaN</td>\n",
       "      <td>NaN</td>\n",
       "      <td>NaN</td>\n",
       "      <td>NaN</td>\n",
       "      <td>NaN</td>\n",
       "      <td>NaN</td>\n",
       "      <td>NaN</td>\n",
       "    </tr>\n",
       "    <tr>\n",
       "      <th>7</th>\n",
       "      <td>7</td>\n",
       "      <td>2027-04-01</td>\n",
       "      <td>13</td>\n",
       "      <td>3.25/month</td>\n",
       "      <td>94</td>\n",
       "      <td>94</td>\n",
       "      <td>188</td>\n",
       "      <td>NaN</td>\n",
       "      <td>NaN</td>\n",
       "      <td>NaN</td>\n",
       "      <td>NaN</td>\n",
       "      <td>NaN</td>\n",
       "      <td>NaN</td>\n",
       "      <td>NaN</td>\n",
       "    </tr>\n",
       "    <tr>\n",
       "      <th>8</th>\n",
       "      <td>8</td>\n",
       "      <td>2027-08-01</td>\n",
       "      <td>14</td>\n",
       "      <td>3.5/month</td>\n",
       "      <td>108</td>\n",
       "      <td>108</td>\n",
       "      <td>216</td>\n",
       "      <td>NaN</td>\n",
       "      <td>NaN</td>\n",
       "      <td>NaN</td>\n",
       "      <td>NaN</td>\n",
       "      <td>NaN</td>\n",
       "      <td>NaN</td>\n",
       "      <td>NaN</td>\n",
       "    </tr>\n",
       "    <tr>\n",
       "      <th>9</th>\n",
       "      <td>9</td>\n",
       "      <td>2027-12-01</td>\n",
       "      <td>13</td>\n",
       "      <td>3.25/month</td>\n",
       "      <td>121</td>\n",
       "      <td>121</td>\n",
       "      <td>242</td>\n",
       "      <td>NaN</td>\n",
       "      <td>NaN</td>\n",
       "      <td>NaN</td>\n",
       "      <td>NaN</td>\n",
       "      <td>NaN</td>\n",
       "      <td>NaN</td>\n",
       "      <td>NaN</td>\n",
       "    </tr>\n",
       "    <tr>\n",
       "      <th>10</th>\n",
       "      <td>10</td>\n",
       "      <td>2028-04-01</td>\n",
       "      <td>14</td>\n",
       "      <td>3.5/month</td>\n",
       "      <td>135</td>\n",
       "      <td>135</td>\n",
       "      <td>270</td>\n",
       "      <td>NaN</td>\n",
       "      <td>NaN</td>\n",
       "      <td>NaN</td>\n",
       "      <td>NaN</td>\n",
       "      <td>NaN</td>\n",
       "      <td>NaN</td>\n",
       "      <td>NaN</td>\n",
       "    </tr>\n",
       "  </tbody>\n",
       "</table>\n",
       "</div>"
      ],
      "text/plain": [
       "    index    Quarter Participants per site        Rate Rutgers Goal  \\\n",
       "0       0 2025-04-01                    13    13/month           13   \n",
       "1       1 2025-08-01                    14   3.5/month           27   \n",
       "2       2 2025-09-07                   NaN         NaN         11.5   \n",
       "3       3 2025-12-01                    13  3.25/month           40   \n",
       "4       4 2026-04-01                    14   3.5/month           54   \n",
       "5       5 2026-08-01                    13  3.25/month           67   \n",
       "6       6 2026-12-01                    14   3.5/month           81   \n",
       "7       7 2027-04-01                    13  3.25/month           94   \n",
       "8       8 2027-08-01                    14   3.5/month          108   \n",
       "9       9 2027-12-01                    13  3.25/month          121   \n",
       "10     10 2028-04-01                    14   3.5/month          135   \n",
       "\n",
       "   McLean Goal Total Goal Rutgers Consented Rutgers Clinical Interview  \\\n",
       "0           13         26               9.0                        0.0   \n",
       "1           27         54              27.0                       27.0   \n",
       "2         11.5         23                49                         49   \n",
       "3           40         80               NaN                        NaN   \n",
       "4           54        108               NaN                        NaN   \n",
       "5           67        134               NaN                        NaN   \n",
       "6           81        162               NaN                        NaN   \n",
       "7           94        188               NaN                        NaN   \n",
       "8          108        216               NaN                        NaN   \n",
       "9          121        242               NaN                        NaN   \n",
       "10         135        270               NaN                        NaN   \n",
       "\n",
       "   Rutgers Scan McLean Consented McLean Clinical Interview McLean Scan  \\\n",
       "0           0.0              0.0                       0.0         0.0   \n",
       "1          11.0             25.0                       4.0         0.0   \n",
       "2            22                9                         9           7   \n",
       "3           NaN              NaN                       NaN         NaN   \n",
       "4           NaN              NaN                       NaN         NaN   \n",
       "5           NaN              NaN                       NaN         NaN   \n",
       "6           NaN              NaN                       NaN         NaN   \n",
       "7           NaN              NaN                       NaN         NaN   \n",
       "8           NaN              NaN                       NaN         NaN   \n",
       "9           NaN              NaN                       NaN         NaN   \n",
       "10          NaN              NaN                       NaN         NaN   \n",
       "\n",
       "   Total Real  \n",
       "0         0.0  \n",
       "1        52.0  \n",
       "2          58  \n",
       "3         NaN  \n",
       "4         NaN  \n",
       "5         NaN  \n",
       "6         NaN  \n",
       "7         NaN  \n",
       "8         NaN  \n",
       "9         NaN  \n",
       "10        NaN  "
      ]
     },
     "metadata": {},
     "output_type": "display_data"
    },
    {
     "data": {
      "text/html": [
       "<div>\n",
       "<style scoped>\n",
       "    .dataframe tbody tr th:only-of-type {\n",
       "        vertical-align: middle;\n",
       "    }\n",
       "\n",
       "    .dataframe tbody tr th {\n",
       "        vertical-align: top;\n",
       "    }\n",
       "\n",
       "    .dataframe thead th {\n",
       "        text-align: right;\n",
       "    }\n",
       "</style>\n",
       "<table border=\"1\" class=\"dataframe\">\n",
       "  <thead>\n",
       "    <tr style=\"text-align: right;\">\n",
       "      <th></th>\n",
       "      <th>index</th>\n",
       "      <th>Quarter</th>\n",
       "      <th>Participants per site</th>\n",
       "      <th>Rate</th>\n",
       "      <th>Rutgers Goal</th>\n",
       "      <th>McLean Goal</th>\n",
       "      <th>Total Goal</th>\n",
       "      <th>Rutgers Consented</th>\n",
       "      <th>Rutgers Clinical Interview</th>\n",
       "      <th>Rutgers Scan</th>\n",
       "      <th>McLean Consented</th>\n",
       "      <th>McLean Clinical Interview</th>\n",
       "      <th>McLean Scan</th>\n",
       "      <th>Total Real</th>\n",
       "    </tr>\n",
       "  </thead>\n",
       "  <tbody>\n",
       "    <tr>\n",
       "      <th>2</th>\n",
       "      <td>2</td>\n",
       "      <td>2025-09-07</td>\n",
       "      <td>NaN</td>\n",
       "      <td>NaN</td>\n",
       "      <td>11.5</td>\n",
       "      <td>11.5</td>\n",
       "      <td>23</td>\n",
       "      <td>49</td>\n",
       "      <td>49</td>\n",
       "      <td>22</td>\n",
       "      <td>9</td>\n",
       "      <td>9</td>\n",
       "      <td>7</td>\n",
       "      <td>58</td>\n",
       "    </tr>\n",
       "  </tbody>\n",
       "</table>\n",
       "</div>"
      ],
      "text/plain": [
       "   index    Quarter Participants per site Rate Rutgers Goal McLean Goal  \\\n",
       "2      2 2025-09-07                   NaN  NaN         11.5        11.5   \n",
       "\n",
       "  Total Goal Rutgers Consented Rutgers Clinical Interview Rutgers Scan  \\\n",
       "2         23                49                         49           22   \n",
       "\n",
       "  McLean Consented McLean Clinical Interview McLean Scan Total Real  \n",
       "2                9                         9           7         58  "
      ]
     },
     "metadata": {},
     "output_type": "display_data"
    }
   ],
   "source": [
    "today = datetime.datetime.today()\n",
    "today_str = today.strftime('%b %d %Y')\n",
    "start = 'Apr 1 2025'\n",
    "rate_per_day = 0.15\n",
    "beginning = dt.strptime(start, '%b %d %Y')\n",
    "days_of_study = today - beginning\n",
    "print(days_of_study)\n",
    "today_goal = int(days_of_study.days * rate_per_day)\n",
    "today_site = today_goal / 2\n",
    "print(today_goal, today_site)\n",
    "today_c = pd.DataFrame([today_str, np.nan, np.nan, today_site, today_site, today_goal, len(session1_r), len(session1_r), len(session2_r), len(session1_m), len(session1_m), len(session2_m), total_real])\n",
    "today_row = today_c.T\n",
    "today_row.columns = rmr_df.columns.to_list()\n",
    "rmr_df_today = pd.concat([rmr_df, today_row])\n",
    "rmr_df_today['Quarter'] = rmr_df_today['Quarter'].apply(lambda x: dt.strptime(x, '%b %d %Y'))\n",
    "rmr_df_today = rmr_df_today.sort_values('Quarter').reset_index(drop=True)\n",
    "rmr_df_today = rmr_df_today.reset_index()\n",
    "display(rmr_df_today)\n",
    "today_row = rmr_df_today.loc[rmr_df_today['Quarter']==today_str]\n",
    "display(today_row)\n",
    "today_index = today_row['index'].values.squeeze()\n"
   ]
  },
  {
   "cell_type": "code",
   "execution_count": 80,
   "metadata": {},
   "outputs": [
    {
     "name": "stdout",
     "output_type": "stream",
     "text": [
      "2\n",
      "5\n",
      "<class 'numpy.int64'>\n"
     ]
    },
    {
     "data": {
      "text/html": [
       "<div>\n",
       "<style scoped>\n",
       "    .dataframe tbody tr th:only-of-type {\n",
       "        vertical-align: middle;\n",
       "    }\n",
       "\n",
       "    .dataframe tbody tr th {\n",
       "        vertical-align: top;\n",
       "    }\n",
       "\n",
       "    .dataframe thead th {\n",
       "        text-align: right;\n",
       "    }\n",
       "</style>\n",
       "<table border=\"1\" class=\"dataframe\">\n",
       "  <thead>\n",
       "    <tr style=\"text-align: right;\">\n",
       "      <th></th>\n",
       "      <th>index</th>\n",
       "      <th>Quarter</th>\n",
       "      <th>Participants per site</th>\n",
       "      <th>Rate</th>\n",
       "      <th>Rutgers Goal</th>\n",
       "      <th>McLean Goal</th>\n",
       "      <th>Total Goal</th>\n",
       "      <th>Rutgers Consented</th>\n",
       "      <th>Rutgers Clinical Interview</th>\n",
       "      <th>Rutgers Scan</th>\n",
       "      <th>McLean Consented</th>\n",
       "      <th>McLean Clinical Interview</th>\n",
       "      <th>McLean Scan</th>\n",
       "      <th>Total Real</th>\n",
       "    </tr>\n",
       "  </thead>\n",
       "  <tbody>\n",
       "    <tr>\n",
       "      <th>0</th>\n",
       "      <td>0</td>\n",
       "      <td>2025-04-01</td>\n",
       "      <td>13</td>\n",
       "      <td>13/month</td>\n",
       "      <td>13</td>\n",
       "      <td>13</td>\n",
       "      <td>26</td>\n",
       "      <td>9.0</td>\n",
       "      <td>0.0</td>\n",
       "      <td>0.0</td>\n",
       "      <td>0.0</td>\n",
       "      <td>0.0</td>\n",
       "      <td>0.0</td>\n",
       "      <td>0.0</td>\n",
       "    </tr>\n",
       "    <tr>\n",
       "      <th>1</th>\n",
       "      <td>1</td>\n",
       "      <td>2025-08-01</td>\n",
       "      <td>14</td>\n",
       "      <td>3.5/month</td>\n",
       "      <td>27</td>\n",
       "      <td>27</td>\n",
       "      <td>54</td>\n",
       "      <td>27.0</td>\n",
       "      <td>27.0</td>\n",
       "      <td>11.0</td>\n",
       "      <td>25.0</td>\n",
       "      <td>4.0</td>\n",
       "      <td>0.0</td>\n",
       "      <td>52.0</td>\n",
       "    </tr>\n",
       "    <tr>\n",
       "      <th>2</th>\n",
       "      <td>2</td>\n",
       "      <td>2025-09-07</td>\n",
       "      <td>NaN</td>\n",
       "      <td>NaN</td>\n",
       "      <td>11.5</td>\n",
       "      <td>11.5</td>\n",
       "      <td>23</td>\n",
       "      <td>49</td>\n",
       "      <td>49</td>\n",
       "      <td>22</td>\n",
       "      <td>9</td>\n",
       "      <td>9</td>\n",
       "      <td>7</td>\n",
       "      <td>58</td>\n",
       "    </tr>\n",
       "    <tr>\n",
       "      <th>3</th>\n",
       "      <td>3</td>\n",
       "      <td>2025-12-01</td>\n",
       "      <td>13</td>\n",
       "      <td>3.25/month</td>\n",
       "      <td>40</td>\n",
       "      <td>40</td>\n",
       "      <td>80</td>\n",
       "      <td>NaN</td>\n",
       "      <td>NaN</td>\n",
       "      <td>NaN</td>\n",
       "      <td>NaN</td>\n",
       "      <td>NaN</td>\n",
       "      <td>NaN</td>\n",
       "      <td>NaN</td>\n",
       "    </tr>\n",
       "    <tr>\n",
       "      <th>4</th>\n",
       "      <td>4</td>\n",
       "      <td>2026-04-01</td>\n",
       "      <td>14</td>\n",
       "      <td>3.5/month</td>\n",
       "      <td>54</td>\n",
       "      <td>54</td>\n",
       "      <td>108</td>\n",
       "      <td>NaN</td>\n",
       "      <td>NaN</td>\n",
       "      <td>NaN</td>\n",
       "      <td>NaN</td>\n",
       "      <td>NaN</td>\n",
       "      <td>NaN</td>\n",
       "      <td>NaN</td>\n",
       "    </tr>\n",
       "  </tbody>\n",
       "</table>\n",
       "</div>"
      ],
      "text/plain": [
       "   index    Quarter Participants per site        Rate Rutgers Goal  \\\n",
       "0      0 2025-04-01                    13    13/month           13   \n",
       "1      1 2025-08-01                    14   3.5/month           27   \n",
       "2      2 2025-09-07                   NaN         NaN         11.5   \n",
       "3      3 2025-12-01                    13  3.25/month           40   \n",
       "4      4 2026-04-01                    14   3.5/month           54   \n",
       "\n",
       "  McLean Goal Total Goal Rutgers Consented Rutgers Clinical Interview  \\\n",
       "0          13         26               9.0                        0.0   \n",
       "1          27         54              27.0                       27.0   \n",
       "2        11.5         23                49                         49   \n",
       "3          40         80               NaN                        NaN   \n",
       "4          54        108               NaN                        NaN   \n",
       "\n",
       "  Rutgers Scan McLean Consented McLean Clinical Interview McLean Scan  \\\n",
       "0          0.0              0.0                       0.0         0.0   \n",
       "1         11.0             25.0                       4.0         0.0   \n",
       "2           22                9                         9           7   \n",
       "3          NaN              NaN                       NaN         NaN   \n",
       "4          NaN              NaN                       NaN         NaN   \n",
       "\n",
       "  Total Real  \n",
       "0        0.0  \n",
       "1       52.0  \n",
       "2         58  \n",
       "3        NaN  \n",
       "4        NaN  "
      ]
     },
     "metadata": {},
     "output_type": "display_data"
    }
   ],
   "source": [
    "print(today_index)\n",
    "two_quarters_out=today_index+3\n",
    "print(two_quarters_out)\n",
    "print(type(two_quarters_out))\n",
    "rmr_df_today = rmr_df_today[:two_quarters_out]\n",
    "display(rmr_df_today)"
   ]
  },
  {
   "cell_type": "code",
   "execution_count": null,
   "metadata": {},
   "outputs": [
    {
     "data": {
      "application/vnd.plotly.v1+json": {
       "config": {
        "plotlyServerURL": "https://plot.ly"
       },
       "data": [
        {
         "hovertemplate": "variable=Total Goal<br>Quarter=%{x}<br>value=%{y}<extra></extra>",
         "legendgroup": "Total Goal",
         "line": {
          "color": "#636efa",
          "dash": "solid"
         },
         "marker": {
          "symbol": "circle"
         },
         "mode": "lines",
         "name": "Total Goal",
         "orientation": "v",
         "showlegend": true,
         "type": "scatter",
         "x": [
          "2025-04-01T00:00:00.000000000",
          "2025-08-01T00:00:00.000000000",
          "2025-09-07T00:00:00.000000000",
          "2025-12-01T00:00:00.000000000",
          "2026-04-01T00:00:00.000000000"
         ],
         "xaxis": "x",
         "y": [
          26,
          54,
          null,
          80,
          108
         ],
         "yaxis": "y"
        },
        {
         "hovertemplate": "variable=Total Real<br>Quarter=%{x}<br>value=%{y}<extra></extra>",
         "legendgroup": "Total Real",
         "line": {
          "color": "#EF553B",
          "dash": "solid"
         },
         "marker": {
          "symbol": "circle"
         },
         "mode": "lines",
         "name": "Total Real",
         "orientation": "v",
         "showlegend": true,
         "type": "scatter",
         "x": [
          "2025-04-01T00:00:00.000000000",
          "2025-08-01T00:00:00.000000000",
          "2025-09-07T00:00:00.000000000",
          "2025-12-01T00:00:00.000000000",
          "2026-04-01T00:00:00.000000000"
         ],
         "xaxis": "x",
         "y": [
          0,
          52,
          58,
          null,
          null
         ],
         "yaxis": "y"
        }
       ],
       "layout": {
        "legend": {
         "title": {
          "text": "variable"
         },
         "tracegroupgap": 0
        },
        "margin": {
         "t": 60
        },
        "template": {
         "data": {
          "bar": [
           {
            "error_x": {
             "color": "#2a3f5f"
            },
            "error_y": {
             "color": "#2a3f5f"
            },
            "marker": {
             "line": {
              "color": "#E5ECF6",
              "width": 0.5
             },
             "pattern": {
              "fillmode": "overlay",
              "size": 10,
              "solidity": 0.2
             }
            },
            "type": "bar"
           }
          ],
          "barpolar": [
           {
            "marker": {
             "line": {
              "color": "#E5ECF6",
              "width": 0.5
             },
             "pattern": {
              "fillmode": "overlay",
              "size": 10,
              "solidity": 0.2
             }
            },
            "type": "barpolar"
           }
          ],
          "carpet": [
           {
            "aaxis": {
             "endlinecolor": "#2a3f5f",
             "gridcolor": "white",
             "linecolor": "white",
             "minorgridcolor": "white",
             "startlinecolor": "#2a3f5f"
            },
            "baxis": {
             "endlinecolor": "#2a3f5f",
             "gridcolor": "white",
             "linecolor": "white",
             "minorgridcolor": "white",
             "startlinecolor": "#2a3f5f"
            },
            "type": "carpet"
           }
          ],
          "choropleth": [
           {
            "colorbar": {
             "outlinewidth": 0,
             "ticks": ""
            },
            "type": "choropleth"
           }
          ],
          "contour": [
           {
            "colorbar": {
             "outlinewidth": 0,
             "ticks": ""
            },
            "colorscale": [
             [
              0,
              "#0d0887"
             ],
             [
              0.1111111111111111,
              "#46039f"
             ],
             [
              0.2222222222222222,
              "#7201a8"
             ],
             [
              0.3333333333333333,
              "#9c179e"
             ],
             [
              0.4444444444444444,
              "#bd3786"
             ],
             [
              0.5555555555555556,
              "#d8576b"
             ],
             [
              0.6666666666666666,
              "#ed7953"
             ],
             [
              0.7777777777777778,
              "#fb9f3a"
             ],
             [
              0.8888888888888888,
              "#fdca26"
             ],
             [
              1,
              "#f0f921"
             ]
            ],
            "type": "contour"
           }
          ],
          "contourcarpet": [
           {
            "colorbar": {
             "outlinewidth": 0,
             "ticks": ""
            },
            "type": "contourcarpet"
           }
          ],
          "heatmap": [
           {
            "colorbar": {
             "outlinewidth": 0,
             "ticks": ""
            },
            "colorscale": [
             [
              0,
              "#0d0887"
             ],
             [
              0.1111111111111111,
              "#46039f"
             ],
             [
              0.2222222222222222,
              "#7201a8"
             ],
             [
              0.3333333333333333,
              "#9c179e"
             ],
             [
              0.4444444444444444,
              "#bd3786"
             ],
             [
              0.5555555555555556,
              "#d8576b"
             ],
             [
              0.6666666666666666,
              "#ed7953"
             ],
             [
              0.7777777777777778,
              "#fb9f3a"
             ],
             [
              0.8888888888888888,
              "#fdca26"
             ],
             [
              1,
              "#f0f921"
             ]
            ],
            "type": "heatmap"
           }
          ],
          "histogram": [
           {
            "marker": {
             "pattern": {
              "fillmode": "overlay",
              "size": 10,
              "solidity": 0.2
             }
            },
            "type": "histogram"
           }
          ],
          "histogram2d": [
           {
            "colorbar": {
             "outlinewidth": 0,
             "ticks": ""
            },
            "colorscale": [
             [
              0,
              "#0d0887"
             ],
             [
              0.1111111111111111,
              "#46039f"
             ],
             [
              0.2222222222222222,
              "#7201a8"
             ],
             [
              0.3333333333333333,
              "#9c179e"
             ],
             [
              0.4444444444444444,
              "#bd3786"
             ],
             [
              0.5555555555555556,
              "#d8576b"
             ],
             [
              0.6666666666666666,
              "#ed7953"
             ],
             [
              0.7777777777777778,
              "#fb9f3a"
             ],
             [
              0.8888888888888888,
              "#fdca26"
             ],
             [
              1,
              "#f0f921"
             ]
            ],
            "type": "histogram2d"
           }
          ],
          "histogram2dcontour": [
           {
            "colorbar": {
             "outlinewidth": 0,
             "ticks": ""
            },
            "colorscale": [
             [
              0,
              "#0d0887"
             ],
             [
              0.1111111111111111,
              "#46039f"
             ],
             [
              0.2222222222222222,
              "#7201a8"
             ],
             [
              0.3333333333333333,
              "#9c179e"
             ],
             [
              0.4444444444444444,
              "#bd3786"
             ],
             [
              0.5555555555555556,
              "#d8576b"
             ],
             [
              0.6666666666666666,
              "#ed7953"
             ],
             [
              0.7777777777777778,
              "#fb9f3a"
             ],
             [
              0.8888888888888888,
              "#fdca26"
             ],
             [
              1,
              "#f0f921"
             ]
            ],
            "type": "histogram2dcontour"
           }
          ],
          "mesh3d": [
           {
            "colorbar": {
             "outlinewidth": 0,
             "ticks": ""
            },
            "type": "mesh3d"
           }
          ],
          "parcoords": [
           {
            "line": {
             "colorbar": {
              "outlinewidth": 0,
              "ticks": ""
             }
            },
            "type": "parcoords"
           }
          ],
          "pie": [
           {
            "automargin": true,
            "type": "pie"
           }
          ],
          "scatter": [
           {
            "fillpattern": {
             "fillmode": "overlay",
             "size": 10,
             "solidity": 0.2
            },
            "type": "scatter"
           }
          ],
          "scatter3d": [
           {
            "line": {
             "colorbar": {
              "outlinewidth": 0,
              "ticks": ""
             }
            },
            "marker": {
             "colorbar": {
              "outlinewidth": 0,
              "ticks": ""
             }
            },
            "type": "scatter3d"
           }
          ],
          "scattercarpet": [
           {
            "marker": {
             "colorbar": {
              "outlinewidth": 0,
              "ticks": ""
             }
            },
            "type": "scattercarpet"
           }
          ],
          "scattergeo": [
           {
            "marker": {
             "colorbar": {
              "outlinewidth": 0,
              "ticks": ""
             }
            },
            "type": "scattergeo"
           }
          ],
          "scattergl": [
           {
            "marker": {
             "colorbar": {
              "outlinewidth": 0,
              "ticks": ""
             }
            },
            "type": "scattergl"
           }
          ],
          "scattermap": [
           {
            "marker": {
             "colorbar": {
              "outlinewidth": 0,
              "ticks": ""
             }
            },
            "type": "scattermap"
           }
          ],
          "scattermapbox": [
           {
            "marker": {
             "colorbar": {
              "outlinewidth": 0,
              "ticks": ""
             }
            },
            "type": "scattermapbox"
           }
          ],
          "scatterpolar": [
           {
            "marker": {
             "colorbar": {
              "outlinewidth": 0,
              "ticks": ""
             }
            },
            "type": "scatterpolar"
           }
          ],
          "scatterpolargl": [
           {
            "marker": {
             "colorbar": {
              "outlinewidth": 0,
              "ticks": ""
             }
            },
            "type": "scatterpolargl"
           }
          ],
          "scatterternary": [
           {
            "marker": {
             "colorbar": {
              "outlinewidth": 0,
              "ticks": ""
             }
            },
            "type": "scatterternary"
           }
          ],
          "surface": [
           {
            "colorbar": {
             "outlinewidth": 0,
             "ticks": ""
            },
            "colorscale": [
             [
              0,
              "#0d0887"
             ],
             [
              0.1111111111111111,
              "#46039f"
             ],
             [
              0.2222222222222222,
              "#7201a8"
             ],
             [
              0.3333333333333333,
              "#9c179e"
             ],
             [
              0.4444444444444444,
              "#bd3786"
             ],
             [
              0.5555555555555556,
              "#d8576b"
             ],
             [
              0.6666666666666666,
              "#ed7953"
             ],
             [
              0.7777777777777778,
              "#fb9f3a"
             ],
             [
              0.8888888888888888,
              "#fdca26"
             ],
             [
              1,
              "#f0f921"
             ]
            ],
            "type": "surface"
           }
          ],
          "table": [
           {
            "cells": {
             "fill": {
              "color": "#EBF0F8"
             },
             "line": {
              "color": "white"
             }
            },
            "header": {
             "fill": {
              "color": "#C8D4E3"
             },
             "line": {
              "color": "white"
             }
            },
            "type": "table"
           }
          ]
         },
         "layout": {
          "annotationdefaults": {
           "arrowcolor": "#2a3f5f",
           "arrowhead": 0,
           "arrowwidth": 1
          },
          "autotypenumbers": "strict",
          "coloraxis": {
           "colorbar": {
            "outlinewidth": 0,
            "ticks": ""
           }
          },
          "colorscale": {
           "diverging": [
            [
             0,
             "#8e0152"
            ],
            [
             0.1,
             "#c51b7d"
            ],
            [
             0.2,
             "#de77ae"
            ],
            [
             0.3,
             "#f1b6da"
            ],
            [
             0.4,
             "#fde0ef"
            ],
            [
             0.5,
             "#f7f7f7"
            ],
            [
             0.6,
             "#e6f5d0"
            ],
            [
             0.7,
             "#b8e186"
            ],
            [
             0.8,
             "#7fbc41"
            ],
            [
             0.9,
             "#4d9221"
            ],
            [
             1,
             "#276419"
            ]
           ],
           "sequential": [
            [
             0,
             "#0d0887"
            ],
            [
             0.1111111111111111,
             "#46039f"
            ],
            [
             0.2222222222222222,
             "#7201a8"
            ],
            [
             0.3333333333333333,
             "#9c179e"
            ],
            [
             0.4444444444444444,
             "#bd3786"
            ],
            [
             0.5555555555555556,
             "#d8576b"
            ],
            [
             0.6666666666666666,
             "#ed7953"
            ],
            [
             0.7777777777777778,
             "#fb9f3a"
            ],
            [
             0.8888888888888888,
             "#fdca26"
            ],
            [
             1,
             "#f0f921"
            ]
           ],
           "sequentialminus": [
            [
             0,
             "#0d0887"
            ],
            [
             0.1111111111111111,
             "#46039f"
            ],
            [
             0.2222222222222222,
             "#7201a8"
            ],
            [
             0.3333333333333333,
             "#9c179e"
            ],
            [
             0.4444444444444444,
             "#bd3786"
            ],
            [
             0.5555555555555556,
             "#d8576b"
            ],
            [
             0.6666666666666666,
             "#ed7953"
            ],
            [
             0.7777777777777778,
             "#fb9f3a"
            ],
            [
             0.8888888888888888,
             "#fdca26"
            ],
            [
             1,
             "#f0f921"
            ]
           ]
          },
          "colorway": [
           "#636efa",
           "#EF553B",
           "#00cc96",
           "#ab63fa",
           "#FFA15A",
           "#19d3f3",
           "#FF6692",
           "#B6E880",
           "#FF97FF",
           "#FECB52"
          ],
          "font": {
           "color": "#2a3f5f"
          },
          "geo": {
           "bgcolor": "white",
           "lakecolor": "white",
           "landcolor": "#E5ECF6",
           "showlakes": true,
           "showland": true,
           "subunitcolor": "white"
          },
          "hoverlabel": {
           "align": "left"
          },
          "hovermode": "closest",
          "mapbox": {
           "style": "light"
          },
          "paper_bgcolor": "white",
          "plot_bgcolor": "#E5ECF6",
          "polar": {
           "angularaxis": {
            "gridcolor": "white",
            "linecolor": "white",
            "ticks": ""
           },
           "bgcolor": "#E5ECF6",
           "radialaxis": {
            "gridcolor": "white",
            "linecolor": "white",
            "ticks": ""
           }
          },
          "scene": {
           "xaxis": {
            "backgroundcolor": "#E5ECF6",
            "gridcolor": "white",
            "gridwidth": 2,
            "linecolor": "white",
            "showbackground": true,
            "ticks": "",
            "zerolinecolor": "white"
           },
           "yaxis": {
            "backgroundcolor": "#E5ECF6",
            "gridcolor": "white",
            "gridwidth": 2,
            "linecolor": "white",
            "showbackground": true,
            "ticks": "",
            "zerolinecolor": "white"
           },
           "zaxis": {
            "backgroundcolor": "#E5ECF6",
            "gridcolor": "white",
            "gridwidth": 2,
            "linecolor": "white",
            "showbackground": true,
            "ticks": "",
            "zerolinecolor": "white"
           }
          },
          "shapedefaults": {
           "line": {
            "color": "#2a3f5f"
           }
          },
          "ternary": {
           "aaxis": {
            "gridcolor": "white",
            "linecolor": "white",
            "ticks": ""
           },
           "baxis": {
            "gridcolor": "white",
            "linecolor": "white",
            "ticks": ""
           },
           "bgcolor": "#E5ECF6",
           "caxis": {
            "gridcolor": "white",
            "linecolor": "white",
            "ticks": ""
           }
          },
          "title": {
           "x": 0.05
          },
          "xaxis": {
           "automargin": true,
           "gridcolor": "white",
           "linecolor": "white",
           "ticks": "",
           "title": {
            "standoff": 15
           },
           "zerolinecolor": "white",
           "zerolinewidth": 2
          },
          "yaxis": {
           "automargin": true,
           "gridcolor": "white",
           "linecolor": "white",
           "ticks": "",
           "title": {
            "standoff": 15
           },
           "zerolinecolor": "white",
           "zerolinewidth": 2
          }
         }
        },
        "xaxis": {
         "anchor": "y",
         "domain": [
          0,
          1
         ],
         "title": {
          "text": "Quarter"
         }
        },
        "yaxis": {
         "anchor": "x",
         "domain": [
          0,
          1
         ],
         "title": {
          "text": "value"
         }
        }
       }
      }
     },
     "metadata": {},
     "output_type": "display_data"
    },
    {
     "data": {
      "application/vnd.plotly.v1+json": {
       "config": {
        "plotlyServerURL": "https://plot.ly"
       },
       "data": [
        {
         "hovertemplate": "variable=Rutgers Goal<br>Quarter=%{x}<br>value=%{y}<extra></extra>",
         "legendgroup": "Rutgers Goal",
         "line": {
          "color": "#636efa",
          "dash": "solid"
         },
         "marker": {
          "symbol": "circle"
         },
         "mode": "lines",
         "name": "Rutgers Goal",
         "orientation": "v",
         "showlegend": true,
         "type": "scatter",
         "x": [
          "2025-04-01T00:00:00.000000000",
          "2025-08-01T00:00:00.000000000",
          "2025-09-07T00:00:00.000000000",
          "2025-12-01T00:00:00.000000000",
          "2026-04-01T00:00:00.000000000"
         ],
         "xaxis": "x",
         "y": [
          13,
          27,
          null,
          40,
          54
         ],
         "yaxis": "y"
        },
        {
         "hovertemplate": "variable=Rutgers Consented<br>Quarter=%{x}<br>value=%{y}<extra></extra>",
         "legendgroup": "Rutgers Consented",
         "line": {
          "color": "#EF553B",
          "dash": "solid"
         },
         "marker": {
          "symbol": "circle"
         },
         "mode": "lines",
         "name": "Rutgers Consented",
         "orientation": "v",
         "showlegend": true,
         "type": "scatter",
         "x": [
          "2025-04-01T00:00:00.000000000",
          "2025-08-01T00:00:00.000000000",
          "2025-09-07T00:00:00.000000000",
          "2025-12-01T00:00:00.000000000",
          "2026-04-01T00:00:00.000000000"
         ],
         "xaxis": "x",
         "y": [
          9,
          27,
          49,
          null,
          null
         ],
         "yaxis": "y"
        },
        {
         "hovertemplate": "variable=Rutgers Clinical Interview<br>Quarter=%{x}<br>value=%{y}<extra></extra>",
         "legendgroup": "Rutgers Clinical Interview",
         "line": {
          "color": "#00cc96",
          "dash": "solid"
         },
         "marker": {
          "symbol": "circle"
         },
         "mode": "lines",
         "name": "Rutgers Clinical Interview",
         "orientation": "v",
         "showlegend": true,
         "type": "scatter",
         "x": [
          "2025-04-01T00:00:00.000000000",
          "2025-08-01T00:00:00.000000000",
          "2025-09-07T00:00:00.000000000",
          "2025-12-01T00:00:00.000000000",
          "2026-04-01T00:00:00.000000000"
         ],
         "xaxis": "x",
         "y": [
          0,
          27,
          49,
          null,
          null
         ],
         "yaxis": "y"
        },
        {
         "hovertemplate": "variable=Rutgers Scan<br>Quarter=%{x}<br>value=%{y}<extra></extra>",
         "legendgroup": "Rutgers Scan",
         "line": {
          "color": "#ab63fa",
          "dash": "solid"
         },
         "marker": {
          "symbol": "circle"
         },
         "mode": "lines",
         "name": "Rutgers Scan",
         "orientation": "v",
         "showlegend": true,
         "type": "scatter",
         "x": [
          "2025-04-01T00:00:00.000000000",
          "2025-08-01T00:00:00.000000000",
          "2025-09-07T00:00:00.000000000",
          "2025-12-01T00:00:00.000000000",
          "2026-04-01T00:00:00.000000000"
         ],
         "xaxis": "x",
         "y": [
          0,
          11,
          22,
          null,
          null
         ],
         "yaxis": "y"
        }
       ],
       "layout": {
        "legend": {
         "title": {
          "text": "variable"
         },
         "tracegroupgap": 0
        },
        "margin": {
         "t": 60
        },
        "template": {
         "data": {
          "bar": [
           {
            "error_x": {
             "color": "#2a3f5f"
            },
            "error_y": {
             "color": "#2a3f5f"
            },
            "marker": {
             "line": {
              "color": "#E5ECF6",
              "width": 0.5
             },
             "pattern": {
              "fillmode": "overlay",
              "size": 10,
              "solidity": 0.2
             }
            },
            "type": "bar"
           }
          ],
          "barpolar": [
           {
            "marker": {
             "line": {
              "color": "#E5ECF6",
              "width": 0.5
             },
             "pattern": {
              "fillmode": "overlay",
              "size": 10,
              "solidity": 0.2
             }
            },
            "type": "barpolar"
           }
          ],
          "carpet": [
           {
            "aaxis": {
             "endlinecolor": "#2a3f5f",
             "gridcolor": "white",
             "linecolor": "white",
             "minorgridcolor": "white",
             "startlinecolor": "#2a3f5f"
            },
            "baxis": {
             "endlinecolor": "#2a3f5f",
             "gridcolor": "white",
             "linecolor": "white",
             "minorgridcolor": "white",
             "startlinecolor": "#2a3f5f"
            },
            "type": "carpet"
           }
          ],
          "choropleth": [
           {
            "colorbar": {
             "outlinewidth": 0,
             "ticks": ""
            },
            "type": "choropleth"
           }
          ],
          "contour": [
           {
            "colorbar": {
             "outlinewidth": 0,
             "ticks": ""
            },
            "colorscale": [
             [
              0,
              "#0d0887"
             ],
             [
              0.1111111111111111,
              "#46039f"
             ],
             [
              0.2222222222222222,
              "#7201a8"
             ],
             [
              0.3333333333333333,
              "#9c179e"
             ],
             [
              0.4444444444444444,
              "#bd3786"
             ],
             [
              0.5555555555555556,
              "#d8576b"
             ],
             [
              0.6666666666666666,
              "#ed7953"
             ],
             [
              0.7777777777777778,
              "#fb9f3a"
             ],
             [
              0.8888888888888888,
              "#fdca26"
             ],
             [
              1,
              "#f0f921"
             ]
            ],
            "type": "contour"
           }
          ],
          "contourcarpet": [
           {
            "colorbar": {
             "outlinewidth": 0,
             "ticks": ""
            },
            "type": "contourcarpet"
           }
          ],
          "heatmap": [
           {
            "colorbar": {
             "outlinewidth": 0,
             "ticks": ""
            },
            "colorscale": [
             [
              0,
              "#0d0887"
             ],
             [
              0.1111111111111111,
              "#46039f"
             ],
             [
              0.2222222222222222,
              "#7201a8"
             ],
             [
              0.3333333333333333,
              "#9c179e"
             ],
             [
              0.4444444444444444,
              "#bd3786"
             ],
             [
              0.5555555555555556,
              "#d8576b"
             ],
             [
              0.6666666666666666,
              "#ed7953"
             ],
             [
              0.7777777777777778,
              "#fb9f3a"
             ],
             [
              0.8888888888888888,
              "#fdca26"
             ],
             [
              1,
              "#f0f921"
             ]
            ],
            "type": "heatmap"
           }
          ],
          "histogram": [
           {
            "marker": {
             "pattern": {
              "fillmode": "overlay",
              "size": 10,
              "solidity": 0.2
             }
            },
            "type": "histogram"
           }
          ],
          "histogram2d": [
           {
            "colorbar": {
             "outlinewidth": 0,
             "ticks": ""
            },
            "colorscale": [
             [
              0,
              "#0d0887"
             ],
             [
              0.1111111111111111,
              "#46039f"
             ],
             [
              0.2222222222222222,
              "#7201a8"
             ],
             [
              0.3333333333333333,
              "#9c179e"
             ],
             [
              0.4444444444444444,
              "#bd3786"
             ],
             [
              0.5555555555555556,
              "#d8576b"
             ],
             [
              0.6666666666666666,
              "#ed7953"
             ],
             [
              0.7777777777777778,
              "#fb9f3a"
             ],
             [
              0.8888888888888888,
              "#fdca26"
             ],
             [
              1,
              "#f0f921"
             ]
            ],
            "type": "histogram2d"
           }
          ],
          "histogram2dcontour": [
           {
            "colorbar": {
             "outlinewidth": 0,
             "ticks": ""
            },
            "colorscale": [
             [
              0,
              "#0d0887"
             ],
             [
              0.1111111111111111,
              "#46039f"
             ],
             [
              0.2222222222222222,
              "#7201a8"
             ],
             [
              0.3333333333333333,
              "#9c179e"
             ],
             [
              0.4444444444444444,
              "#bd3786"
             ],
             [
              0.5555555555555556,
              "#d8576b"
             ],
             [
              0.6666666666666666,
              "#ed7953"
             ],
             [
              0.7777777777777778,
              "#fb9f3a"
             ],
             [
              0.8888888888888888,
              "#fdca26"
             ],
             [
              1,
              "#f0f921"
             ]
            ],
            "type": "histogram2dcontour"
           }
          ],
          "mesh3d": [
           {
            "colorbar": {
             "outlinewidth": 0,
             "ticks": ""
            },
            "type": "mesh3d"
           }
          ],
          "parcoords": [
           {
            "line": {
             "colorbar": {
              "outlinewidth": 0,
              "ticks": ""
             }
            },
            "type": "parcoords"
           }
          ],
          "pie": [
           {
            "automargin": true,
            "type": "pie"
           }
          ],
          "scatter": [
           {
            "fillpattern": {
             "fillmode": "overlay",
             "size": 10,
             "solidity": 0.2
            },
            "type": "scatter"
           }
          ],
          "scatter3d": [
           {
            "line": {
             "colorbar": {
              "outlinewidth": 0,
              "ticks": ""
             }
            },
            "marker": {
             "colorbar": {
              "outlinewidth": 0,
              "ticks": ""
             }
            },
            "type": "scatter3d"
           }
          ],
          "scattercarpet": [
           {
            "marker": {
             "colorbar": {
              "outlinewidth": 0,
              "ticks": ""
             }
            },
            "type": "scattercarpet"
           }
          ],
          "scattergeo": [
           {
            "marker": {
             "colorbar": {
              "outlinewidth": 0,
              "ticks": ""
             }
            },
            "type": "scattergeo"
           }
          ],
          "scattergl": [
           {
            "marker": {
             "colorbar": {
              "outlinewidth": 0,
              "ticks": ""
             }
            },
            "type": "scattergl"
           }
          ],
          "scattermap": [
           {
            "marker": {
             "colorbar": {
              "outlinewidth": 0,
              "ticks": ""
             }
            },
            "type": "scattermap"
           }
          ],
          "scattermapbox": [
           {
            "marker": {
             "colorbar": {
              "outlinewidth": 0,
              "ticks": ""
             }
            },
            "type": "scattermapbox"
           }
          ],
          "scatterpolar": [
           {
            "marker": {
             "colorbar": {
              "outlinewidth": 0,
              "ticks": ""
             }
            },
            "type": "scatterpolar"
           }
          ],
          "scatterpolargl": [
           {
            "marker": {
             "colorbar": {
              "outlinewidth": 0,
              "ticks": ""
             }
            },
            "type": "scatterpolargl"
           }
          ],
          "scatterternary": [
           {
            "marker": {
             "colorbar": {
              "outlinewidth": 0,
              "ticks": ""
             }
            },
            "type": "scatterternary"
           }
          ],
          "surface": [
           {
            "colorbar": {
             "outlinewidth": 0,
             "ticks": ""
            },
            "colorscale": [
             [
              0,
              "#0d0887"
             ],
             [
              0.1111111111111111,
              "#46039f"
             ],
             [
              0.2222222222222222,
              "#7201a8"
             ],
             [
              0.3333333333333333,
              "#9c179e"
             ],
             [
              0.4444444444444444,
              "#bd3786"
             ],
             [
              0.5555555555555556,
              "#d8576b"
             ],
             [
              0.6666666666666666,
              "#ed7953"
             ],
             [
              0.7777777777777778,
              "#fb9f3a"
             ],
             [
              0.8888888888888888,
              "#fdca26"
             ],
             [
              1,
              "#f0f921"
             ]
            ],
            "type": "surface"
           }
          ],
          "table": [
           {
            "cells": {
             "fill": {
              "color": "#EBF0F8"
             },
             "line": {
              "color": "white"
             }
            },
            "header": {
             "fill": {
              "color": "#C8D4E3"
             },
             "line": {
              "color": "white"
             }
            },
            "type": "table"
           }
          ]
         },
         "layout": {
          "annotationdefaults": {
           "arrowcolor": "#2a3f5f",
           "arrowhead": 0,
           "arrowwidth": 1
          },
          "autotypenumbers": "strict",
          "coloraxis": {
           "colorbar": {
            "outlinewidth": 0,
            "ticks": ""
           }
          },
          "colorscale": {
           "diverging": [
            [
             0,
             "#8e0152"
            ],
            [
             0.1,
             "#c51b7d"
            ],
            [
             0.2,
             "#de77ae"
            ],
            [
             0.3,
             "#f1b6da"
            ],
            [
             0.4,
             "#fde0ef"
            ],
            [
             0.5,
             "#f7f7f7"
            ],
            [
             0.6,
             "#e6f5d0"
            ],
            [
             0.7,
             "#b8e186"
            ],
            [
             0.8,
             "#7fbc41"
            ],
            [
             0.9,
             "#4d9221"
            ],
            [
             1,
             "#276419"
            ]
           ],
           "sequential": [
            [
             0,
             "#0d0887"
            ],
            [
             0.1111111111111111,
             "#46039f"
            ],
            [
             0.2222222222222222,
             "#7201a8"
            ],
            [
             0.3333333333333333,
             "#9c179e"
            ],
            [
             0.4444444444444444,
             "#bd3786"
            ],
            [
             0.5555555555555556,
             "#d8576b"
            ],
            [
             0.6666666666666666,
             "#ed7953"
            ],
            [
             0.7777777777777778,
             "#fb9f3a"
            ],
            [
             0.8888888888888888,
             "#fdca26"
            ],
            [
             1,
             "#f0f921"
            ]
           ],
           "sequentialminus": [
            [
             0,
             "#0d0887"
            ],
            [
             0.1111111111111111,
             "#46039f"
            ],
            [
             0.2222222222222222,
             "#7201a8"
            ],
            [
             0.3333333333333333,
             "#9c179e"
            ],
            [
             0.4444444444444444,
             "#bd3786"
            ],
            [
             0.5555555555555556,
             "#d8576b"
            ],
            [
             0.6666666666666666,
             "#ed7953"
            ],
            [
             0.7777777777777778,
             "#fb9f3a"
            ],
            [
             0.8888888888888888,
             "#fdca26"
            ],
            [
             1,
             "#f0f921"
            ]
           ]
          },
          "colorway": [
           "#636efa",
           "#EF553B",
           "#00cc96",
           "#ab63fa",
           "#FFA15A",
           "#19d3f3",
           "#FF6692",
           "#B6E880",
           "#FF97FF",
           "#FECB52"
          ],
          "font": {
           "color": "#2a3f5f"
          },
          "geo": {
           "bgcolor": "white",
           "lakecolor": "white",
           "landcolor": "#E5ECF6",
           "showlakes": true,
           "showland": true,
           "subunitcolor": "white"
          },
          "hoverlabel": {
           "align": "left"
          },
          "hovermode": "closest",
          "mapbox": {
           "style": "light"
          },
          "paper_bgcolor": "white",
          "plot_bgcolor": "#E5ECF6",
          "polar": {
           "angularaxis": {
            "gridcolor": "white",
            "linecolor": "white",
            "ticks": ""
           },
           "bgcolor": "#E5ECF6",
           "radialaxis": {
            "gridcolor": "white",
            "linecolor": "white",
            "ticks": ""
           }
          },
          "scene": {
           "xaxis": {
            "backgroundcolor": "#E5ECF6",
            "gridcolor": "white",
            "gridwidth": 2,
            "linecolor": "white",
            "showbackground": true,
            "ticks": "",
            "zerolinecolor": "white"
           },
           "yaxis": {
            "backgroundcolor": "#E5ECF6",
            "gridcolor": "white",
            "gridwidth": 2,
            "linecolor": "white",
            "showbackground": true,
            "ticks": "",
            "zerolinecolor": "white"
           },
           "zaxis": {
            "backgroundcolor": "#E5ECF6",
            "gridcolor": "white",
            "gridwidth": 2,
            "linecolor": "white",
            "showbackground": true,
            "ticks": "",
            "zerolinecolor": "white"
           }
          },
          "shapedefaults": {
           "line": {
            "color": "#2a3f5f"
           }
          },
          "ternary": {
           "aaxis": {
            "gridcolor": "white",
            "linecolor": "white",
            "ticks": ""
           },
           "baxis": {
            "gridcolor": "white",
            "linecolor": "white",
            "ticks": ""
           },
           "bgcolor": "#E5ECF6",
           "caxis": {
            "gridcolor": "white",
            "linecolor": "white",
            "ticks": ""
           }
          },
          "title": {
           "x": 0.05
          },
          "xaxis": {
           "automargin": true,
           "gridcolor": "white",
           "linecolor": "white",
           "ticks": "",
           "title": {
            "standoff": 15
           },
           "zerolinecolor": "white",
           "zerolinewidth": 2
          },
          "yaxis": {
           "automargin": true,
           "gridcolor": "white",
           "linecolor": "white",
           "ticks": "",
           "title": {
            "standoff": 15
           },
           "zerolinecolor": "white",
           "zerolinewidth": 2
          }
         }
        },
        "xaxis": {
         "anchor": "y",
         "domain": [
          0,
          1
         ],
         "title": {
          "text": "Quarter"
         }
        },
        "yaxis": {
         "anchor": "x",
         "domain": [
          0,
          1
         ],
         "title": {
          "text": "value"
         }
        }
       }
      }
     },
     "metadata": {},
     "output_type": "display_data"
    },
    {
     "data": {
      "application/vnd.plotly.v1+json": {
       "config": {
        "plotlyServerURL": "https://plot.ly"
       },
       "data": [
        {
         "hovertemplate": "variable=McLean Goal<br>Quarter=%{x}<br>value=%{y}<extra></extra>",
         "legendgroup": "McLean Goal",
         "line": {
          "color": "#636efa",
          "dash": "solid"
         },
         "marker": {
          "symbol": "circle"
         },
         "mode": "lines",
         "name": "McLean Goal",
         "orientation": "v",
         "showlegend": true,
         "type": "scatter",
         "x": [
          "2025-04-01T00:00:00.000000000",
          "2025-08-01T00:00:00.000000000",
          "2025-09-07T00:00:00.000000000",
          "2025-12-01T00:00:00.000000000",
          "2026-04-01T00:00:00.000000000"
         ],
         "xaxis": "x",
         "y": [
          13,
          27,
          null,
          40,
          54
         ],
         "yaxis": "y"
        },
        {
         "hovertemplate": "variable=McLean Consented<br>Quarter=%{x}<br>value=%{y}<extra></extra>",
         "legendgroup": "McLean Consented",
         "line": {
          "color": "#EF553B",
          "dash": "solid"
         },
         "marker": {
          "symbol": "circle"
         },
         "mode": "lines",
         "name": "McLean Consented",
         "orientation": "v",
         "showlegend": true,
         "type": "scatter",
         "x": [
          "2025-04-01T00:00:00.000000000",
          "2025-08-01T00:00:00.000000000",
          "2025-09-07T00:00:00.000000000",
          "2025-12-01T00:00:00.000000000",
          "2026-04-01T00:00:00.000000000"
         ],
         "xaxis": "x",
         "y": [
          0,
          25,
          9,
          null,
          null
         ],
         "yaxis": "y"
        },
        {
         "hovertemplate": "variable=McLean Clinical Interview<br>Quarter=%{x}<br>value=%{y}<extra></extra>",
         "legendgroup": "McLean Clinical Interview",
         "line": {
          "color": "#00cc96",
          "dash": "solid"
         },
         "marker": {
          "symbol": "circle"
         },
         "mode": "lines",
         "name": "McLean Clinical Interview",
         "orientation": "v",
         "showlegend": true,
         "type": "scatter",
         "x": [
          "2025-04-01T00:00:00.000000000",
          "2025-08-01T00:00:00.000000000",
          "2025-09-07T00:00:00.000000000",
          "2025-12-01T00:00:00.000000000",
          "2026-04-01T00:00:00.000000000"
         ],
         "xaxis": "x",
         "y": [
          0,
          4,
          9,
          null,
          null
         ],
         "yaxis": "y"
        },
        {
         "hovertemplate": "variable=McLean Scan<br>Quarter=%{x}<br>value=%{y}<extra></extra>",
         "legendgroup": "McLean Scan",
         "line": {
          "color": "#ab63fa",
          "dash": "solid"
         },
         "marker": {
          "symbol": "circle"
         },
         "mode": "lines",
         "name": "McLean Scan",
         "orientation": "v",
         "showlegend": true,
         "type": "scatter",
         "x": [
          "2025-04-01T00:00:00.000000000",
          "2025-08-01T00:00:00.000000000",
          "2025-09-07T00:00:00.000000000",
          "2025-12-01T00:00:00.000000000",
          "2026-04-01T00:00:00.000000000"
         ],
         "xaxis": "x",
         "y": [
          0,
          0,
          7,
          null,
          null
         ],
         "yaxis": "y"
        }
       ],
       "layout": {
        "legend": {
         "title": {
          "text": "variable"
         },
         "tracegroupgap": 0
        },
        "margin": {
         "t": 60
        },
        "template": {
         "data": {
          "bar": [
           {
            "error_x": {
             "color": "#2a3f5f"
            },
            "error_y": {
             "color": "#2a3f5f"
            },
            "marker": {
             "line": {
              "color": "#E5ECF6",
              "width": 0.5
             },
             "pattern": {
              "fillmode": "overlay",
              "size": 10,
              "solidity": 0.2
             }
            },
            "type": "bar"
           }
          ],
          "barpolar": [
           {
            "marker": {
             "line": {
              "color": "#E5ECF6",
              "width": 0.5
             },
             "pattern": {
              "fillmode": "overlay",
              "size": 10,
              "solidity": 0.2
             }
            },
            "type": "barpolar"
           }
          ],
          "carpet": [
           {
            "aaxis": {
             "endlinecolor": "#2a3f5f",
             "gridcolor": "white",
             "linecolor": "white",
             "minorgridcolor": "white",
             "startlinecolor": "#2a3f5f"
            },
            "baxis": {
             "endlinecolor": "#2a3f5f",
             "gridcolor": "white",
             "linecolor": "white",
             "minorgridcolor": "white",
             "startlinecolor": "#2a3f5f"
            },
            "type": "carpet"
           }
          ],
          "choropleth": [
           {
            "colorbar": {
             "outlinewidth": 0,
             "ticks": ""
            },
            "type": "choropleth"
           }
          ],
          "contour": [
           {
            "colorbar": {
             "outlinewidth": 0,
             "ticks": ""
            },
            "colorscale": [
             [
              0,
              "#0d0887"
             ],
             [
              0.1111111111111111,
              "#46039f"
             ],
             [
              0.2222222222222222,
              "#7201a8"
             ],
             [
              0.3333333333333333,
              "#9c179e"
             ],
             [
              0.4444444444444444,
              "#bd3786"
             ],
             [
              0.5555555555555556,
              "#d8576b"
             ],
             [
              0.6666666666666666,
              "#ed7953"
             ],
             [
              0.7777777777777778,
              "#fb9f3a"
             ],
             [
              0.8888888888888888,
              "#fdca26"
             ],
             [
              1,
              "#f0f921"
             ]
            ],
            "type": "contour"
           }
          ],
          "contourcarpet": [
           {
            "colorbar": {
             "outlinewidth": 0,
             "ticks": ""
            },
            "type": "contourcarpet"
           }
          ],
          "heatmap": [
           {
            "colorbar": {
             "outlinewidth": 0,
             "ticks": ""
            },
            "colorscale": [
             [
              0,
              "#0d0887"
             ],
             [
              0.1111111111111111,
              "#46039f"
             ],
             [
              0.2222222222222222,
              "#7201a8"
             ],
             [
              0.3333333333333333,
              "#9c179e"
             ],
             [
              0.4444444444444444,
              "#bd3786"
             ],
             [
              0.5555555555555556,
              "#d8576b"
             ],
             [
              0.6666666666666666,
              "#ed7953"
             ],
             [
              0.7777777777777778,
              "#fb9f3a"
             ],
             [
              0.8888888888888888,
              "#fdca26"
             ],
             [
              1,
              "#f0f921"
             ]
            ],
            "type": "heatmap"
           }
          ],
          "histogram": [
           {
            "marker": {
             "pattern": {
              "fillmode": "overlay",
              "size": 10,
              "solidity": 0.2
             }
            },
            "type": "histogram"
           }
          ],
          "histogram2d": [
           {
            "colorbar": {
             "outlinewidth": 0,
             "ticks": ""
            },
            "colorscale": [
             [
              0,
              "#0d0887"
             ],
             [
              0.1111111111111111,
              "#46039f"
             ],
             [
              0.2222222222222222,
              "#7201a8"
             ],
             [
              0.3333333333333333,
              "#9c179e"
             ],
             [
              0.4444444444444444,
              "#bd3786"
             ],
             [
              0.5555555555555556,
              "#d8576b"
             ],
             [
              0.6666666666666666,
              "#ed7953"
             ],
             [
              0.7777777777777778,
              "#fb9f3a"
             ],
             [
              0.8888888888888888,
              "#fdca26"
             ],
             [
              1,
              "#f0f921"
             ]
            ],
            "type": "histogram2d"
           }
          ],
          "histogram2dcontour": [
           {
            "colorbar": {
             "outlinewidth": 0,
             "ticks": ""
            },
            "colorscale": [
             [
              0,
              "#0d0887"
             ],
             [
              0.1111111111111111,
              "#46039f"
             ],
             [
              0.2222222222222222,
              "#7201a8"
             ],
             [
              0.3333333333333333,
              "#9c179e"
             ],
             [
              0.4444444444444444,
              "#bd3786"
             ],
             [
              0.5555555555555556,
              "#d8576b"
             ],
             [
              0.6666666666666666,
              "#ed7953"
             ],
             [
              0.7777777777777778,
              "#fb9f3a"
             ],
             [
              0.8888888888888888,
              "#fdca26"
             ],
             [
              1,
              "#f0f921"
             ]
            ],
            "type": "histogram2dcontour"
           }
          ],
          "mesh3d": [
           {
            "colorbar": {
             "outlinewidth": 0,
             "ticks": ""
            },
            "type": "mesh3d"
           }
          ],
          "parcoords": [
           {
            "line": {
             "colorbar": {
              "outlinewidth": 0,
              "ticks": ""
             }
            },
            "type": "parcoords"
           }
          ],
          "pie": [
           {
            "automargin": true,
            "type": "pie"
           }
          ],
          "scatter": [
           {
            "fillpattern": {
             "fillmode": "overlay",
             "size": 10,
             "solidity": 0.2
            },
            "type": "scatter"
           }
          ],
          "scatter3d": [
           {
            "line": {
             "colorbar": {
              "outlinewidth": 0,
              "ticks": ""
             }
            },
            "marker": {
             "colorbar": {
              "outlinewidth": 0,
              "ticks": ""
             }
            },
            "type": "scatter3d"
           }
          ],
          "scattercarpet": [
           {
            "marker": {
             "colorbar": {
              "outlinewidth": 0,
              "ticks": ""
             }
            },
            "type": "scattercarpet"
           }
          ],
          "scattergeo": [
           {
            "marker": {
             "colorbar": {
              "outlinewidth": 0,
              "ticks": ""
             }
            },
            "type": "scattergeo"
           }
          ],
          "scattergl": [
           {
            "marker": {
             "colorbar": {
              "outlinewidth": 0,
              "ticks": ""
             }
            },
            "type": "scattergl"
           }
          ],
          "scattermap": [
           {
            "marker": {
             "colorbar": {
              "outlinewidth": 0,
              "ticks": ""
             }
            },
            "type": "scattermap"
           }
          ],
          "scattermapbox": [
           {
            "marker": {
             "colorbar": {
              "outlinewidth": 0,
              "ticks": ""
             }
            },
            "type": "scattermapbox"
           }
          ],
          "scatterpolar": [
           {
            "marker": {
             "colorbar": {
              "outlinewidth": 0,
              "ticks": ""
             }
            },
            "type": "scatterpolar"
           }
          ],
          "scatterpolargl": [
           {
            "marker": {
             "colorbar": {
              "outlinewidth": 0,
              "ticks": ""
             }
            },
            "type": "scatterpolargl"
           }
          ],
          "scatterternary": [
           {
            "marker": {
             "colorbar": {
              "outlinewidth": 0,
              "ticks": ""
             }
            },
            "type": "scatterternary"
           }
          ],
          "surface": [
           {
            "colorbar": {
             "outlinewidth": 0,
             "ticks": ""
            },
            "colorscale": [
             [
              0,
              "#0d0887"
             ],
             [
              0.1111111111111111,
              "#46039f"
             ],
             [
              0.2222222222222222,
              "#7201a8"
             ],
             [
              0.3333333333333333,
              "#9c179e"
             ],
             [
              0.4444444444444444,
              "#bd3786"
             ],
             [
              0.5555555555555556,
              "#d8576b"
             ],
             [
              0.6666666666666666,
              "#ed7953"
             ],
             [
              0.7777777777777778,
              "#fb9f3a"
             ],
             [
              0.8888888888888888,
              "#fdca26"
             ],
             [
              1,
              "#f0f921"
             ]
            ],
            "type": "surface"
           }
          ],
          "table": [
           {
            "cells": {
             "fill": {
              "color": "#EBF0F8"
             },
             "line": {
              "color": "white"
             }
            },
            "header": {
             "fill": {
              "color": "#C8D4E3"
             },
             "line": {
              "color": "white"
             }
            },
            "type": "table"
           }
          ]
         },
         "layout": {
          "annotationdefaults": {
           "arrowcolor": "#2a3f5f",
           "arrowhead": 0,
           "arrowwidth": 1
          },
          "autotypenumbers": "strict",
          "coloraxis": {
           "colorbar": {
            "outlinewidth": 0,
            "ticks": ""
           }
          },
          "colorscale": {
           "diverging": [
            [
             0,
             "#8e0152"
            ],
            [
             0.1,
             "#c51b7d"
            ],
            [
             0.2,
             "#de77ae"
            ],
            [
             0.3,
             "#f1b6da"
            ],
            [
             0.4,
             "#fde0ef"
            ],
            [
             0.5,
             "#f7f7f7"
            ],
            [
             0.6,
             "#e6f5d0"
            ],
            [
             0.7,
             "#b8e186"
            ],
            [
             0.8,
             "#7fbc41"
            ],
            [
             0.9,
             "#4d9221"
            ],
            [
             1,
             "#276419"
            ]
           ],
           "sequential": [
            [
             0,
             "#0d0887"
            ],
            [
             0.1111111111111111,
             "#46039f"
            ],
            [
             0.2222222222222222,
             "#7201a8"
            ],
            [
             0.3333333333333333,
             "#9c179e"
            ],
            [
             0.4444444444444444,
             "#bd3786"
            ],
            [
             0.5555555555555556,
             "#d8576b"
            ],
            [
             0.6666666666666666,
             "#ed7953"
            ],
            [
             0.7777777777777778,
             "#fb9f3a"
            ],
            [
             0.8888888888888888,
             "#fdca26"
            ],
            [
             1,
             "#f0f921"
            ]
           ],
           "sequentialminus": [
            [
             0,
             "#0d0887"
            ],
            [
             0.1111111111111111,
             "#46039f"
            ],
            [
             0.2222222222222222,
             "#7201a8"
            ],
            [
             0.3333333333333333,
             "#9c179e"
            ],
            [
             0.4444444444444444,
             "#bd3786"
            ],
            [
             0.5555555555555556,
             "#d8576b"
            ],
            [
             0.6666666666666666,
             "#ed7953"
            ],
            [
             0.7777777777777778,
             "#fb9f3a"
            ],
            [
             0.8888888888888888,
             "#fdca26"
            ],
            [
             1,
             "#f0f921"
            ]
           ]
          },
          "colorway": [
           "#636efa",
           "#EF553B",
           "#00cc96",
           "#ab63fa",
           "#FFA15A",
           "#19d3f3",
           "#FF6692",
           "#B6E880",
           "#FF97FF",
           "#FECB52"
          ],
          "font": {
           "color": "#2a3f5f"
          },
          "geo": {
           "bgcolor": "white",
           "lakecolor": "white",
           "landcolor": "#E5ECF6",
           "showlakes": true,
           "showland": true,
           "subunitcolor": "white"
          },
          "hoverlabel": {
           "align": "left"
          },
          "hovermode": "closest",
          "mapbox": {
           "style": "light"
          },
          "paper_bgcolor": "white",
          "plot_bgcolor": "#E5ECF6",
          "polar": {
           "angularaxis": {
            "gridcolor": "white",
            "linecolor": "white",
            "ticks": ""
           },
           "bgcolor": "#E5ECF6",
           "radialaxis": {
            "gridcolor": "white",
            "linecolor": "white",
            "ticks": ""
           }
          },
          "scene": {
           "xaxis": {
            "backgroundcolor": "#E5ECF6",
            "gridcolor": "white",
            "gridwidth": 2,
            "linecolor": "white",
            "showbackground": true,
            "ticks": "",
            "zerolinecolor": "white"
           },
           "yaxis": {
            "backgroundcolor": "#E5ECF6",
            "gridcolor": "white",
            "gridwidth": 2,
            "linecolor": "white",
            "showbackground": true,
            "ticks": "",
            "zerolinecolor": "white"
           },
           "zaxis": {
            "backgroundcolor": "#E5ECF6",
            "gridcolor": "white",
            "gridwidth": 2,
            "linecolor": "white",
            "showbackground": true,
            "ticks": "",
            "zerolinecolor": "white"
           }
          },
          "shapedefaults": {
           "line": {
            "color": "#2a3f5f"
           }
          },
          "ternary": {
           "aaxis": {
            "gridcolor": "white",
            "linecolor": "white",
            "ticks": ""
           },
           "baxis": {
            "gridcolor": "white",
            "linecolor": "white",
            "ticks": ""
           },
           "bgcolor": "#E5ECF6",
           "caxis": {
            "gridcolor": "white",
            "linecolor": "white",
            "ticks": ""
           }
          },
          "title": {
           "x": 0.05
          },
          "xaxis": {
           "automargin": true,
           "gridcolor": "white",
           "linecolor": "white",
           "ticks": "",
           "title": {
            "standoff": 15
           },
           "zerolinecolor": "white",
           "zerolinewidth": 2
          },
          "yaxis": {
           "automargin": true,
           "gridcolor": "white",
           "linecolor": "white",
           "ticks": "",
           "title": {
            "standoff": 15
           },
           "zerolinecolor": "white",
           "zerolinewidth": 2
          }
         }
        },
        "xaxis": {
         "anchor": "y",
         "domain": [
          0,
          1
         ],
         "title": {
          "text": "Quarter"
         }
        },
        "yaxis": {
         "anchor": "x",
         "domain": [
          0,
          1
         ],
         "title": {
          "text": "value"
         }
        }
       }
      }
     },
     "metadata": {},
     "output_type": "display_data"
    }
   ],
   "source": [
    "\n",
    "\n",
    "rmr_goal = px.line(rmr_df_today, x='Quarter', y=['Total Goal', 'Total Real'])\n",
    "r_goal = px.line(rmr_df_today, x='Quarter', y=['Rutgers Goal', 'Rutgers Consented', 'Rutgers Clinical Interview', 'Rutgers Scan'])\n",
    "m_goal = px.line(rmr_df_today, x='Quarter', y=['McLean Goal', 'McLean Consented', 'McLean Clinical Interview', 'McLean Scan'])\n",
    "\n",
    "rmr_goal.show()\n",
    "r_goal.show()\n",
    "m_goal.show()"
   ]
  },
  {
   "cell_type": "code",
   "execution_count": null,
   "metadata": {},
   "outputs": [
    {
     "data": {
      "application/vnd.plotly.v1+json": {
       "config": {
        "plotlyServerURL": "https://plot.ly"
       },
       "data": [
        {
         "coloraxis": "coloraxis",
         "hovertemplate": "columns: %{x}<br>rows: %{y}<br>color: %{z}<extra></extra>",
         "name": "0",
         "type": "heatmap",
         "x": [
          "id",
          "mri_scan_date",
          "mri_consent",
          "mri_consent_NDA",
          "mri_consent_mindLAMP",
          "mri_sub-PCR2Pilot_ses-001_T1w",
          "mri_sub-PCR2Pilot_ses-001_T2w",
          "mri_sub-PCR2Pilot_ses-001_task-rest_run-01_func",
          "mri_sub-PCR2Pilot_ses-001_dir-AP_epi",
          "mri_sub-PCR2Pilot_ses-001_dir-PA_epi",
          "mri_sub-PCR2Pilot_ses-001_task-rest_run-02_func",
          "mri_sub-PCR2Pilot_ses-001_acq-B0_fieldmap",
          "mri_sub-PCR2Pilot_ses-001_task-flanker_run-02_func",
          "mri_sub-PCR2Pilot_ses-001_task-language_run-02_func",
          "mri_sub-PCR2Pilot_ses-001_task-theElevator_run-02_func",
          "mri_sub-PCR2Pilot_ses-001_dwi",
          "mri_sub-PCR2Pilot_ses-001_dir-AP_phasediff",
          "mri_sub-PCR2Pilot_ses-001_dir-PA_phasediff",
          "mri_sub-PCR2Pilot_ses-001_task-momentous_run-02_func",
          "mri_sub-PCR2Pilot_ses-001_task-rest_run-03_func",
          "mri_sub-PCR2Pilot_ses-001_task-rest_run-04_func",
          "mri_scan_done",
          "movie_rater_task",
          "mri_self-report_battery",
          "email_post_mri",
          "pay_MRI_session",
          "pay_supplemental",
          "data_in_flywheel",
          "data_BIDS_curated",
          "data_fMRIPrep",
          "data_downloaded_to_amarel"
         ],
         "xaxis": "x",
         "y": [
          "sub-PCR2Pilot",
          "sub-PCR2Pilot2"
         ],
         "yaxis": "y",
         "z": [
          [
           1,
           1,
           1,
           0,
           0,
           1,
           1,
           1,
           1,
           1,
           1,
           1,
           1,
           0,
           1,
           1,
           1,
           1,
           0,
           1,
           1,
           1,
           0,
           0,
           0,
           1,
           0,
           0,
           0,
           0,
           0
          ],
          [
           1,
           1,
           1,
           0,
           0,
           1,
           1,
           1,
           1,
           1,
           1,
           1,
           1,
           1,
           1,
           1,
           1,
           1,
           1,
           1,
           1,
           1,
           1,
           0,
           0,
           0,
           0,
           0,
           0,
           0,
           0
          ]
         ]
        }
       ],
       "layout": {
        "coloraxis": {
         "cmax": 1,
         "cmin": 0,
         "colorscale": [
          [
           0,
           "white"
          ],
          [
           1,
           "black"
          ]
         ]
        },
        "height": 600,
        "template": {
         "data": {
          "bar": [
           {
            "error_x": {
             "color": "#2a3f5f"
            },
            "error_y": {
             "color": "#2a3f5f"
            },
            "marker": {
             "line": {
              "color": "#E5ECF6",
              "width": 0.5
             },
             "pattern": {
              "fillmode": "overlay",
              "size": 10,
              "solidity": 0.2
             }
            },
            "type": "bar"
           }
          ],
          "barpolar": [
           {
            "marker": {
             "line": {
              "color": "#E5ECF6",
              "width": 0.5
             },
             "pattern": {
              "fillmode": "overlay",
              "size": 10,
              "solidity": 0.2
             }
            },
            "type": "barpolar"
           }
          ],
          "carpet": [
           {
            "aaxis": {
             "endlinecolor": "#2a3f5f",
             "gridcolor": "white",
             "linecolor": "white",
             "minorgridcolor": "white",
             "startlinecolor": "#2a3f5f"
            },
            "baxis": {
             "endlinecolor": "#2a3f5f",
             "gridcolor": "white",
             "linecolor": "white",
             "minorgridcolor": "white",
             "startlinecolor": "#2a3f5f"
            },
            "type": "carpet"
           }
          ],
          "choropleth": [
           {
            "colorbar": {
             "outlinewidth": 0,
             "ticks": ""
            },
            "type": "choropleth"
           }
          ],
          "contour": [
           {
            "colorbar": {
             "outlinewidth": 0,
             "ticks": ""
            },
            "colorscale": [
             [
              0,
              "#0d0887"
             ],
             [
              0.1111111111111111,
              "#46039f"
             ],
             [
              0.2222222222222222,
              "#7201a8"
             ],
             [
              0.3333333333333333,
              "#9c179e"
             ],
             [
              0.4444444444444444,
              "#bd3786"
             ],
             [
              0.5555555555555556,
              "#d8576b"
             ],
             [
              0.6666666666666666,
              "#ed7953"
             ],
             [
              0.7777777777777778,
              "#fb9f3a"
             ],
             [
              0.8888888888888888,
              "#fdca26"
             ],
             [
              1,
              "#f0f921"
             ]
            ],
            "type": "contour"
           }
          ],
          "contourcarpet": [
           {
            "colorbar": {
             "outlinewidth": 0,
             "ticks": ""
            },
            "type": "contourcarpet"
           }
          ],
          "heatmap": [
           {
            "colorbar": {
             "outlinewidth": 0,
             "ticks": ""
            },
            "colorscale": [
             [
              0,
              "#0d0887"
             ],
             [
              0.1111111111111111,
              "#46039f"
             ],
             [
              0.2222222222222222,
              "#7201a8"
             ],
             [
              0.3333333333333333,
              "#9c179e"
             ],
             [
              0.4444444444444444,
              "#bd3786"
             ],
             [
              0.5555555555555556,
              "#d8576b"
             ],
             [
              0.6666666666666666,
              "#ed7953"
             ],
             [
              0.7777777777777778,
              "#fb9f3a"
             ],
             [
              0.8888888888888888,
              "#fdca26"
             ],
             [
              1,
              "#f0f921"
             ]
            ],
            "type": "heatmap"
           }
          ],
          "heatmapgl": [
           {
            "colorbar": {
             "outlinewidth": 0,
             "ticks": ""
            },
            "colorscale": [
             [
              0,
              "#0d0887"
             ],
             [
              0.1111111111111111,
              "#46039f"
             ],
             [
              0.2222222222222222,
              "#7201a8"
             ],
             [
              0.3333333333333333,
              "#9c179e"
             ],
             [
              0.4444444444444444,
              "#bd3786"
             ],
             [
              0.5555555555555556,
              "#d8576b"
             ],
             [
              0.6666666666666666,
              "#ed7953"
             ],
             [
              0.7777777777777778,
              "#fb9f3a"
             ],
             [
              0.8888888888888888,
              "#fdca26"
             ],
             [
              1,
              "#f0f921"
             ]
            ],
            "type": "heatmapgl"
           }
          ],
          "histogram": [
           {
            "marker": {
             "pattern": {
              "fillmode": "overlay",
              "size": 10,
              "solidity": 0.2
             }
            },
            "type": "histogram"
           }
          ],
          "histogram2d": [
           {
            "colorbar": {
             "outlinewidth": 0,
             "ticks": ""
            },
            "colorscale": [
             [
              0,
              "#0d0887"
             ],
             [
              0.1111111111111111,
              "#46039f"
             ],
             [
              0.2222222222222222,
              "#7201a8"
             ],
             [
              0.3333333333333333,
              "#9c179e"
             ],
             [
              0.4444444444444444,
              "#bd3786"
             ],
             [
              0.5555555555555556,
              "#d8576b"
             ],
             [
              0.6666666666666666,
              "#ed7953"
             ],
             [
              0.7777777777777778,
              "#fb9f3a"
             ],
             [
              0.8888888888888888,
              "#fdca26"
             ],
             [
              1,
              "#f0f921"
             ]
            ],
            "type": "histogram2d"
           }
          ],
          "histogram2dcontour": [
           {
            "colorbar": {
             "outlinewidth": 0,
             "ticks": ""
            },
            "colorscale": [
             [
              0,
              "#0d0887"
             ],
             [
              0.1111111111111111,
              "#46039f"
             ],
             [
              0.2222222222222222,
              "#7201a8"
             ],
             [
              0.3333333333333333,
              "#9c179e"
             ],
             [
              0.4444444444444444,
              "#bd3786"
             ],
             [
              0.5555555555555556,
              "#d8576b"
             ],
             [
              0.6666666666666666,
              "#ed7953"
             ],
             [
              0.7777777777777778,
              "#fb9f3a"
             ],
             [
              0.8888888888888888,
              "#fdca26"
             ],
             [
              1,
              "#f0f921"
             ]
            ],
            "type": "histogram2dcontour"
           }
          ],
          "mesh3d": [
           {
            "colorbar": {
             "outlinewidth": 0,
             "ticks": ""
            },
            "type": "mesh3d"
           }
          ],
          "parcoords": [
           {
            "line": {
             "colorbar": {
              "outlinewidth": 0,
              "ticks": ""
             }
            },
            "type": "parcoords"
           }
          ],
          "pie": [
           {
            "automargin": true,
            "type": "pie"
           }
          ],
          "scatter": [
           {
            "fillpattern": {
             "fillmode": "overlay",
             "size": 10,
             "solidity": 0.2
            },
            "type": "scatter"
           }
          ],
          "scatter3d": [
           {
            "line": {
             "colorbar": {
              "outlinewidth": 0,
              "ticks": ""
             }
            },
            "marker": {
             "colorbar": {
              "outlinewidth": 0,
              "ticks": ""
             }
            },
            "type": "scatter3d"
           }
          ],
          "scattercarpet": [
           {
            "marker": {
             "colorbar": {
              "outlinewidth": 0,
              "ticks": ""
             }
            },
            "type": "scattercarpet"
           }
          ],
          "scattergeo": [
           {
            "marker": {
             "colorbar": {
              "outlinewidth": 0,
              "ticks": ""
             }
            },
            "type": "scattergeo"
           }
          ],
          "scattergl": [
           {
            "marker": {
             "colorbar": {
              "outlinewidth": 0,
              "ticks": ""
             }
            },
            "type": "scattergl"
           }
          ],
          "scattermapbox": [
           {
            "marker": {
             "colorbar": {
              "outlinewidth": 0,
              "ticks": ""
             }
            },
            "type": "scattermapbox"
           }
          ],
          "scatterpolar": [
           {
            "marker": {
             "colorbar": {
              "outlinewidth": 0,
              "ticks": ""
             }
            },
            "type": "scatterpolar"
           }
          ],
          "scatterpolargl": [
           {
            "marker": {
             "colorbar": {
              "outlinewidth": 0,
              "ticks": ""
             }
            },
            "type": "scatterpolargl"
           }
          ],
          "scatterternary": [
           {
            "marker": {
             "colorbar": {
              "outlinewidth": 0,
              "ticks": ""
             }
            },
            "type": "scatterternary"
           }
          ],
          "surface": [
           {
            "colorbar": {
             "outlinewidth": 0,
             "ticks": ""
            },
            "colorscale": [
             [
              0,
              "#0d0887"
             ],
             [
              0.1111111111111111,
              "#46039f"
             ],
             [
              0.2222222222222222,
              "#7201a8"
             ],
             [
              0.3333333333333333,
              "#9c179e"
             ],
             [
              0.4444444444444444,
              "#bd3786"
             ],
             [
              0.5555555555555556,
              "#d8576b"
             ],
             [
              0.6666666666666666,
              "#ed7953"
             ],
             [
              0.7777777777777778,
              "#fb9f3a"
             ],
             [
              0.8888888888888888,
              "#fdca26"
             ],
             [
              1,
              "#f0f921"
             ]
            ],
            "type": "surface"
           }
          ],
          "table": [
           {
            "cells": {
             "fill": {
              "color": "#EBF0F8"
             },
             "line": {
              "color": "white"
             }
            },
            "header": {
             "fill": {
              "color": "#C8D4E3"
             },
             "line": {
              "color": "white"
             }
            },
            "type": "table"
           }
          ]
         },
         "layout": {
          "annotationdefaults": {
           "arrowcolor": "#2a3f5f",
           "arrowhead": 0,
           "arrowwidth": 1
          },
          "autotypenumbers": "strict",
          "coloraxis": {
           "colorbar": {
            "outlinewidth": 0,
            "ticks": ""
           }
          },
          "colorscale": {
           "diverging": [
            [
             0,
             "#8e0152"
            ],
            [
             0.1,
             "#c51b7d"
            ],
            [
             0.2,
             "#de77ae"
            ],
            [
             0.3,
             "#f1b6da"
            ],
            [
             0.4,
             "#fde0ef"
            ],
            [
             0.5,
             "#f7f7f7"
            ],
            [
             0.6,
             "#e6f5d0"
            ],
            [
             0.7,
             "#b8e186"
            ],
            [
             0.8,
             "#7fbc41"
            ],
            [
             0.9,
             "#4d9221"
            ],
            [
             1,
             "#276419"
            ]
           ],
           "sequential": [
            [
             0,
             "#0d0887"
            ],
            [
             0.1111111111111111,
             "#46039f"
            ],
            [
             0.2222222222222222,
             "#7201a8"
            ],
            [
             0.3333333333333333,
             "#9c179e"
            ],
            [
             0.4444444444444444,
             "#bd3786"
            ],
            [
             0.5555555555555556,
             "#d8576b"
            ],
            [
             0.6666666666666666,
             "#ed7953"
            ],
            [
             0.7777777777777778,
             "#fb9f3a"
            ],
            [
             0.8888888888888888,
             "#fdca26"
            ],
            [
             1,
             "#f0f921"
            ]
           ],
           "sequentialminus": [
            [
             0,
             "#0d0887"
            ],
            [
             0.1111111111111111,
             "#46039f"
            ],
            [
             0.2222222222222222,
             "#7201a8"
            ],
            [
             0.3333333333333333,
             "#9c179e"
            ],
            [
             0.4444444444444444,
             "#bd3786"
            ],
            [
             0.5555555555555556,
             "#d8576b"
            ],
            [
             0.6666666666666666,
             "#ed7953"
            ],
            [
             0.7777777777777778,
             "#fb9f3a"
            ],
            [
             0.8888888888888888,
             "#fdca26"
            ],
            [
             1,
             "#f0f921"
            ]
           ]
          },
          "colorway": [
           "#636efa",
           "#EF553B",
           "#00cc96",
           "#ab63fa",
           "#FFA15A",
           "#19d3f3",
           "#FF6692",
           "#B6E880",
           "#FF97FF",
           "#FECB52"
          ],
          "font": {
           "color": "#2a3f5f"
          },
          "geo": {
           "bgcolor": "white",
           "lakecolor": "white",
           "landcolor": "#E5ECF6",
           "showlakes": true,
           "showland": true,
           "subunitcolor": "white"
          },
          "hoverlabel": {
           "align": "left"
          },
          "hovermode": "closest",
          "mapbox": {
           "style": "light"
          },
          "paper_bgcolor": "white",
          "plot_bgcolor": "#E5ECF6",
          "polar": {
           "angularaxis": {
            "gridcolor": "white",
            "linecolor": "white",
            "ticks": ""
           },
           "bgcolor": "#E5ECF6",
           "radialaxis": {
            "gridcolor": "white",
            "linecolor": "white",
            "ticks": ""
           }
          },
          "scene": {
           "xaxis": {
            "backgroundcolor": "#E5ECF6",
            "gridcolor": "white",
            "gridwidth": 2,
            "linecolor": "white",
            "showbackground": true,
            "ticks": "",
            "zerolinecolor": "white"
           },
           "yaxis": {
            "backgroundcolor": "#E5ECF6",
            "gridcolor": "white",
            "gridwidth": 2,
            "linecolor": "white",
            "showbackground": true,
            "ticks": "",
            "zerolinecolor": "white"
           },
           "zaxis": {
            "backgroundcolor": "#E5ECF6",
            "gridcolor": "white",
            "gridwidth": 2,
            "linecolor": "white",
            "showbackground": true,
            "ticks": "",
            "zerolinecolor": "white"
           }
          },
          "shapedefaults": {
           "line": {
            "color": "#2a3f5f"
           }
          },
          "ternary": {
           "aaxis": {
            "gridcolor": "white",
            "linecolor": "white",
            "ticks": ""
           },
           "baxis": {
            "gridcolor": "white",
            "linecolor": "white",
            "ticks": ""
           },
           "bgcolor": "#E5ECF6",
           "caxis": {
            "gridcolor": "white",
            "linecolor": "white",
            "ticks": ""
           }
          },
          "title": {
           "x": 0.05
          },
          "xaxis": {
           "automargin": true,
           "gridcolor": "white",
           "linecolor": "white",
           "ticks": "",
           "title": {
            "standoff": 15
           },
           "zerolinecolor": "white",
           "zerolinewidth": 2
          },
          "yaxis": {
           "automargin": true,
           "gridcolor": "white",
           "linecolor": "white",
           "ticks": "",
           "title": {
            "standoff": 15
           },
           "zerolinecolor": "white",
           "zerolinewidth": 2
          }
         }
        },
        "title": {
         "text": "Tasks Completed by Participants"
        },
        "xaxis": {
         "anchor": "y",
         "domain": [
          0,
          1
         ],
         "title": {
          "text": "columns"
         }
        },
        "yaxis": {
         "anchor": "x",
         "autorange": true,
         "domain": [
          0,
          1
         ],
         "title": {
          "text": "rows"
         }
        }
       }
      }
     },
     "metadata": {},
     "output_type": "display_data"
    }
   ],
   "source": [
    "px.defaults.height=600\n",
    "df = pd.concat([sub[['key','value']].T for sub in subs.values()], axis=0, ignore_index=True)\n",
    "df.columns = df.iloc[0]\n",
    "df = df[df['id'] != 'id']\n",
    "heatmap_columns = [col for col in df.columns if not 'notes' in col and not 'diagnosis' in col]\n",
    "#heatmap_columns.remove('subject_id')\n",
    "#display(df[heatmap_columns])\n",
    "xr_data = xr.DataArray(df[heatmap_columns].values, \n",
    "\t\t\t\t\t   dims=[\"rows\", \"columns\"],\n",
    "\t\t\t\t\t   coords={\"rows\": df['id'], \"columns\": heatmap_columns})\n",
    "xr_data_bin = xr_data.where(xr_data == 0, 1)\n",
    "#print(xr_data_bin)\n",
    "fig = px.imshow(xr_data_bin, origin='lower',\n",
    "\t\t\t\t\ttitle=\"Tasks Completed by Participants\",\n",
    "\t\t\t\t\tzmin=0, zmax=1, color_continuous_scale=[[0, \"white\"], [1, \"black\"]],\n",
    "\t\t\t\t\tlabels={ # replaces default labels by column name\n",
    "\t\t\t\t\t\"rows\": \"Subject\",  \"columns\": \"Tasks Completed\"}\n",
    "\t\t\t\t\t)\n",
    "fig.show()\n",
    "fig.write_html(\"dashboard.html\") # interactive export \n"
   ]
  },
  {
   "cell_type": "code",
   "execution_count": 17,
   "metadata": {},
   "outputs": [
    {
     "data": {
      "application/vnd.plotly.v1+json": {
       "config": {
        "plotlyServerURL": "https://plot.ly"
       },
       "data": [
        {
         "domain": {
          "x": [
           0,
           1
          ],
          "y": [
           0,
           1
          ]
         },
         "hovertemplate": "primary_diagnoses_all=%{label}<extra></extra>",
         "labels": [
          "Please select primary (study relevant) diagnosis/diagnoses - Unipolar depression",
          "{\"ImportId\":\"QID273\",\"choiceId\":\"1\"}",
          "Healthy control",
          "Healthy control",
          "Bipolar w/ psychotic features",
          "Healthy control",
          "Bipolar disorder",
          "Schizoaffective Disorder",
          "Unipolar depression",
          "Healthy control",
          "Depression w/ psychotic features",
          "Bipolar disorder",
          "Unipolar depression",
          "Bipolar disorder",
          "Unipolar depression",
          "Healthy control",
          "Bipolar disorder",
          "Unipolar depression",
          "Bipolar disorder",
          "Unipolar depression",
          "Healthy control",
          "Healthy control",
          "Unipolar depression",
          null,
          "Unipolar depression",
          "Schizophrenia",
          "Healthy control",
          "Healthy control",
          "Unipolar depression",
          "Depression w/ psychotic features",
          "Bipolar disorder",
          "Unipolar depression",
          "Bipolar disorder",
          "Bipolar w/ psychotic features",
          "Healthy control",
          "Schizoaffective Disorder",
          "Unipolar depression",
          "Schizoaffective Disorder",
          "Unipolar depression",
          "Schizophrenia",
          "Unipolar depression",
          "Healthy control",
          "Depression w/ psychotic features",
          "Bipolar w/ psychotic features",
          "Unipolar depression",
          "Schizoaffective Disorder",
          "Healthy control",
          "Healthy control",
          "Unipolar depression",
          "Bipolar disorder",
          "Unipolar depression",
          "Unipolar depression",
          "Healthy control",
          "Healthy control",
          "Bipolar disorder",
          "Healthy control",
          "Unipolar depression",
          "Healthy control",
          "Bipolar disorder",
          "Unipolar depression",
          "Unipolar depression",
          "Unipolar depression",
          null
         ],
         "legendgroup": "",
         "name": "",
         "showlegend": true,
         "type": "pie"
        }
       ],
       "layout": {
        "legend": {
         "tracegroupgap": 0
        },
        "template": {
         "data": {
          "bar": [
           {
            "error_x": {
             "color": "#2a3f5f"
            },
            "error_y": {
             "color": "#2a3f5f"
            },
            "marker": {
             "line": {
              "color": "#E5ECF6",
              "width": 0.5
             },
             "pattern": {
              "fillmode": "overlay",
              "size": 10,
              "solidity": 0.2
             }
            },
            "type": "bar"
           }
          ],
          "barpolar": [
           {
            "marker": {
             "line": {
              "color": "#E5ECF6",
              "width": 0.5
             },
             "pattern": {
              "fillmode": "overlay",
              "size": 10,
              "solidity": 0.2
             }
            },
            "type": "barpolar"
           }
          ],
          "carpet": [
           {
            "aaxis": {
             "endlinecolor": "#2a3f5f",
             "gridcolor": "white",
             "linecolor": "white",
             "minorgridcolor": "white",
             "startlinecolor": "#2a3f5f"
            },
            "baxis": {
             "endlinecolor": "#2a3f5f",
             "gridcolor": "white",
             "linecolor": "white",
             "minorgridcolor": "white",
             "startlinecolor": "#2a3f5f"
            },
            "type": "carpet"
           }
          ],
          "choropleth": [
           {
            "colorbar": {
             "outlinewidth": 0,
             "ticks": ""
            },
            "type": "choropleth"
           }
          ],
          "contour": [
           {
            "colorbar": {
             "outlinewidth": 0,
             "ticks": ""
            },
            "colorscale": [
             [
              0,
              "#0d0887"
             ],
             [
              0.1111111111111111,
              "#46039f"
             ],
             [
              0.2222222222222222,
              "#7201a8"
             ],
             [
              0.3333333333333333,
              "#9c179e"
             ],
             [
              0.4444444444444444,
              "#bd3786"
             ],
             [
              0.5555555555555556,
              "#d8576b"
             ],
             [
              0.6666666666666666,
              "#ed7953"
             ],
             [
              0.7777777777777778,
              "#fb9f3a"
             ],
             [
              0.8888888888888888,
              "#fdca26"
             ],
             [
              1,
              "#f0f921"
             ]
            ],
            "type": "contour"
           }
          ],
          "contourcarpet": [
           {
            "colorbar": {
             "outlinewidth": 0,
             "ticks": ""
            },
            "type": "contourcarpet"
           }
          ],
          "heatmap": [
           {
            "colorbar": {
             "outlinewidth": 0,
             "ticks": ""
            },
            "colorscale": [
             [
              0,
              "#0d0887"
             ],
             [
              0.1111111111111111,
              "#46039f"
             ],
             [
              0.2222222222222222,
              "#7201a8"
             ],
             [
              0.3333333333333333,
              "#9c179e"
             ],
             [
              0.4444444444444444,
              "#bd3786"
             ],
             [
              0.5555555555555556,
              "#d8576b"
             ],
             [
              0.6666666666666666,
              "#ed7953"
             ],
             [
              0.7777777777777778,
              "#fb9f3a"
             ],
             [
              0.8888888888888888,
              "#fdca26"
             ],
             [
              1,
              "#f0f921"
             ]
            ],
            "type": "heatmap"
           }
          ],
          "histogram": [
           {
            "marker": {
             "pattern": {
              "fillmode": "overlay",
              "size": 10,
              "solidity": 0.2
             }
            },
            "type": "histogram"
           }
          ],
          "histogram2d": [
           {
            "colorbar": {
             "outlinewidth": 0,
             "ticks": ""
            },
            "colorscale": [
             [
              0,
              "#0d0887"
             ],
             [
              0.1111111111111111,
              "#46039f"
             ],
             [
              0.2222222222222222,
              "#7201a8"
             ],
             [
              0.3333333333333333,
              "#9c179e"
             ],
             [
              0.4444444444444444,
              "#bd3786"
             ],
             [
              0.5555555555555556,
              "#d8576b"
             ],
             [
              0.6666666666666666,
              "#ed7953"
             ],
             [
              0.7777777777777778,
              "#fb9f3a"
             ],
             [
              0.8888888888888888,
              "#fdca26"
             ],
             [
              1,
              "#f0f921"
             ]
            ],
            "type": "histogram2d"
           }
          ],
          "histogram2dcontour": [
           {
            "colorbar": {
             "outlinewidth": 0,
             "ticks": ""
            },
            "colorscale": [
             [
              0,
              "#0d0887"
             ],
             [
              0.1111111111111111,
              "#46039f"
             ],
             [
              0.2222222222222222,
              "#7201a8"
             ],
             [
              0.3333333333333333,
              "#9c179e"
             ],
             [
              0.4444444444444444,
              "#bd3786"
             ],
             [
              0.5555555555555556,
              "#d8576b"
             ],
             [
              0.6666666666666666,
              "#ed7953"
             ],
             [
              0.7777777777777778,
              "#fb9f3a"
             ],
             [
              0.8888888888888888,
              "#fdca26"
             ],
             [
              1,
              "#f0f921"
             ]
            ],
            "type": "histogram2dcontour"
           }
          ],
          "mesh3d": [
           {
            "colorbar": {
             "outlinewidth": 0,
             "ticks": ""
            },
            "type": "mesh3d"
           }
          ],
          "parcoords": [
           {
            "line": {
             "colorbar": {
              "outlinewidth": 0,
              "ticks": ""
             }
            },
            "type": "parcoords"
           }
          ],
          "pie": [
           {
            "automargin": true,
            "type": "pie"
           }
          ],
          "scatter": [
           {
            "fillpattern": {
             "fillmode": "overlay",
             "size": 10,
             "solidity": 0.2
            },
            "type": "scatter"
           }
          ],
          "scatter3d": [
           {
            "line": {
             "colorbar": {
              "outlinewidth": 0,
              "ticks": ""
             }
            },
            "marker": {
             "colorbar": {
              "outlinewidth": 0,
              "ticks": ""
             }
            },
            "type": "scatter3d"
           }
          ],
          "scattercarpet": [
           {
            "marker": {
             "colorbar": {
              "outlinewidth": 0,
              "ticks": ""
             }
            },
            "type": "scattercarpet"
           }
          ],
          "scattergeo": [
           {
            "marker": {
             "colorbar": {
              "outlinewidth": 0,
              "ticks": ""
             }
            },
            "type": "scattergeo"
           }
          ],
          "scattergl": [
           {
            "marker": {
             "colorbar": {
              "outlinewidth": 0,
              "ticks": ""
             }
            },
            "type": "scattergl"
           }
          ],
          "scattermap": [
           {
            "marker": {
             "colorbar": {
              "outlinewidth": 0,
              "ticks": ""
             }
            },
            "type": "scattermap"
           }
          ],
          "scattermapbox": [
           {
            "marker": {
             "colorbar": {
              "outlinewidth": 0,
              "ticks": ""
             }
            },
            "type": "scattermapbox"
           }
          ],
          "scatterpolar": [
           {
            "marker": {
             "colorbar": {
              "outlinewidth": 0,
              "ticks": ""
             }
            },
            "type": "scatterpolar"
           }
          ],
          "scatterpolargl": [
           {
            "marker": {
             "colorbar": {
              "outlinewidth": 0,
              "ticks": ""
             }
            },
            "type": "scatterpolargl"
           }
          ],
          "scatterternary": [
           {
            "marker": {
             "colorbar": {
              "outlinewidth": 0,
              "ticks": ""
             }
            },
            "type": "scatterternary"
           }
          ],
          "surface": [
           {
            "colorbar": {
             "outlinewidth": 0,
             "ticks": ""
            },
            "colorscale": [
             [
              0,
              "#0d0887"
             ],
             [
              0.1111111111111111,
              "#46039f"
             ],
             [
              0.2222222222222222,
              "#7201a8"
             ],
             [
              0.3333333333333333,
              "#9c179e"
             ],
             [
              0.4444444444444444,
              "#bd3786"
             ],
             [
              0.5555555555555556,
              "#d8576b"
             ],
             [
              0.6666666666666666,
              "#ed7953"
             ],
             [
              0.7777777777777778,
              "#fb9f3a"
             ],
             [
              0.8888888888888888,
              "#fdca26"
             ],
             [
              1,
              "#f0f921"
             ]
            ],
            "type": "surface"
           }
          ],
          "table": [
           {
            "cells": {
             "fill": {
              "color": "#EBF0F8"
             },
             "line": {
              "color": "white"
             }
            },
            "header": {
             "fill": {
              "color": "#C8D4E3"
             },
             "line": {
              "color": "white"
             }
            },
            "type": "table"
           }
          ]
         },
         "layout": {
          "annotationdefaults": {
           "arrowcolor": "#2a3f5f",
           "arrowhead": 0,
           "arrowwidth": 1
          },
          "autotypenumbers": "strict",
          "coloraxis": {
           "colorbar": {
            "outlinewidth": 0,
            "ticks": ""
           }
          },
          "colorscale": {
           "diverging": [
            [
             0,
             "#8e0152"
            ],
            [
             0.1,
             "#c51b7d"
            ],
            [
             0.2,
             "#de77ae"
            ],
            [
             0.3,
             "#f1b6da"
            ],
            [
             0.4,
             "#fde0ef"
            ],
            [
             0.5,
             "#f7f7f7"
            ],
            [
             0.6,
             "#e6f5d0"
            ],
            [
             0.7,
             "#b8e186"
            ],
            [
             0.8,
             "#7fbc41"
            ],
            [
             0.9,
             "#4d9221"
            ],
            [
             1,
             "#276419"
            ]
           ],
           "sequential": [
            [
             0,
             "#0d0887"
            ],
            [
             0.1111111111111111,
             "#46039f"
            ],
            [
             0.2222222222222222,
             "#7201a8"
            ],
            [
             0.3333333333333333,
             "#9c179e"
            ],
            [
             0.4444444444444444,
             "#bd3786"
            ],
            [
             0.5555555555555556,
             "#d8576b"
            ],
            [
             0.6666666666666666,
             "#ed7953"
            ],
            [
             0.7777777777777778,
             "#fb9f3a"
            ],
            [
             0.8888888888888888,
             "#fdca26"
            ],
            [
             1,
             "#f0f921"
            ]
           ],
           "sequentialminus": [
            [
             0,
             "#0d0887"
            ],
            [
             0.1111111111111111,
             "#46039f"
            ],
            [
             0.2222222222222222,
             "#7201a8"
            ],
            [
             0.3333333333333333,
             "#9c179e"
            ],
            [
             0.4444444444444444,
             "#bd3786"
            ],
            [
             0.5555555555555556,
             "#d8576b"
            ],
            [
             0.6666666666666666,
             "#ed7953"
            ],
            [
             0.7777777777777778,
             "#fb9f3a"
            ],
            [
             0.8888888888888888,
             "#fdca26"
            ],
            [
             1,
             "#f0f921"
            ]
           ]
          },
          "colorway": [
           "#636efa",
           "#EF553B",
           "#00cc96",
           "#ab63fa",
           "#FFA15A",
           "#19d3f3",
           "#FF6692",
           "#B6E880",
           "#FF97FF",
           "#FECB52"
          ],
          "font": {
           "color": "#2a3f5f"
          },
          "geo": {
           "bgcolor": "white",
           "lakecolor": "white",
           "landcolor": "#E5ECF6",
           "showlakes": true,
           "showland": true,
           "subunitcolor": "white"
          },
          "hoverlabel": {
           "align": "left"
          },
          "hovermode": "closest",
          "mapbox": {
           "style": "light"
          },
          "paper_bgcolor": "white",
          "plot_bgcolor": "#E5ECF6",
          "polar": {
           "angularaxis": {
            "gridcolor": "white",
            "linecolor": "white",
            "ticks": ""
           },
           "bgcolor": "#E5ECF6",
           "radialaxis": {
            "gridcolor": "white",
            "linecolor": "white",
            "ticks": ""
           }
          },
          "scene": {
           "xaxis": {
            "backgroundcolor": "#E5ECF6",
            "gridcolor": "white",
            "gridwidth": 2,
            "linecolor": "white",
            "showbackground": true,
            "ticks": "",
            "zerolinecolor": "white"
           },
           "yaxis": {
            "backgroundcolor": "#E5ECF6",
            "gridcolor": "white",
            "gridwidth": 2,
            "linecolor": "white",
            "showbackground": true,
            "ticks": "",
            "zerolinecolor": "white"
           },
           "zaxis": {
            "backgroundcolor": "#E5ECF6",
            "gridcolor": "white",
            "gridwidth": 2,
            "linecolor": "white",
            "showbackground": true,
            "ticks": "",
            "zerolinecolor": "white"
           }
          },
          "shapedefaults": {
           "line": {
            "color": "#2a3f5f"
           }
          },
          "ternary": {
           "aaxis": {
            "gridcolor": "white",
            "linecolor": "white",
            "ticks": ""
           },
           "baxis": {
            "gridcolor": "white",
            "linecolor": "white",
            "ticks": ""
           },
           "bgcolor": "#E5ECF6",
           "caxis": {
            "gridcolor": "white",
            "linecolor": "white",
            "ticks": ""
           }
          },
          "title": {
           "x": 0.05
          },
          "xaxis": {
           "automargin": true,
           "gridcolor": "white",
           "linecolor": "white",
           "ticks": "",
           "title": {
            "standoff": 15
           },
           "zerolinecolor": "white",
           "zerolinewidth": 2
          },
          "yaxis": {
           "automargin": true,
           "gridcolor": "white",
           "linecolor": "white",
           "ticks": "",
           "title": {
            "standoff": 15
           },
           "zerolinecolor": "white",
           "zerolinewidth": 2
          }
         }
        },
        "title": {
         "text": "Subject Primary Diagnoses"
        }
       }
      }
     },
     "metadata": {},
     "output_type": "display_data"
    }
   ],
   "source": [
    "# Diagnoses\n",
    "cad = surveys['clinical_administered_data']\n",
    "prim_diagnoses_cols = ['SUBJECT_ID']+[col for col in cad if 'primary_diagnoses' in col]\n",
    "cad['primary_diagnoses_all'] = cad[prim_diagnoses_cols].bfill(axis=1).iloc[:, 1:2]\n",
    "\n",
    "other_diagnoses_cols = ['SUBJECT_ID']+[col for col in cad if 'other_diagnoses' in col]\n",
    "cad['other_diagnoses_all'] = cad[other_diagnoses_cols].bfill(axis=1).iloc[:, 1:2]\n",
    "\n",
    "prim = primary_pie = px.pie(session1, names='primary_diagnoses_all', title='Subject Primary Diagnoses')\n",
    "oth = other_pie = px.pie(session1, names='other_diagnoses_all', title='Subject Other Diagnoses')\n",
    "\n",
    "prim.show()"
   ]
  },
  {
   "cell_type": "code",
   "execution_count": 10,
   "metadata": {},
   "outputs": [
    {
     "name": "stderr",
     "output_type": "stream",
     "text": [
      "/var/folders/fl/b24z_8kn4490x_bl0njv6fg00000gn/T/ipykernel_23656/1096552471.py:2: SettingWithCopyWarning:\n",
      "\n",
      "\n",
      "A value is trying to be set on a copy of a slice from a DataFrame.\n",
      "Try using .loc[row_indexer,col_indexer] = value instead\n",
      "\n",
      "See the caveats in the documentation: https://pandas.pydata.org/pandas-docs/stable/user_guide/indexing.html#returning-a-view-versus-a-copy\n",
      "\n"
     ]
    },
    {
     "data": {
      "text/html": [
       "<div>\n",
       "<style scoped>\n",
       "    .dataframe tbody tr th:only-of-type {\n",
       "        vertical-align: middle;\n",
       "    }\n",
       "\n",
       "    .dataframe tbody tr th {\n",
       "        vertical-align: top;\n",
       "    }\n",
       "\n",
       "    .dataframe thead th {\n",
       "        text-align: right;\n",
       "    }\n",
       "</style>\n",
       "<table border=\"1\" class=\"dataframe\">\n",
       "  <thead>\n",
       "    <tr style=\"text-align: right;\">\n",
       "      <th></th>\n",
       "      <th>Unnamed: 0</th>\n",
       "      <th>StartDate</th>\n",
       "      <th>EndDate</th>\n",
       "      <th>Status</th>\n",
       "      <th>IPAddress</th>\n",
       "      <th>Progress</th>\n",
       "      <th>Duration (in seconds)</th>\n",
       "      <th>Finished</th>\n",
       "      <th>RecordedDate</th>\n",
       "      <th>ResponseId</th>\n",
       "      <th>...</th>\n",
       "      <th>ymrs_10</th>\n",
       "      <th>panss_p_total</th>\n",
       "      <th>panss_n_total</th>\n",
       "      <th>panss_g_total</th>\n",
       "      <th>madrs_total</th>\n",
       "      <th>Create New Field or Choose From Dropdown...</th>\n",
       "      <th>ymrs_total</th>\n",
       "      <th>primary_diagnoses_all</th>\n",
       "      <th>other_diagnoses_all</th>\n",
       "      <th>duration_mins</th>\n",
       "    </tr>\n",
       "  </thead>\n",
       "  <tbody>\n",
       "    <tr>\n",
       "      <th>2</th>\n",
       "      <td>2</td>\n",
       "      <td>2025-06-06 15:10:05</td>\n",
       "      <td>2025-06-06 15:46:08</td>\n",
       "      <td>IP Address</td>\n",
       "      <td>130.219.10.91</td>\n",
       "      <td>100</td>\n",
       "      <td>2162</td>\n",
       "      <td>True</td>\n",
       "      <td>2025-06-06 15:46:09</td>\n",
       "      <td>R_71ueZczuWAgImQQ</td>\n",
       "      <td>...</td>\n",
       "      <td>0 = Appropriate dress and grooming</td>\n",
       "      <td>1++1+1+33+33</td>\n",
       "      <td>33+1+33++33+33+33</td>\n",
       "      <td>33+33+33+33+33++33+33+33</td>\n",
       "      <td>1+1+1+1+1+1+1+1+11</td>\n",
       "      <td>NaN</td>\n",
       "      <td>+0+0+0+0+0+0+0+0+0+0</td>\n",
       "      <td>Healthy control</td>\n",
       "      <td>NaN</td>\n",
       "      <td>36.033333</td>\n",
       "    </tr>\n",
       "    <tr>\n",
       "      <th>3</th>\n",
       "      <td>3</td>\n",
       "      <td>2025-06-06 18:28:04</td>\n",
       "      <td>2025-06-06 18:39:10</td>\n",
       "      <td>IP Address</td>\n",
       "      <td>130.219.10.91</td>\n",
       "      <td>100</td>\n",
       "      <td>666</td>\n",
       "      <td>True</td>\n",
       "      <td>2025-06-06 18:39:11</td>\n",
       "      <td>R_5dELLaScSz3Pvfn</td>\n",
       "      <td>...</td>\n",
       "      <td>0 = Appropriate dress and grooming</td>\n",
       "      <td>1++1+1+33+33</td>\n",
       "      <td>33+1+33+33+33+33+33</td>\n",
       "      <td>33+2+33+33+33+1+33+33+33</td>\n",
       "      <td>0+0+1+1+1+1+1+1+10</td>\n",
       "      <td>NaN</td>\n",
       "      <td>1+0+0+0+0+0+0+0+0+0+0</td>\n",
       "      <td>Healthy control</td>\n",
       "      <td>NaN</td>\n",
       "      <td>11.100000</td>\n",
       "    </tr>\n",
       "    <tr>\n",
       "      <th>4</th>\n",
       "      <td>4</td>\n",
       "      <td>2025-06-10 19:17:09</td>\n",
       "      <td>2025-06-10 20:12:09</td>\n",
       "      <td>IP Address</td>\n",
       "      <td>130.219.10.91</td>\n",
       "      <td>100</td>\n",
       "      <td>3299</td>\n",
       "      <td>True</td>\n",
       "      <td>2025-06-10 20:12:09</td>\n",
       "      <td>R_7QYoz5e9Fcg32we</td>\n",
       "      <td>...</td>\n",
       "      <td>0 = Appropriate dress and grooming</td>\n",
       "      <td>2++2+1+33+33</td>\n",
       "      <td>33+3+33+2+2+33+33</td>\n",
       "      <td>2+2+2+33+33+2+33+33+33</td>\n",
       "      <td>1+1+0+2+1+1+1+1+10</td>\n",
       "      <td>NaN</td>\n",
       "      <td>1+2+0+1+0+0+0+0+0+0+0</td>\n",
       "      <td>Bipolar w/ psychotic features</td>\n",
       "      <td>Substance use disorder: Alcohol</td>\n",
       "      <td>54.983333</td>\n",
       "    </tr>\n",
       "    <tr>\n",
       "      <th>5</th>\n",
       "      <td>5</td>\n",
       "      <td>2025-06-13 20:47:43</td>\n",
       "      <td>2025-06-13 21:20:12</td>\n",
       "      <td>IP Address</td>\n",
       "      <td>130.219.10.91</td>\n",
       "      <td>100</td>\n",
       "      <td>1948</td>\n",
       "      <td>True</td>\n",
       "      <td>2025-06-13 21:20:12</td>\n",
       "      <td>R_1CkgUUiDZ5ytQ4V</td>\n",
       "      <td>...</td>\n",
       "      <td>0 = Appropriate dress and grooming</td>\n",
       "      <td>1++1+1+33+33</td>\n",
       "      <td>33+1+33+33+33+33+33</td>\n",
       "      <td>33+2+33+33+33+33+33+33+33</td>\n",
       "      <td>0+0+2+0+0+0+0+0+00</td>\n",
       "      <td>NaN</td>\n",
       "      <td>1+0+0+0+0+0+0+0+0+0+0</td>\n",
       "      <td>Healthy control</td>\n",
       "      <td>NaN</td>\n",
       "      <td>32.466667</td>\n",
       "    </tr>\n",
       "    <tr>\n",
       "      <th>6</th>\n",
       "      <td>6</td>\n",
       "      <td>2025-06-13 21:36:47</td>\n",
       "      <td>2025-06-13 22:42:28</td>\n",
       "      <td>IP Address</td>\n",
       "      <td>67.81.84.35</td>\n",
       "      <td>100</td>\n",
       "      <td>3941</td>\n",
       "      <td>True</td>\n",
       "      <td>2025-06-13 22:42:28</td>\n",
       "      <td>R_5PaQpCvbznucVQK</td>\n",
       "      <td>...</td>\n",
       "      <td>0 = Appropriate dress and grooming</td>\n",
       "      <td>1++1+1+33+33</td>\n",
       "      <td>33+1+33+33+2+33+33</td>\n",
       "      <td>2+3+33+33+33+33+33+33+33</td>\n",
       "      <td>0+0+0+0+0+0+0+0+00</td>\n",
       "      <td>NaN</td>\n",
       "      <td>0+0+0+0+0+0+0+0+0+0+0</td>\n",
       "      <td>Bipolar disorder</td>\n",
       "      <td>PTSD/Adjustment Disorder/Other specified traum...</td>\n",
       "      <td>65.683333</td>\n",
       "    </tr>\n",
       "    <tr>\n",
       "      <th>...</th>\n",
       "      <td>...</td>\n",
       "      <td>...</td>\n",
       "      <td>...</td>\n",
       "      <td>...</td>\n",
       "      <td>...</td>\n",
       "      <td>...</td>\n",
       "      <td>...</td>\n",
       "      <td>...</td>\n",
       "      <td>...</td>\n",
       "      <td>...</td>\n",
       "      <td>...</td>\n",
       "      <td>...</td>\n",
       "      <td>...</td>\n",
       "      <td>...</td>\n",
       "      <td>...</td>\n",
       "      <td>...</td>\n",
       "      <td>...</td>\n",
       "      <td>...</td>\n",
       "      <td>...</td>\n",
       "      <td>...</td>\n",
       "      <td>...</td>\n",
       "    </tr>\n",
       "    <tr>\n",
       "      <th>58</th>\n",
       "      <td>58</td>\n",
       "      <td>2025-09-12 19:40:48</td>\n",
       "      <td>2025-09-12 21:25:56</td>\n",
       "      <td>IP Address</td>\n",
       "      <td>128.6.147.90</td>\n",
       "      <td>100</td>\n",
       "      <td>6307</td>\n",
       "      <td>True</td>\n",
       "      <td>2025-09-12 21:25:57</td>\n",
       "      <td>R_6d3UBAbu2ky6bqG</td>\n",
       "      <td>...</td>\n",
       "      <td>0 = Appropriate dress and grooming</td>\n",
       "      <td>1++1+1+4+1</td>\n",
       "      <td>3+1+1+3+1+1+1</td>\n",
       "      <td>1+5+1+3+1+5+1+1+1</td>\n",
       "      <td>3+4+4+4+2+3+2+2+30</td>\n",
       "      <td>NaN</td>\n",
       "      <td>0+0+2+0+2+0+1+0+2+0+2</td>\n",
       "      <td>Bipolar disorder</td>\n",
       "      <td>NaN</td>\n",
       "      <td>105.116667</td>\n",
       "    </tr>\n",
       "    <tr>\n",
       "      <th>59</th>\n",
       "      <td>59</td>\n",
       "      <td>2025-09-17 14:29:13</td>\n",
       "      <td>2025-09-17 15:08:18</td>\n",
       "      <td>IP Address</td>\n",
       "      <td>130.219.10.91</td>\n",
       "      <td>100</td>\n",
       "      <td>2344</td>\n",
       "      <td>True</td>\n",
       "      <td>2025-09-17 15:08:19</td>\n",
       "      <td>R_3D1R9RbsrNiuIGw</td>\n",
       "      <td>...</td>\n",
       "      <td>0 = Appropriate dress and grooming</td>\n",
       "      <td>1++1+1+1+1</td>\n",
       "      <td>1+4+1+1+2+1+1</td>\n",
       "      <td>1+3+3+1+1+3+1+1+1</td>\n",
       "      <td>0+2+3+0+0+3+2+0+30</td>\n",
       "      <td>NaN</td>\n",
       "      <td>0+0+0+0+0+0+0+0+0+0+0</td>\n",
       "      <td>Unipolar depression</td>\n",
       "      <td>NaN</td>\n",
       "      <td>39.066667</td>\n",
       "    </tr>\n",
       "    <tr>\n",
       "      <th>60</th>\n",
       "      <td>60</td>\n",
       "      <td>2025-09-17 19:48:41</td>\n",
       "      <td>2025-09-17 20:08:33</td>\n",
       "      <td>IP Address</td>\n",
       "      <td>132.183.13.119</td>\n",
       "      <td>100</td>\n",
       "      <td>1191</td>\n",
       "      <td>True</td>\n",
       "      <td>2025-09-17 20:08:34</td>\n",
       "      <td>R_6IZiOXPGe3xQTOH</td>\n",
       "      <td>...</td>\n",
       "      <td>0 = Appropriate dress and grooming</td>\n",
       "      <td>1++1+1+1+1</td>\n",
       "      <td>1+1+1+1+1+1+1</td>\n",
       "      <td>1+4+1+2+1+5+1+1+1</td>\n",
       "      <td>4+4+3+5+3+4+3+4+35</td>\n",
       "      <td>NaN</td>\n",
       "      <td>0+0+0+1+0+0+0+0+0+0+0</td>\n",
       "      <td>Unipolar depression</td>\n",
       "      <td>Generalized anxiety disorder (GAD)</td>\n",
       "      <td>19.850000</td>\n",
       "    </tr>\n",
       "    <tr>\n",
       "      <th>61</th>\n",
       "      <td>61</td>\n",
       "      <td>2025-09-18 21:09:22</td>\n",
       "      <td>2025-09-18 22:39:43</td>\n",
       "      <td>IP Address</td>\n",
       "      <td>132.183.13.119</td>\n",
       "      <td>100</td>\n",
       "      <td>5420</td>\n",
       "      <td>True</td>\n",
       "      <td>2025-09-18 22:39:43</td>\n",
       "      <td>R_1lcCoxqFnK1oqyt</td>\n",
       "      <td>...</td>\n",
       "      <td>0 = Appropriate dress and grooming</td>\n",
       "      <td>2++2+2+2+2</td>\n",
       "      <td>2+1+1+1+1+1+1</td>\n",
       "      <td>3+5+4+3+2+4+1+1+2</td>\n",
       "      <td>2+4+4+6+3+3+2+3+32</td>\n",
       "      <td>NaN</td>\n",
       "      <td>1+0+0+0+0+0+0+0+0+0+1</td>\n",
       "      <td>Unipolar depression</td>\n",
       "      <td>PTSD/Adjustment Disorder/Other specified traum...</td>\n",
       "      <td>90.333333</td>\n",
       "    </tr>\n",
       "    <tr>\n",
       "      <th>62</th>\n",
       "      <td>62</td>\n",
       "      <td>2025-09-23 18:34:42</td>\n",
       "      <td>2025-09-23 18:35:51</td>\n",
       "      <td>IP Address</td>\n",
       "      <td>69.119.141.180</td>\n",
       "      <td>100</td>\n",
       "      <td>68</td>\n",
       "      <td>True</td>\n",
       "      <td>2025-09-23 18:35:52</td>\n",
       "      <td>R_1upSWdpnb30QRDb</td>\n",
       "      <td>...</td>\n",
       "      <td>NaN</td>\n",
       "      <td>+++++++</td>\n",
       "      <td>++++++</td>\n",
       "      <td>++++++++</td>\n",
       "      <td>++++++++</td>\n",
       "      <td>NaN</td>\n",
       "      <td>++++++++++</td>\n",
       "      <td>NaN</td>\n",
       "      <td>NaN</td>\n",
       "      <td>1.133333</td>\n",
       "    </tr>\n",
       "  </tbody>\n",
       "</table>\n",
       "<p>61 rows × 215 columns</p>\n",
       "</div>"
      ],
      "text/plain": [
       "    Unnamed: 0            StartDate              EndDate      Status  \\\n",
       "2            2  2025-06-06 15:10:05  2025-06-06 15:46:08  IP Address   \n",
       "3            3  2025-06-06 18:28:04  2025-06-06 18:39:10  IP Address   \n",
       "4            4  2025-06-10 19:17:09  2025-06-10 20:12:09  IP Address   \n",
       "5            5  2025-06-13 20:47:43  2025-06-13 21:20:12  IP Address   \n",
       "6            6  2025-06-13 21:36:47  2025-06-13 22:42:28  IP Address   \n",
       "..         ...                  ...                  ...         ...   \n",
       "58          58  2025-09-12 19:40:48  2025-09-12 21:25:56  IP Address   \n",
       "59          59  2025-09-17 14:29:13  2025-09-17 15:08:18  IP Address   \n",
       "60          60  2025-09-17 19:48:41  2025-09-17 20:08:33  IP Address   \n",
       "61          61  2025-09-18 21:09:22  2025-09-18 22:39:43  IP Address   \n",
       "62          62  2025-09-23 18:34:42  2025-09-23 18:35:51  IP Address   \n",
       "\n",
       "         IPAddress Progress Duration (in seconds) Finished  \\\n",
       "2    130.219.10.91      100                  2162     True   \n",
       "3    130.219.10.91      100                   666     True   \n",
       "4    130.219.10.91      100                  3299     True   \n",
       "5    130.219.10.91      100                  1948     True   \n",
       "6      67.81.84.35      100                  3941     True   \n",
       "..             ...      ...                   ...      ...   \n",
       "58    128.6.147.90      100                  6307     True   \n",
       "59   130.219.10.91      100                  2344     True   \n",
       "60  132.183.13.119      100                  1191     True   \n",
       "61  132.183.13.119      100                  5420     True   \n",
       "62  69.119.141.180      100                    68     True   \n",
       "\n",
       "           RecordedDate         ResponseId  ...  \\\n",
       "2   2025-06-06 15:46:09  R_71ueZczuWAgImQQ  ...   \n",
       "3   2025-06-06 18:39:11  R_5dELLaScSz3Pvfn  ...   \n",
       "4   2025-06-10 20:12:09  R_7QYoz5e9Fcg32we  ...   \n",
       "5   2025-06-13 21:20:12  R_1CkgUUiDZ5ytQ4V  ...   \n",
       "6   2025-06-13 22:42:28  R_5PaQpCvbznucVQK  ...   \n",
       "..                  ...                ...  ...   \n",
       "58  2025-09-12 21:25:57  R_6d3UBAbu2ky6bqG  ...   \n",
       "59  2025-09-17 15:08:19  R_3D1R9RbsrNiuIGw  ...   \n",
       "60  2025-09-17 20:08:34  R_6IZiOXPGe3xQTOH  ...   \n",
       "61  2025-09-18 22:39:43  R_1lcCoxqFnK1oqyt  ...   \n",
       "62  2025-09-23 18:35:52  R_1upSWdpnb30QRDb  ...   \n",
       "\n",
       "                               ymrs_10 panss_p_total        panss_n_total  \\\n",
       "2   0 = Appropriate dress and grooming  1++1+1+33+33    33+1+33++33+33+33   \n",
       "3   0 = Appropriate dress and grooming  1++1+1+33+33  33+1+33+33+33+33+33   \n",
       "4   0 = Appropriate dress and grooming  2++2+1+33+33    33+3+33+2+2+33+33   \n",
       "5   0 = Appropriate dress and grooming  1++1+1+33+33  33+1+33+33+33+33+33   \n",
       "6   0 = Appropriate dress and grooming  1++1+1+33+33   33+1+33+33+2+33+33   \n",
       "..                                 ...           ...                  ...   \n",
       "58  0 = Appropriate dress and grooming    1++1+1+4+1        3+1+1+3+1+1+1   \n",
       "59  0 = Appropriate dress and grooming    1++1+1+1+1        1+4+1+1+2+1+1   \n",
       "60  0 = Appropriate dress and grooming    1++1+1+1+1        1+1+1+1+1+1+1   \n",
       "61  0 = Appropriate dress and grooming    2++2+2+2+2        2+1+1+1+1+1+1   \n",
       "62                                 NaN       +++++++               ++++++   \n",
       "\n",
       "                panss_g_total         madrs_total  \\\n",
       "2    33+33+33+33+33++33+33+33  1+1+1+1+1+1+1+1+11   \n",
       "3    33+2+33+33+33+1+33+33+33  0+0+1+1+1+1+1+1+10   \n",
       "4      2+2+2+33+33+2+33+33+33  1+1+0+2+1+1+1+1+10   \n",
       "5   33+2+33+33+33+33+33+33+33  0+0+2+0+0+0+0+0+00   \n",
       "6    2+3+33+33+33+33+33+33+33  0+0+0+0+0+0+0+0+00   \n",
       "..                        ...                 ...   \n",
       "58          1+5+1+3+1+5+1+1+1  3+4+4+4+2+3+2+2+30   \n",
       "59          1+3+3+1+1+3+1+1+1  0+2+3+0+0+3+2+0+30   \n",
       "60          1+4+1+2+1+5+1+1+1  4+4+3+5+3+4+3+4+35   \n",
       "61          3+5+4+3+2+4+1+1+2  2+4+4+6+3+3+2+3+32   \n",
       "62                   ++++++++            ++++++++   \n",
       "\n",
       "   Create New Field or Choose From Dropdown...             ymrs_total  \\\n",
       "2                                          NaN   +0+0+0+0+0+0+0+0+0+0   \n",
       "3                                          NaN  1+0+0+0+0+0+0+0+0+0+0   \n",
       "4                                          NaN  1+2+0+1+0+0+0+0+0+0+0   \n",
       "5                                          NaN  1+0+0+0+0+0+0+0+0+0+0   \n",
       "6                                          NaN  0+0+0+0+0+0+0+0+0+0+0   \n",
       "..                                         ...                    ...   \n",
       "58                                         NaN  0+0+2+0+2+0+1+0+2+0+2   \n",
       "59                                         NaN  0+0+0+0+0+0+0+0+0+0+0   \n",
       "60                                         NaN  0+0+0+1+0+0+0+0+0+0+0   \n",
       "61                                         NaN  1+0+0+0+0+0+0+0+0+0+1   \n",
       "62                                         NaN             ++++++++++   \n",
       "\n",
       "            primary_diagnoses_all  \\\n",
       "2                 Healthy control   \n",
       "3                 Healthy control   \n",
       "4   Bipolar w/ psychotic features   \n",
       "5                 Healthy control   \n",
       "6                Bipolar disorder   \n",
       "..                            ...   \n",
       "58               Bipolar disorder   \n",
       "59            Unipolar depression   \n",
       "60            Unipolar depression   \n",
       "61            Unipolar depression   \n",
       "62                            NaN   \n",
       "\n",
       "                                  other_diagnoses_all duration_mins  \n",
       "2                                                 NaN     36.033333  \n",
       "3                                                 NaN     11.100000  \n",
       "4                     Substance use disorder: Alcohol     54.983333  \n",
       "5                                                 NaN     32.466667  \n",
       "6   PTSD/Adjustment Disorder/Other specified traum...     65.683333  \n",
       "..                                                ...           ...  \n",
       "58                                                NaN    105.116667  \n",
       "59                                                NaN     39.066667  \n",
       "60                 Generalized anxiety disorder (GAD)     19.850000  \n",
       "61  PTSD/Adjustment Disorder/Other specified traum...     90.333333  \n",
       "62                                                NaN      1.133333  \n",
       "\n",
       "[61 rows x 215 columns]"
      ]
     },
     "metadata": {},
     "output_type": "display_data"
    }
   ],
   "source": [
    "cad = surveys['clinical_administered_data'][2:]\n",
    "cad['duration_mins'] = pd.to_numeric(cad['Duration (in seconds)'])/60\n",
    "display(cad)"
   ]
  },
  {
   "cell_type": "code",
   "execution_count": null,
   "metadata": {},
   "outputs": [
    {
     "name": "stderr",
     "output_type": "stream",
     "text": [
      "/var/folders/fl/b24z_8kn4490x_bl0njv6fg00000gn/T/ipykernel_23656/4288274636.py:4: SettingWithCopyWarning:\n",
      "\n",
      "\n",
      "A value is trying to be set on a copy of a slice from a DataFrame.\n",
      "Try using .loc[row_indexer,col_indexer] = value instead\n",
      "\n",
      "See the caveats in the documentation: https://pandas.pydata.org/pandas-docs/stable/user_guide/indexing.html#returning-a-view-versus-a-copy\n",
      "\n"
     ]
    },
    {
     "data": {
      "text/html": [
       "<div>\n",
       "<style scoped>\n",
       "    .dataframe tbody tr th:only-of-type {\n",
       "        vertical-align: middle;\n",
       "    }\n",
       "\n",
       "    .dataframe tbody tr th {\n",
       "        vertical-align: top;\n",
       "    }\n",
       "\n",
       "    .dataframe thead th {\n",
       "        text-align: right;\n",
       "    }\n",
       "</style>\n",
       "<table border=\"1\" class=\"dataframe\">\n",
       "  <thead>\n",
       "    <tr style=\"text-align: right;\">\n",
       "      <th></th>\n",
       "      <th>Unnamed: 0</th>\n",
       "      <th>StartDate</th>\n",
       "      <th>EndDate</th>\n",
       "      <th>Status</th>\n",
       "      <th>IPAddress</th>\n",
       "      <th>Progress</th>\n",
       "      <th>Duration (in seconds)</th>\n",
       "      <th>Finished</th>\n",
       "      <th>RecordedDate</th>\n",
       "      <th>ResponseId</th>\n",
       "      <th>...</th>\n",
       "      <th>ymrs_09</th>\n",
       "      <th>ymrs_10</th>\n",
       "      <th>panss_p_total</th>\n",
       "      <th>panss_n_total</th>\n",
       "      <th>panss_g_total</th>\n",
       "      <th>madrs_total</th>\n",
       "      <th>Create New Field or Choose From Dropdown...</th>\n",
       "      <th>ymrs_total</th>\n",
       "      <th>primary_diagnoses_all</th>\n",
       "      <th>other_diagnoses_all</th>\n",
       "    </tr>\n",
       "  </thead>\n",
       "  <tbody>\n",
       "    <tr>\n",
       "      <th>2</th>\n",
       "      <td>2</td>\n",
       "      <td>2025-06-06 15:10:05</td>\n",
       "      <td>2025-06-06 15:46:08</td>\n",
       "      <td>IP Address</td>\n",
       "      <td>130.219.10.91</td>\n",
       "      <td>100</td>\n",
       "      <td>2162</td>\n",
       "      <td>True</td>\n",
       "      <td>2025-06-06 15:46:09</td>\n",
       "      <td>R_71ueZczuWAgImQQ</td>\n",
       "      <td>...</td>\n",
       "      <td>0 = Absent, cooperative</td>\n",
       "      <td>0 = Appropriate dress and grooming</td>\n",
       "      <td>1++1+1+33+33</td>\n",
       "      <td>33+1+33++33+33+33</td>\n",
       "      <td>33+33+33+33+33++33+33+33</td>\n",
       "      <td>1+1+1+1+1+1+1+1+11</td>\n",
       "      <td>NaN</td>\n",
       "      <td>+0+0+0+0+0+0+0+0+0+0</td>\n",
       "      <td>Healthy control</td>\n",
       "      <td>NaN</td>\n",
       "    </tr>\n",
       "    <tr>\n",
       "      <th>3</th>\n",
       "      <td>3</td>\n",
       "      <td>2025-06-06 18:28:04</td>\n",
       "      <td>2025-06-06 18:39:10</td>\n",
       "      <td>IP Address</td>\n",
       "      <td>130.219.10.91</td>\n",
       "      <td>100</td>\n",
       "      <td>666</td>\n",
       "      <td>True</td>\n",
       "      <td>2025-06-06 18:39:11</td>\n",
       "      <td>R_5dELLaScSz3Pvfn</td>\n",
       "      <td>...</td>\n",
       "      <td>0 = Absent, cooperative</td>\n",
       "      <td>0 = Appropriate dress and grooming</td>\n",
       "      <td>1++1+1+33+33</td>\n",
       "      <td>33+1+33+33+33+33+33</td>\n",
       "      <td>33+2+33+33+33+1+33+33+33</td>\n",
       "      <td>0+0+1+1+1+1+1+1+10</td>\n",
       "      <td>NaN</td>\n",
       "      <td>1+0+0+0+0+0+0+0+0+0+0</td>\n",
       "      <td>Healthy control</td>\n",
       "      <td>NaN</td>\n",
       "    </tr>\n",
       "    <tr>\n",
       "      <th>4</th>\n",
       "      <td>4</td>\n",
       "      <td>2025-06-10 19:17:09</td>\n",
       "      <td>2025-06-10 20:12:09</td>\n",
       "      <td>IP Address</td>\n",
       "      <td>130.219.10.91</td>\n",
       "      <td>100</td>\n",
       "      <td>3299</td>\n",
       "      <td>True</td>\n",
       "      <td>2025-06-10 20:12:09</td>\n",
       "      <td>R_7QYoz5e9Fcg32we</td>\n",
       "      <td>...</td>\n",
       "      <td>0 = Absent, cooperative</td>\n",
       "      <td>0 = Appropriate dress and grooming</td>\n",
       "      <td>2++2+1+33+33</td>\n",
       "      <td>33+3+33+2+2+33+33</td>\n",
       "      <td>2+2+2+33+33+2+33+33+33</td>\n",
       "      <td>1+1+0+2+1+1+1+1+10</td>\n",
       "      <td>NaN</td>\n",
       "      <td>1+2+0+1+0+0+0+0+0+0+0</td>\n",
       "      <td>Bipolar w/ psychotic features</td>\n",
       "      <td>Substance use disorder: Alcohol</td>\n",
       "    </tr>\n",
       "    <tr>\n",
       "      <th>5</th>\n",
       "      <td>5</td>\n",
       "      <td>2025-06-13 20:47:43</td>\n",
       "      <td>2025-06-13 21:20:12</td>\n",
       "      <td>IP Address</td>\n",
       "      <td>130.219.10.91</td>\n",
       "      <td>100</td>\n",
       "      <td>1948</td>\n",
       "      <td>True</td>\n",
       "      <td>2025-06-13 21:20:12</td>\n",
       "      <td>R_1CkgUUiDZ5ytQ4V</td>\n",
       "      <td>...</td>\n",
       "      <td>0 = Absent, cooperative</td>\n",
       "      <td>0 = Appropriate dress and grooming</td>\n",
       "      <td>1++1+1+33+33</td>\n",
       "      <td>33+1+33+33+33+33+33</td>\n",
       "      <td>33+2+33+33+33+33+33+33+33</td>\n",
       "      <td>0+0+2+0+0+0+0+0+00</td>\n",
       "      <td>NaN</td>\n",
       "      <td>1+0+0+0+0+0+0+0+0+0+0</td>\n",
       "      <td>Healthy control</td>\n",
       "      <td>NaN</td>\n",
       "    </tr>\n",
       "    <tr>\n",
       "      <th>6</th>\n",
       "      <td>6</td>\n",
       "      <td>2025-06-13 21:36:47</td>\n",
       "      <td>2025-06-13 22:42:28</td>\n",
       "      <td>IP Address</td>\n",
       "      <td>67.81.84.35</td>\n",
       "      <td>100</td>\n",
       "      <td>3941</td>\n",
       "      <td>True</td>\n",
       "      <td>2025-06-13 22:42:28</td>\n",
       "      <td>R_5PaQpCvbznucVQK</td>\n",
       "      <td>...</td>\n",
       "      <td>0 = Absent, cooperative</td>\n",
       "      <td>0 = Appropriate dress and grooming</td>\n",
       "      <td>1++1+1+33+33</td>\n",
       "      <td>33+1+33+33+2+33+33</td>\n",
       "      <td>2+3+33+33+33+33+33+33+33</td>\n",
       "      <td>0+0+0+0+0+0+0+0+00</td>\n",
       "      <td>NaN</td>\n",
       "      <td>0+0+0+0+0+0+0+0+0+0+0</td>\n",
       "      <td>Bipolar disorder</td>\n",
       "      <td>PTSD/Adjustment Disorder/Other specified traum...</td>\n",
       "    </tr>\n",
       "    <tr>\n",
       "      <th>...</th>\n",
       "      <td>...</td>\n",
       "      <td>...</td>\n",
       "      <td>...</td>\n",
       "      <td>...</td>\n",
       "      <td>...</td>\n",
       "      <td>...</td>\n",
       "      <td>...</td>\n",
       "      <td>...</td>\n",
       "      <td>...</td>\n",
       "      <td>...</td>\n",
       "      <td>...</td>\n",
       "      <td>...</td>\n",
       "      <td>...</td>\n",
       "      <td>...</td>\n",
       "      <td>...</td>\n",
       "      <td>...</td>\n",
       "      <td>...</td>\n",
       "      <td>...</td>\n",
       "      <td>...</td>\n",
       "      <td>...</td>\n",
       "      <td>...</td>\n",
       "    </tr>\n",
       "    <tr>\n",
       "      <th>58</th>\n",
       "      <td>58</td>\n",
       "      <td>2025-09-12 19:40:48</td>\n",
       "      <td>2025-09-12 21:25:56</td>\n",
       "      <td>IP Address</td>\n",
       "      <td>128.6.147.90</td>\n",
       "      <td>100</td>\n",
       "      <td>6307</td>\n",
       "      <td>True</td>\n",
       "      <td>2025-09-12 21:25:57</td>\n",
       "      <td>R_6d3UBAbu2ky6bqG</td>\n",
       "      <td>...</td>\n",
       "      <td>2 = Sarcastic; loud at times, guarded</td>\n",
       "      <td>0 = Appropriate dress and grooming</td>\n",
       "      <td>1++1+1+4+1</td>\n",
       "      <td>3+1+1+3+1+1+1</td>\n",
       "      <td>1+5+1+3+1+5+1+1+1</td>\n",
       "      <td>3+4+4+4+2+3+2+2+30</td>\n",
       "      <td>NaN</td>\n",
       "      <td>0+0+2+0+2+0+1+0+2+0+2</td>\n",
       "      <td>Bipolar disorder</td>\n",
       "      <td>NaN</td>\n",
       "    </tr>\n",
       "    <tr>\n",
       "      <th>59</th>\n",
       "      <td>59</td>\n",
       "      <td>2025-09-17 14:29:13</td>\n",
       "      <td>2025-09-17 15:08:18</td>\n",
       "      <td>IP Address</td>\n",
       "      <td>130.219.10.91</td>\n",
       "      <td>100</td>\n",
       "      <td>2344</td>\n",
       "      <td>True</td>\n",
       "      <td>2025-09-17 15:08:19</td>\n",
       "      <td>R_3D1R9RbsrNiuIGw</td>\n",
       "      <td>...</td>\n",
       "      <td>0 = Absent, cooperative</td>\n",
       "      <td>0 = Appropriate dress and grooming</td>\n",
       "      <td>1++1+1+1+1</td>\n",
       "      <td>1+4+1+1+2+1+1</td>\n",
       "      <td>1+3+3+1+1+3+1+1+1</td>\n",
       "      <td>0+2+3+0+0+3+2+0+30</td>\n",
       "      <td>NaN</td>\n",
       "      <td>0+0+0+0+0+0+0+0+0+0+0</td>\n",
       "      <td>Unipolar depression</td>\n",
       "      <td>NaN</td>\n",
       "    </tr>\n",
       "    <tr>\n",
       "      <th>60</th>\n",
       "      <td>60</td>\n",
       "      <td>2025-09-17 19:48:41</td>\n",
       "      <td>2025-09-17 20:08:33</td>\n",
       "      <td>IP Address</td>\n",
       "      <td>132.183.13.119</td>\n",
       "      <td>100</td>\n",
       "      <td>1191</td>\n",
       "      <td>True</td>\n",
       "      <td>2025-09-17 20:08:34</td>\n",
       "      <td>R_6IZiOXPGe3xQTOH</td>\n",
       "      <td>...</td>\n",
       "      <td>0 = Absent, cooperative</td>\n",
       "      <td>0 = Appropriate dress and grooming</td>\n",
       "      <td>1++1+1+1+1</td>\n",
       "      <td>1+1+1+1+1+1+1</td>\n",
       "      <td>1+4+1+2+1+5+1+1+1</td>\n",
       "      <td>4+4+3+5+3+4+3+4+35</td>\n",
       "      <td>NaN</td>\n",
       "      <td>0+0+0+1+0+0+0+0+0+0+0</td>\n",
       "      <td>Unipolar depression</td>\n",
       "      <td>Generalized anxiety disorder (GAD)</td>\n",
       "    </tr>\n",
       "    <tr>\n",
       "      <th>61</th>\n",
       "      <td>61</td>\n",
       "      <td>2025-09-18 21:09:22</td>\n",
       "      <td>2025-09-18 22:39:43</td>\n",
       "      <td>IP Address</td>\n",
       "      <td>132.183.13.119</td>\n",
       "      <td>100</td>\n",
       "      <td>5420</td>\n",
       "      <td>True</td>\n",
       "      <td>2025-09-18 22:39:43</td>\n",
       "      <td>R_1lcCoxqFnK1oqyt</td>\n",
       "      <td>...</td>\n",
       "      <td>0 = Absent, cooperative</td>\n",
       "      <td>0 = Appropriate dress and grooming</td>\n",
       "      <td>2++2+2+2+2</td>\n",
       "      <td>2+1+1+1+1+1+1</td>\n",
       "      <td>3+5+4+3+2+4+1+1+2</td>\n",
       "      <td>2+4+4+6+3+3+2+3+32</td>\n",
       "      <td>NaN</td>\n",
       "      <td>1+0+0+0+0+0+0+0+0+0+1</td>\n",
       "      <td>Unipolar depression</td>\n",
       "      <td>PTSD/Adjustment Disorder/Other specified traum...</td>\n",
       "    </tr>\n",
       "    <tr>\n",
       "      <th>62</th>\n",
       "      <td>62</td>\n",
       "      <td>2025-09-23 18:34:42</td>\n",
       "      <td>2025-09-23 18:35:51</td>\n",
       "      <td>IP Address</td>\n",
       "      <td>69.119.141.180</td>\n",
       "      <td>100</td>\n",
       "      <td>68</td>\n",
       "      <td>True</td>\n",
       "      <td>2025-09-23 18:35:52</td>\n",
       "      <td>R_1upSWdpnb30QRDb</td>\n",
       "      <td>...</td>\n",
       "      <td>NaN</td>\n",
       "      <td>NaN</td>\n",
       "      <td>+++++++</td>\n",
       "      <td>++++++</td>\n",
       "      <td>++++++++</td>\n",
       "      <td>++++++++</td>\n",
       "      <td>NaN</td>\n",
       "      <td>++++++++++</td>\n",
       "      <td>NaN</td>\n",
       "      <td>NaN</td>\n",
       "    </tr>\n",
       "  </tbody>\n",
       "</table>\n",
       "<p>61 rows × 214 columns</p>\n",
       "</div>"
      ],
      "text/plain": [
       "    Unnamed: 0            StartDate              EndDate      Status  \\\n",
       "2            2  2025-06-06 15:10:05  2025-06-06 15:46:08  IP Address   \n",
       "3            3  2025-06-06 18:28:04  2025-06-06 18:39:10  IP Address   \n",
       "4            4  2025-06-10 19:17:09  2025-06-10 20:12:09  IP Address   \n",
       "5            5  2025-06-13 20:47:43  2025-06-13 21:20:12  IP Address   \n",
       "6            6  2025-06-13 21:36:47  2025-06-13 22:42:28  IP Address   \n",
       "..         ...                  ...                  ...         ...   \n",
       "58          58  2025-09-12 19:40:48  2025-09-12 21:25:56  IP Address   \n",
       "59          59  2025-09-17 14:29:13  2025-09-17 15:08:18  IP Address   \n",
       "60          60  2025-09-17 19:48:41  2025-09-17 20:08:33  IP Address   \n",
       "61          61  2025-09-18 21:09:22  2025-09-18 22:39:43  IP Address   \n",
       "62          62  2025-09-23 18:34:42  2025-09-23 18:35:51  IP Address   \n",
       "\n",
       "         IPAddress Progress Duration (in seconds) Finished  \\\n",
       "2    130.219.10.91      100                  2162     True   \n",
       "3    130.219.10.91      100                   666     True   \n",
       "4    130.219.10.91      100                  3299     True   \n",
       "5    130.219.10.91      100                  1948     True   \n",
       "6      67.81.84.35      100                  3941     True   \n",
       "..             ...      ...                   ...      ...   \n",
       "58    128.6.147.90      100                  6307     True   \n",
       "59   130.219.10.91      100                  2344     True   \n",
       "60  132.183.13.119      100                  1191     True   \n",
       "61  132.183.13.119      100                  5420     True   \n",
       "62  69.119.141.180      100                    68     True   \n",
       "\n",
       "           RecordedDate         ResponseId  ...  \\\n",
       "2   2025-06-06 15:46:09  R_71ueZczuWAgImQQ  ...   \n",
       "3   2025-06-06 18:39:11  R_5dELLaScSz3Pvfn  ...   \n",
       "4   2025-06-10 20:12:09  R_7QYoz5e9Fcg32we  ...   \n",
       "5   2025-06-13 21:20:12  R_1CkgUUiDZ5ytQ4V  ...   \n",
       "6   2025-06-13 22:42:28  R_5PaQpCvbznucVQK  ...   \n",
       "..                  ...                ...  ...   \n",
       "58  2025-09-12 21:25:57  R_6d3UBAbu2ky6bqG  ...   \n",
       "59  2025-09-17 15:08:19  R_3D1R9RbsrNiuIGw  ...   \n",
       "60  2025-09-17 20:08:34  R_6IZiOXPGe3xQTOH  ...   \n",
       "61  2025-09-18 22:39:43  R_1lcCoxqFnK1oqyt  ...   \n",
       "62  2025-09-23 18:35:52  R_1upSWdpnb30QRDb  ...   \n",
       "\n",
       "                                  ymrs_09                             ymrs_10  \\\n",
       "2                 0 = Absent, cooperative  0 = Appropriate dress and grooming   \n",
       "3                 0 = Absent, cooperative  0 = Appropriate dress and grooming   \n",
       "4                 0 = Absent, cooperative  0 = Appropriate dress and grooming   \n",
       "5                 0 = Absent, cooperative  0 = Appropriate dress and grooming   \n",
       "6                 0 = Absent, cooperative  0 = Appropriate dress and grooming   \n",
       "..                                    ...                                 ...   \n",
       "58  2 = Sarcastic; loud at times, guarded  0 = Appropriate dress and grooming   \n",
       "59                0 = Absent, cooperative  0 = Appropriate dress and grooming   \n",
       "60                0 = Absent, cooperative  0 = Appropriate dress and grooming   \n",
       "61                0 = Absent, cooperative  0 = Appropriate dress and grooming   \n",
       "62                                    NaN                                 NaN   \n",
       "\n",
       "   panss_p_total        panss_n_total              panss_g_total  \\\n",
       "2   1++1+1+33+33    33+1+33++33+33+33   33+33+33+33+33++33+33+33   \n",
       "3   1++1+1+33+33  33+1+33+33+33+33+33   33+2+33+33+33+1+33+33+33   \n",
       "4   2++2+1+33+33    33+3+33+2+2+33+33     2+2+2+33+33+2+33+33+33   \n",
       "5   1++1+1+33+33  33+1+33+33+33+33+33  33+2+33+33+33+33+33+33+33   \n",
       "6   1++1+1+33+33   33+1+33+33+2+33+33   2+3+33+33+33+33+33+33+33   \n",
       "..           ...                  ...                        ...   \n",
       "58    1++1+1+4+1        3+1+1+3+1+1+1          1+5+1+3+1+5+1+1+1   \n",
       "59    1++1+1+1+1        1+4+1+1+2+1+1          1+3+3+1+1+3+1+1+1   \n",
       "60    1++1+1+1+1        1+1+1+1+1+1+1          1+4+1+2+1+5+1+1+1   \n",
       "61    2++2+2+2+2        2+1+1+1+1+1+1          3+5+4+3+2+4+1+1+2   \n",
       "62       +++++++               ++++++                   ++++++++   \n",
       "\n",
       "           madrs_total Create New Field or Choose From Dropdown...  \\\n",
       "2   1+1+1+1+1+1+1+1+11                                         NaN   \n",
       "3   0+0+1+1+1+1+1+1+10                                         NaN   \n",
       "4   1+1+0+2+1+1+1+1+10                                         NaN   \n",
       "5   0+0+2+0+0+0+0+0+00                                         NaN   \n",
       "6   0+0+0+0+0+0+0+0+00                                         NaN   \n",
       "..                 ...                                         ...   \n",
       "58  3+4+4+4+2+3+2+2+30                                         NaN   \n",
       "59  0+2+3+0+0+3+2+0+30                                         NaN   \n",
       "60  4+4+3+5+3+4+3+4+35                                         NaN   \n",
       "61  2+4+4+6+3+3+2+3+32                                         NaN   \n",
       "62            ++++++++                                         NaN   \n",
       "\n",
       "               ymrs_total          primary_diagnoses_all  \\\n",
       "2    +0+0+0+0+0+0+0+0+0+0                Healthy control   \n",
       "3   1+0+0+0+0+0+0+0+0+0+0                Healthy control   \n",
       "4   1+2+0+1+0+0+0+0+0+0+0  Bipolar w/ psychotic features   \n",
       "5   1+0+0+0+0+0+0+0+0+0+0                Healthy control   \n",
       "6   0+0+0+0+0+0+0+0+0+0+0               Bipolar disorder   \n",
       "..                    ...                            ...   \n",
       "58  0+0+2+0+2+0+1+0+2+0+2               Bipolar disorder   \n",
       "59  0+0+0+0+0+0+0+0+0+0+0            Unipolar depression   \n",
       "60  0+0+0+1+0+0+0+0+0+0+0            Unipolar depression   \n",
       "61  1+0+0+0+0+0+0+0+0+0+1            Unipolar depression   \n",
       "62             ++++++++++                            NaN   \n",
       "\n",
       "                                  other_diagnoses_all  \n",
       "2                                                 NaN  \n",
       "3                                                 NaN  \n",
       "4                     Substance use disorder: Alcohol  \n",
       "5                                                 NaN  \n",
       "6   PTSD/Adjustment Disorder/Other specified traum...  \n",
       "..                                                ...  \n",
       "58                                                NaN  \n",
       "59                                                NaN  \n",
       "60                 Generalized anxiety disorder (GAD)  \n",
       "61  PTSD/Adjustment Disorder/Other specified traum...  \n",
       "62                                                NaN  \n",
       "\n",
       "[61 rows x 214 columns]"
      ]
     },
     "execution_count": 14,
     "metadata": {},
     "output_type": "execute_result"
    }
   ],
   "source": [
    "\n",
    "# Diagnoses\n",
    "cad = surveys['clinical_administered_data'][2:]\n",
    "prim_diagnoses_cols = ['SUBJECT_ID']+[col for col in cad if 'primary_diagnoses' in col]\n"
   ]
  },
  {
   "cell_type": "code",
   "execution_count": null,
   "metadata": {},
   "outputs": [],
   "source": []
  },
  {
   "cell_type": "code",
   "execution_count": null,
   "metadata": {},
   "outputs": [
    {
     "data": {
      "application/vnd.plotly.v1+json": {
       "config": {
        "plotlyServerURL": "https://plot.ly"
       },
       "data": [
        {
         "coloraxis": "coloraxis",
         "hovertemplate": "columns: %{x}<br>rows: %{y}<br>color: %{z}<extra></extra>",
         "name": "0",
         "type": "heatmap",
         "x": [
          "activityScore_hour01",
          "activityScore_hour02",
          "activityScore_hour03",
          "activityScore_hour04",
          "activityScore_hour05",
          "activityScore_hour06",
          "activityScore_hour07",
          "activityScore_hour08",
          "activityScore_hour09",
          "activityScore_hour10",
          "activityScore_hour11",
          "activityScore_hour12",
          "activityScore_hour13",
          "activityScore_hour14",
          "activityScore_hour15",
          "activityScore_hour16",
          "activityScore_hour17",
          "activityScore_hour18",
          "activityScore_hour19",
          "activityScore_hour20",
          "activityScore_hour21",
          "activityScore_hour22",
          "activityScore_hour23",
          "activityScore_hour24"
         ],
         "xaxis": "x",
         "y": [
          1,
          2,
          3,
          4,
          5,
          6,
          7,
          8,
          9,
          10,
          11,
          12,
          13,
          14,
          15,
          16,
          17,
          18,
          19,
          20,
          21,
          22,
          23,
          24,
          25,
          26,
          27,
          28,
          29,
          30,
          31,
          32,
          33,
          34,
          35,
          36,
          37,
          38,
          39,
          40,
          41,
          42,
          43,
          44,
          45,
          46,
          47,
          48,
          49,
          50,
          51,
          52,
          53,
          54,
          55,
          56,
          57,
          58,
          59,
          60,
          61,
          62,
          63,
          64
         ],
         "yaxis": "y",
         "z": [
          [
           null,
           null,
           null,
           null,
           null,
           null,
           null,
           null,
           null,
           null,
           null,
           null,
           null,
           null,
           null,
           null,
           null,
           null,
           null,
           null,
           null,
           null,
           null,
           null
          ],
          [
           null,
           null,
           null,
           null,
           null,
           null,
           null,
           null,
           null,
           null,
           null,
           null,
           null,
           3.11,
           null,
           null,
           4.87,
           4.22,
           3.94,
           4.85,
           4.58,
           4.86,
           5.46,
           4.5
          ],
          [
           null,
           3.25,
           null,
           null,
           null,
           null,
           5,
           3.85,
           3.21,
           4.22,
           3.88,
           3.43,
           3.11,
           null,
           3.59,
           3.96,
           2.62,
           2.64,
           4.31,
           4.5,
           4.83,
           5.29,
           3.88,
           1
          ],
          [
           null,
           null,
           2.25,
           2.44,
           2.19,
           2.49,
           4.05,
           4.53,
           3.3,
           3.49,
           3.28,
           3.58,
           3.81,
           3.12,
           4.13,
           4,
           3.41,
           5.32,
           5.06,
           4.5,
           3.71,
           4.14,
           3.78,
           4.02
          ],
          [
           4.6,
           4.37,
           2.16,
           2.39,
           2.29,
           2.62,
           2.74,
           4.11,
           4.5,
           5.27,
           4,
           null,
           5.8,
           3.89,
           2.9,
           3.24,
           3.46,
           4.81,
           4.24,
           1,
           2.68,
           3.69,
           3.35,
           4.63
          ],
          [
           4.25,
           null,
           3,
           null,
           null,
           null,
           4.93,
           5.05,
           4.32,
           4.81,
           3.83,
           3.94,
           3.77,
           3.54,
           4.88,
           3.12,
           5.1,
           5.16,
           4.83,
           4.4,
           4.48,
           3.68,
           3.87,
           3.9
          ],
          [
           5,
           3.19,
           2.51,
           3.19,
           3,
           3.09,
           3.06,
           2.81,
           3.02,
           2.7,
           2.71,
           4.75,
           4.42,
           3.93,
           2.45,
           2.67,
           3.26,
           5.17,
           4.98,
           4.84,
           2.65,
           3.04,
           1,
           3.43
          ],
          [
           3.69,
           2.16,
           2.32,
           2.25,
           2.24,
           2.46,
           4.52,
           4.67,
           4.32,
           4.23,
           3.23,
           3.05,
           2.59,
           4.22,
           4.22,
           4.63,
           4.71,
           3.06,
           3.5,
           4.4,
           3.95,
           3.15,
           1.04,
           1
          ],
          [
           3.69,
           2.46,
           1,
           1,
           1,
           2.15,
           4.07,
           4.16,
           3.84,
           1.94,
           1.94,
           2.2,
           3.15,
           2.5,
           3.57,
           4.31,
           4.63,
           4.12,
           4.38,
           2.71,
           4.86,
           4.69,
           2.26,
           null
          ],
          [
           1,
           null,
           null,
           null,
           null,
           null,
           4.69,
           4.34,
           3.34,
           4.41,
           4.04,
           3.46,
           4.79,
           null,
           null,
           null,
           null,
           5,
           5.17,
           5.1,
           3.59,
           3.55,
           2.25,
           2.85
          ],
          [
           3.05,
           3.14,
           1.33,
           1,
           1.11,
           4.42,
           4.3,
           3.33,
           3.34,
           4.02,
           3.35,
           3.5,
           3.28,
           4.74,
           3.8,
           5,
           4.25,
           4.21,
           4.52,
           3.26,
           3.24,
           3.71,
           3.19,
           3.27
          ],
          [
           3.3,
           1.77,
           1.97,
           1.82,
           2.45,
           1.1,
           1.98,
           3.64,
           4.53,
           3.49,
           4.76,
           2.25,
           4,
           null,
           null,
           4.34,
           2.93,
           3,
           2.67,
           4.75,
           5.03,
           4.78,
           4.43,
           2.96
          ],
          [
           1.74,
           2.32,
           1.1,
           1.19,
           1,
           2.38,
           3,
           1.76,
           null,
           4.14,
           4.59,
           3.87,
           4.18,
           3.39,
           3.86,
           2.56,
           3.19,
           null,
           null,
           4.36,
           4.56,
           1.21,
           3.26,
           4.59
          ],
          [
           3.79,
           1,
           2.76,
           2.63,
           3.23,
           3.12,
           3.12,
           3.33,
           4.27,
           3.5,
           3.11,
           3.38,
           3.81,
           3.81,
           4.55,
           3.92,
           3.32,
           5.33,
           null,
           null,
           3.51,
           3.35,
           3.7,
           3.73
          ],
          [
           2.65,
           2.27,
           3.37,
           3.03,
           2.97,
           3.23,
           5.48,
           5.08,
           3.93,
           3.58,
           4.06,
           4,
           3.65,
           3.12,
           3.17,
           3.67,
           null,
           4.25,
           3.87,
           4.13,
           4.75,
           3.92,
           1,
           2.98
          ],
          [
           2.96,
           3.04,
           2.22,
           1.07,
           1,
           2.84,
           3.27,
           2.78,
           4.95,
           4.44,
           4.11,
           3.63,
           4.13,
           5.21,
           null,
           5.21,
           5.09,
           null,
           2.58,
           4.16,
           3.89,
           4.54,
           3.92,
           2.7
          ],
          [
           4.15,
           4.1,
           3.36,
           null,
           null,
           null,
           null,
           null,
           3.14,
           2.3,
           3.92,
           4.08,
           4.73,
           3.27,
           3.96,
           4.33,
           5.04,
           4.64,
           4.25,
           3.98,
           3.88,
           4.23,
           3,
           2.9
          ],
          [
           2.53,
           2.21,
           4.06,
           3.18,
           2.98,
           2.93,
           5.44,
           3.71,
           3.67,
           1.63,
           3.05,
           3.98,
           4.51,
           3.64,
           3.02,
           3.2,
           4.49,
           4.68,
           2.85,
           3.11,
           1,
           null,
           2.04,
           2.23
          ],
          [
           2.17,
           2.18,
           2.06,
           2.12,
           2.09,
           2.11,
           2.52,
           3.39,
           4.21,
           4.25,
           3.28,
           null,
           null,
           null,
           3.64,
           4.04,
           4.5,
           4.88,
           4.78,
           4.8,
           2.73,
           3.58,
           3.67,
           3.12
          ],
          [
           2.25,
           null,
           null,
           null,
           null,
           null,
           null,
           4.24,
           4.16,
           4.83,
           4.92,
           4.69,
           5,
           4.45,
           4.67,
           2.74,
           4.89,
           3.3,
           4.68,
           4.71,
           4.33,
           4.51,
           4.26,
           4.93
          ],
          [
           3.2,
           2.9,
           null,
           null,
           null,
           null,
           null,
           4.13,
           4.35,
           3.58,
           3.76,
           3.36,
           4.19,
           4.75,
           3.92,
           3.55,
           3.97,
           2.76,
           3.48,
           4.88,
           4.06,
           2.75,
           2.58,
           2.38
          ],
          [
           2.21,
           2.13,
           2.54,
           2.38,
           2.36,
           3.13,
           5.42,
           3.96,
           3.57,
           2.62,
           3.24,
           3.18,
           3.96,
           4.25,
           3.54,
           2.31,
           2.63,
           4.51,
           4.55,
           4.81,
           3.43,
           3.5,
           null,
           3.2
          ],
          [
           null,
           null,
           null,
           null,
           null,
           null,
           null,
           3.27,
           4.5,
           4.45,
           3.04,
           3.7,
           2.83,
           4.71,
           4.39,
           5.48,
           4.4,
           4.72,
           null,
           null,
           3.35,
           4.76,
           5.08,
           2.89
          ],
          [
           2.78,
           2,
           null,
           1,
           null,
           null,
           null,
           null,
           4.34,
           3.73,
           2.73,
           2.78,
           2.83,
           null,
           null,
           4.4,
           null,
           4.3,
           3.41,
           3.2,
           2.32,
           2.21,
           4.25,
           3.87
          ],
          [
           2.33,
           2.17,
           2.23,
           2.09,
           2.09,
           2.5,
           4.15,
           4.95,
           3.27,
           3.28,
           3.64,
           3.62,
           4.06,
           4.79,
           3.71,
           4.48,
           2.72,
           3,
           1.93,
           2.78,
           4.11,
           4.8,
           4.76,
           3.56
          ],
          [
           2.1,
           2.07,
           2.06,
           1.95,
           1.98,
           3.27,
           5.33,
           4.79,
           4.98,
           4.49,
           3.31,
           4.18,
           3.75,
           3.43,
           2.95,
           3.52,
           4.23,
           5.09,
           4.56,
           5.16,
           5,
           4.93,
           null,
           3.38
          ],
          [
           4.34,
           3.08,
           2.81,
           3.08,
           3,
           2.98,
           3.28,
           3.18,
           2.75,
           2.02,
           4.35,
           4.19,
           3.76,
           4.72,
           5.55,
           5,
           null,
           null,
           4.63,
           4.94,
           4.24,
           4.58,
           4.02,
           4.92
          ],
          [
           4.6,
           4.5,
           4.54,
           3.92,
           3,
           null,
           1.4,
           null,
           null,
           null,
           5.2,
           4.64,
           4.5,
           3.81,
           4.91,
           4.77,
           4.64,
           4.86,
           4.09,
           4,
           4.5,
           4.24,
           4.49,
           null
          ],
          [
           4.5,
           3.67,
           2.51,
           2.5,
           2.22,
           2.46,
           4.36,
           5.4,
           3.95,
           4.24,
           1.48,
           3.1,
           4.36,
           3.94,
           3.44,
           3.35,
           4.93,
           4.88,
           3.24,
           4.24,
           4.06,
           3.63,
           4.71,
           4.33
          ],
          [
           4,
           1.06,
           1.11,
           1.14,
           1.3,
           1.92,
           2.73,
           1.63,
           3.82,
           3.58,
           4.67,
           4.39,
           4.73,
           4.65,
           2.73,
           3.2,
           2.39,
           2.86,
           4.71,
           4.3,
           4.48,
           4.64,
           4.57,
           2.44
          ],
          [
           3,
           2.1,
           3.58,
           3.09,
           3.07,
           3.16,
           4.96,
           5.38,
           4.88,
           null,
           3.61,
           4.29,
           3.75,
           4.69,
           4.07,
           2.7,
           5.3,
           4.33,
           4.5,
           4.55,
           5,
           3.81,
           4.76,
           5.11
          ],
          [
           5.05,
           null,
           null,
           null,
           null,
           null,
           null,
           null,
           4.5,
           4.52,
           4.47,
           4.85,
           2.93,
           4.45,
           4.31,
           3,
           2.03,
           3.22,
           4.49,
           4.7,
           4.11,
           4.44,
           2.56,
           4.33
          ],
          [
           4.77,
           null,
           null,
           null,
           null,
           null,
           2.83,
           3.17,
           4.15,
           4.25,
           4.42,
           4.96,
           3.73,
           4.16,
           4.4,
           5.5,
           1.5,
           2.55,
           3.1,
           3.14,
           3.73,
           4.34,
           4.17,
           4
          ],
          [
           3.96,
           3.76,
           3.06,
           null,
           3.27,
           3.8,
           3.24,
           2.88,
           4.44,
           4.06,
           5.14,
           4.4,
           4.25,
           4.51,
           4.89,
           4.81,
           5.17,
           null,
           1.85,
           3.98,
           4.43,
           4.64,
           4.62,
           3.92
          ],
          [
           4.4,
           null,
           null,
           null,
           null,
           null,
           null,
           null,
           4.13,
           3.98,
           4.46,
           2,
           3.43,
           3.19,
           3.31,
           4.19,
           3.13,
           4.85,
           4.96,
           4.83,
           4.47,
           4.5,
           4.25,
           3.21
          ],
          [
           5.32,
           4.31,
           4.52,
           2.75,
           null,
           null,
           null,
           null,
           3.87,
           4.58,
           4.67,
           3.89,
           4.1,
           3.73,
           3.93,
           3.54,
           3.55,
           2.9,
           4.79,
           2.5,
           1.05,
           1.06,
           1,
           1
          ],
          [
           3.23,
           1,
           1,
           1,
           1,
           2,
           4.55,
           3.38,
           4.28,
           4.37,
           3.82,
           3.78,
           3.48,
           3.18,
           null,
           4.33,
           3.16,
           3.65,
           4.89,
           5.11,
           4.9,
           3.64,
           2.79,
           2.98
          ],
          [
           3.17,
           3.04,
           3.12,
           2.84,
           2.46,
           2.7,
           3.69,
           5.25,
           4.88,
           4.42,
           2.65,
           1.48,
           null,
           null,
           null,
           null,
           null,
           null,
           4.7,
           4,
           4.36,
           4.45,
           5.06,
           3.92
          ],
          [
           1.38,
           1,
           1,
           1,
           1.38,
           2.73,
           4.23,
           4.58,
           4.51,
           3.8,
           1.33,
           3.41,
           3.86,
           4.63,
           4.2,
           3.67,
           4.86,
           4.06,
           3.36,
           5.06,
           null,
           3.17,
           3.77,
           4.23
          ],
          [
           2.94,
           2.61,
           3.13,
           2.92,
           2.98,
           3.11,
           4.81,
           5.28,
           3.32,
           4.98,
           3.22,
           2.7,
           2.19,
           3,
           4.1,
           4.1,
           2.96,
           4.76,
           4.81,
           4.64,
           3.38,
           3.09,
           4.71,
           1
          ],
          [
           1,
           1.59,
           2.31,
           2.15,
           2.25,
           2.3,
           2.9,
           4.35,
           3.47,
           1.75,
           3.97,
           4.73,
           4.54,
           4.41,
           4.06,
           4.15,
           4.13,
           3.48,
           4.23,
           4.5,
           4.66,
           3.32,
           2.88,
           3.5
          ],
          [
           4.68,
           4.2,
           1.16,
           null,
           1,
           1,
           1.15,
           1.43,
           2.31,
           3.03,
           3.91,
           3.88,
           5.12,
           5.42,
           4.63,
           3.22,
           3.98,
           4.44,
           1.22,
           3,
           2.03,
           1,
           null,
           2.54
          ],
          [
           4.38,
           2.52,
           2.48,
           2.56,
           2.28,
           2.56,
           4.4,
           5.3,
           4.02,
           2.68,
           1.46,
           1,
           3.05,
           4.18,
           4.36,
           3.24,
           3.08,
           4.15,
           4.06,
           3,
           3.9,
           4.13,
           4.34,
           3.76
          ],
          [
           2.5,
           2.23,
           2.2,
           2.32,
           2.27,
           2.55,
           3.3,
           4.39,
           3.7,
           2.39,
           2.29,
           3.71,
           3.78,
           4.76,
           null,
           4.17,
           3,
           4.13,
           4,
           null,
           null,
           null,
           null,
           4
          ],
          [
           3.79,
           2.13,
           2.09,
           2.28,
           2.11,
           2.54,
           4.43,
           4.82,
           4.21,
           3.98,
           3.51,
           2.89,
           3.71,
           5.1,
           3.22,
           3,
           4.13,
           4.47,
           4.77,
           4.12,
           4.12,
           4.21,
           null,
           null
          ],
          [
           null,
           null,
           null,
           null,
           null,
           null,
           5,
           4.09,
           3.07,
           3.62,
           3.84,
           3.76,
           4.37,
           3.98,
           1.09,
           2.46,
           2.71,
           null,
           null,
           null,
           4.17,
           4.6,
           4.52,
           4.38
          ],
          [
           3.91,
           1.84,
           2.42,
           2.28,
           2.19,
           2.27,
           4.31,
           5.12,
           3.73,
           4.41,
           4.75,
           5.04,
           3.86,
           2.93,
           2.9,
           3.65,
           3.36,
           4.11,
           4.9,
           4.42,
           4.54,
           3.67,
           null,
           3.15
          ],
          [
           4.46,
           3,
           3,
           3.16,
           3,
           3.06,
           3.19,
           3.56,
           3.91,
           3.53,
           3.12,
           3.05,
           3.9,
           3.51,
           3.88,
           4.46,
           3.81,
           3.89,
           3.64,
           4.95,
           4.24,
           4.89,
           null,
           null
          ],
          [
           null,
           null,
           2.72,
           2.83,
           2.9,
           3,
           2.86,
           1.88,
           3.77,
           3.96,
           4.41,
           3.57,
           3.12,
           3.54,
           5.46,
           4.94,
           1.63,
           1.29,
           1,
           1.2,
           4.63,
           null,
           3.74,
           3.55
          ],
          [
           1.16,
           1.58,
           3.14,
           2.11,
           2.21,
           3.17,
           1.65,
           3.65,
           2.73,
           2.65,
           2.68,
           2.63,
           3.57,
           2.04,
           1.68,
           2.49,
           2.71,
           3.25,
           2.75,
           2.59,
           2.71,
           3.24,
           3.58,
           4.54
          ],
          [
           2.59,
           1.07,
           1.98,
           2.19,
           2.26,
           1.7,
           1.57,
           1.06,
           1,
           1.1,
           2.44,
           3.55,
           4.56,
           4.4,
           5.29,
           5,
           4.21,
           4.47,
           3.26,
           3.58,
           4.41,
           2.77,
           4.48,
           3.11
          ],
          [
           4.25,
           null,
           null,
           null,
           null,
           null,
           null,
           null,
           4.26,
           3.7,
           2.8,
           4.26,
           2.23,
           2.54,
           4.19,
           3.02,
           1.86,
           3.24,
           4.88,
           5.06,
           4.67,
           null,
           2.9,
           2.89
          ],
          [
           2.61,
           2.75,
           2.65,
           3.4,
           2.63,
           2.53,
           4.29,
           5.14,
           4.34,
           4.25,
           3.92,
           3.64,
           3.52,
           4.41,
           4.95,
           6,
           3.74,
           2.8,
           4.7,
           4.21,
           4.77,
           4.58,
           4.56,
           4.12
          ],
          [
           3.27,
           3.23,
           3.07,
           null,
           null,
           null,
           null,
           null,
           4.18,
           4.1,
           2.14,
           2.19,
           2.71,
           3.12,
           3.28,
           3.63,
           5,
           5.33,
           null,
           null,
           5.45,
           4.18,
           4.07,
           2.62
          ],
          [
           2.88,
           2.16,
           2.85,
           3.09,
           3.25,
           1,
           1,
           2.6,
           3.64,
           5.04,
           4.32,
           5.51,
           4.85,
           5.32,
           4.63,
           3.73,
           4.35,
           3.94,
           4.57,
           4.82,
           4.68,
           null,
           3.93,
           null
          ],
          [
           null,
           4.52,
           2.86,
           null,
           1,
           null,
           null,
           null,
           null,
           4.42,
           4.29,
           4.61,
           4.79,
           4.13,
           4.37,
           4.47,
           3.69,
           null,
           null,
           null,
           null,
           null,
           null,
           null
          ],
          [
           4.47,
           3.88,
           1.31,
           1,
           1.64,
           1,
           1,
           1.55,
           4.62,
           3.25,
           4.3,
           3.53,
           3.66,
           3.23,
           4.52,
           4.76,
           5.23,
           4.36,
           null,
           null,
           3.6,
           4.15,
           3.48,
           3.57
          ],
          [
           4.22,
           4.49,
           4,
           2.75,
           2.12,
           2.06,
           2.17,
           null,
           4,
           4,
           3.69,
           3.23,
           3.84,
           4.44,
           4.73,
           5.04,
           4.33,
           3.31,
           3.02,
           3.52,
           4.35,
           5.27,
           4.61,
           4.73
          ],
          [
           1,
           null,
           null,
           null,
           null,
           null,
           null,
           4.14,
           4.1,
           4.55,
           4.56,
           4.25,
           4.93,
           3.73,
           3.91,
           4.48,
           null,
           null,
           null,
           3.32,
           2.76,
           4.82,
           4.52,
           4.22
          ],
          [
           null,
           4,
           null,
           null,
           null,
           null,
           null,
           null,
           4.39,
           4.5,
           4.56,
           4.85,
           3.98,
           4.51,
           4.48,
           4.09,
           3.63,
           null,
           null,
           4.18,
           4.3,
           3.27,
           4.07,
           1.53
          ],
          [
           3.45,
           1.69,
           1.08,
           1,
           1.39,
           2.16,
           null,
           4.57,
           4.92,
           5.37,
           3.94,
           4.36,
           4.86,
           4.32,
           3.62,
           3.36,
           1.16,
           2.94,
           4.7,
           4.1,
           4,
           4.33,
           4.71,
           4.19
          ],
          [
           3.94,
           3.06,
           3.64,
           3.19,
           1.31,
           1.34,
           1.83,
           3.48,
           5.45,
           4.62,
           4.96,
           2.11,
           4.07,
           4.31,
           4.94,
           4.21,
           4.46,
           3,
           3.5,
           3.54,
           3.68,
           3.94,
           4,
           null
          ],
          [
           null,
           2,
           null,
           null,
           null,
           null,
           null,
           3.78,
           2.94,
           2.77,
           2.93,
           3.48,
           4.24,
           3.83,
           3.04,
           3.49,
           4.79,
           4.9,
           4.86,
           null,
           null,
           2.64,
           3.09,
           2.3
          ],
          [
           2.33,
           2.29,
           2.15,
           2.23,
           2.15,
           2.31,
           3,
           5.13,
           4.94,
           4.26,
           4.4,
           3.94,
           3.96,
           null,
           null,
           null,
           null,
           null,
           null,
           null,
           null,
           null,
           null,
           null
          ]
         ]
        }
       ],
       "layout": {
        "coloraxis": {
         "cmax": 5,
         "cmin": 0,
         "colorscale": [
          [
           0,
           "#0d0887"
          ],
          [
           0.1111111111111111,
           "#46039f"
          ],
          [
           0.2222222222222222,
           "#7201a8"
          ],
          [
           0.3333333333333333,
           "#9c179e"
          ],
          [
           0.4444444444444444,
           "#bd3786"
          ],
          [
           0.5555555555555556,
           "#d8576b"
          ],
          [
           0.6666666666666666,
           "#ed7953"
          ],
          [
           0.7777777777777778,
           "#fb9f3a"
          ],
          [
           0.8888888888888888,
           "#fdca26"
          ],
          [
           1,
           "#f0f921"
          ]
         ]
        },
        "height": 400,
        "template": {
         "data": {
          "bar": [
           {
            "error_x": {
             "color": "#2a3f5f"
            },
            "error_y": {
             "color": "#2a3f5f"
            },
            "marker": {
             "line": {
              "color": "#E5ECF6",
              "width": 0.5
             },
             "pattern": {
              "fillmode": "overlay",
              "size": 10,
              "solidity": 0.2
             }
            },
            "type": "bar"
           }
          ],
          "barpolar": [
           {
            "marker": {
             "line": {
              "color": "#E5ECF6",
              "width": 0.5
             },
             "pattern": {
              "fillmode": "overlay",
              "size": 10,
              "solidity": 0.2
             }
            },
            "type": "barpolar"
           }
          ],
          "carpet": [
           {
            "aaxis": {
             "endlinecolor": "#2a3f5f",
             "gridcolor": "white",
             "linecolor": "white",
             "minorgridcolor": "white",
             "startlinecolor": "#2a3f5f"
            },
            "baxis": {
             "endlinecolor": "#2a3f5f",
             "gridcolor": "white",
             "linecolor": "white",
             "minorgridcolor": "white",
             "startlinecolor": "#2a3f5f"
            },
            "type": "carpet"
           }
          ],
          "choropleth": [
           {
            "colorbar": {
             "outlinewidth": 0,
             "ticks": ""
            },
            "type": "choropleth"
           }
          ],
          "contour": [
           {
            "colorbar": {
             "outlinewidth": 0,
             "ticks": ""
            },
            "colorscale": [
             [
              0,
              "#0d0887"
             ],
             [
              0.1111111111111111,
              "#46039f"
             ],
             [
              0.2222222222222222,
              "#7201a8"
             ],
             [
              0.3333333333333333,
              "#9c179e"
             ],
             [
              0.4444444444444444,
              "#bd3786"
             ],
             [
              0.5555555555555556,
              "#d8576b"
             ],
             [
              0.6666666666666666,
              "#ed7953"
             ],
             [
              0.7777777777777778,
              "#fb9f3a"
             ],
             [
              0.8888888888888888,
              "#fdca26"
             ],
             [
              1,
              "#f0f921"
             ]
            ],
            "type": "contour"
           }
          ],
          "contourcarpet": [
           {
            "colorbar": {
             "outlinewidth": 0,
             "ticks": ""
            },
            "type": "contourcarpet"
           }
          ],
          "heatmap": [
           {
            "colorbar": {
             "outlinewidth": 0,
             "ticks": ""
            },
            "colorscale": [
             [
              0,
              "#0d0887"
             ],
             [
              0.1111111111111111,
              "#46039f"
             ],
             [
              0.2222222222222222,
              "#7201a8"
             ],
             [
              0.3333333333333333,
              "#9c179e"
             ],
             [
              0.4444444444444444,
              "#bd3786"
             ],
             [
              0.5555555555555556,
              "#d8576b"
             ],
             [
              0.6666666666666666,
              "#ed7953"
             ],
             [
              0.7777777777777778,
              "#fb9f3a"
             ],
             [
              0.8888888888888888,
              "#fdca26"
             ],
             [
              1,
              "#f0f921"
             ]
            ],
            "type": "heatmap"
           }
          ],
          "heatmapgl": [
           {
            "colorbar": {
             "outlinewidth": 0,
             "ticks": ""
            },
            "colorscale": [
             [
              0,
              "#0d0887"
             ],
             [
              0.1111111111111111,
              "#46039f"
             ],
             [
              0.2222222222222222,
              "#7201a8"
             ],
             [
              0.3333333333333333,
              "#9c179e"
             ],
             [
              0.4444444444444444,
              "#bd3786"
             ],
             [
              0.5555555555555556,
              "#d8576b"
             ],
             [
              0.6666666666666666,
              "#ed7953"
             ],
             [
              0.7777777777777778,
              "#fb9f3a"
             ],
             [
              0.8888888888888888,
              "#fdca26"
             ],
             [
              1,
              "#f0f921"
             ]
            ],
            "type": "heatmapgl"
           }
          ],
          "histogram": [
           {
            "marker": {
             "pattern": {
              "fillmode": "overlay",
              "size": 10,
              "solidity": 0.2
             }
            },
            "type": "histogram"
           }
          ],
          "histogram2d": [
           {
            "colorbar": {
             "outlinewidth": 0,
             "ticks": ""
            },
            "colorscale": [
             [
              0,
              "#0d0887"
             ],
             [
              0.1111111111111111,
              "#46039f"
             ],
             [
              0.2222222222222222,
              "#7201a8"
             ],
             [
              0.3333333333333333,
              "#9c179e"
             ],
             [
              0.4444444444444444,
              "#bd3786"
             ],
             [
              0.5555555555555556,
              "#d8576b"
             ],
             [
              0.6666666666666666,
              "#ed7953"
             ],
             [
              0.7777777777777778,
              "#fb9f3a"
             ],
             [
              0.8888888888888888,
              "#fdca26"
             ],
             [
              1,
              "#f0f921"
             ]
            ],
            "type": "histogram2d"
           }
          ],
          "histogram2dcontour": [
           {
            "colorbar": {
             "outlinewidth": 0,
             "ticks": ""
            },
            "colorscale": [
             [
              0,
              "#0d0887"
             ],
             [
              0.1111111111111111,
              "#46039f"
             ],
             [
              0.2222222222222222,
              "#7201a8"
             ],
             [
              0.3333333333333333,
              "#9c179e"
             ],
             [
              0.4444444444444444,
              "#bd3786"
             ],
             [
              0.5555555555555556,
              "#d8576b"
             ],
             [
              0.6666666666666666,
              "#ed7953"
             ],
             [
              0.7777777777777778,
              "#fb9f3a"
             ],
             [
              0.8888888888888888,
              "#fdca26"
             ],
             [
              1,
              "#f0f921"
             ]
            ],
            "type": "histogram2dcontour"
           }
          ],
          "mesh3d": [
           {
            "colorbar": {
             "outlinewidth": 0,
             "ticks": ""
            },
            "type": "mesh3d"
           }
          ],
          "parcoords": [
           {
            "line": {
             "colorbar": {
              "outlinewidth": 0,
              "ticks": ""
             }
            },
            "type": "parcoords"
           }
          ],
          "pie": [
           {
            "automargin": true,
            "type": "pie"
           }
          ],
          "scatter": [
           {
            "fillpattern": {
             "fillmode": "overlay",
             "size": 10,
             "solidity": 0.2
            },
            "type": "scatter"
           }
          ],
          "scatter3d": [
           {
            "line": {
             "colorbar": {
              "outlinewidth": 0,
              "ticks": ""
             }
            },
            "marker": {
             "colorbar": {
              "outlinewidth": 0,
              "ticks": ""
             }
            },
            "type": "scatter3d"
           }
          ],
          "scattercarpet": [
           {
            "marker": {
             "colorbar": {
              "outlinewidth": 0,
              "ticks": ""
             }
            },
            "type": "scattercarpet"
           }
          ],
          "scattergeo": [
           {
            "marker": {
             "colorbar": {
              "outlinewidth": 0,
              "ticks": ""
             }
            },
            "type": "scattergeo"
           }
          ],
          "scattergl": [
           {
            "marker": {
             "colorbar": {
              "outlinewidth": 0,
              "ticks": ""
             }
            },
            "type": "scattergl"
           }
          ],
          "scattermapbox": [
           {
            "marker": {
             "colorbar": {
              "outlinewidth": 0,
              "ticks": ""
             }
            },
            "type": "scattermapbox"
           }
          ],
          "scatterpolar": [
           {
            "marker": {
             "colorbar": {
              "outlinewidth": 0,
              "ticks": ""
             }
            },
            "type": "scatterpolar"
           }
          ],
          "scatterpolargl": [
           {
            "marker": {
             "colorbar": {
              "outlinewidth": 0,
              "ticks": ""
             }
            },
            "type": "scatterpolargl"
           }
          ],
          "scatterternary": [
           {
            "marker": {
             "colorbar": {
              "outlinewidth": 0,
              "ticks": ""
             }
            },
            "type": "scatterternary"
           }
          ],
          "surface": [
           {
            "colorbar": {
             "outlinewidth": 0,
             "ticks": ""
            },
            "colorscale": [
             [
              0,
              "#0d0887"
             ],
             [
              0.1111111111111111,
              "#46039f"
             ],
             [
              0.2222222222222222,
              "#7201a8"
             ],
             [
              0.3333333333333333,
              "#9c179e"
             ],
             [
              0.4444444444444444,
              "#bd3786"
             ],
             [
              0.5555555555555556,
              "#d8576b"
             ],
             [
              0.6666666666666666,
              "#ed7953"
             ],
             [
              0.7777777777777778,
              "#fb9f3a"
             ],
             [
              0.8888888888888888,
              "#fdca26"
             ],
             [
              1,
              "#f0f921"
             ]
            ],
            "type": "surface"
           }
          ],
          "table": [
           {
            "cells": {
             "fill": {
              "color": "#EBF0F8"
             },
             "line": {
              "color": "white"
             }
            },
            "header": {
             "fill": {
              "color": "#C8D4E3"
             },
             "line": {
              "color": "white"
             }
            },
            "type": "table"
           }
          ]
         },
         "layout": {
          "annotationdefaults": {
           "arrowcolor": "#2a3f5f",
           "arrowhead": 0,
           "arrowwidth": 1
          },
          "autotypenumbers": "strict",
          "coloraxis": {
           "colorbar": {
            "outlinewidth": 0,
            "ticks": ""
           }
          },
          "colorscale": {
           "diverging": [
            [
             0,
             "#8e0152"
            ],
            [
             0.1,
             "#c51b7d"
            ],
            [
             0.2,
             "#de77ae"
            ],
            [
             0.3,
             "#f1b6da"
            ],
            [
             0.4,
             "#fde0ef"
            ],
            [
             0.5,
             "#f7f7f7"
            ],
            [
             0.6,
             "#e6f5d0"
            ],
            [
             0.7,
             "#b8e186"
            ],
            [
             0.8,
             "#7fbc41"
            ],
            [
             0.9,
             "#4d9221"
            ],
            [
             1,
             "#276419"
            ]
           ],
           "sequential": [
            [
             0,
             "#0d0887"
            ],
            [
             0.1111111111111111,
             "#46039f"
            ],
            [
             0.2222222222222222,
             "#7201a8"
            ],
            [
             0.3333333333333333,
             "#9c179e"
            ],
            [
             0.4444444444444444,
             "#bd3786"
            ],
            [
             0.5555555555555556,
             "#d8576b"
            ],
            [
             0.6666666666666666,
             "#ed7953"
            ],
            [
             0.7777777777777778,
             "#fb9f3a"
            ],
            [
             0.8888888888888888,
             "#fdca26"
            ],
            [
             1,
             "#f0f921"
            ]
           ],
           "sequentialminus": [
            [
             0,
             "#0d0887"
            ],
            [
             0.1111111111111111,
             "#46039f"
            ],
            [
             0.2222222222222222,
             "#7201a8"
            ],
            [
             0.3333333333333333,
             "#9c179e"
            ],
            [
             0.4444444444444444,
             "#bd3786"
            ],
            [
             0.5555555555555556,
             "#d8576b"
            ],
            [
             0.6666666666666666,
             "#ed7953"
            ],
            [
             0.7777777777777778,
             "#fb9f3a"
            ],
            [
             0.8888888888888888,
             "#fdca26"
            ],
            [
             1,
             "#f0f921"
            ]
           ]
          },
          "colorway": [
           "#636efa",
           "#EF553B",
           "#00cc96",
           "#ab63fa",
           "#FFA15A",
           "#19d3f3",
           "#FF6692",
           "#B6E880",
           "#FF97FF",
           "#FECB52"
          ],
          "font": {
           "color": "#2a3f5f"
          },
          "geo": {
           "bgcolor": "white",
           "lakecolor": "white",
           "landcolor": "#E5ECF6",
           "showlakes": true,
           "showland": true,
           "subunitcolor": "white"
          },
          "hoverlabel": {
           "align": "left"
          },
          "hovermode": "closest",
          "mapbox": {
           "style": "light"
          },
          "paper_bgcolor": "white",
          "plot_bgcolor": "#E5ECF6",
          "polar": {
           "angularaxis": {
            "gridcolor": "white",
            "linecolor": "white",
            "ticks": ""
           },
           "bgcolor": "#E5ECF6",
           "radialaxis": {
            "gridcolor": "white",
            "linecolor": "white",
            "ticks": ""
           }
          },
          "scene": {
           "xaxis": {
            "backgroundcolor": "#E5ECF6",
            "gridcolor": "white",
            "gridwidth": 2,
            "linecolor": "white",
            "showbackground": true,
            "ticks": "",
            "zerolinecolor": "white"
           },
           "yaxis": {
            "backgroundcolor": "#E5ECF6",
            "gridcolor": "white",
            "gridwidth": 2,
            "linecolor": "white",
            "showbackground": true,
            "ticks": "",
            "zerolinecolor": "white"
           },
           "zaxis": {
            "backgroundcolor": "#E5ECF6",
            "gridcolor": "white",
            "gridwidth": 2,
            "linecolor": "white",
            "showbackground": true,
            "ticks": "",
            "zerolinecolor": "white"
           }
          },
          "shapedefaults": {
           "line": {
            "color": "#2a3f5f"
           }
          },
          "ternary": {
           "aaxis": {
            "gridcolor": "white",
            "linecolor": "white",
            "ticks": ""
           },
           "baxis": {
            "gridcolor": "white",
            "linecolor": "white",
            "ticks": ""
           },
           "bgcolor": "#E5ECF6",
           "caxis": {
            "gridcolor": "white",
            "linecolor": "white",
            "ticks": ""
           }
          },
          "title": {
           "x": 0.05
          },
          "xaxis": {
           "automargin": true,
           "gridcolor": "white",
           "linecolor": "white",
           "ticks": "",
           "title": {
            "standoff": 15
           },
           "zerolinecolor": "white",
           "zerolinewidth": 2
          },
          "yaxis": {
           "automargin": true,
           "gridcolor": "white",
           "linecolor": "white",
           "ticks": "",
           "title": {
            "standoff": 15
           },
           "zerolinecolor": "white",
           "zerolinewidth": 2
          }
         }
        },
        "title": {
         "text": "Activity Scores for PCT927"
        },
        "width": 600,
        "xaxis": {
         "anchor": "y",
         "domain": [
          0,
          1
         ],
         "title": {
          "text": "columns"
         }
        },
        "yaxis": {
         "anchor": "x",
         "autorange": true,
         "domain": [
          0,
          1
         ],
         "title": {
          "text": "rows"
         }
        }
       }
      }
     },
     "metadata": {},
     "output_type": "display_data"
    }
   ],
   "source": [
    "sub = 'PCT929'\n",
    "df = accel_df.query(\"subject_id == @sub\")\n",
    "xr_accel = xr.DataArray(df[activityScores].values, \n",
    "\t\t\t\t\t   dims=[\"rows\", \"columns\"],\n",
    "\t\t\t\t\t   coords={\"rows\": df['day'], \"columns\": activityScores})\n",
    "fig = px.imshow(xr_accel, origin='lower', title='Activity Scores for PCT927',\n",
    "\t\t\t\tzmin=0,zmax=5,height=400, width=600)\n",
    "fig.show()"
   ]
  },
  {
   "cell_type": "code",
   "execution_count": null,
   "metadata": {},
   "outputs": [
    {
     "data": {
      "text/html": [
       "\n",
       "        <iframe\n",
       "            width=\"100%\"\n",
       "            height=\"650\"\n",
       "            src=\"http://127.0.0.1:8052/\"\n",
       "            frameborder=\"0\"\n",
       "            allowfullscreen\n",
       "            \n",
       "        ></iframe>\n",
       "        "
      ],
      "text/plain": [
       "<IPython.lib.display.IFrame at 0x32b76c7d0>"
      ]
     },
     "metadata": {},
     "output_type": "display_data"
    }
   ],
   "source": [
    "import dash\n",
    "from dash import Dash, html, dash_table, dcc, callback, Input, Output\n",
    "\n",
    "app = Dash()\n",
    "df = accel_df\n",
    "\n",
    "# App layout\n",
    "app.layout = [\n",
    "\thtml.Div(children='Accelerometer Data'),\n",
    "\tdcc.Dropdown(id=\"subject_id\", value='PCT927', clearable=False,\n",
    "\t\toptions=[{\"label\": f'sub-{y}', \"value\": y} for y in df['subject_id'].unique()]),\n",
    "\tdcc.Graph(figure={}, id='controls-and-graph')\n",
    "]\n",
    "\n",
    "# Add controls to build the interaction\n",
    "@callback(\n",
    "\tOutput(component_id='controls-and-graph', component_property='figure'),\n",
    "\tInput(component_id='subject_id', component_property='value')\n",
    ")\n",
    "\n",
    "\n",
    "def cb(subject_id):\n",
    "\t\"\"\"Callback to update the figure based on the selected id\"\"\"\n",
    "\tsub = subject_id\n",
    "\tdf = accel_df.query(\"subject_id == @sub\")\n",
    "\txr_accel = xr.DataArray(df[activityScores].values, \n",
    "\t\t\t\t\t\tdims=[\"rows\", \"columns\"],\n",
    "\t\t\t\t\t\tcoords={\"rows\": df['day'], \"columns\": activityScores})\n",
    "\tfig = px.imshow(xr_accel, origin='lower', title=f'Activity Scores for sub-{sub}',\n",
    "\t\t\t\t\tzmin=0,zmax=5,height=400, width=600)\n",
    "\treturn fig\n",
    "\n",
    "if __name__ == '__main__':\n",
    "\tapp.run(mode='inline',port=8052)  # or 'external' if you want it in a new tab"
   ]
  },
  {
   "cell_type": "code",
   "execution_count": null,
   "metadata": {},
   "outputs": [
    {
     "data": {
      "text/html": [
       "\n",
       "        <iframe\n",
       "            width=\"100%\"\n",
       "            height=\"650\"\n",
       "            src=\"http://127.0.0.1:8053/\"\n",
       "            frameborder=\"0\"\n",
       "            allowfullscreen\n",
       "            \n",
       "        ></iframe>\n",
       "        "
      ],
      "text/plain": [
       "<IPython.lib.display.IFrame at 0x32683bec0>"
      ]
     },
     "metadata": {},
     "output_type": "display_data"
    }
   ],
   "source": [
    "import dash\n",
    "from dash import Dash, html, dash_table, dcc, callback, Input, Output\n",
    "\n",
    "app = Dash()\n",
    "\n",
    "mindlamp_data = os.path.join(project_dir, 'mindlamp_data','processed_data')\n",
    "\n",
    "power = {}\n",
    "for sub in os.listdir(mindlamp_data):\n",
    "\tif os.path.exists(os.path.join(mindlamp_data,sub,'processed','power')):\n",
    "\t\tfor file in os.listdir(os.path.join(mindlamp_data,sub,'processed','power')):\n",
    "\t\t\tif 'phone_power_activityScores_hourly' in file:\n",
    "\t\t\t\tpower[sub] = pd.read_csv(os.path.join(mindlamp_data,sub,'processed','power',file))\n",
    "\t\t\t\tpower[sub]['subject_id'] = sub\n",
    "\n",
    "activityScores = [col for col in df.columns if 'activityScore' in col]\n",
    "power_df = pd.concat([sub for sub in power.values()], axis=0, ignore_index=True)\n",
    "\n",
    "df = power_df\n",
    "\n",
    "# App layout\n",
    "app.layout = [\n",
    "\thtml.Div(children='Phone Use Data'),\n",
    "\tdcc.Dropdown(id=\"subject_id\", value='PCT927', clearable=False,\n",
    "\t\toptions=[{\"label\": f'sub-{y}', \"value\": y} for y in df['subject_id'].unique()]),\n",
    "\tdcc.RadioItems(id='days', value='percentHome', \n",
    "\t\toptions=['All days','Weekdays','Weekends']),\n",
    "\n",
    "\tdcc.Graph(figure={}, id='controls-and-graph')\n",
    "]\n",
    "\n",
    "# Add controls to build the interaction\n",
    "@callback(\n",
    "\tOutput(component_id='controls-and-graph', component_property='figure'),\n",
    "\tInput(component_id='subject_id', component_property='value'),\n",
    "\tInput(component_id='days', component_property='value')\n",
    ")\n",
    "\n",
    "\n",
    "def cb(subject_id, days):\n",
    "\t\"\"\"Callback to update the figure based on the selected id\"\"\"\n",
    "\tsub = subject_id\n",
    "\tdf = power_df.query(\"subject_id == @sub\")\n",
    "\tif days == 'Weekdays':\n",
    "\t\tdf = df[df['weekday'].astype(str).str.contains('1|2|3|4|5')]\n",
    "\telif days == 'Weekends':\n",
    "\t\tdf = df[df['weekday'].astype(str).str.contains('6|7')]\n",
    "\txr_power = xr.DataArray(df[activityScores].values, \n",
    "\t\t\t\t\t\tdims=[\"rows\", \"columns\"],\n",
    "\t\t\t\t\t\tcoords={\"rows\": df['day'], \"columns\": activityScores})\n",
    "\tfig = px.imshow(xr_power, origin='lower', title=f'Phone Activity (minutes each hour) for sub-{sub}',\n",
    "\t\t\t\t\tzmin=0,zmax=60,height=400, width=600)\n",
    "\treturn fig\n",
    "\n",
    "if __name__ == '__main__':\n",
    "\tapp.run(mode='inline',port=8053)  # or 'external' if you want it in a new tab"
   ]
  },
  {
   "cell_type": "code",
   "execution_count": null,
   "metadata": {},
   "outputs": [
    {
     "data": {
      "text/html": [
       "\n",
       "        <iframe\n",
       "            width=\"100%\"\n",
       "            height=\"650\"\n",
       "            src=\"http://127.0.0.1:8053/\"\n",
       "            frameborder=\"0\"\n",
       "            allowfullscreen\n",
       "            \n",
       "        ></iframe>\n",
       "        "
      ],
      "text/plain": [
       "<IPython.lib.display.IFrame at 0x33a969d90>"
      ]
     },
     "metadata": {},
     "output_type": "display_data"
    }
   ],
   "source": [
    "import dash\n",
    "from dash import Dash, html, dash_table, dcc, callback, Input, Output\n",
    "\n",
    "app = Dash()\n",
    "\n",
    "mindlamp_data = os.path.join(project_dir, 'mindlamp_data','processed_data')\n",
    "\n",
    "gps = {}\n",
    "for sub in os.listdir(mindlamp_data):\n",
    "\tif os.path.exists(os.path.join(mindlamp_data,sub,'processed','gps')):\n",
    "\t\tfor file in os.listdir(os.path.join(mindlamp_data,sub,'processed','gps')):\n",
    "\t\t\tif 'phone_gps_freq_hourly' in file:\n",
    "\t\t\t\tgps[sub] = pd.read_csv(os.path.join(mindlamp_data,sub,'processed','gps',file))\n",
    "\t\t\t\tgps[sub]['subject_id'] = sub\n",
    "\n",
    "activityScores = [col for col in df.columns if 'activityScore' in col]\n",
    "gps_df = pd.concat([sub for sub in gps.values()], axis=0, ignore_index=True)\n",
    "\n",
    "df = gps_df\n",
    "\n",
    "# App layout\n",
    "app.layout = [\n",
    "\thtml.Div(children='GPS Data'),\n",
    "\tdcc.Dropdown(id=\"subject_id\", value='PCT927', clearable=False,\n",
    "\t\toptions=[{\"label\": f'sub-{y}', \"value\": y} for y in df['subject_id'].unique()]),\n",
    "\tdcc.Graph(figure={}, id='controls-and-graph')\n",
    "]\n",
    "\n",
    "# Add controls to build the interaction\n",
    "@callback(\n",
    "\tOutput(component_id='controls-and-graph', component_property='figure'),\n",
    "\tInput(component_id='subject_id', component_property='value')\n",
    ")\n",
    "\n",
    "\n",
    "def cb(subject_id):\n",
    "\t\"\"\"Callback to update the figure based on the selected id\"\"\"\n",
    "\tsub = subject_id\n",
    "\tdf = gps_df.query(\"subject_id == @sub\")\n",
    "\txr_gps = xr.DataArray(df[activityScores].values, \n",
    "\t\t\t\t\t\tdims=[\"rows\", \"columns\"],\n",
    "\t\t\t\t\t\tcoords={\"rows\": df['day'], \"columns\": activityScores})\n",
    "\tfig = px.imshow(xr_gps, origin='lower', title=f'GPS Activity per Hour for sub-{sub}',\n",
    "\t\t\t\t\tzmin=0,zmax=5,height=400, width=600)\n",
    "\treturn fig\n",
    "\n",
    "if __name__ == '__main__':\n",
    "\tapp.run(mode='inline',port=8053)  # or 'external' if you want it in a new tab"
   ]
  },
  {
   "cell_type": "code",
   "execution_count": null,
   "metadata": {},
   "outputs": [
    {
     "data": {
      "text/html": [
       "\n",
       "        <iframe\n",
       "            width=\"100%\"\n",
       "            height=\"650\"\n",
       "            src=\"http://127.0.0.1:8055/\"\n",
       "            frameborder=\"0\"\n",
       "            allowfullscreen\n",
       "            \n",
       "        ></iframe>\n",
       "        "
      ],
      "text/plain": [
       "<IPython.lib.display.IFrame at 0x331fa3860>"
      ]
     },
     "metadata": {},
     "output_type": "display_data"
    }
   ],
   "source": [
    "import dash\n",
    "from dash import Dash, html, dash_table, dcc, callback, Input, Output\n",
    "\n",
    "app = Dash()\n",
    "\n",
    "mindlamp_data = os.path.join(project_dir, 'mindlamp_data','processed_data')\n",
    "\n",
    "gps = {}\n",
    "for sub in os.listdir(mindlamp_data):\n",
    "\tif os.path.exists(os.path.join(mindlamp_data,sub,'processed','gps')):\n",
    "\t\tfor file in os.listdir(os.path.join(mindlamp_data,sub,'processed','gps')):\n",
    "\t\t\tif 'phone_gps_homeStay_daily' in file:\n",
    "\t\t\t\tgps[sub] = pd.read_csv(os.path.join(mindlamp_data,sub,'processed','gps',file))\n",
    "\t\t\t\tgps[sub]['subject_id'] = sub\n",
    "\n",
    "gps_df = pd.concat([sub for sub in gps.values()], axis=0, ignore_index=True)\n",
    "\n",
    "# App layout\n",
    "app.layout = [\n",
    "\thtml.Div(children='Mobility Information for Participants'),\n",
    "\tdcc.Dropdown(id=\"subject_id\", value='PCT927', clearable=False,\n",
    "\t\toptions=[{\"label\": f'sub-{y}', \"value\": y} for y in df['subject_id'].unique()]),\n",
    "\tdcc.RadioItems(id='gps_item', value='percentHome', \n",
    "\t\toptions=['radiusMobility','percentHome','numPlaces']),\n",
    "\tdcc.Graph(figure={}, id='controls-and-graph')\n",
    "]\n",
    "\n",
    "# Add controls to build the interaction\n",
    "@callback(\n",
    "\tOutput(component_id='controls-and-graph', component_property='figure'),\n",
    "\tInput(component_id='subject_id', component_property='value'),\n",
    "\tInput(component_id='gps_item', component_property='value')\n",
    ")\n",
    "\n",
    "\n",
    "def cb(subject_id, gps_item):\n",
    "\t\"\"\"Callback to update the figure based on the selected id\"\"\"\n",
    "\tsub = subject_id\n",
    "\tsub_df = gps_df.query(\"subject_id == @sub\")\n",
    "\tfig = px.line(sub_df, x=\"day\", y=gps_item, title=f'{gps_item} for sub-{sub}')\n",
    "\treturn fig\n",
    "\n",
    "if __name__ == '__main__':\n",
    "\tapp.run(mode='inline',port=8055)  # or 'external' if you want it in a new tab"
   ]
  },
  {
   "cell_type": "code",
   "execution_count": null,
   "metadata": {},
   "outputs": [
    {
     "ename": "TypeError",
     "evalue": "type 'Container' is not subscriptable",
     "output_type": "error",
     "traceback": [
      "\u001b[0;31m---------------------------------------------------------------------------\u001b[0m",
      "\u001b[0;31mTypeError\u001b[0m                                 Traceback (most recent call last)",
      "Cell \u001b[0;32mIn[269], line 29\u001b[0m\n\u001b[1;32m     26\u001b[0m gps_df \u001b[38;5;241m=\u001b[39m pd\u001b[38;5;241m.\u001b[39mconcat([sub \u001b[38;5;28;01mfor\u001b[39;00m sub \u001b[38;5;129;01min\u001b[39;00m gps\u001b[38;5;241m.\u001b[39mvalues()], axis\u001b[38;5;241m=\u001b[39m\u001b[38;5;241m0\u001b[39m, ignore_index\u001b[38;5;241m=\u001b[39m\u001b[38;5;28;01mTrue\u001b[39;00m)\n\u001b[1;32m     28\u001b[0m \u001b[38;5;66;03m# App layout\u001b[39;00m\n\u001b[0;32m---> 29\u001b[0m activity_app\u001b[38;5;241m.\u001b[39mlayout \u001b[38;5;241m=\u001b[39m dbc\u001b[38;5;241m.\u001b[39mContainer[\n\u001b[1;32m     30\u001b[0m     html\u001b[38;5;241m.\u001b[39mH1(children\u001b[38;5;241m=\u001b[39m\u001b[38;5;124m'\u001b[39m\u001b[38;5;124mAccelerometer Data\u001b[39m\u001b[38;5;124m'\u001b[39m),\n\u001b[1;32m     31\u001b[0m     dcc\u001b[38;5;241m.\u001b[39mDropdown(\u001b[38;5;28mid\u001b[39m\u001b[38;5;241m=\u001b[39m\u001b[38;5;124m'\u001b[39m\u001b[38;5;124msubject_id_input\u001b[39m\u001b[38;5;124m'\u001b[39m, value\u001b[38;5;241m=\u001b[39m\u001b[38;5;124m'\u001b[39m\u001b[38;5;124mPCT927\u001b[39m\u001b[38;5;124m'\u001b[39m, clearable\u001b[38;5;241m=\u001b[39m\u001b[38;5;28;01mFalse\u001b[39;00m,\n\u001b[1;32m     32\u001b[0m         options\u001b[38;5;241m=\u001b[39m[{\u001b[38;5;124m\"\u001b[39m\u001b[38;5;124mlabel\u001b[39m\u001b[38;5;124m\"\u001b[39m: \u001b[38;5;124mf\u001b[39m\u001b[38;5;124m'\u001b[39m\u001b[38;5;124msub-\u001b[39m\u001b[38;5;132;01m{\u001b[39;00my\u001b[38;5;132;01m}\u001b[39;00m\u001b[38;5;124m'\u001b[39m, \u001b[38;5;124m\"\u001b[39m\u001b[38;5;124mvalue\u001b[39m\u001b[38;5;124m\"\u001b[39m: y} \u001b[38;5;28;01mfor\u001b[39;00m y \u001b[38;5;129;01min\u001b[39;00m accel_df[\u001b[38;5;124m'\u001b[39m\u001b[38;5;124msubject_id\u001b[39m\u001b[38;5;124m'\u001b[39m]\u001b[38;5;241m.\u001b[39munique()]),\n\u001b[1;32m     33\u001b[0m     dcc\u001b[38;5;241m.\u001b[39mGraph(figure\u001b[38;5;241m=\u001b[39m{}, \u001b[38;5;28mid\u001b[39m\u001b[38;5;241m=\u001b[39m\u001b[38;5;124m'\u001b[39m\u001b[38;5;124maccel_graph\u001b[39m\u001b[38;5;124m'\u001b[39m)\n\u001b[1;32m     34\u001b[0m     \n\u001b[1;32m     35\u001b[0m     \u001b[38;5;66;03m# html.Div(children='Mobility Information for Participants'),\u001b[39;00m\n\u001b[1;32m     36\u001b[0m     \u001b[38;5;66;03m# dcc.Dropdown(id=\"subject_id_input\", value='PCT927', clearable=False,\u001b[39;00m\n\u001b[1;32m     37\u001b[0m     \u001b[38;5;66;03m#     options=[{\"label\": f'sub-{y}', \"value\": y} for y in gps_df['subject_id'].unique()]),\u001b[39;00m\n\u001b[1;32m     38\u001b[0m     \u001b[38;5;66;03m# dcc.RadioItems(id='gps_item', value='percentHome', \u001b[39;00m\n\u001b[1;32m     39\u001b[0m     \u001b[38;5;66;03m#     options=['radiusMobility','percentHome','numPlaces']),\u001b[39;00m\n\u001b[1;32m     40\u001b[0m     \u001b[38;5;66;03m# dcc.Graph(figure={}, id='gps-graph')\u001b[39;00m\n\u001b[1;32m     41\u001b[0m ]\n\u001b[1;32m     43\u001b[0m \u001b[38;5;66;03m# Add controls to build the interaction\u001b[39;00m\n\u001b[1;32m     44\u001b[0m \u001b[38;5;129m@callback\u001b[39m(\n\u001b[1;32m     45\u001b[0m     Output(component_id\u001b[38;5;241m=\u001b[39m\u001b[38;5;124m'\u001b[39m\u001b[38;5;124maccel_graph\u001b[39m\u001b[38;5;124m'\u001b[39m, component_property\u001b[38;5;241m=\u001b[39m\u001b[38;5;124m'\u001b[39m\u001b[38;5;124mfigure\u001b[39m\u001b[38;5;124m'\u001b[39m),\n\u001b[1;32m     46\u001b[0m     \u001b[38;5;66;03m#Output(component_id='gps-graph', component_property='figure'),\u001b[39;00m\n\u001b[0;32m   (...)\u001b[0m\n\u001b[1;32m     51\u001b[0m \n\u001b[1;32m     52\u001b[0m \u001b[38;5;28;01mdef\u001b[39;00m \u001b[38;5;21mcb\u001b[39m(subject_id_input, gps_item):\n",
      "\u001b[0;31mTypeError\u001b[0m: type 'Container' is not subscriptable"
     ]
    }
   ],
   "source": [
    "import dash\n",
    "from dash import Dash, html, dash_table, dcc, callback, Input, Output\n",
    "import dash_bootstrap_components as dbc\n",
    "activity_app = Dash()\n",
    "mindlamp_data = os.path.join(project_dir, 'mindlamp_data','processed_data')\n",
    "\n",
    "accel = {}\n",
    "for sub in os.listdir(mindlamp_data):\n",
    "\tif os.path.exists(os.path.join(mindlamp_data,sub,'processed','accel')):\n",
    "\t\tfor file in os.listdir(os.path.join(mindlamp_data,sub,'processed','accel')):\n",
    "\t\t\tif 'phone_accel_activity' in file:\n",
    "\t\t\t\taccel[sub] = pd.read_csv(os.path.join(mindlamp_data,sub,'processed','accel',file))\n",
    "\t\t\t\taccel[sub]['subject_id'] = sub\n",
    "accel_df = pd.concat([sub for sub in accel.values()], axis=0, ignore_index=True)\n",
    "\n",
    "activityScores = [col for col in accel_df.columns if 'activityScore' in col]\n",
    "\n",
    "gps = {}\n",
    "for sub in os.listdir(mindlamp_data):\n",
    "\tif os.path.exists(os.path.join(mindlamp_data,sub,'processed','gps')):\n",
    "\t\tfor file in os.listdir(os.path.join(mindlamp_data,sub,'processed','gps')):\n",
    "\t\t\tif 'phone_gps_homeStay_daily' in file:\n",
    "\t\t\t\tgps[sub] = pd.read_csv(os.path.join(mindlamp_data,sub,'processed','gps',file))\n",
    "\t\t\t\tgps[sub]['subject_id'] = sub\n",
    "\n",
    "gps_df = pd.concat([sub for sub in gps.values()], axis=0, ignore_index=True)\n",
    "\n",
    "# App layout\n",
    "activity_app.layout = dbc.Container[\n",
    "\thtml.H1(children='Accelerometer Data'),\n",
    "\tdcc.Dropdown(id='subject_id_input', value='PCT927', clearable=False,\n",
    "\t\toptions=[{\"label\": f'sub-{y}', \"value\": y} for y in accel_df['subject_id'].unique()]),\n",
    "\tdcc.Graph(figure={}, id='accel_graph')\n",
    "\t\n",
    "\t# html.Div(children='Mobility Information for Participants'),\n",
    "\t# dcc.Dropdown(id=\"subject_id_input\", value='PCT927', clearable=False,\n",
    "\t#     options=[{\"label\": f'sub-{y}', \"value\": y} for y in gps_df['subject_id'].unique()]),\n",
    "\t# dcc.RadioItems(id='gps_item', value='percentHome', \n",
    "\t#     options=['radiusMobility','percentHome','numPlaces']),\n",
    "\t# dcc.Graph(figure={}, id='gps-graph')\n",
    "]\n",
    "\n",
    "# Add controls to build the interaction\n",
    "@callback(\n",
    "\tOutput(component_id='accel_graph', component_property='figure'),\n",
    "\t#Output(component_id='gps-graph', component_property='figure'),\n",
    "\tInput(component_id='subject_id_input', component_property='value'),\n",
    "\tInput(component_id='gps_item', component_property='value')\n",
    ")\n",
    "\n",
    "\n",
    "def cb(subject_id_input, gps_item):\n",
    "\t\"\"\"Callback to update the figure based on the selected id\"\"\"\n",
    "\tsub = subject_id_input\n",
    "\taccel_sub = accel_df.query(\"subject_id == @sub\")\n",
    "\taccel_xr = xr.DataArray(accel_sub[activityScores].values, \n",
    "\t\t\t\t\t\tdims=[\"rows\", \"columns\"],\n",
    "\t\t\t\t\t\tcoords={\"rows\": accel_sub['day'], \"columns\": activityScores})\n",
    "\taccel_fig = px.imshow(accel_xr, origin='lower', title=f'Activity Scores for sub-{sub}',\n",
    "\t\t\t\t\tzmin=0,zmax=5,height=400, width=600)\n",
    "\t\n",
    "\t# gps_sub = gps_df.query(\"subject_id == @sub\")\n",
    "\t# gps_fig = px.line(gps_sub, x=\"day\", y=gps_item, title=f'{gps_item} for sub-{sub}')\n",
    "\n",
    "\treturn accel_fig\n",
    "\n",
    "\n",
    "if __name__ == '__main__':\n",
    "\tactivity_app.run(mode='inline',port=8052)  # or 'external' if you want it in a new tab"
   ]
  },
  {
   "cell_type": "code",
   "execution_count": null,
   "metadata": {},
   "outputs": [
    {
     "data": {
      "text/html": [
       "\n",
       "        <iframe\n",
       "            width=\"100%\"\n",
       "            height=\"650\"\n",
       "            src=\"http://127.0.0.1:8054/\"\n",
       "            frameborder=\"0\"\n",
       "            allowfullscreen\n",
       "            \n",
       "        ></iframe>\n",
       "        "
      ],
      "text/plain": [
       "<IPython.lib.display.IFrame at 0x326b9c290>"
      ]
     },
     "metadata": {},
     "output_type": "display_data"
    }
   ],
   "source": [
    "# Initialize the app - incorporate css\n",
    "import dash_bootstrap_components as dbc\n",
    "\n",
    "external_stylesheets = [dbc.themes.CERULEAN]\n",
    "gps_app = Dash(__name__, external_stylesheets=external_stylesheets)\n",
    "\n",
    "gps = {}\n",
    "for sub in os.listdir(mindlamp_data):\n",
    "\tif os.path.exists(os.path.join(mindlamp_data,sub,'processed','gps')):\n",
    "\t\tfor file in os.listdir(os.path.join(mindlamp_data,sub,'processed','gps')):\n",
    "\t\t\tif 'phone_gps_homeStay_daily' in file:\n",
    "\t\t\t\tgps[sub] = pd.read_csv(os.path.join(mindlamp_data,sub,'processed','gps',file))\n",
    "\t\t\t\tgps[sub]['subject_id'] = sub\n",
    "\n",
    "gps_df = pd.concat([sub for sub in gps.values()], axis=0, ignore_index=True)\n",
    "\n",
    "# App layout\n",
    "gps_app.layout = [\n",
    "\thtml.Div(children='Mobility Information for Participants'),\n",
    "\tdcc.Dropdown(id=\"subject_id\", value='PCT927', clearable=False,\n",
    "\t\toptions=[{\"label\": f'sub-{y}', \"value\": y} for y in df['subject_id'].unique()]),\n",
    "\tdcc.RadioItems(id='gps_item', value='radiusMobility', \n",
    "\t\toptions=['radiusMobility','percentHome','numPlaces']),\n",
    "\tdcc.Graph(figure={}, id='controls-and-graph')\n",
    "]\n",
    "\n",
    "# Add controls to build the interaction\n",
    "@callback(\n",
    "\tOutput(component_id='controls-and-graph', component_property='figure'),\n",
    "\tInput(component_id='subject_id', component_property='value'),\n",
    "\tInput(component_id='gps_item', component_property='value')\n",
    ")\n",
    "\n",
    "\n",
    "def cb(subject_id, gps_item):\n",
    "\t\"\"\"Callback to update the figure based on the selected id\"\"\"\n",
    "\tsub = subject_id\n",
    "\tgps_sub = gps_df.query(\"subject_id == @sub\")\n",
    "\tgps_fig = px.line(gps_sub, x=\"day\", y=gps_item, title=f'{gps_item} for sub-{sub}')\n",
    "\treturn gps_fig\n",
    "\n",
    "if __name__ == '__main__':\n",
    "\tgps_app.run(mode='inline',port=8054)  # or 'external' if you want it in a new tab"
   ]
  }
 ],
 "metadata": {
  "kernelspec": {
   "display_name": "base",
   "language": "python",
   "name": "python3"
  },
  "language_info": {
   "codemirror_mode": {
    "name": "ipython",
    "version": 3
   },
   "file_extension": ".py",
   "mimetype": "text/x-python",
   "name": "python",
   "nbconvert_exporter": "python",
   "pygments_lexer": "ipython3",
   "version": "3.12.7"
  }
 },
 "nbformat": 4,
 "nbformat_minor": 2
}
